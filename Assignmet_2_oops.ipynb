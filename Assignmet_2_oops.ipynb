{
 "cells": [
  {
   "cell_type": "code",
   "execution_count": null,
   "metadata": {},
   "outputs": [],
   "source": []
  },
  {
   "cell_type": "markdown",
   "metadata": {},
   "source": [
    "1. What is a constructor in Python? Explain its purpose and usage."
   ]
  },
  {
   "cell_type": "markdown",
   "metadata": {},
   "source": [
    "Solution: In a python constructor is the special method that is used to instantiating an object. The task of the constructors is to initilize(assign values) to the data memebers of the class when object is created."
   ]
  },
  {
   "cell_type": "markdown",
   "metadata": {},
   "source": [
    "2. Differentiate between a parameterless constructor and a parameterized constructor in Python.\n"
   ]
  },
  {
   "cell_type": "markdown",
   "metadata": {},
   "source": [
    "Solution: Parameterless constructor(Default constructor)- This is a constructor that dosen't accept any arguments. It's used when programmer doesn't provide any constructors in the class. It initiliaze the object automatically.\n",
    "\n",
    "Ex:\n",
    "class parameterless:\n",
    "\n",
    "    def __init__(self):\n",
    "        self.animal='animal'\n",
    "obj=parameterless()= nothing is passed here\n",
    "print(obj)\n",
    "\n",
    "Parameterized constructor: This constructor that accepts one or more parameters. It allows more flexibility as you can pass didfferent values for each object you create.\n",
    "\n",
    "Ex: class addition:\n",
    "        def __init__(self,f,s):\n",
    "            self.first=f\n",
    "            self.second=s\n",
    "            print(f+s)\n",
    "\n",
    "    obj=addition(3,4)\n",
    "    "
   ]
  },
  {
   "cell_type": "markdown",
   "metadata": {},
   "source": [
    "3. How do you define a constructor in a Python class? Provide an example.\n"
   ]
  },
  {
   "cell_type": "markdown",
   "metadata": {},
   "source": [
    "In python constructor is defined using the __init__() method inside a class. This method is automatically called when an object of the class is created.\n",
    "class Dog:\n",
    "    def __init__(self, name):\n",
    "        self.name = name\n",
    "In this ex, Dog is class and __init__ is the constructor: self and name. self is reference to the current instance of the class and is used to access variables and methodds that belong to the class.\n",
    "\n",
    "create object for the class\n",
    "\n",
    "my_dog=Dog('tom')\n",
    "\n",
    "Here my_dog is the instance or the object of the Dog class."
   ]
  },
  {
   "cell_type": "markdown",
   "metadata": {},
   "source": [
    "4. Explain the `__init__` method in Python and its role in constructors.\n",
    "\n",
    "The __init__ method is a special method that is automatically called when an object of the class is created.\n",
    "The main purpose of the __init__ method is to set up a new object using data that the programme provies at the time of object creation.\n",
    "\n",
    "#body of the constructor\n",
    "\n",
    "def __init__(self):\n",
    "\n",
    "#here the self parameter is a reference to the current instance of the class and is used to access variables and methods."
   ]
  },
  {
   "cell_type": "code",
   "execution_count": 2,
   "metadata": {},
   "outputs": [
    {
     "name": "stdout",
     "output_type": "stream",
     "text": [
      "ravi\n",
      "23\n"
     ]
    }
   ],
   "source": [
    "# 5. In a class named `Person`, create a constructor that initializes the `name` and `age` attributes. Provide an\n",
    "# example of creating an object of this class.\n",
    "\n",
    "#create class\n",
    "\n",
    "class Person:\n",
    "\n",
    "    #add constructor and pass arguments as name and age\n",
    "\n",
    "    def __init__(self,name,age):\n",
    "        self.name=name\n",
    "        self.age=age\n",
    "\n",
    "#now creat the object of the class Person and pass the agruments of name and age\n",
    "\n",
    "object=Person('ravi',23)\n",
    "#now print the name and age of the person using object\n",
    "print(object.name)\n",
    "print(object.age)\n",
    "\n"
   ]
  },
  {
   "cell_type": "markdown",
   "metadata": {},
   "source": [
    "6. How can you call a constructor explicitly in Python? Give an example.\n"
   ]
  },
  {
   "cell_type": "code",
   "execution_count": 2,
   "metadata": {},
   "outputs": [
    {
     "name": "stdout",
     "output_type": "stream",
     "text": [
      "Raviteja The Data Scientist\n"
     ]
    }
   ],
   "source": [
    "# In python, constructor is the special method which is automatically when an object of a class is created. It is defined using the '__init__' method.\n",
    "\n",
    "class Constructer:\n",
    "\n",
    "    def __init__(self):\n",
    "        self.name='Raviteja The Data Scientist'\n",
    "\n",
    "    def print_name(self):\n",
    "        print(self.name)\n",
    "\n",
    "obj=Constructer()\n",
    "obj.print_name()\n"
   ]
  },
  {
   "cell_type": "markdown",
   "metadata": {},
   "source": [
    "7. What is the significance of the `self` parameter in Python constructors? Explain with an example.\n"
   ]
  },
  {
   "cell_type": "code",
   "execution_count": 9,
   "metadata": {},
   "outputs": [
    {
     "name": "stdout",
     "output_type": "stream",
     "text": [
      "Model : Tesla model s\n",
      "Color black\n"
     ]
    }
   ],
   "source": [
    "\n",
    "'''In python, 'self' is the convention for the first parameter for\n",
    " the instance method, including constructer method __init__.\n",
    " It represnets the instance of ht eclass and allow user to \n",
    "access or modify the instance/object attributes'''\n",
    "\n",
    "class Car:\n",
    "\n",
    "    def __init__(self,model,color):\n",
    "        self.model=model\n",
    "        self.color=color\n",
    "\n",
    "    def display(self):\n",
    "        print('Model :',self.model)\n",
    "        print('Color',self.color)\n",
    "\n",
    "my_car=Car('Tesla model s','black')\n",
    "my_car.display()\n",
    "\n"
   ]
  },
  {
   "cell_type": "markdown",
   "metadata": {},
   "source": [
    "8. Discuss the concept of default constructors in Python. When are they used?\n"
   ]
  },
  {
   "cell_type": "code",
   "execution_count": 10,
   "metadata": {},
   "outputs": [
    {
     "name": "stdout",
     "output_type": "stream",
     "text": [
      "Name=Raviteja salary : 800000\n"
     ]
    }
   ],
   "source": [
    "'''in python default constructor is the special method which is automatically whenever the object/instance of the class is defined . It is defined through __init__ method and does not accept any arguments. The task of the constructors is to initialzie (assign values) to the data member s of the class whenever the object is created'''\"Control Flow Assignment.ipynb\"\n",
    "\n",
    "class employee:\n",
    "\n",
    "    def __init__(self,name,salary):\n",
    "        self.name=name\n",
    "        self.salary=salary\n",
    "\n",
    "    def display(self):\n",
    "        print(f'Name={self.name} salary : {self.salary}')\n",
    "\n",
    "obj=employee('Raviteja',800000)\n",
    "obj.display()"
   ]
  },
  {
   "cell_type": "markdown",
   "metadata": {},
   "source": [
    "9. Create a Python class called `Rectangle` with a constructor that initializes the `width` and `height`attributes. Provide a method to calculate the area of the rectangle.\n",
    "\n"
   ]
  },
  {
   "cell_type": "code",
   "execution_count": 17,
   "metadata": {},
   "outputs": [
    {
     "data": {
      "text/plain": [
       "'area: 30'"
      ]
     },
     "execution_count": 17,
     "metadata": {},
     "output_type": "execute_result"
    }
   ],
   "source": [
    "class Rectangle:\n",
    "\n",
    "    def __init__(self,width,height):\n",
    "        self.width=width\n",
    "        self.height=height\n",
    "\n",
    "    def display_area(self):\n",
    "        return   f'area: {self.height*self.width}'\n",
    "\n",
    "obj=Rectangle(5,6)\n",
    "obj.display_area()"
   ]
  },
  {
   "cell_type": "markdown",
   "metadata": {},
   "source": [
    "10. How can you have multiple constructors in a Python class? Explain with an example.\n"
   ]
  },
  {
   "cell_type": "code",
   "execution_count": 25,
   "metadata": {},
   "outputs": [
    {
     "name": "stdout",
     "output_type": "stream",
     "text": [
      "sum of list 18\n",
      "square of int 36\n",
      "string  Hello! raviteja.\n"
     ]
    }
   ],
   "source": [
    "''' python does not support explicit multiple constructors like other programming languages.but there\n",
    "are ways to achieve it\n",
    "1] Overloading consturctors based on args\n",
    "2] Using class method\n",
    "'''\n",
    "# 1]\n",
    "\n",
    "class Sample:\n",
    "\n",
    "    def __init__(self,*args):\n",
    "\n",
    "        if len(args)>1:\n",
    "            self.ans=sum(args)\n",
    "              \n",
    "        elif isinstance(args[0],int):\n",
    "            self.ans=args[0]*args[0]\n",
    "\n",
    "        elif isinstance (args[0],str):\n",
    "             self.ans = \"Hello! \" + args[0] + \".\"\n",
    "s1=Sample(1,2,4,5,6)\n",
    "print('sum of list',s1.ans)\n",
    "\n",
    "s2=Sample(6)\n",
    "print('square of int',s2.ans)\n",
    "\n",
    "s3=Sample('raviteja')\n",
    "print('string ',s3.ans)\n",
    "\n"
   ]
  },
  {
   "cell_type": "code",
   "execution_count": 32,
   "metadata": {},
   "outputs": [
    {
     "name": "stdout",
     "output_type": "stream",
     "text": [
      "Spam: 0, Eggs: 2\n",
      "Spam: 3, Eggs: 2\n"
     ]
    }
   ],
   "source": [
    "# 2] using class method : you can use class method alternate for constructers\n",
    "\n",
    "class Breakfast:\n",
    "    \n",
    "\n",
    "    def __init__(self,spam=0,eggs=0):\n",
    "        self.spam=spam\n",
    "        self.eggs=eggs\n",
    "\n",
    "    @classmethod\n",
    "    def from_eggs(cls,eggs):\n",
    "        return cls(eggs=eggs)\n",
    "    @classmethod \n",
    "    def from_spam_and_eggs(cls,spam,eggs):\n",
    "        return cls(spam=spam,eggs=eggs)\n",
    "\n",
    "    def display(self):\n",
    "        print(f\"Spam: {self.spam}, Eggs: {self.eggs}\")\n",
    "\n",
    "\n",
    "meal1=Breakfast.from_eggs(2)\n",
    "meal2=Breakfast.from_spam_and_eggs(3,2)\n",
    "meal1.display()\n",
    "meal2.display()"
   ]
  },
  {
   "cell_type": "markdown",
   "metadata": {},
   "source": [
    "11. What is method overloading, and how is it related to constructors in Python?\n"
   ]
  },
  {
   "cell_type": "code",
   "execution_count": null,
   "metadata": {},
   "outputs": [],
   "source": [
    "'''Method overloading is a feature in some programming languages where two or more methods can have the same name but different parameters. However, Python does not support method overloading by default. In Python, if you define multiple methods with the same name, only the latest defined method will be used.\n",
    "There are different ways to achieve method overloading in Python:\n",
    "Using default arguments or variable-length arguments (*args, **kwargs).\n",
    "Using the multipledispatch module.\n",
    "A constructor in Python is a special method called __init__ that is automatically called when an object is created. It is used to initialize the attributes of an object. Python supports both default constructors (no parameters) and parameterized constructors (with parameters).\n",
    "While constructors and method overloading are different concepts, they can be related in the sense that you can use the principles of method overloading to create multiple constructors with different parameters. However, due to Python’s limitations with method overloading, this is typically done using default arguments or variable-length arguments. For example, you can define a constructor that takes different numbers of parameters by making some parameters optional.\n",
    "Here’s an example of a class with a constructor that uses optional parameters:\n",
    "'''\n",
    "class add:\n",
    "\n",
    "    def add(self,x,y):\n",
    "        return x+y+1\n",
    "   \n",
    "    def add(self,x,y):\n",
    "        return x+y \n",
    "obj=add()\n",
    "obj.add(5,6)\n",
    "\n",
    "\n",
    "'''In this example, param1 and param2 are optional. You can create an object of MyClass with zero, one, or two parameters. This is similar to method overloading, but it’s done using optional parameters because Python does not support method overloading in the traditional sense.'''"
   ]
  },
  {
   "cell_type": "code",
   "execution_count": 5,
   "metadata": {},
   "outputs": [
    {
     "ename": "NameError",
     "evalue": "name 'sumsum' is not defined",
     "output_type": "error",
     "traceback": [
      "\u001b[1;31m---------------------------------------------------------------------------\u001b[0m",
      "\u001b[1;31mNameError\u001b[0m                                 Traceback (most recent call last)",
      "Cell \u001b[1;32mIn[5], line 1\u001b[0m\n\u001b[1;32m----> 1\u001b[0m \u001b[39mclass\u001b[39;49;00m \u001b[39madd\u001b[39;49;00m:\n\u001b[0;32m      3\u001b[0m     \u001b[39mdef\u001b[39;49;00m \u001b[39madd\u001b[39;49m(\u001b[39mself\u001b[39;49m,x,y):\n\u001b[0;32m      4\u001b[0m         \u001b[39mreturn\u001b[39;49;00m x\u001b[39m+\u001b[39;49my\u001b[39m+\u001b[39;49m\u001b[39m1\u001b[39;49m\n",
      "Cell \u001b[1;32mIn[5], line 5\u001b[0m, in \u001b[0;36madd\u001b[1;34m()\u001b[0m\n\u001b[0;32m      3\u001b[0m \u001b[39mdef\u001b[39;00m \u001b[39madd\u001b[39m(\u001b[39mself\u001b[39m,x,y):\n\u001b[0;32m      4\u001b[0m     \u001b[39mreturn\u001b[39;00m x\u001b[39m+\u001b[39my\u001b[39m+\u001b[39m\u001b[39m1\u001b[39m\n\u001b[1;32m----> 5\u001b[0m \u001b[39m@sumsum\u001b[39m\n\u001b[0;32m      6\u001b[0m \u001b[39mdef\u001b[39;00m \u001b[39madd\u001b[39m(\u001b[39mself\u001b[39m,x,y):\n\u001b[0;32m      7\u001b[0m     \u001b[39mreturn\u001b[39;00m x\u001b[39m+\u001b[39my\n",
      "\u001b[1;31mNameError\u001b[0m: name 'sumsum' is not defined"
     ]
    }
   ],
   "source": []
  },
  {
   "cell_type": "markdown",
   "metadata": {},
   "source": [
    "12. Explain the use of the `super()` function in Python constructors. Provide an example.\n"
   ]
  },
  {
   "cell_type": "code",
   "execution_count": null,
   "metadata": {},
   "outputs": [],
   "source": [
    "'''In Python, the super() function is used to call methods from a parent or superclass1. \n",
    "This is particularly useful in constructors, where you might want to initialize some \n",
    "attributes in the parent class as well as in the subclass2.\n",
    "\n",
    "Here’s an example:\n",
    "\n",
    "'''\n",
    "class Parent:\n",
    "    def __init__(self, name):\n",
    "        self.name = name\n",
    "\n",
    "class Child(Parent):\n",
    "    def __init__(self, name, age):\n",
    "        super().__init__(name)\n",
    "        self.age = age\n",
    "'''\n",
    "In this example, Child is a subclass of Parent. The Child constructor calls the Parent constructor \n",
    "using super().__init__(name), which sets the name attribute. Then it sets an additional attribute, age.\n",
    "So, super() allows you to avoid hardcoding the parent class name in the constructor, which can be especially\n",
    " useful in cases of multiple inheritance3. It also helps to ensure that the parent class is correctly initialized1.'''"
   ]
  },
  {
   "cell_type": "markdown",
   "metadata": {},
   "source": [
    "13. Create a class called `Book` with a constructor that initializes the `title`, `author`, and `published_year`\n",
    "attributes. Provide a method to display book details."
   ]
  },
  {
   "cell_type": "code",
   "execution_count": 6,
   "metadata": {},
   "outputs": [
    {
     "data": {
      "text/plain": [
       "'Title:Rich dad poor dad | Author:Robert Kiosaki | Published Year:2008'"
      ]
     },
     "execution_count": 6,
     "metadata": {},
     "output_type": "execute_result"
    }
   ],
   "source": [
    "class Book:\n",
    "\n",
    "    def __init__(self,title,author,published_year):\n",
    "        self.title=title\n",
    "        self.author=author\n",
    "        self.published_year=published_year\n",
    "\n",
    "    \n",
    "    def display_details(self):\n",
    "        return f\"Title:{self.title} | Author:{self.author} | Published Year:{self.published_year}\"\n",
    "\n",
    "book=Book('Rich dad poor dad','Robert Kiosaki',2008)\n",
    "book.display_details()"
   ]
  },
  {
   "cell_type": "markdown",
   "metadata": {},
   "source": [
    "14. Discuss the differences between constructors and regular methods in Python classes.\n"
   ]
  },
  {
   "cell_type": "code",
   "execution_count": 8,
   "metadata": {},
   "outputs": [
    {
     "data": {
      "text/plain": [
       "4"
      ]
     },
     "execution_count": 8,
     "metadata": {},
     "output_type": "execute_result"
    }
   ],
   "source": [
    "'''In Python, both constructors and regular methods are defined within a class and are used to perform operations. However, they serve different purposes and have some key differences:\n",
    "\n",
    "Invocation: A constructer is automatically invoked when an object is created, while a regular methdo needs to be explicitly called by the programmer\n",
    "\n",
    "Purpose: The main purpse of the '__init__' is to initilize the state of an object while the time of creation\n",
    "\n",
    "while the regular methods are used to perform specific tasks on the objecs data after object has been created.\n",
    "\n",
    "Name: The constructer in python has fixed name '__init__' while regular method has init.\n",
    "\n",
    "Return type : COnstructors do not have a return type, they only initilize the objects state.\n",
    "While regular methods can return value'''\n",
    "\n",
    "class MyClass:\n",
    "    def __init__(self, value):  # This is the constructor\n",
    "        self.value = value\n",
    "\n",
    "    def increment(self):  # This is a regular method\n",
    "        self.value += 1\n",
    "        return self.value\n",
    "obj=MyClass(3)\n",
    "obj.increment()"
   ]
  },
  {
   "cell_type": "markdown",
   "metadata": {},
   "source": [
    "15. Explain the role of the `self` parameter in instance variable initialization within a constructor.\n"
   ]
  },
  {
   "cell_type": "code",
   "execution_count": null,
   "metadata": {},
   "outputs": [],
   "source": [
    "'''\n",
    "In python, self is a convention \n",
    "for the first parameter of instancec methods, including the constructor __init__. This paramater provides a reference to the current instance of the class.\n",
    "When you create an object of a \n",
    "class, python automatically passes the reference\n",
    " to that object at the first parameter to the constructor.\n",
    "  This self parameter is used to access and set the instance \n",
    "  variables of the class within the constructor.'''\n",
    "\n",
    "class MyClass:\n",
    "\n",
    "    def __init__(self,value):\n",
    "        self.value=value\n",
    "\n",
    "# In this MyClass constructer, sel is used the initilize the instance variables of \n",
    "# value. WHne any object of the class is created python automatically passes a reference to the object \n",
    "# as the first argument to __init__, which is received by the self parameter.\n",
    "# Then self.value=value sets the value attribute of the specific object.\n",
    "\n"
   ]
  },
  {
   "cell_type": "markdown",
   "metadata": {},
   "source": [
    "16. How do you prevent a class from having multiple instances by using constructors in Python? Provide an\n",
    "example."
   ]
  },
  {
   "cell_type": "code",
   "execution_count": 9,
   "metadata": {},
   "outputs": [
    {
     "name": "stdout",
     "output_type": "stream",
     "text": [
      "False\n"
     ]
    }
   ],
   "source": [
    "# In python, you can prevent a class from having multiple instances by implementing the singleton design pattern.\n",
    "# This pattern restricts the instantiation of a class to a single instance.\n",
    "\n",
    "class Singleton:\n",
    "    _instance=None\n",
    "\n",
    "    def __new__(cls,*args,**kwargs):\n",
    "        if not cls._instance:\n",
    "            cls._instance=super(Singleton,cls).__new__(cls,*args,**kwargs)\n",
    "            return cls._instance\n",
    "\n",
    "\n",
    "s1=Singleton()\n",
    "s2=Singleton()\n",
    "print(s1 is s2)\n"
   ]
  },
  {
   "cell_type": "markdown",
   "metadata": {},
   "source": [
    "17. Create a Python class called `Student` with a constructor that takes a list of subjects as a parameter and\n",
    "initializes the `subjects` attribute."
   ]
  },
  {
   "cell_type": "code",
   "execution_count": 14,
   "metadata": {},
   "outputs": [
    {
     "data": {
      "text/plain": [
       "'english, german, sanskrit'"
      ]
     },
     "execution_count": 14,
     "metadata": {},
     "output_type": "execute_result"
    }
   ],
   "source": [
    "class Student:\n",
    "\n",
    "    def __init__(self,subject):\n",
    "        self.subject=subject\n",
    "\n",
    "    def display(self):\n",
    "        return ', ' .join(self.subject)\n",
    "\n",
    "obj=Student(['english','german','sanskrit'])\n",
    "obj.display()"
   ]
  },
  {
   "cell_type": "markdown",
   "metadata": {},
   "source": [
    "18. What is the purpose of the `__del__` method in Python classes, and how does it relate to constructors?\n"
   ]
  },
  {
   "cell_type": "markdown",
   "metadata": {},
   "source": [
    "The __del__ method is the special method in python that serves as finalizer for the class. When object is about to be destroyed(garbage collected), the __del__ method is called.\n",
    "\n",
    "for ex: __init__ is called whenever the object is created. similarly __del__ is called when the object is to be destroyed. \n",
    "\n",
    "However, it’s important to note a few things about the __del__ method:\n",
    "\n",
    "The exact timing of when __del__ is called is determined by the garbage collector, so you cannot control it in most cases.\n",
    "If an exception occurs inside the __del__ method, Python does not raise the exception but keeps it silent1.\n",
    "It’s recommended to avoid using __del__ for cleaning up resources; instead, use context managers1.\n",
    "In practice, the __del__ method is rarely used. \n",
    "\n"
   ]
  },
  {
   "cell_type": "code",
   "execution_count": 17,
   "metadata": {},
   "outputs": [
    {
     "name": "stdout",
     "output_type": "stream",
     "text": [
      "__del__ was called\n",
      "__del__ was called\n"
     ]
    }
   ],
   "source": [
    "class Person:\n",
    "\n",
    "    def __init__(self,name,age):\n",
    "\n",
    "        self.name=name\n",
    "        self.age=age\n",
    "\n",
    "    def __del__(self):\n",
    "        print('__del__ was called')\n",
    "\n",
    "person= Person(\"John Doe\",23)\n",
    "#before del\n",
    "person.__del__()\n",
    "del person\n"
   ]
  },
  {
   "cell_type": "markdown",
   "metadata": {},
   "source": [
    "19. Explain the use of constructor chaining in Python. Provide a practical example.\n"
   ]
  },
  {
   "cell_type": "code",
   "execution_count": 20,
   "metadata": {},
   "outputs": [
    {
     "name": "stdout",
     "output_type": "stream",
     "text": [
      "Human constructor\n",
      "Man constrcructor\n"
     ]
    }
   ],
   "source": [
    "# Constructor chaining is the cocept of oop where the subclass constructer calls its superclass constructor before executing its own logic. In python this is achieved using the super() function\n",
    "\n",
    "class Human:\n",
    "\n",
    "    def __init__(self):\n",
    "        print('Human constructor')\n",
    "\n",
    "class Man(Human):\n",
    "\n",
    "    def __init__(self):\n",
    "        super().__init__()\n",
    "        print('Man constrcructor')\n",
    "        \n",
    "\n",
    "man=Man()\n"
   ]
  },
  {
   "cell_type": "markdown",
   "metadata": {},
   "source": [
    "\n",
    "20. Create a Python class called `Car` with a default constructor that initializes the `make` and `model`\n",
    "attributes. Provide a method to display car information."
   ]
  },
  {
   "cell_type": "code",
   "execution_count": 24,
   "metadata": {},
   "outputs": [
    {
     "data": {
      "text/plain": [
       "' This car is of rolls royce and model is G44'"
      ]
     },
     "execution_count": 24,
     "metadata": {},
     "output_type": "execute_result"
    }
   ],
   "source": [
    "class Car:\n",
    "\n",
    "    def __init__(self,make,model):\n",
    "        self.make=make\n",
    "        self.model=model\n",
    "\n",
    "    def display(self):\n",
    "        return f\" This car is of {self.make} and model is {self.model}\"\n",
    "\n",
    "car1=Car(\"Benz\",'s class')\n",
    "car2=Car(\"rolls royce\",'G44')\n",
    "car1.display()\n",
    "car2.display()"
   ]
  }
 ],
 "metadata": {
  "kernelspec": {
   "display_name": "Python 3",
   "language": "python",
   "name": "python3"
  },
  "language_info": {
   "codemirror_mode": {
    "name": "ipython",
    "version": 3
   },
   "file_extension": ".py",
   "mimetype": "text/x-python",
   "name": "python",
   "nbconvert_exporter": "python",
   "pygments_lexer": "ipython3",
   "version": "3.11.7"
  },
  "orig_nbformat": 4
 },
 "nbformat": 4,
 "nbformat_minor": 2
}
