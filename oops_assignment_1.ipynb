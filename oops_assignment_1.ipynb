{
 "cells": [
  {
   "cell_type": "code",
   "execution_count": null,
   "metadata": {},
   "outputs": [],
   "source": [
    "\n",
    "\n",
    "\n",
    "Problem 4: Library Catalog Create classes representing a library and a book. Implement methods to add books to the library, borrow books, and display available books.\n",
    "\n",
    "Problem 5: Product Inventory Create classes representing a product and an inventory system. Implement methods to add products to the inventory, update product quantity, and display available products.\n",
    "\n",
    "Problem 6: Shape Calculation Create a class representing a shape with attributes like length, width, and height. Implement methods to calculate the area and perimeter of the shape.\n",
    "\n",
    "Problem 7: Student Management Create a class representing a student with attributes like student ID, name, and grades. Implement methods to calculate the average grade and display student details.\n",
    "\n",
    "Problem 8: Email Management Create a class representing an email with attributes like sender, recipient, and subject. Implement methods to send an email and display email details.\n",
    "\n",
    "Problem 9: Social Media Profile Create a class representing a social media profile with attributes like username and posts. Implement methods to add posts, display posts, and search for posts by keyword.\n",
    "\n",
    "Problem 10: ToDo List Create a class representing a ToDo list with attributes like tasks and due dates. Implement methods to add tasks, mark tasks as completed, and display pending tasks."
   ]
  },
  {
   "cell_type": "markdown",
   "metadata": {},
   "source": [
    "Problem 1: Bank Account Create a class representing a bank account with attributes like account number, account holder name, and balance. Implement methods to deposit and withdraw money from the account.\n"
   ]
  },
  {
   "cell_type": "code",
   "execution_count": 25,
   "metadata": {},
   "outputs": [
    {
     "data": {
      "text/plain": [
       "'amount withdraw 300: Balance=4700'"
      ]
     },
     "execution_count": 25,
     "metadata": {},
     "output_type": "execute_result"
    }
   ],
   "source": [
    "class BankAccount:\n",
    "\n",
    "    def __init__(self,account_number,account_name,balance=0 ):\n",
    "      \n",
    "        self.balance=balance\n",
    "    \n",
    "    #deposit\n",
    "\n",
    "    def deposit(self,amount):\n",
    "        self.balance+=amount\n",
    "        return f\"amount deposited {amount}: Balance={self.balance}\"\n",
    "    \n",
    "    def withdraw(self,amount):\n",
    "        if amount>self.balance:\n",
    "            print(\"Insufficient Balance\")\n",
    "        else:\n",
    "            self.balance-=amount\n",
    "            return f\"amount withdraw {amount}: Balance={self.balance}\"\n",
    "    \n",
    "    def check(self):\n",
    "        \n",
    "        return f\" Balance={self.balance}\"\n",
    "\n",
    "account=BankAccount('123456','raci',4000)\n",
    "account.deposit(1000)\n",
    "\n",
    "account.withdraw(300)\n",
    "# account.check()\n",
    "\n",
    "\n",
    "\n",
    "\n",
    "\n",
    "\n",
    "    \n"
   ]
  },
  {
   "cell_type": "markdown",
   "metadata": {},
   "source": [
    "Problem 2: Employee Management Create a class representing an employee with attributes like employee ID, name, and salary. Implement methods to calculate the yearly bonus and display employee details.\n"
   ]
  },
  {
   "cell_type": "code",
   "execution_count": 57,
   "metadata": {},
   "outputs": [
    {
     "name": "stdout",
     "output_type": "stream",
     "text": [
      "ID: E1, Name:rocky Salary:50000\n",
      "rocky has received 13 on 50000 and bonus is 6500.0 Total is 56500.0\n"
     ]
    }
   ],
   "source": [
    "class Employee:\n",
    "\n",
    "    def __init__(self,id,name,salary):\n",
    "        self.id=id\n",
    "        self.name=name\n",
    "        self.salary=salary\n",
    "    \n",
    "    def calculate_bonus(self, bonus_rate):\n",
    "        bonus=self.salary*bonus_rate/100\n",
    "        return bonus \n",
    "\n",
    "    def display_details(self):\n",
    "        details=f\"ID: {self.id}, Name:{self.name} Salary:{self.salary}\"\n",
    "        return details \n",
    "#employee object\n",
    "\n",
    "emp=Employee('E1',\"rocky\",50000)\n",
    "\n",
    "#call with bonus\n",
    "bonus_rate=13\n",
    "bonus=emp.calculate_bonus(bonus_rate)\n",
    "print(emp.display_details())\n",
    "print(f'{emp.name} has received {bonus_rate} on {emp.salary} and bonus is {bonus} Total is {bonus+emp.salary}')\n"
   ]
  },
  {
   "cell_type": "markdown",
   "metadata": {},
   "source": [
    "Problem 3: Vehicle Rental Create a class representing a vehicle rental system. Implement methods to rent a vehicle, return a vehicle, and display available vehicles.\n"
   ]
  },
  {
   "cell_type": "code",
   "execution_count": 64,
   "metadata": {},
   "outputs": [
    {
     "data": {
      "text/plain": [
       "'bike,van,bus,car are avaliable'"
      ]
     },
     "execution_count": 64,
     "metadata": {},
     "output_type": "execute_result"
    }
   ],
   "source": [
    "#create class\n",
    "class Rental:\n",
    "    #con\n",
    "    def __init__(self,avalibale_vehicles):\n",
    "        self.avalibale_vehicles=avalibale_vehicles\n",
    "    \n",
    "    def rent_vehicle(self,vehicle):\n",
    "        if vehicle in self.avalibale_vehicles:\n",
    "            self.avalibale_vehicles.remove(vehicle)\n",
    "            return f\"{vehicle} is rented\"\n",
    "        else:\n",
    "            return f\"{vehicle} is not avaliable to rent\"\n",
    "\n",
    "    def return_vehice(self,vehicle):\n",
    "        self.avalibale_vehicles.append(vehicle)\n",
    "        return f\"you have successfully returend {vehicle}\"\n",
    "\n",
    "    def display_vehicles(self):\n",
    "        return f\"{','.join(self.avalibale_vehicles)} are avaliable\"\n",
    "\n",
    "#create object \n",
    "service=Rental(['car','bike','van','bus'])\n",
    "\n",
    "#rent a vehicle : Try all functions\n",
    "service.rent_vehicle('car')\n",
    "service.display_vehicles()\n",
    "service.rent_vehicle('car')\n",
    "service.return_vehice('car')\n",
    "service.display_vehicles()\n",
    "        "
   ]
  },
  {
   "cell_type": "markdown",
   "metadata": {},
   "source": [
    "Problem 4: Library Catalog Create classes representing a library and a book. Implement methods to add books to the library, borrow books, and display available books.\n"
   ]
  },
  {
   "cell_type": "code",
   "execution_count": 66,
   "metadata": {},
   "outputs": [
    {
     "data": {
      "text/plain": [
       "'gita add to the library'"
      ]
     },
     "execution_count": 66,
     "metadata": {},
     "output_type": "execute_result"
    }
   ],
   "source": [
    "class library:\n",
    "\n",
    "    def __init__(self,avaliable_book):\n",
    "        self.avaliable_book=avaliable_book\n",
    "\n",
    "    def borrow_book(self,book):\n",
    "        if book in self.avaliable_book:\n",
    "            self.avaliable_book.remove(book)\n",
    "            return f\"{book} is avalibale\"\n",
    "        else:\n",
    "            return f\"{book} is not avaliable\"\n",
    "\n",
    "    \n",
    "    def add_book(self,book):\n",
    "        self.avaliable_book.append(book)\n",
    "        return f\"{book} add to the library\"\n",
    "\n",
    "    def display_books(self):\n",
    "        return f\"books avaliable = {self.avaliable_book}\"\n",
    "\n",
    "#call function with defining objects\n",
    "\n",
    "student=library(['harry','gita','science'])\n",
    "student.display_books()\n",
    "student.borrow_book('gita')\n",
    "student.display_books()\n",
    "student.add_book('gita')\n",
    "\n",
    "\n"
   ]
  },
  {
   "cell_type": "markdown",
   "metadata": {},
   "source": [
    "Problem 5: Product Inventory Create classes representing a product and an inventory system. Implement methods to add products to the inventory, update product quantity, and display available products.\n"
   ]
  },
  {
   "cell_type": "code",
   "execution_count": 75,
   "metadata": {},
   "outputs": [
    {
     "name": "stdout",
     "output_type": "stream",
     "text": [
      "ID: 1, Name: apple, Quantity: 33\n",
      "ID: 2, Name: banana, Quantity: 50\n",
      "ID: 3, Name: cherry, Quantity: 30\n"
     ]
    }
   ],
   "source": [
    "#class product\n",
    "class Product:\n",
    "\n",
    "    def __init__(self,id,name,quantity):\n",
    "        self.id=id\n",
    "        self.name=name\n",
    "        self.quantity=quantity\n",
    "#create class inventory\n",
    "class Inventory:\n",
    "\n",
    "    def __init__(self):\n",
    "        self.products={}\n",
    "\n",
    "    def add_product(self,product):\n",
    "        if product.id not in self.products:\n",
    "            self.products[product.id]=product\n",
    "        else:\n",
    "            self.products[Product.id].quantity+=product.quantity\n",
    "\n",
    "    def update_product_quantity(self,id,quantity):\n",
    "        if id in self.products:\n",
    "            self.products[id].quantity=quantity\n",
    "\n",
    "        else:\n",
    "            print('Product not found in inventory')\n",
    "\n",
    "    def display_products(self):\n",
    "        for product in self.products.values():\n",
    "            print(f\"ID: {product.id}, Name: {product.name}, Quantity: {product.quantity}\")#creat inventory\n",
    "inventory=Inventory()\n",
    "\n",
    "#create  products\n",
    "product1=Product(1,\"apple\",30)\n",
    "product2=Product(2,\"banana\",50)\n",
    "product3=Product(3,\"cherry\",30)\n",
    "\n",
    "#add products to the inventory\n",
    "\n",
    "inventory.add_product(product1)\n",
    "inventory.add_product(product2)\n",
    "inventory.add_product(product3)\n",
    "\n",
    "#update product quantity\n",
    "\n",
    "inventory.update_product_quantity(1,33)\n",
    "\n",
    "#diplay products\n",
    "\n",
    "inventory.display_products()\n",
    "\n"
   ]
  },
  {
   "cell_type": "markdown",
   "metadata": {},
   "source": [
    "Problem 6: Shape Calculation Create a class representing a shape with attributes like length, width, and height. Implement methods to calculate the area and perimeter of the shape.\n"
   ]
  },
  {
   "cell_type": "code",
   "execution_count": 81,
   "metadata": {},
   "outputs": [
    {
     "name": "stdout",
     "output_type": "stream",
     "text": [
      "Area:200\n",
      "Perimeter:60\n"
     ]
    }
   ],
   "source": [
    "class Shape:\n",
    "\n",
    "    def __init__(self,length,width,height):\n",
    "        self.length=length\n",
    "        self.width=width\n",
    "        self.height=height\n",
    "\n",
    "    def calculate_areas(self):\n",
    "        return self.length*self.width\n",
    "\n",
    "    def calculate_perimeter(self):\n",
    "        return 2*(self.length+self.width)\n",
    "\n",
    "shape=Shape(10,20,30)\n",
    "\n",
    "#calculate and print the area and perimenter\n",
    "\n",
    "print(f\"Area:{shape.calculate_areas()}\")\n",
    "print(f\"Perimeter:{shape.calculate_perimeter()}\")"
   ]
  },
  {
   "cell_type": "markdown",
   "metadata": {},
   "source": [
    "Problem 7: Student Management Create a class representing a student with attributes like student ID, name, and grades. Implement methods to calculate the average grade and display student details.\n"
   ]
  },
  {
   "cell_type": "code",
   "execution_count": 84,
   "metadata": {},
   "outputs": [
    {
     "name": "stdout",
     "output_type": "stream",
     "text": [
      "ID:1 Name:rocky Avg:20.0\n"
     ]
    }
   ],
   "source": [
    "class Student:\n",
    "\n",
    "    def __init__(self,id,name,grades):\n",
    "        self.id=id\n",
    "        self.name=name\n",
    "        \n",
    "        self.grades=grades\n",
    "\n",
    "    def calculate_average_grade(self):\n",
    "        return sum(self.grades)/len(self.grades)\n",
    "\n",
    "    def display_details(self):\n",
    "        print(f\"ID:{self.id} Name:{self.name} Avg:{self.calculate_average_grade()}\")\n",
    "\n",
    "student=Student(1,\"rocky\",[4,53,3])\n",
    "\n",
    "student.display_details()"
   ]
  },
  {
   "cell_type": "markdown",
   "metadata": {},
   "source": [
    "Problem 8: Email Management Create a class representing an email with attributes like sender, recipient, and subject. Implement methods to send an email and display email details.\n"
   ]
  },
  {
   "cell_type": "code",
   "execution_count": 85,
   "metadata": {},
   "outputs": [
    {
     "name": "stdout",
     "output_type": "stream",
     "text": [
      "Email sent form ravi@gmail.com to teja@gmail.com with subject how are you\n",
      "sender ravi@gmail.com Recipeint teja@gmail.com  subject how are you\n"
     ]
    }
   ],
   "source": [
    "class Email:\n",
    "\n",
    "    def __init__(self,sender,recipient,subject):\n",
    "        self.sender=sender\n",
    "        self.recipient=recipient\n",
    "        self.subject=subject\n",
    "\n",
    "    def send_email(self):\n",
    "        print(f\"Email sent form {self.sender} to {self.recipient} with subject {self.subject}\")\n",
    "\n",
    "    def display_mail(self):\n",
    "        print(f\"sender {self.sender} Recipeint {self.recipient}  subject {self.subject}\")\n",
    "email=Email('ravi@gmail.com',\"teja@gmail.com\",\"how are you\")\n",
    "email.send_email()\n",
    "email.display_mail()"
   ]
  },
  {
   "cell_type": "markdown",
   "metadata": {},
   "source": [
    "Problem 9: Social Media Profile Create a class representing a social media profile with attributes like username and posts. Implement methods to add posts, display posts, and search for posts by keyword.\n"
   ]
  },
  {
   "cell_type": "code",
   "execution_count": 92,
   "metadata": {},
   "outputs": [
    {
     "name": "stdout",
     "output_type": "stream",
     "text": [
      "my new photo \n",
      "how are you\n",
      "learning\n",
      "Python is my favorite language.\n",
      "[]\n"
     ]
    }
   ],
   "source": [
    "class Instagram:\n",
    "\n",
    "    def __init__(self,username):\n",
    "        self.username=username\n",
    "        self.post=[]\n",
    "\n",
    "    def add_post(self,post):\n",
    "        return self.post.append(post)\n",
    "\n",
    "    def display_post(self):\n",
    "        for post in self.post:\n",
    "            print(post)\n",
    "\n",
    "    def search_post(self,keyword):\n",
    "\n",
    "        return [ post for post in self.post if keyword in self.post]\n",
    "\n",
    "profile=Instagram('ravi')\n",
    "profile.add_post('my new photo ')\n",
    "profile.add_post('how are you')\n",
    "profile.add_post('learning')\n",
    "profile.add_post(\"Python is my favorite language.\")\n",
    "#display post\n",
    "profile.display_post()\n",
    "\n",
    "#search in post\n",
    "\n",
    "print(profile.search_post(\"Python\"))"
   ]
  },
  {
   "cell_type": "markdown",
   "metadata": {},
   "source": [
    "Problem 10: ToDo List Create a class representing a ToDo list with attributes like tasks and due dates. Implement methods to add tasks, mark tasks as completed, and display pending tasks."
   ]
  },
  {
   "cell_type": "code",
   "execution_count": 108,
   "metadata": {},
   "outputs": [
    {
     "name": "stdout",
     "output_type": "stream",
     "text": [
      "Task:Buy veg is due date:today\n",
      "Task:finish project is due date:20 dec 4pm\n",
      "Task:Buy veg is due date:today\n",
      "Task:finish project is due date:20 dec 4pm\n"
     ]
    }
   ],
   "source": [
    "class Task:\n",
    "\n",
    "    def __init__(self,name,due_date):\n",
    "        self.name=name\n",
    "        self.due_date=due_date\n",
    "        self.completed=False\n",
    "\n",
    "class ToDoList:\n",
    "\n",
    "    def __init__(self):\n",
    "        self.tasks=[]\n",
    "\n",
    "    def add_task(self,task):\n",
    "        self.tasks.append(task)\n",
    "\n",
    "    def mark_task_done(self,task_name):\n",
    "        for task in self.tasks:\n",
    "            if task.name==task_name:\n",
    "                task.completed=True\n",
    "            else:\n",
    "                return 'task not found'\n",
    "\n",
    "    def display_pending_task(self):\n",
    "        for task in self.tasks:\n",
    "            if not task.completed:\n",
    "                print( f\"Task:{task.name} is due date:{task.due_date}\")\n",
    "todo=ToDoList()\n",
    "todo.add_task(Task('Buy veg','today'))\n",
    "todo.add_task(Task('finish project','20 dec 4pm'))\n",
    "\n",
    "#display task\n",
    "\n",
    "todo.display_pending_task()\n",
    "\n",
    "todo.mark_task_done('buy veg')\n",
    "todo.display_pending_task()\n",
    "\n"
   ]
  }
 ],
 "metadata": {
  "kernelspec": {
   "display_name": "Python 3",
   "language": "python",
   "name": "python3"
  },
  "language_info": {
   "codemirror_mode": {
    "name": "ipython",
    "version": 3
   },
   "file_extension": ".py",
   "mimetype": "text/x-python",
   "name": "python",
   "nbconvert_exporter": "python",
   "pygments_lexer": "ipython3",
   "version": "3.11.7"
  },
  "orig_nbformat": 4
 },
 "nbformat": 4,
 "nbformat_minor": 2
}
