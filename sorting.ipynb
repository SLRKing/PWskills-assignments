{
 "cells": [
  {
   "cell_type": "markdown",
   "metadata": {},
   "source": [
    "Problem 1.Given an array of n numbers, give an algorithm which gives the element appearing maximum\n",
    "number of times?"
   ]
  },
  {
   "cell_type": "code",
   "execution_count": null,
   "metadata": {},
   "outputs": [],
   "source": [
    "def max_occuring_element(arr):\n",
    "    max_count=0\n",
    "    index=-1\n",
    "    for i in range(len(arr)):\n",
    "        count=0\n",
    "        for j in range(len(arr)):\n",
    "            if arr[i]==arr[j]:\n",
    "                count+=1\n",
    "        if count>max_count:\n",
    "            max_count=count\n",
    "            index= i \n",
    "            \n",
    "    return arr[index]\n",
    "max_occuring_element([6,6,6,4,6,4,32,23,4,5,5,5,5,5,5,5,2,1])"
   ]
  },
  {
   "cell_type": "markdown",
   "metadata": {},
   "source": [
    "Problem 2 : We are given a list of n-1 integers and these integers are in the range of 1 to n . There are no\n",
    "duplicates in the list. One of the integers is missing in the list. Give an algorithm to find that element Ex:\n",
    "[1,2,4,6,3,7,8] 5 is the missing num."
   ]
  },
  {
   "cell_type": "code",
   "execution_count": null,
   "metadata": {},
   "outputs": [],
   "source": [
    "def find_missing(arr,n):\n",
    "    total=(n*(n+1))//2\n",
    "    sum_arr=0\n",
    "    for i in arr:\n",
    "        sum_arr+=i\n",
    "    return total-sum_arr\n",
    "\n",
    "arr=[1,2,4,6,3,7,8] \n",
    "n=max(arr)\n",
    "print(max(arr))\n",
    "find_missing(arr,n)"
   ]
  },
  {
   "cell_type": "markdown",
   "metadata": {},
   "source": [
    "Problem 3 : Given an array of n positive numbers. All numbers occurs even number of times except 1 which\n",
    "occurs odd number of times. Find that number in O(n) time and O(1) space. Ex: [1,2,3,2,3,1,3]. 3 is repeats odd\n",
    "times."
   ]
  },
  {
   "cell_type": "code",
   "execution_count": null,
   "metadata": {},
   "outputs": [],
   "source": [
    "#method 1\n",
    "def find_odd_occuring(arr):\n",
    "    result =0\n",
    "    for element in arr:\n",
    "        result ^= element\n",
    "\n",
    "    return result\n",
    "find_odd_occuring( [1,2,3,2,3,1,3])"
   ]
  },
  {
   "cell_type": "code",
   "execution_count": null,
   "metadata": {},
   "outputs": [],
   "source": [
    "#method 2\n",
    "\n",
    "def find_odd_occuring(arr):\n",
    "    count_dict={}\n",
    "    for element in arr:\n",
    "        if element in count_dict:\n",
    "            count_dict[element]+=1\n",
    "        else:\n",
    "            count_dict[element]=1\n",
    "    for key, value in count_dict.items():\n",
    "        if value%2!=0:#if odd \n",
    "            return key \n",
    "find_odd_occuring([1,2,3,2,3,1,3])"
   ]
  },
  {
   "cell_type": "markdown",
   "metadata": {},
   "source": [
    "Problem 4 : Given an array of n elements. Find two elements in the array such that their sum is equal to given\n",
    "element K.\n"
   ]
  },
  {
   "cell_type": "code",
   "execution_count": null,
   "metadata": {},
   "outputs": [],
   "source": [
    "def find_pair_with_sum(arr,k):\n",
    "    s=set()\n",
    "    \n",
    "    for i in range(len(arr)):\n",
    "\n",
    "        temp=k-arr[i]\n",
    "        if temp in s:\n",
    "            return arr[i],temp\n",
    "        s.add(arr[i])\n",
    "    \n",
    "\n",
    "find_pair_with_sum([1,2,3],5)"
   ]
  },
  {
   "cell_type": "markdown",
   "metadata": {},
   "source": [
    "\n",
    "\n",
    "Problem 5 : Given an array of both positive and negative numbers, find two numbers such that their sum is\n",
    "closest to 0. Ex: [ 1 ,60 ,-10, 70, -80,85]. Ans : -80,85."
   ]
  },
  {
   "cell_type": "code",
   "execution_count": null,
   "metadata": {},
   "outputs": [],
   "source": [
    "def find_close_to_zero(arr):\n",
    "    arr.sort()\n",
    "    print('sorted array',arr.sort())\n",
    "    l=0\n",
    "    r=len(arr)-1\n",
    "    min_sum=float('inf')\n",
    "    min_l=l \n",
    "    min_r=r \n",
    "    while l<r:\n",
    "        sum=arr[l]+arr[r]\n",
    "        if abs(sum)<abs(min_sum):\n",
    "            min_sum=sum \n",
    "            min_l=l\n",
    "            min_r=r \n",
    "        if sum<0:\n",
    "            l+=1\n",
    "        else:\n",
    "            r-=1\n",
    "    return arr[min_l],arr[min_r]\n",
    "arr = [1, 60, -10, 70, -80, 85]\n",
    "print(find_close_to_zero(arr))  # Output: (-80, 85)\n"
   ]
  },
  {
   "cell_type": "markdown",
   "metadata": {},
   "source": [
    "Problem 6 : Given an array of n elements . Find three elements such that their sum is equal to the given\n",
    "number.\n",
    "\n"
   ]
  },
  {
   "cell_type": "code",
   "execution_count": 2,
   "metadata": {},
   "outputs": [
    {
     "name": "stdout",
     "output_type": "stream",
     "text": [
      "(1, 1, 2)\n"
     ]
    }
   ],
   "source": [
    "def find_triplet(arr, target_sum):\n",
    "    arr.sort()\n",
    "    n=len(arr)\n",
    "    for i in range(n-2):\n",
    "        left=i+1\n",
    "        right=n-1\n",
    "        while left<right:\n",
    "            current_sum=arr[i]+arr[left]+arr[right]\n",
    "            if current_sum==target_sum:\n",
    "                return (arr[i],arr[left],arr[right])\n",
    "            elif current_sum<target_sum:\n",
    "                right+=1\n",
    "            else:\n",
    "                right-=1\n",
    "        return 'no triplet found'\n",
    "#test the funciton\n",
    "arr=[1,34,45,76,43,2,34,4,1]\n",
    "target_sum=4\n",
    "print(find_triplet(arr,target_sum))"
   ]
  },
  {
   "cell_type": "markdown",
   "metadata": {},
   "source": [
    "Problem 7 : Given an array of n elements . Find three elements i, j, k in the array such that\n",
    "i * i + j * j = k*k."
   ]
  },
  {
   "cell_type": "code",
   "execution_count": 9,
   "metadata": {},
   "outputs": [
    {
     "name": "stdout",
     "output_type": "stream",
     "text": [
      "(3, 4, 5)\n"
     ]
    }
   ],
   "source": [
    "def find_triplet(arr):\n",
    "    n=len(arr)\n",
    "    arr=[x**2 for x in arr]\n",
    "    arr.sort()\n",
    "    for i in range(n-1,1,-1):\n",
    "        j=0\n",
    "        k=i-1\n",
    "        while j<k:\n",
    "            if arr[j]+arr[k]==arr[i]:\n",
    "                return (int(arr[j]**0.5),int(arr[k]**0.5),int(arr[i]**0.5))\n",
    "            else:\n",
    "                if arr[j]+arr[k]<arr[i]:\n",
    "                    j+=1\n",
    "                else:\n",
    "                    k-=1\n",
    "    return 'no triplet found'\n",
    "#test the function \n",
    "arr=[3,1,4,6,5]\n",
    "print(find_triplet(arr))\n"
   ]
  },
  {
   "cell_type": "markdown",
   "metadata": {},
   "source": [
    "Problem 8 : An element is a majority if it appears more than n/2 times. Give an algorithm takes an array of n\n",
    "element as argument and identifies a majority (if it exists)."
   ]
  },
  {
   "cell_type": "code",
   "execution_count": 16,
   "metadata": {},
   "outputs": [
    {
     "name": "stdout",
     "output_type": "stream",
     "text": [
      "0\n",
      "0\n",
      "0\n",
      "0\n",
      "0\n",
      "0\n",
      "0\n",
      "2\n"
     ]
    }
   ],
   "source": [
    " def find_majority(arr):\n",
    "    majority_index=0\n",
    "    count=1\n",
    "    for i in range(len(arr)):\n",
    "        if arr[majority_index]==arr[i]:\n",
    "            count+=1\n",
    "           \n",
    "        else:\n",
    "            count-=1\n",
    "        if count==0:\n",
    "            majority_index=i \n",
    "            count=1\n",
    "    canditate=arr[majority_index]\n",
    "    if arr.count(canditate)>len(arr)//2:\n",
    "        return canditate \n",
    "    else:\n",
    "        return 'No majority elelment'\n",
    "\n",
    "arr=[2,2,1,1,1,2,2,2,1,2,2,1,2]\n",
    "print(find_majority(arr))\n"
   ]
  },
  {
   "cell_type": "markdown",
   "metadata": {},
   "source": [
    "\n",
    "Problem 9 : Given n × n matrix, and in each row all 1’s are followed by 0’s. Find the row with the maximum\n",
    "number of 0’s."
   ]
  },
  {
   "cell_type": "code",
   "execution_count": 32,
   "metadata": {},
   "outputs": [
    {
     "name": "stdout",
     "output_type": "stream",
     "text": [
      "0\n",
      "1\n",
      "2\n",
      "3\n",
      "4\n",
      "5\n",
      "3\n"
     ]
    }
   ],
   "source": [
    "def row_with_max_zero(matrix):\n",
    "    max_zeros=-1\n",
    "    max_row_index=-1\n",
    "    for i, row in enumerate(matrix):\n",
    "        count_zeros=row.count(0)\n",
    "        if count_zeros>max_zeros:\n",
    "            max_zeros=count_zeros\n",
    "            max_row_index=i\n",
    "        \n",
    "    return max_row_index\n",
    "matrix=[[1,1,1,0,0,0],\n",
    "        [1,0,0,0,2,1],\n",
    "        [0,0,0,1,0,0],\n",
    "        [0,1,1,1,1,0],\n",
    "        [0,0,0,1,1,1],\n",
    "        [0,1,1,0,0,1]]\n",
    "\n",
    "print(row_with_max_zero(matrix)+1)\n"
   ]
  },
  {
   "cell_type": "markdown",
   "metadata": {},
   "source": [
    "\n",
    "Problem 10 : Sort an array of 0’s, 1’s and 2’s [or R’s, G’s and B’s]: Given an array A[] consisting of 0’s, 1’s and\n",
    "2’s, give an algorithm for sorting A[].The algorithm should put all 0’s first, then all 1’s and finally all 2’s at the\n",
    "end. Example Input = {0,1,1,0,1,2,1,2,0,0,0,1}, Output = {0,0,0,0,0,1,1,1,1,1,2,2}"
   ]
  },
  {
   "cell_type": "code",
   "execution_count": 46,
   "metadata": {},
   "outputs": [
    {
     "name": "stdout",
     "output_type": "stream",
     "text": [
      "[0, 0, 0, 0, 0, 1, 1, 1, 1, 1, 2, 2]\n"
     ]
    }
   ],
   "source": [
    "def sort_array(arr):\n",
    "    low = 0\n",
    "    high = len(arr) - 1\n",
    "    mid = 0\n",
    "\n",
    "    while mid <= high:\n",
    "        if arr[mid] == 0:\n",
    "            arr[low], arr[mid] = arr[mid], arr[low]\n",
    "            low += 1\n",
    "            mid += 1\n",
    "        elif arr[mid] == 1:\n",
    "            mid += 1\n",
    "        else:\n",
    "            arr[mid], arr[high] = arr[high], arr[mid]\n",
    "            high -= 1\n",
    "    return arr\n",
    "\n",
    "# Test the function\n",
    "arr = [0,1,1,0,1,2,1,2,0,0,0,1]\n",
    "print(sort_array(arr))\n"
   ]
  }
 ],
 "metadata": {
  "kernelspec": {
   "display_name": "Python 3",
   "language": "python",
   "name": "python3"
  },
  "language_info": {
   "codemirror_mode": {
    "name": "ipython",
    "version": 3
   },
   "file_extension": ".py",
   "mimetype": "text/x-python",
   "name": "python",
   "nbconvert_exporter": "python",
   "pygments_lexer": "ipython3",
   "version": "3.11.8"
  },
  "orig_nbformat": 4
 },
 "nbformat": 4,
 "nbformat_minor": 2
}
