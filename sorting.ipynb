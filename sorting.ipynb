{
 "cells": [
  {
   "cell_type": "markdown",
   "metadata": {},
   "source": [
    "Problem 1.Given an array of n numbers, give an algorithm which gives the element appearing maximum\n",
    "number of times?"
   ]
  },
  {
   "cell_type": "code",
   "execution_count": 11,
   "metadata": {},
   "outputs": [
    {
     "data": {
      "text/plain": [
       "5"
      ]
     },
     "execution_count": 11,
     "metadata": {},
     "output_type": "execute_result"
    }
   ],
   "source": [
    "def max_occuring_element(arr):\n",
    "    max_count=0\n",
    "    index=-1\n",
    "    for i in range(len(arr)):\n",
    "        count=0\n",
    "        for j in range(len(arr)):\n",
    "            if arr[i]==arr[j]:\n",
    "                count+=1\n",
    "        if count>max_count:\n",
    "            max_count=count\n",
    "            index= i \n",
    "            \n",
    "    return arr[index]\n",
    "max_occuring_element([6,6,6,4,6,4,32,23,4,5,5,5,5,5,5,5,2,1])"
   ]
  },
  {
   "cell_type": "markdown",
   "metadata": {},
   "source": [
    "Problem 2 : We are given a list of n-1 integers and these integers are in the range of 1 to n . There are no\n",
    "duplicates in the list. One of the integers is missing in the list. Give an algorithm to find that element Ex:\n",
    "[1,2,4,6,3,7,8] 5 is the missing num."
   ]
  },
  {
   "cell_type": "code",
   "execution_count": 22,
   "metadata": {},
   "outputs": [
    {
     "name": "stdout",
     "output_type": "stream",
     "text": [
      "8\n"
     ]
    },
    {
     "data": {
      "text/plain": [
       "5"
      ]
     },
     "execution_count": 22,
     "metadata": {},
     "output_type": "execute_result"
    }
   ],
   "source": [
    "def find_missing(arr,n):\n",
    "    total=(n*(n+1))//2\n",
    "    sum_arr=0\n",
    "    for i in arr:\n",
    "        sum_arr+=i\n",
    "    return total-sum_arr\n",
    "\n",
    "arr=[1,2,4,6,3,7,8] \n",
    "n=max(arr)\n",
    "print(max(arr))\n",
    "find_missing(arr,n)"
   ]
  },
  {
   "cell_type": "markdown",
   "metadata": {},
   "source": [
    "Problem 3 : Given an array of n positive numbers. All numbers occurs even number of times except 1 which\n",
    "occurs odd number of times. Find that number in O(n) time and O(1) space. Ex: [1,2,3,2,3,1,3]. 3 is repeats odd\n",
    "times."
   ]
  },
  {
   "cell_type": "code",
   "execution_count": 10,
   "metadata": {},
   "outputs": [
    {
     "data": {
      "text/plain": [
       "3"
      ]
     },
     "execution_count": 10,
     "metadata": {},
     "output_type": "execute_result"
    }
   ],
   "source": [
    "#method 1\n",
    "def find_odd_occuring(arr):\n",
    "    result =0\n",
    "    for element in arr:\n",
    "        result ^= element\n",
    "\n",
    "    return result\n",
    "find_odd_occuring( [1,2,3,2,3,1,3])"
   ]
  },
  {
   "cell_type": "code",
   "execution_count": 11,
   "metadata": {},
   "outputs": [
    {
     "data": {
      "text/plain": [
       "3"
      ]
     },
     "execution_count": 11,
     "metadata": {},
     "output_type": "execute_result"
    }
   ],
   "source": [
    "#method 2\n",
    "\n",
    "def find_odd_occuring(arr):\n",
    "    count_dict={}\n",
    "    for element in arr:\n",
    "        if element in count_dict:\n",
    "            count_dict[element]+=1\n",
    "        else:\n",
    "            count_dict[element]=1\n",
    "    for key, value in count_dict.items():\n",
    "        if value%2!=0:#if odd \n",
    "            return key \n",
    "find_odd_occuring([1,2,3,2,3,1,3])"
   ]
  },
  {
   "cell_type": "markdown",
   "metadata": {},
   "source": [
    "Problem 4 : Given an array of n elements. Find two elements in the array such that their sum is equal to given\n",
    "element K.\n"
   ]
  },
  {
   "cell_type": "code",
   "execution_count": 46,
   "metadata": {},
   "outputs": [
    {
     "data": {
      "text/plain": [
       "(3, 2)"
      ]
     },
     "execution_count": 46,
     "metadata": {},
     "output_type": "execute_result"
    }
   ],
   "source": [
    "def find_pair_with_sum(arr,k):\n",
    "    s=set()\n",
    "    \n",
    "    for i in range(len(arr)):\n",
    "\n",
    "        temp=k-arr[i]\n",
    "        if temp in s:\n",
    "            return arr[i],temp\n",
    "        s.add(arr[i])\n",
    "    \n",
    "\n",
    "find_pair_with_sum([1,2,3],5)"
   ]
  },
  {
   "cell_type": "markdown",
   "metadata": {},
   "source": [
    "\n",
    "\n",
    "Problem 5 : Given an array of both positive and negative numbers, find two numbers such that their sum is\n",
    "closest to 0. Ex: [ 1 ,60 ,-10, 70, -80,85]. Ans : -80,85."
   ]
  },
  {
   "cell_type": "code",
   "execution_count": 58,
   "metadata": {},
   "outputs": [
    {
     "name": "stdout",
     "output_type": "stream",
     "text": [
      "sorted array None\n",
      "(-80, 85)\n"
     ]
    }
   ],
   "source": [
    "def find_close_to_zero(arr):\n",
    "    arr.sort()\n",
    "    print('sorted array',arr.sort())\n",
    "    l=0\n",
    "    r=len(arr)-1\n",
    "    min_sum=float('inf')\n",
    "    min_l=l \n",
    "    min_r=r \n",
    "    while l<r:\n",
    "        sum=arr[l]+arr[r]\n",
    "        if abs(sum)<abs(min_sum):\n",
    "            min_sum=sum \n",
    "            min_l=l\n",
    "            min_r=r \n",
    "        if sum<0:\n",
    "            l+=1\n",
    "        else:\n",
    "            r-=1\n",
    "    return arr[min_l],arr[min_r]\n",
    "arr = [1, 60, -10, 70, -80, 85]\n",
    "print(find_close_to_zero(arr))  # Output: (-80, 85)\n"
   ]
  }
 ],
 "metadata": {
  "kernelspec": {
   "display_name": "Python 3",
   "language": "python",
   "name": "python3"
  },
  "language_info": {
   "codemirror_mode": {
    "name": "ipython",
    "version": 3
   },
   "file_extension": ".py",
   "mimetype": "text/x-python",
   "name": "python",
   "nbconvert_exporter": "python",
   "pygments_lexer": "ipython3",
   "version": "3.11.8"
  },
  "orig_nbformat": 4
 },
 "nbformat": 4,
 "nbformat_minor": 2
}
