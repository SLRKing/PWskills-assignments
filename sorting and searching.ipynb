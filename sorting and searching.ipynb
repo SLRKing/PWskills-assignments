{
 "cells": [
  {
   "cell_type": "markdown",
   "metadata": {},
   "source": [
    "Intersection of Two Sorted Arrays\n",
    "Write a Python program to find the intersection of two sorted arrays.\n",
    "\n",
    "A = [1, 3, 5, 7, 9]\n",
    "B = [2, 4, 5, 8]"
   ]
  },
  {
   "cell_type": "code",
   "execution_count": 2,
   "metadata": {},
   "outputs": [
    {
     "data": {
      "text/plain": [
       "[5]"
      ]
     },
     "execution_count": 2,
     "metadata": {},
     "output_type": "execute_result"
    }
   ],
   "source": [
    "def intersection(A,B):\n",
    "    i, j = 0, 0\n",
    "    result = []\n",
    "    while i < len(A) and j < len(B):\n",
    "        if A[i] < B[j]:\n",
    "            i += 1\n",
    "        elif B[j] < A[i]:\n",
    "            j += 1\n",
    "        else:\n",
    "            result.append(B[j])\n",
    "            i += 1\n",
    "            j += 1\n",
    "    return result\n",
    "A = [1, 3, 5, 7, 9]\n",
    "B = [2, 4, 5, 8]\n",
    "\n",
    "intersection(A,B)"
   ]
  },
  {
   "cell_type": "markdown",
   "metadata": {},
   "source": [
    "Find the Kth Smallest Element\n",
    "Write a Python function to find the kth smallest element in an unsorted list.\n",
    "Input:\n",
    "[12, 3, 1, 7, 8, 20], k = 3"
   ]
  },
  {
   "cell_type": "code",
   "execution_count": 3,
   "metadata": {},
   "outputs": [
    {
     "name": "stdout",
     "output_type": "stream",
     "text": [
      "7\n"
     ]
    }
   ],
   "source": [
    "def kth_smallest(arr, k):\n",
    "    arr.sort()\n",
    "    return arr[k-1]#as here indexing starts from 0 use k-1\n",
    "\n",
    "# Test the function\n",
    "arr = [12, 3, 1, 7, 8, 20]\n",
    "k = 3\n",
    "print(kth_smallest(arr, k))\n"
   ]
  },
  {
   "cell_type": "markdown",
   "metadata": {},
   "source": [
    " Binary Search in a Rotated Sorted Array\n",
    "Implement a Python program to perform a binary search on a rotated sorted array.\n",
    "Input:\n",
    "[4, 5, 6, 7, 8, 9, 1, 2, 3], 6"
   ]
  },
  {
   "cell_type": "code",
   "execution_count": 9,
   "metadata": {},
   "outputs": [
    {
     "name": "stdout",
     "output_type": "stream",
     "text": [
      "binary search of target in arrray is at  2\n"
     ]
    }
   ],
   "source": [
    "def binary_search_rotated(arr, target):\n",
    "    low = 0\n",
    "    high = len(arr)-1\n",
    "    while low<=high:\n",
    "        mid=(low+high)//2 \n",
    "\n",
    "        if arr[mid]==target:\n",
    "            return mid \n",
    "        if arr[low]<= arr[mid]:\n",
    "            if arr[low]<target<arr[mid]:\n",
    "                high=mid-1\n",
    "            else:\n",
    "                low=mid+1 \n",
    "        else: \n",
    "            if arr[mid]<target<=arr[high]:\n",
    "                low=mid+1\n",
    "            else:\n",
    "          \n",
    "              high = mid -1\n",
    "\n",
    "    return -1\n",
    "arr=[4, 5, 6, 7, 8, 9, 1, 2, 3]\n",
    "target=6\n",
    "\n",
    "\n",
    "print('binary search of target in arrray is at ',binary_search_rotated(arr,6))"
   ]
  },
  {
   "cell_type": "markdown",
   "metadata": {},
   "source": [
    "Searching in a Matrix\n",
    "Write a Python program that searches for a given element in a 2D matrix and returns its position.\n",
    "Input:\n",
    "Matrix = [\n",
    "[1, 3, 5],\n",
    "[7, 9, 11],\n",
    "[13, 15, 17]\n",
    "]\n",
    "Element = 11"
   ]
  },
  {
   "cell_type": "code",
   "execution_count": 15,
   "metadata": {},
   "outputs": [
    {
     "name": "stdout",
     "output_type": "stream",
     "text": [
      "(1, 2)\n",
      "Element 11 found at position (1, 2)\n"
     ]
    }
   ],
   "source": [
    "def search_matrix(matrix,target):\n",
    "    for i in range(len(matrix)):\n",
    "        for j in range(len(matrix[i])):\n",
    "            if matrix[i][j]==target:\n",
    "                return (i,j)\n",
    "\n",
    "    \n",
    "\n",
    "matrix=[[1,3,5],[7,9,11],[13,15,17]]\n",
    "\n",
    "element=11\n",
    "\n",
    "print(search_matrix(matrix,element))\n",
    "print(f'Element {element} found at position {search_matrix(matrix,element)}')"
   ]
  },
  {
   "cell_type": "markdown",
   "metadata": {},
   "source": [
    "Sorting Strings by Length\n",
    "Write a Python program that takes a list of strings and sorts them based on their length.\n",
    "Input:\n",
    "['apple', 'banana', 'kiwi', 'orange', 'grape']"
   ]
  },
  {
   "cell_type": "code",
   "execution_count": 16,
   "metadata": {},
   "outputs": [
    {
     "name": "stdout",
     "output_type": "stream",
     "text": [
      "['kiwi', 'apple', 'grape', 'banana', 'orange']\n"
     ]
    }
   ],
   "source": [
    "def sort_string_by_length(strings):\n",
    "    return sorted(strings, key =len)\n",
    "\n",
    "strings=['apple','banana','kiwi','orange','grape']\n",
    "print(sort_string_by_length(strings))"
   ]
  },
  {
   "cell_type": "markdown",
   "metadata": {},
   "source": [
    "Implement a Python function to find a peak element in an array. A peak element is an element that is greater\n",
    "than or equal to its neighbors.\n",
    "Input:\n",
    "[1, 3, 20, 4, 1, 0]"
   ]
  },
  {
   "cell_type": "code",
   "execution_count": 4,
   "metadata": {},
   "outputs": [
    {
     "name": "stdout",
     "output_type": "stream",
     "text": [
      "20\n"
     ]
    }
   ],
   "source": [
    "def find_peak(arr):\n",
    "    b=len(arr)\n",
    "\n",
    "    #check if it has only one element\n",
    "    if b==1:\n",
    "        return arr[0]\n",
    "    #check if firse element is peak\n",
    "    if arr[0]>=arr[1]:\n",
    "        return arr[0]\n",
    "\n",
    "    #check last element is pea\n",
    "\n",
    "    if arr[b-1]>=arr[b-2]:\n",
    "        return arr[n-1]\n",
    "\n",
    "    #check for peak in middle\n",
    "    for i in range(1,b-1):\n",
    "        if arr[i]>=arr[i-1] and arr[i]>=arr[i+1]:\n",
    "            return arr[i]\n",
    "\n",
    "arr= [1,3,20,4,1,0]\n",
    "print(find_peak(arr))\n",
    "\n"
   ]
  },
  {
   "cell_type": "markdown",
   "metadata": {},
   "source": [
    "Search in a Nearly Sorted Array\n",
    "Implement a Python program to perform a binary search in a nearly sorted array. In a nearly sorted array, each\n",
    "element is at most k positions away from its sorted position.\n",
    "Input:\n",
    "[2, 1, 3, 4, 6, 5, 7], k = 1"
   ]
  },
  {
   "cell_type": "code",
   "execution_count": 5,
   "metadata": {},
   "outputs": [
    {
     "name": "stdout",
     "output_type": "stream",
     "text": [
      "4\n"
     ]
    }
   ],
   "source": [
    "\n",
    "def modified_binary_search(arr, k, x):\n",
    "    left = 0\n",
    "    right = len(arr) - 1\n",
    "\n",
    "    while left <= right:\n",
    "        mid = left + (right - left) // 2\n",
    "\n",
    "        # If the mid element is the target\n",
    "        if arr[mid] == x:\n",
    "            return mid\n",
    "\n",
    "        # If the mid - kth element is the target\n",
    "        if mid - k >= 0 and arr[mid - k] == x:\n",
    "            return mid - k\n",
    "\n",
    "        # If the mid + kth element is the target\n",
    "        if mid + k < len(arr) and arr[mid + k] == x:\n",
    "            return mid + k\n",
    "\n",
    "        # If the target is less than mid element\n",
    "        if arr[mid] > x:\n",
    "            right = mid - k - 1\n",
    "\n",
    "        # If the target is greater than mid element\n",
    "        else:\n",
    "            left = mid + k + 1\n",
    "\n",
    "    return -1\n",
    "\n",
    "# Test the function\n",
    "arr = [2, 1, 3, 4, 6, 5, 7]\n",
    "k = 1\n",
    "x = 6  # Element to search\n",
    "print(modified_binary_search(arr, k, x))\n"
   ]
  }
 ],
 "metadata": {
  "kernelspec": {
   "display_name": "Python 3",
   "language": "python",
   "name": "python3"
  },
  "language_info": {
   "codemirror_mode": {
    "name": "ipython",
    "version": 3
   },
   "file_extension": ".py",
   "mimetype": "text/x-python",
   "name": "python",
   "nbconvert_exporter": "python",
   "pygments_lexer": "ipython3",
   "version": "3.11.9"
  },
  "orig_nbformat": 4
 },
 "nbformat": 4,
 "nbformat_minor": 2
}
