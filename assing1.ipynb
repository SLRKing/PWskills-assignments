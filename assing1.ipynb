{
 "cells": [
  {
   "cell_type": "markdown",
   "metadata": {},
   "source": [
    "# HELLO SIR, I KNOW BASICS OF PYTHON HENCE I AM NOT ADDING COMMENTS/ STEPS OF EXECUTION.\n",
    "# I'LL BE DOING THEM IN NEXT SECTIONS"
   ]
  },
  {
   "cell_type": "markdown",
   "metadata": {},
   "source": [
    "#1 write a program reversing string?"
   ]
  },
  {
   "cell_type": "markdown",
   "metadata": {},
   "source": [
    "#write a program reversing string? 2nd method\n"
   ]
  },
  {
   "cell_type": "code",
   "execution_count": 2,
   "metadata": {},
   "outputs": [
    {
     "name": "stdout",
     "output_type": "stream",
     "text": [
      "inrakluK ajetivaR ma I\n"
     ]
    }
   ],
   "source": [
    "#create function\n",
    "def str(x):\n",
    "    #use use ::-1 logic to reverse the string\n",
    "    return x[::-1]\n",
    "# enter stirng\n",
    "mystr=str(\"I am Raviteja Kulkarni\")\n",
    "#print string\n",
    "print(mystr)"
   ]
  },
  {
   "cell_type": "markdown",
   "metadata": {},
   "source": [
    "#2. Check if a string is a palindrome"
   ]
  },
  {
   "cell_type": "code",
   "execution_count": 3,
   "metadata": {},
   "outputs": [
    {
     "name": "stdout",
     "output_type": "stream",
     "text": [
      "String is in Palindrome\n"
     ]
    }
   ],
   "source": [
    "# enter string\n",
    "str = 'radar'\n",
    "# check weather the str is equal to reversed str\n",
    "rev_str = str[::-1]\n",
    "# if reversed str is equal print this\n",
    "if (str==rev_str):\n",
    "    print('String is in Palindrome')\n",
    "# if it is not equal print this\n",
    "else:\n",
    "    print(\"string is not in palindrome\")"
   ]
  },
  {
   "cell_type": "code",
   "execution_count": 4,
   "metadata": {},
   "outputs": [
    {
     "name": "stdout",
     "output_type": "stream",
     "text": [
      "not palindrome\n"
     ]
    }
   ],
   "source": [
    "# here we are creating function and following same method to check and print as per above\n",
    "def pali(string):\n",
    "    #check weather the string=reverse string \n",
    "    if string == string[::-1]:\n",
    "        #if true then print \n",
    "        print('plaindrome')\n",
    "    else:\n",
    "        print(\"not palindrome\")\n",
    "#call the function and set agrument\n",
    "string = pali(input('enter stirng'))\n",
    "\n",
    "\n"
   ]
  },
  {
   "cell_type": "markdown",
   "metadata": {},
   "source": [
    "# 3. Convert a string to uppercase."
   ]
  },
  {
   "cell_type": "code",
   "execution_count": 5,
   "metadata": {},
   "outputs": [],
   "source": [
    "# enter string\n",
    "str=input('enter string to capitalize')\n",
    "# use str.upper() method to capitalize string\n",
    "print(str.upper())"
   ]
  },
  {
   "cell_type": "markdown",
   "metadata": {},
   "source": [
    "# 4. Convert a string to lowercase."
   ]
  },
  {
   "cell_type": "code",
   "execution_count": null,
   "metadata": {},
   "outputs": [
    {
     "name": "stdout",
     "output_type": "stream",
     "text": [
      "\n"
     ]
    }
   ],
   "source": [
    "# here we will use .lower() method to lower case the entered string\n",
    "lw_str=input('enter strign - lower')\n",
    "print(lw_str.lower())"
   ]
  },
  {
   "cell_type": "markdown",
   "metadata": {},
   "source": [
    "# 5 Count the number of vowels in a string."
   ]
  },
  {
   "cell_type": "code",
   "execution_count": null,
   "metadata": {},
   "outputs": [
    {
     "name": "stdout",
     "output_type": "stream",
     "text": [
      "number of vowels in  is 0\n"
     ]
    }
   ],
   "source": [
    "# take input\n",
    "str = input('Enter string')\n",
    "# initilize the vowels counter to 0\n",
    "vowels=0\n",
    "# use for loop for iteration\n",
    "for i in str:\n",
    "    # check the conditions\n",
    "    if(i=='a'or i=='e'or i=='i'or i=='o'or i=='u'):\n",
    "        # if the above elements matches above contitions then increment the counter\n",
    "        vowels+=1\n",
    "# print\n",
    "print(f\"number of vowels in {str} is {vowels}\")"
   ]
  },
  {
   "cell_type": "code",
   "execution_count": null,
   "metadata": {},
   "outputs": [
    {
     "name": "stdout",
     "output_type": "stream",
     "text": [
      "0\n"
     ]
    }
   ],
   "source": [
    "# here we have used same logic but appended to empty list.\n",
    "str = input('enter string ')\n",
    "lis=[]\n",
    "for i in str:\n",
    "    if(i=='a'or i=='e'or i=='i'or i=='o'or i=='u'):\n",
    "        lis.append(i)\n",
    "\n",
    "print(len(lis))"
   ]
  },
  {
   "cell_type": "markdown",
   "metadata": {},
   "source": [
    "# 6. Count the number of consonants in a string."
   ]
  },
  {
   "cell_type": "code",
   "execution_count": null,
   "metadata": {},
   "outputs": [
    {
     "name": "stdout",
     "output_type": "stream",
     "text": [
      "consonant in  are 0\n"
     ]
    }
   ],
   "source": [
    "#method 2 \n",
    "# take input\n",
    "str = input('enter string')\n",
    "# initilize counter\n",
    "consonants =0\n",
    "# use loop\n",
    "for i in str:\n",
    "    # check for conditions\n",
    "    if(i=='a'or i=='e'or i=='i'or i=='o'or i=='u'):\n",
    "        pass\n",
    "# if the conditions is not true then increment the counter\n",
    "    else:\n",
    "    \n",
    "        consonants+=1\n",
    "#print\n",
    "\n",
    "print(f\"consonant in {str} are {consonants}\")"
   ]
  },
  {
   "cell_type": "markdown",
   "metadata": {},
   "source": [
    "# 7 Remove all whitespaces from a string."
   ]
  },
  {
   "cell_type": "code",
   "execution_count": null,
   "metadata": {},
   "outputs": [
    {
     "name": "stdout",
     "output_type": "stream",
     "text": [
      "\n"
     ]
    }
   ],
   "source": [
    "# define funxn\n",
    "def remove(string):\n",
    "    # return the output\n",
    "    return string.replace(\" \",\"\")\n",
    "# send the argument to function\n",
    "string = input('enter')\n",
    "# print\n",
    "print(remove(string))"
   ]
  },
  {
   "cell_type": "markdown",
   "metadata": {},
   "source": [
    "# 8Find the length of a string without using the `len()` function."
   ]
  },
  {
   "cell_type": "code",
   "execution_count": null,
   "metadata": {},
   "outputs": [
    {
     "name": "stdout",
     "output_type": "stream",
     "text": [
      "8\n"
     ]
    }
   ],
   "source": [
    "# enter the string\n",
    "\n",
    "str = \"raviteja\"\n",
    "# initilize the conter\n",
    "c=0\n",
    "# use loop\n",
    "for i in str:\n",
    "    # increment\n",
    "    c+=1\n",
    "# print\n",
    "print(c)\n"
   ]
  },
  {
   "cell_type": "markdown",
   "metadata": {},
   "source": [
    "# 9. Check if a string contains a specific word."
   ]
  },
  {
   "cell_type": "code",
   "execution_count": null,
   "metadata": {},
   "outputs": [
    {
     "name": "stdout",
     "output_type": "stream",
     "text": [
      "a is there\n"
     ]
    }
   ],
   "source": [
    "# take input\n",
    "str = 'raviteja s kulkarni'\n",
    "# check conditions weater it is present in it or not\n",
    "if 'a'in str:\n",
    "    print('a is there')\n",
    "else:\n",
    "    print('a is not there')\n"
   ]
  },
  {
   "cell_type": "markdown",
   "metadata": {},
   "source": [
    "# 10. Replace a word in a string with another word."
   ]
  },
  {
   "cell_type": "code",
   "execution_count": null,
   "metadata": {},
   "outputs": [
    {
     "name": "stdout",
     "output_type": "stream",
     "text": [
      "Where are you\n"
     ]
    }
   ],
   "source": [
    "\n",
    "\n",
    "string = \"how are you\"\n",
    "print(string.replace(\"how\",\"Where\"))"
   ]
  },
  {
   "cell_type": "markdown",
   "metadata": {},
   "source": [
    "# 11. Count the occurrences of a word in a string."
   ]
  },
  {
   "cell_type": "code",
   "execution_count": null,
   "metadata": {},
   "outputs": [
    {
     "name": "stdout",
     "output_type": "stream",
     "text": [
      "2\n"
     ]
    }
   ],
   "source": [
    "\n",
    "# to find frequencu of 'o' in stirng\n",
    "# enter stirng\n",
    "str = \"how are you\"\n",
    "#set counter\n",
    "count =0\n",
    "#use loop to iterate over the stirng \n",
    "for i in str:\n",
    "    #if the 0== i then incremetn the counter\n",
    "    if 'o' == i:\n",
    "        count+=1\n",
    "# print output\n",
    "print(count)"
   ]
  },
  {
   "cell_type": "code",
   "execution_count": null,
   "metadata": {},
   "outputs": [
    {
     "name": "stdout",
     "output_type": "stream",
     "text": [
      "3\n"
     ]
    }
   ],
   "source": [
    "# 11. Count the occurrences of a word in a string.\n",
    "\n",
    "str = \"i am raviteja kulkarni\"\n",
    "c=0\n",
    "for i in str:\n",
    "    if i=='i':\n",
    "        c+=1\n",
    "print(c)"
   ]
  },
  {
   "cell_type": "code",
   "execution_count": null,
   "metadata": {},
   "outputs": [
    {
     "name": "stdout",
     "output_type": "stream",
     "text": [
      "I\n"
     ]
    }
   ],
   "source": [
    "# 12. Find the first occurrence of a word in a string.\n",
    "str = \"I am Raviteja the great data scientist\"\n",
    "print(str[0])"
   ]
  },
  {
   "cell_type": "code",
   "execution_count": null,
   "metadata": {},
   "outputs": [
    {
     "name": "stdout",
     "output_type": "stream",
     "text": [
      "first word is h\n",
      "h repeats 2 times\n"
     ]
    }
   ],
   "source": [
    "import re\n",
    "str = \"how are you Raviteja I hope you are fine Raviteja\"\n",
    "print('first word is',str[0])\n",
    "f=str[0]\n",
    "count=0\n",
    "for i in str:\n",
    "    if i==f:\n",
    "        count+=1\n",
    "print(f'{f} repeats {count} times')\n"
   ]
  },
  {
   "cell_type": "code",
   "execution_count": null,
   "metadata": {},
   "outputs": [
    {
     "name": "stdout",
     "output_type": "stream",
     "text": [
      "last word is a\n",
      "a repeats 6 times\n"
     ]
    }
   ],
   "source": [
    "# 13. Find the last occurrence of a word in a string.\n",
    "str = \"how are you Raviteja I hope you are fine Raviteja\"\n",
    "print('last word is',str[-1])\n",
    "f=str[-1]\n",
    "count=0\n",
    "for i in str:\n",
    "    if i==f:\n",
    "        count+=1\n",
    "print(f'{f} repeats {count} times')\n"
   ]
  },
  {
   "cell_type": "code",
   "execution_count": null,
   "metadata": {},
   "outputs": [
    {
     "name": "stdout",
     "output_type": "stream",
     "text": [
      "['how', 'are-you']\n"
     ]
    }
   ],
   "source": [
    "# 14. Split a string into a list of words.\n",
    "\n",
    "text=\"how are-you\"\n",
    "print(text.split(' '))"
   ]
  },
  {
   "cell_type": "code",
   "execution_count": null,
   "metadata": {},
   "outputs": [
    {
     "name": "stdout",
     "output_type": "stream",
     "text": [
      "i am Raviteja\n"
     ]
    }
   ],
   "source": [
    "# 15. Join a list of words into a string.\n",
    "lis=['i','am','Raviteja']\n",
    "x=' '.join(lis)\n",
    "print(x)\n",
    " "
   ]
  },
  {
   "cell_type": "code",
   "execution_count": null,
   "metadata": {},
   "outputs": [
    {
     "name": "stdout",
     "output_type": "stream",
     "text": [
      "  I am Raviteja\n"
     ]
    }
   ],
   "source": [
    "name = ['I',\"am\",\"Raviteja\"]\n",
    "ans=' '\n",
    "for i in name:\n",
    "    ans = ans+' '+i\n",
    "print(ans)"
   ]
  },
  {
   "cell_type": "code",
   "execution_count": null,
   "metadata": {},
   "outputs": [
    {
     "name": "stdout",
     "output_type": "stream",
     "text": [
      "i am king\n"
     ]
    }
   ],
   "source": [
    "a=\"i am king\"\n",
    "a.split(', ')\n",
    "print(a)"
   ]
  },
  {
   "cell_type": "code",
   "execution_count": null,
   "metadata": {},
   "outputs": [
    {
     "name": "stdout",
     "output_type": "stream",
     "text": [
      "Raviteja_S_Kulkarni_The_Data_Scientist\n",
      "Raviteja S Kulkarni The Data Scientist\n"
     ]
    }
   ],
   "source": [
    "# 16. Convert a string where words are separated by spaces to one where words\n",
    "# are separated by underscores.\n",
    "st = \"Raviteja S Kulkarni The Data Scientist\"\n",
    "print(st.replace(\" \",\"_\"))\n"
   ]
  },
  {
   "cell_type": "code",
   "execution_count": null,
   "metadata": {},
   "outputs": [
    {
     "name": "stdout",
     "output_type": "stream",
     "text": [
      "present\n"
     ]
    }
   ],
   "source": [
    "# Check if a string starts with a specific word or phrase.\n",
    "st = 'he is a king'\n",
    "x=st.split(\" \")\n",
    "\n",
    "specific = input(\"enter first specific word? \")\n",
    "if specific in x[0]:\n",
    "    print('present')\n",
    "else:\n",
    "    print('absent')\n",
    "\n",
    "    "
   ]
  },
  {
   "cell_type": "code",
   "execution_count": null,
   "metadata": {},
   "outputs": [
    {
     "name": "stdout",
     "output_type": "stream",
     "text": [
      "present\n"
     ]
    }
   ],
   "source": [
    "# 18. Check if a string ends with a specific word or phrase.\n",
    "ing = \"I am Raviteja Kulkarni The AI engineer\"\n",
    "x=ing.split(\" \")\n",
    "specific = input('Enter ending specific word')\n",
    "if specific==x[-1]:\n",
    "    print('present')\n",
    "\n",
    "else:\n",
    "    print(\"absent\")"
   ]
  },
  {
   "cell_type": "code",
   "execution_count": null,
   "metadata": {},
   "outputs": [
    {
     "name": "stdout",
     "output_type": "stream",
     "text": [
      "Jai Jawan Jai Vignyan\n"
     ]
    }
   ],
   "source": [
    "# 19. Convert a string to title case (e.g., \"hello world\" to \"Hello World\").\n",
    "st = \"jai jawan jai vignyan\"\n",
    "print(st.title())"
   ]
  },
  {
   "cell_type": "code",
   "execution_count": null,
   "metadata": {},
   "outputs": [
    {
     "name": "stdout",
     "output_type": "stream",
     "text": [
      "Longest word  understanding\n",
      "position of longest word : 3\n"
     ]
    }
   ],
   "source": [
    "# 20. Find the longest word in a string.\n",
    "st = \"I am Raviteja Kulkarni I was spl of my school\"\n",
    "word_list = st.split()\n",
    "Long_word= max(word_list, key = len)\n",
    "pos= word_list.index(Long_word)\n",
    "print(\"Longest word :\",Long_word)\n",
    "print(\"Position of Longest word :\", pos+1)\n"
   ]
  },
  {
   "cell_type": "code",
   "execution_count": null,
   "metadata": {},
   "outputs": [
    {
     "ename": "IndexError",
     "evalue": "list index out of range",
     "output_type": "error",
     "traceback": [
      "\u001b[1;31m---------------------------------------------------------------------------\u001b[0m",
      "\u001b[1;31mIndexError\u001b[0m                                Traceback (most recent call last)",
      "Cell \u001b[1;32mIn[6], line 6\u001b[0m\n\u001b[0;32m      4\u001b[0m st \u001b[39m=\u001b[39m \u001b[39minput\u001b[39m(\u001b[39m'\u001b[39m\u001b[39mEnter string :\u001b[39m\u001b[39m'\u001b[39m)\n\u001b[0;32m      5\u001b[0m words\u001b[39m=\u001b[39mst\u001b[39m.\u001b[39msplit()\n\u001b[1;32m----> 6\u001b[0m long \u001b[39m=\u001b[39m words[\u001b[39m0\u001b[39;49m]\n\u001b[0;32m      7\u001b[0m max_len\u001b[39m=\u001b[39m \u001b[39mlen\u001b[39m(words[\u001b[39m0\u001b[39m])\n\u001b[0;32m      8\u001b[0m \u001b[39mfor\u001b[39;00m index, word \u001b[39min\u001b[39;00m \u001b[39menumerate\u001b[39m(words):\n",
      "\u001b[1;31mIndexError\u001b[0m: list index out of range"
     ]
    }
   ],
   "source": [
    "# 20. Find the longest word in a string.\n",
    "# method\n",
    "\n",
    "st = input('Enter string :')\n",
    "words=st.split()\n",
    "long = words[0]\n",
    "max_len= len(words[0])\n",
    "for index, word in enumerate(words):\n",
    "    if len(word)>max_len:\n",
    "        max_len = len(word)\n",
    "\n",
    "        long = word\n",
    "    else:\n",
    "        pass\n",
    "\n",
    "idx = st.find(long)\n",
    "print('Longest word ',long)\n",
    "print(\" position of long word\", idx)\n",
    "1"
   ]
  },
  {
   "cell_type": "code",
   "execution_count": null,
   "metadata": {},
   "outputs": [
    {
     "name": "stdout",
     "output_type": "stream",
     "text": [
      "SHortest word is : in\n",
      "position of shortetst word is : 4\n"
     ]
    }
   ],
   "source": [
    "# 21. Find the shortest word in a string.\n",
    "st = \"Find the sohort world in universeaydj kdj\"\n",
    "short_word=min(st.split(),key= len)\n",
    "print('SHortest word is :',short_word)\n",
    "print('position of shortetst word is :', st.split().index(short_word))"
   ]
  },
  {
   "cell_type": "code",
   "execution_count": null,
   "metadata": {},
   "outputs": [
    {
     "name": "stdout",
     "output_type": "stream",
     "text": [
      "['reversed', 'when', 'ravitej', 'is', 'this']\n"
     ]
    }
   ],
   "source": [
    "# 22. Reverse the order of words in a string.\n",
    "st = \"this is ravitej when reversed\"\n",
    "print(st.split()[::-1])"
   ]
  },
  {
   "cell_type": "code",
   "execution_count": null,
   "metadata": {},
   "outputs": [
    {
     "name": "stdout",
     "output_type": "stream",
     "text": [
      "how\n"
     ]
    }
   ],
   "source": [
    "# 23. Check if a string is alphanumeric.\n",
    "st = \"Ia555nm1 KDJDK\"\n",
    "w=st.split()\n",
    "lis = st.split()\n",
    "for i in lis:\n",
    "    if i.isalnum() == True:\n",
    "        print('String contains alphanumeric')\n",
    "        break\n",
    "    else:\n",
    "        pass\n",
    "    "
   ]
  },
  {
   "cell_type": "code",
   "execution_count": null,
   "metadata": {},
   "outputs": [
    {
     "name": "stdout",
     "output_type": "stream",
     "text": [
      "Digits in Strings are 10\n",
      "Digits in Strings are 2001\n",
      "Digits in Strings are 8\n"
     ]
    }
   ],
   "source": [
    "# 24. Extract all digits from a string.\n",
    "st =\"Raviteja born on 10 Jan 2001 at 8 pm \"\n",
    "for i in st.split():\n",
    "    if i.isdigit():\n",
    "        \n",
    "        print('Digits in Strings are',i)"
   ]
  },
  {
   "cell_type": "code",
   "execution_count": null,
   "metadata": {},
   "outputs": [
    {
     "name": "stdout",
     "output_type": "stream",
     "text": [
      "['10', '2001', '8']\n"
     ]
    }
   ],
   "source": [
    "#method 2\n",
    "# 24. Extract all digits from a string.\n",
    "st =\"Raviteja born on 10 Jan 2001 at 8 pm \"\n",
    "lis=[]\n",
    "for i in st.split():\n",
    "    if i.isdigit():\n",
    "        lis.append(i)\n",
    "        \n",
    "print(lis)"
   ]
  },
  {
   "cell_type": "code",
   "execution_count": null,
   "metadata": {},
   "outputs": [
    {
     "name": "stdout",
     "output_type": "stream",
     "text": [
      "['Raviteja', 'born', 'on', 'jan', 'at', 'hr', 'minit']\n"
     ]
    }
   ],
   "source": [
    "# 25. Extract all alphabets from a string.\n",
    "st=\"Raviteja born on 10 jan 2001 at 39 hr 34 minit \"\n",
    "lis=[]\n",
    "for i in st.split():\n",
    "    if i.isalpha():\n",
    "        lis.append(i)\n",
    "print(lis)"
   ]
  },
  {
   "cell_type": "code",
   "execution_count": null,
   "metadata": {},
   "outputs": [
    {
     "name": "stdout",
     "output_type": "stream",
     "text": [
      "4\n",
      "they are RYBW\n"
     ]
    }
   ],
   "source": [
    "# 26. Count the number of uppercase letters in a string.\n",
    "st= \"Raviteja is the Youngest Billionaire in the World \"\n",
    "c=0\n",
    "alt=''\n",
    "for i in st:\n",
    "    if i.isupper():\n",
    "        c+=1\n",
    "        alt=alt+i\n",
    "\n",
    "print(c)\n",
    "print(\"they are\",alt)\n"
   ]
  },
  {
   "cell_type": "code",
   "execution_count": null,
   "metadata": {},
   "outputs": [
    {
     "name": "stdout",
     "output_type": "stream",
     "text": [
      "string has 31 small letters and they are \"wanttoecometheorlbestaiengineer\"\n"
     ]
    }
   ],
   "source": [
    "# 27. Count the number of lowercase letters in a string.\n",
    "st=\"I want to Become the WorlDDDD best ai engineer \"\n",
    "c=0\n",
    "alt=''\n",
    "for i in st:\n",
    "    if i.islower():\n",
    "        c+=1\n",
    "        alt=alt+i\n",
    "print(f'string has {c} small letters and they are \"{alt}\"')\n"
   ]
  },
  {
   "cell_type": "code",
   "execution_count": null,
   "metadata": {},
   "outputs": [
    {
     "name": "stdout",
     "output_type": "stream",
     "text": [
      "kING BECOME'S fROm dIShOnESTY\n"
     ]
    }
   ],
   "source": [
    "# 28. Swap the case of each character in a string.\n",
    "st= \"King become's FroM DisHoNesty\"\n",
    "print(st.swapcase())"
   ]
  },
  {
   "cell_type": "code",
   "execution_count": null,
   "metadata": {},
   "outputs": [
    {
     "name": "stdout",
     "output_type": "stream",
     "text": [
      "['How', 'you', 'Mr.', 'Raviteja', 'Kulkarni']\n"
     ]
    }
   ],
   "source": [
    "# 29. Remove a specific word from a string.\n",
    "st = 'How are you Mr. Raviteja Kulkarni'\n",
    "rem='are'\n",
    "lis=st.split()\n",
    "for i in lis:\n",
    "    if i==rem:\n",
    "        lis.remove(i)\n",
    "\n",
    "print(lis)"
   ]
  },
  {
   "cell_type": "code",
   "execution_count": null,
   "metadata": {},
   "outputs": [
    {
     "name": "stdout",
     "output_type": "stream",
     "text": [
      "valid\n"
     ]
    }
   ],
   "source": [
    "# 30. Check if a string is a valid email address.\n",
    "mail='ravitejaslrk@gmail.com'\n",
    "if '@gmail.com' in mail:\n",
    "    print('valid')\n",
    "    "
   ]
  },
  {
   "cell_type": "code",
   "execution_count": null,
   "metadata": {},
   "outputs": [
    {
     "name": "stdout",
     "output_type": "stream",
     "text": [
      "fals\n"
     ]
    }
   ],
   "source": [
    "#method 2\n",
    "import re\n",
    "\n",
    "# regex= r'^[A-Za-z0-9._%+-]+@[A-Za-z0-9._%+-]+\\.[A-Za-z]{2,7}\\b\n",
    "def check(email):\n",
    "    pat = r\"[A-Za-z0-9]+@[A-Za-z0-9]+\\.[A-Za-z0-9]\"\n",
    "    if re.match(pat, email):\n",
    "        return \"valid\"\n",
    "    return \"fals\"\n",
    "\n",
    "email = \"ravitejmail.com\"\n",
    "print(check(email))\n",
    "\n"
   ]
  },
  {
   "cell_type": "code",
   "execution_count": null,
   "metadata": {},
   "outputs": [
    {
     "name": "stdout",
     "output_type": "stream",
     "text": [
      "ravi\n"
     ]
    }
   ],
   "source": [
    "# 31. Extract the username from an email address string.\n",
    "r=\"ravi@gmail\"\n",
    "\n",
    "lis=r.split('@')\n",
    "print(lis[0])"
   ]
  },
  {
   "cell_type": "code",
   "execution_count": null,
   "metadata": {},
   "outputs": [
    {
     "name": "stdout",
     "output_type": "stream",
     "text": [
      "rocky\n"
     ]
    }
   ],
   "source": [
    "#method\n",
    "def ext(email):\n",
    "    lis = email.split(\"@\" )\n",
    "    print(lis[0])\n",
    "email = \"rocky@gmail.com\"\n",
    "ext(email)"
   ]
  },
  {
   "cell_type": "code",
   "execution_count": null,
   "metadata": {},
   "outputs": [
    {
     "name": "stdout",
     "output_type": "stream",
     "text": [
      "billio.com\n"
     ]
    }
   ],
   "source": [
    "# 32. Extract the username from an email address string.\n",
    "def ext(domain):\n",
    "    lis = email.split(\"@\")\n",
    "    print(lis[1])\n",
    "domain=\"raviteja@billio.com\"\n",
    "ext(domain)"
   ]
  },
  {
   "cell_type": "code",
   "execution_count": null,
   "metadata": {},
   "outputs": [
    {
     "name": "stdout",
     "output_type": "stream",
     "text": [
      "jkj jkdfjkjd jfjk8ije jki kji\n"
     ]
    }
   ],
   "source": [
    "# 33. Replace multiple spaces in a string with a single space.\n",
    "# \\To replace multiple spaces with one space using Python, the easiest way\n",
    "#  is to use the Python sub() function from the re module.\n",
    "import re\n",
    "st=\"jkj  jkdfjkjd     jfjk8ije       jki kji\"\n",
    "st_single_space=re.sub('\\s+',\" \",st)\n",
    "print(st_single_space)"
   ]
  },
  {
   "cell_type": "code",
   "execution_count": null,
   "metadata": {},
   "outputs": [
    {
     "name": "stdout",
     "output_type": "stream",
     "text": [
      "ravieja ajsdi jijk j ajid\n"
     ]
    }
   ],
   "source": [
    "# method2 Another method to replace multiple spaces \n",
    "# with one space is combining the use of split() and join.\n",
    "st_mul=\"ravieja  ajsdi   jijk j     ajid\"\n",
    "st_single_space= \" \".join(st_mul.split())\n",
    "print(st_single_space)"
   ]
  },
  {
   "cell_type": "code",
   "execution_count": null,
   "metadata": {},
   "outputs": [
    {
     "name": "stdout",
     "output_type": "stream",
     "text": [
      "['http://example.org/index.php']\n"
     ]
    }
   ],
   "source": [
    "# 34. Check if a string is a valid URL.\n",
    "import re\n",
    "\n",
    "pattern = r'http[s]?://(?:[a-zA-Z]|[0-9]|[$-_@.&+]|[!*\\(\\),]|(?:%[0-9a-fA-F][0-9a-fA-F]))+'\n",
    "text = 'Some text with a URL: https:/.example.com/page.html and another URL: http://example.org/index.php'\n",
    "\n",
    "urls = re.findall(pattern, text)\n",
    "\n",
    "print(\"valid url are\",urls)\n"
   ]
  },
  {
   "cell_type": "code",
   "execution_count": null,
   "metadata": {},
   "outputs": [
    {
     "name": "stdout",
     "output_type": "stream",
     "text": [
      "url is in format httpss\n"
     ]
    }
   ],
   "source": [
    "# 35. Extract the protocol (http or https) from a URL string.\n",
    "from urllib.parse import urlparse\n",
    "\n",
    "url = \"httpss://google.com\"\n",
    "parsed_url = urlparse(url)\n",
    "protocol=parsed_url.scheme\n",
    "print(f'url is in format {protocol}')"
   ]
  },
  {
   "cell_type": "code",
   "execution_count": null,
   "metadata": {},
   "outputs": [
    {
     "name": "stdout",
     "output_type": "stream",
     "text": [
      "Count of all characters in GeeksforGeeks is :\n",
      "  {'G': 2, 'e': 5, 'k': 2, 's': 2, 'f': 1, 'r': 2, 'a': 2, 'v': 1, 'i': 1, 't': 1, 'j': 1, 'o': 1}\n"
     ]
    }
   ],
   "source": [
    "# 36. Find the frequency of each character in a string.\n",
    "# initializing string\n",
    "test_str = \"ravitejaorGeeks\"\n",
    " \n",
    "# using naive method to get count\n",
    "# of each element in string\n",
    "all_freq = {}\n",
    " \n",
    "for i in test_str:\n",
    "    if i in all_freq:\n",
    "        all_freq[i] += 1\n",
    "    else:\n",
    "        all_freq[i] = 1\n",
    " \n",
    "# printing result\n",
    "print(\"Count of all characters in GeeksforGeeks is :\\n \"\n",
    "      ,all_freq)"
   ]
  },
  {
   "cell_type": "code",
   "execution_count": null,
   "metadata": {},
   "outputs": [
    {
     "name": "stdout",
     "output_type": "stream",
     "text": [
      "Count of all characters in GeeksforGeeks is :\n",
      "  Counter({'e': 4, 'G': 2, 'k': 2, 's': 2, 'f': 1, 'o': 1, 'r': 1})\n"
     ]
    }
   ],
   "source": [
    "# method2\n",
    "# each occurrence frequency using\n",
    "# collections.Counter()\n",
    "from collections import Counter\n",
    " \n",
    "# initializing string\n",
    "test_str = \"GeeksforGeeks\"\n",
    " \n",
    "# using collections.Counter() to get\n",
    "# count of each element in string\n",
    "res = Counter(test_str)\n",
    " \n",
    "# printing result\n",
    "print(\"Count of all characters in GeeksforGeeks is :\\n \"\n",
    "      ,(res))"
   ]
  },
  {
   "cell_type": "code",
   "execution_count": null,
   "metadata": {},
   "outputs": [],
   "source": [
    "import string\n",
    "\n",
    "def remove_punctuation(input_str):\n",
    "    # Create a translation table to remove punctuation\n",
    "    translator = str.maketrans(\"\", \"\", string.punctuation)\n",
    "\n",
    "    # Use the translation table to remove punctuation from the input string\n",
    "    clean_string = input_str.translate(translator)\n",
    "\n",
    "    return clean_string\n",
    "\n",
    "# Example string with punctuation\n",
    "input_str = \"Hello, world! How's it going?\"\n",
    "\n",
    "# Remove punctuation\n",
    "cleaned_str = remove_punctuation(input_str)\n",
    "\n",
    "# Print the cleaned string\n",
    "print(\"Original string:\", input_str)\n",
    "print(\"Cleaned string:\", cleaned_str)"
   ]
  },
  {
   "cell_type": "code",
   "execution_count": null,
   "metadata": {},
   "outputs": [
    {
     "data": {
      "text/plain": [
       "{'ravi': 4, 'tejas': 5, 'business': 8, 'king': 4, 'raavan': 6}"
      ]
     },
     "execution_count": 24,
     "metadata": {},
     "output_type": "execute_result"
    }
   ],
   "source": [
    "\n",
    "# 37. Convert a list to a dictionary where list elements become keys and their\n",
    "# indices become values.\n",
    "\n",
    "lis=['ravi','tejas','business','king','raavan']\n",
    "x=[]\n",
    "for i in lis:\n",
    "    x.append(len(i))\n",
    "dict(zip(lis,x))"
   ]
  },
  {
   "cell_type": "code",
   "execution_count": null,
   "metadata": {},
   "outputs": [
    {
     "name": "stdout",
     "output_type": "stream",
     "text": [
      "factorrial of  1 is 1\n",
      "factorrial of  2 is 2\n",
      "factorrial of  3 is 6\n",
      "factorrial of  4 is 24\n",
      "factorrial of  5 is 120\n",
      "factorrial of  6 is 720\n",
      "factorrial of  7 is 5040\n",
      "factorrial of  8 is 40320\n",
      "factorrial of  9 is 362880\n",
      "factorrial of  10 is 3628800\n"
     ]
    }
   ],
   "source": [
    "# 39. Create a list of the first 10 factorial numbers.\n",
    "\n",
    "lis=[1,2,3,4,5,6,7,8,9,10]\n",
    "for item in lis:\n",
    "    fact=1\n",
    "    for number in range(1,item+1):\n",
    "        fact=fact*number\n",
    "\n",
    "    print('factorrial of ',item,'is',fact)  1"
   ]
  },
  {
   "cell_type": "code",
   "execution_count": null,
   "metadata": {},
   "outputs": [
    {
     "name": "stdout",
     "output_type": "stream",
     "text": [
      "[1, 2, 3, 4, 5, 6, 7, 8, 9, 10]\n",
      "factorial of 1 is 1\n",
      "factorial of 2 is 2\n",
      "factorial of 3 is 6\n",
      "factorial of 4 is 24\n",
      "factorial of 5 is 120\n",
      "factorial of 6 is 720\n",
      "factorial of 7 is 5040\n",
      "factorial of 8 is 40320\n",
      "factorial of 9 is 362880\n",
      "factorial of 10 is 3628800\n"
     ]
    }
   ],
   "source": [
    "# method 2\n",
    "lis=[]\n",
    "for x in range(1,11):\n",
    "    lis.append(x)\n",
    "print(lis)\n",
    "for i in lis:\n",
    "    fact=1\n",
    "    for num in range(1,i+1):\n",
    "        fact=fact*num\n",
    "    print(f'factorial of {num} is {fact}')\n",
    "    "
   ]
  },
  {
   "cell_type": "code",
   "execution_count": null,
   "metadata": {},
   "outputs": [
    {
     "name": "stdout",
     "output_type": "stream",
     "text": [
      "common element list 3 and list 2 is 3\n",
      "no common elements\n"
     ]
    }
   ],
   "source": [
    "# 40. Check if two lists have at least one element in common.\n",
    "lis1=[3,4,5,6,7]\n",
    "lis2=[3,32,2,1,2,33]\n",
    "\n",
    "for i in lis1:\n",
    "    for j in lis2:\n",
    "        if i==j:\n",
    "            print(f'common element list {i} and list 2 is {j}')\n",
    "        else:\n",
    "            pass\n",
    "    \n"
   ]
  },
  {
   "cell_type": "code",
   "execution_count": null,
   "metadata": {},
   "outputs": [
    {
     "name": "stdout",
     "output_type": "stream",
     "text": [
      "common element\n"
     ]
    }
   ],
   "source": [
    "#method 2\n",
    "lis1=[3,4,5,6,7]\n",
    "lis2=[3,32,2,1,2,33]\n",
    "\n",
    "if (lis1 and lis2):\n",
    "    print('common element')\n",
    "else:\n",
    "    print('not any common element')"
   ]
  },
  {
   "cell_type": "code",
   "execution_count": null,
   "metadata": {},
   "outputs": [
    {
     "name": "stdout",
     "output_type": "stream",
     "text": [
      "None\n"
     ]
    }
   ],
   "source": [
    "# 41. Remove all elements from a list.41. \n",
    "lis=[3,32,23,88,'3']\n",
    "print(lis.clear())"
   ]
  },
  {
   "cell_type": "code",
   "execution_count": null,
   "metadata": {},
   "outputs": [
    {
     "name": "stdout",
     "output_type": "stream",
     "text": [
      "[]\n"
     ]
    }
   ],
   "source": [
    "# 41. Remove all elements from a list.\n",
    "lis=[3,32,23,88,'3']\n",
    "while lis:\n",
    "    lis.pop()\n",
    "print(lis)"
   ]
  },
  {
   "cell_type": "code",
   "execution_count": null,
   "metadata": {},
   "outputs": [
    {
     "name": "stdout",
     "output_type": "stream",
     "text": [
      "[3, 32, 23, 88, '3']\n"
     ]
    }
   ],
   "source": [
    "# 41. Remove all elements from a list.\n",
    "lis=[3,32,23,88,'3']\n",
    "del lis[:]\n",
    "print(lis)"
   ]
  },
  {
   "cell_type": "code",
   "execution_count": null,
   "metadata": {},
   "outputs": [
    {
     "name": "stdout",
     "output_type": "stream",
     "text": [
      "[0, 5, 43, 0, 40, 0, 3, 2, 0]\n"
     ]
    }
   ],
   "source": [
    "# 42. Replace negative numbers in a list with 0.\n",
    "lis=[-3,5,43,-44,40,0,3,2,-1]\n",
    "for i in range(len(lis)):\n",
    "    if lis[i]<0:\n",
    "        lis[i]=0\n",
    "    else:\n",
    "        pass\n",
    "print(lis)\n"
   ]
  },
  {
   "cell_type": "code",
   "execution_count": null,
   "metadata": {},
   "outputs": [
    {
     "name": "stdout",
     "output_type": "stream",
     "text": [
      "['I', 'am', 'Raviteja', 'Kulkarni']\n"
     ]
    }
   ],
   "source": [
    "# 43. Convert a string into a list of words.\n",
    "sent=\"I am Raviteja Kulkarni\"\n",
    "print(sent.split(' '))"
   ]
  },
  {
   "cell_type": "code",
   "execution_count": null,
   "metadata": {},
   "outputs": [
    {
     "name": "stdout",
     "output_type": "stream",
     "text": [
      "2 power0 is  1\n",
      "2 power1 is  2\n",
      "2 power2 is  4\n",
      "2 power3 is  8\n"
     ]
    }
   ],
   "source": [
    "# 45. Create a list of the first `n` powers of 2.\n",
    "x=int(input('enter how many power of 2 you want to calculate'))\n",
    "for i in range(x):\n",
    "    print(f'2 power {i} is ',2**i)\n"
   ]
  },
  {
   "cell_type": "code",
   "execution_count": null,
   "metadata": {},
   "outputs": [
    {
     "name": "stdout",
     "output_type": "stream",
     "text": [
      "kulkanri\n"
     ]
    }
   ],
   "source": [
    "\n",
    "name = \"I am king slrk ravi kulkanri\"\n",
    "y=[]\n",
    "x=name.split()\n",
    "for j in x:\n",
    "    y.append(j)\n",
    "\n",
    "large=-1\n",
    "for item in y:\n",
    "    if len(item)>large:\n",
    "        large=len(item)\n",
    "        result=item\n",
    "\n",
    "print(result)"
   ]
  },
  {
   "cell_type": "code",
   "execution_count": null,
   "metadata": {},
   "outputs": [
    {
     "name": "stdout",
     "output_type": "stream",
     "text": [
      "['Ed', 'Jo']\n"
     ]
    }
   ],
   "source": [
    "# # 47. Find the shortest string in a list of strings.\n",
    "# names = \"I am king slrk ravi kulkanri\"\n",
    "# y=[]\n",
    "# x=names.split()\n",
    "# for j in x:\n",
    "#     y.append(j)\n",
    "names=[\"Hans\", \"Anna\", \"Vladimir\", \"Michael\", \"Ed\", \"Susan\", \"Janice\", \"Jo\"]\n",
    "smallest_len = len(min(names, key=len))\n",
    "smallest = [name for name in names if len(name) == smallest_len]\n",
    "print(smallest)"
   ]
  },
  {
   "cell_type": "code",
   "execution_count": null,
   "metadata": {},
   "outputs": [
    {
     "name": "stdout",
     "output_type": "stream",
     "text": [
      "[1, 3, 6, 10, 15]\n"
     ]
    }
   ],
   "source": [
    "# 48. Create a list of the first `n` triangular numbers.\n",
    "# triangular no formula n*(n+1)/2\n",
    "\n",
    "def triangu(n):\n",
    "    \n",
    "    #initilize empty list\n",
    "    lis=[]\n",
    "    for i in range(1,n+1):\n",
    "        formula=i*(i+1)//2\n",
    "\n",
    "        lis.append(formula)\n",
    "\n",
    "    return lis\n",
    "\n",
    "print(triangu(5))"
   ]
  },
  {
   "cell_type": "code",
   "execution_count": null,
   "metadata": {},
   "outputs": [
    {
     "name": "stdout",
     "output_type": "stream",
     "text": [
      "no subset \n"
     ]
    }
   ],
   "source": [
    "# 49. Check if a list contains another list as a subsequence.\n",
    "lis1=[1,2,3,4,5,6]\n",
    "lis2=[2,3,4]\n",
    "subset=[]\n",
    "for i in lis1:\n",
    "    for j in lis2:\n",
    "        if i==j:\n",
    "            subset.append(j)\n",
    "        else:\n",
    "            pass\n",
    "\n",
    "if lis2==subset:\n",
    "    print(f'{lis2} is subset of {lis1}')\n",
    "else:\n",
    "    print('no subsequence ')\n",
    "\n",
    "\n"
   ]
  },
  {
   "cell_type": "code",
   "execution_count": null,
   "metadata": {},
   "outputs": [
    {
     "name": "stdout",
     "output_type": "stream",
     "text": [
      "dkdd\n"
     ]
    }
   ],
   "source": [
    "l=[1,2,3]\n",
    "k=[1,2,3,4]\n",
    "if l==k:\n",
    "    print('kd')\n",
    "else:\n",
    "    print('dkdd')"
   ]
  },
  {
   "cell_type": "code",
   "execution_count": null,
   "metadata": {},
   "outputs": [
    {
     "name": "stdout",
     "output_type": "stream",
     "text": [
      "[1, 222, 111, 33, 111, 555]\n"
     ]
    }
   ],
   "source": [
    "# 50. Swap two elements in a list by their indices.\n",
    "def swap_element(list,pos_a,pos_b):\n",
    "    list[pos_a],list[pos_b]=list[pos_b],list[pos_a]\n",
    "    return list\n",
    "List=[1,33,777,222,111,555]\n",
    "pos_a,pos_b=2,4\n",
    "print(swap_element(list,pos_a,pos_b))\n"
   ]
  },
  {
   "cell_type": "code",
   "execution_count": null,
   "metadata": {},
   "outputs": [
    {
     "name": "stdout",
     "output_type": "stream",
     "text": [
      "Hello, World!\n"
     ]
    }
   ],
   "source": [
    "text = \"   Hello, World!   \"\n",
    "\n",
    "trimmed_text = text.strip(\n",
    "    \n",
    ")\n",
    "\n",
    "print(trimmed_text)\n"
   ]
  },
  {
   "cell_type": "code",
   "execution_count": null,
   "metadata": {},
   "outputs": [],
   "source": [
    "# 37. Remove all punctuation from a string.\n",
    "\n",
    "import string\n",
    "\n",
    "def removed(input_string):\n",
    "    remove = str.maketrans(\"\", \"\", string.punctuation)\n",
    "\n",
    "    clean_string = input_string.translate(remove)\n",
    "\n",
    "    return clean_string\n",
    "\n",
    "input_str = \"Hello, Sir !How's it goindg?\"\n",
    "\n",
    "cleaned_str = removed(input_str)\n",
    "\n",
    "print(\"Given string:\", input_str)\n",
    "print(\"After cleaning:\", cleaned_str)\n",
    "### 38. Check if a string contains only digits\n",
    "\n",
    "def check(string):\n",
    "    if string.isdigit() is True:\n",
    "        print(string,'contains digits')\n",
    "    else:\n",
    "        print(string,'does not contains digit')\n",
    "check('hoel23434')\n",
    "check('helo')\n",
    "# 39. Check if a string contains only alphabets.\n",
    "def check(string):\n",
    "    if string.isalpha() is True:\n",
    "        print(string,'contains alphabets')\n",
    "    else:\n",
    "        print(string,'does not contain alphabets')\n",
    "check('ehlo234')\n",
    "check('3434')\n",
    "# 40. Convert a string to a list of characters.\n",
    "def list_of(string):\n",
    "    print(list(string))\n",
    "list_of('how are you?')\n",
    "# 41. Check if two strings are anagrams.\n",
    "# anagrams means that the word must contain all the elemets of the compared string\n",
    "\n",
    "import string\n",
    "def check(word1,word2):\n",
    "    #let us remove all punctuation\n",
    "    remove1 = str.maketrans(\"\", \"\", string.punctuation)\n",
    "    remove2 = str.maketrans(\"\", \"\", string.punctuation)\n",
    "\n",
    "    string1 = word1.translate(remove1)\n",
    "    string2 = word2.translate(remove2)\n",
    "    #lets convert everyting to lower to avoid error\n",
    "    string1 = string1.replace(\" \", \"\").lower()\n",
    "    string2 = string2.replace(\" \", \"\").lower()\n",
    "    #sort and compare\n",
    "    \n",
    "    if sorted(string1) == sorted(string2):\n",
    "        print(string1,'and ',string2,'are in anagrams')\n",
    "    else:\n",
    "        print(string1,'and ',string2,'are not in anagrams')\n",
    "\n",
    "\n",
    "\n",
    "\n",
    "check(' how ', 'who')\n",
    "check('what','when')\n",
    "check('when','henw')\n",
    "    \n",
    "# 42. Encode a string using a Caesar cipher.\n",
    "# caesar cipher is the basic level of cryptography\n",
    "\n",
    "def encrypt(string, num):\n",
    "    #var to store value\n",
    "    result = \"\"\n",
    "\n",
    "    # transverse the string\n",
    "\n",
    "    for i in range(len(string)):\n",
    "        char = string[i]\n",
    "\n",
    "        # lets encrypt uppercase letter\n",
    "\n",
    "        if(char.isupper()):\n",
    "            result+=chr((ord(char)+ num - 65) % 26+ 65)\n",
    "        #lers encrypt lower case letter\n",
    "        else:\n",
    "            result+=chr((ord(char)+num - 97) %26 + 97)\n",
    "        \n",
    "    return result\n",
    "\n",
    "#check the above function\n",
    "encrypt('hello',1)\n",
    "# 44. Find the most frequent word in a string.\n",
    "import re\n",
    "from collections import Counter\n",
    "st=\"I am Raviteja,is  is is is me is Raviteja, he is called Raviteja\"\n",
    "#conver to small\n",
    "small=st.lower()\n",
    "#split words in list\n",
    "lis=small.split()\n",
    "print(lis)\n",
    "count=0\n",
    "for i in lis:\n",
    "    count=Counter(lis)\n",
    "    frequent=count.most_common(1)[0][0]\n",
    "    \n",
    "print('most frequent word is=',frequent)\n",
    "\n",
    "\n",
    "\n",
    "\n",
    "### 45. Find all unique words in a string.\n",
    "#define fuxn\n",
    "\n",
    "def unique(text):\n",
    "    #lower & split the arg\n",
    "    words=text.lower().split()\n",
    "\n",
    "    #create empty dict\n",
    "    unik={}\n",
    "    for i in words:\n",
    "        # use i counter in words\n",
    "        # if i is not in unik update\n",
    "        if not i in unik:\n",
    "            unik[i]=0\n",
    "            print(i,end=' ')\n",
    "\n",
    "unique('hw hw he is good')\n",
    "### 46. Count the number of syllables in a string.\n",
    "import re\n",
    "\n",
    "def syllable(word):\n",
    "    #use vowels to discrminate syllables using regular expression\n",
    "    vowel=re.findall('[aeiou]+',word,re.IGNORECASE)\n",
    "    print(f'syllabe in {word} are :',len(vowel))\n",
    "\n",
    "\n",
    "syllable(' \"rocky raviteja\" ')\n",
    "syllable(' \"kulkarni\" ')\n",
    "\n",
    "\n",
    "\n",
    "### 47. Check if a string contains any special characters.\n",
    "\n",
    "import re\n",
    "\n",
    "def check(word):\n",
    "    #initilize some special characters using regular expression\n",
    "    case=re.compile(r'[!@#$%^&_-]')\n",
    "    #verify that the given input word is present in above case\n",
    "    verify=case.search(word)\n",
    "    #if the word contains special character then print ok\n",
    "    if bool(verify)is True:\n",
    "        print(word,'contains special character')\n",
    "    else:\n",
    "        print(word,'does not contains special character')        \n",
    "\n",
    "   \n",
    "\n",
    "check('Rvitej')\n",
    "check('k@lakarni')\n",
    "### 48. Remove the nth word from a string.\n",
    "\n",
    "def remove(word,num):\n",
    "    #split the sentence make list\n",
    "    lis=word.split()\n",
    "    #we are using here pop method to remove list index word\n",
    "    print(\"before removal of word\",lis)\n",
    "    removed_word=lis.pop(num-1)\n",
    "    # which word is removed\n",
    "    print('removed word from the list = ',removed_word)\n",
    "    print('After removal of word',lis)\n",
    "\n",
    "remove('this is the demo sentence',3)\n",
    "### 49. Insert a word at the nth position in a string.\n",
    "#define function\n",
    "def update(position,sentence,word):\n",
    "    #split sentence into list\n",
    "    lis=sentence.split()\n",
    "    #provide index and word to be added\n",
    "    lis.insert(position,word)\n",
    "    print(lis)\n",
    "\n",
    "update(2,'hi why are you here?','raviteja ')\n",
    "\n",
    "\n",
    "### 50. Convert a CSV string to a list of lists.\n",
    "\n",
    "def csv_string_to_list(csv_string):\n",
    "\n",
    "    #split csv strings into lists\n",
    "\n",
    "    lines=csv_string.split('\\n')\n",
    "\n",
    "    #initilize output- empty list\n",
    "    output =[]\n",
    "\n",
    "    for line in lines:\n",
    "        #split line into fields\n",
    "        fields=line.split(',')\n",
    "        #add the fields to output list\n",
    "        output.append(fields)\n",
    "\n",
    "    return output\n",
    "#given csv stirng\n",
    "csv_data=\"Name,age,money \\n raviteja,22,500000\\n slrk, 25, 19cr \\n rocky,28,3billion\"\n",
    "# convert_ csv stirng to list of list\n",
    "list_of_list=csv_string_to_list(csv_data)\n",
    "\n",
    "for row in list_of_list:\n",
    "    print(row)\n",
    "\n",
    "    ''\n",
    "LIST BASED PROBLEMS\n",
    "### 1. Create a list with integers from 1 to 10.\n",
    "list=[]\n",
    "#use for loop to generate intergers from 1 to 10\n",
    "for i in range(1,11):\n",
    "    list.append(i)\n",
    "#print list\n",
    "print(list)\n",
    "### 2. Find the length of a list without using the `len()` function.\n",
    "\n",
    "def length(list):\n",
    "    count=0\n",
    "    for i in list:\n",
    "        count+=1\n",
    "    print(count,'elements are present in list',lis)\n",
    "\n",
    "lis=[19,34,32,3,3,12,12]\n",
    "length(lis)\n",
    "### 3. Append an element to the end of a list.\n",
    "\n",
    "list=['R','A','V','I','T','E','J']\n",
    "#add element\n",
    "add_element = \"A\"\n",
    "#now append new element to list\n",
    "list.append(add_element)\n",
    "print(f'After addign \"{add_element}\" list become =', list)\n",
    "### 4. Insert an element at a specific index in a list.\n",
    "#enter the string\n",
    "str='Once upon time'\n",
    "#split up the string\n",
    "list=str.split()\n",
    "#enter the inserting string\n",
    "insert_element='mumbai'\n",
    "#use insert fuxn and mention the position and the inserting element\n",
    "list.insert(2,insert_element)\n",
    "print(f'after inserting',list)\n",
    "### 5. Remove an element from a list by its value.\n",
    "\n",
    "def removing(list,element):\n",
    "    list.remove(element)\n",
    "    print(list)\n",
    "\n",
    "list=[10,20,30,40]\n",
    "removing(list,20)\n",
    "\n",
    "\n",
    "### 6. Remove an element from a list by its index.\n",
    "\n",
    "#create list\n",
    "list=[10,33,44,66,77]\n",
    "#select index of the element\n",
    "index=3\n",
    "#using remove() fuxn remove it\n",
    "list.remove(list[index])\n",
    "print(list)\n",
    "### 7. Check if an element exists in a list.\n",
    "\n",
    "#define fuxn\n",
    "def check(list,element):\n",
    "    #use if else conditions check element is there in list or not\n",
    "    if element in list:\n",
    "        print(f'{element} is present in list')\n",
    "    else:\n",
    "        print('not present')\n",
    "\n",
    "#create list\n",
    "list=[12,23,34,4,56]\n",
    "#enter the element which wnat to be cheacked\n",
    "element=4\n",
    "check(list,element)\n",
    "### 8. Find the index of the first occurrence of an element in a list.\n",
    "\n",
    "list=[12,23,3,44,54,56]\n",
    "find_element=23\n",
    "#use index fuxn to find the elements position\n",
    "ind=list.index(find_element)\n",
    "print(f'{find_element} is found at = {ind+1} position')\n",
    "### 9. Count the occurrences of an element in a list.\n",
    "\n",
    "#create list\n",
    "\n",
    "list=[12,23,45,45,45,34,45,65,76,88]\n",
    "\n",
    "# select the elemented to be counted\n",
    "count_element=45\n",
    "# use .count function to count occurance\n",
    "occurrence=list.count(count_element)\n",
    "#print\n",
    "print(f'{count_element} occurrenced {occurrence} time in list')\n",
    "### 10. Reverse the order of elements in a list.\n",
    "\n",
    "#create list\n",
    "lists=[2,334,54,6,56,57,76]\n",
    "# to reverse we can use - reverse the index counting\n",
    "\n",
    "print(lists[::-1])\n",
    "\n",
    "\n",
    "#method 2\n",
    "list=[12,34,34,545,5,46]\n",
    "# here let us use .reverse() function for reversing the order\n",
    "list.reverse()\n",
    "print(list)\n",
    "### 11. Sort a list in ascending order.\n",
    "\n",
    "#create list\n",
    "lis=[111,12,334,5,65,4,3434,2,3]\n",
    "\n",
    "#use .sort() function to sort the element\n",
    "\n",
    "lis.sort()\n",
    "\n",
    "print(f'before sorting list = {lis} \\n after sorting in ascending order {lis}')\n",
    "\n",
    "### 12. Sort a list in descending order.\n",
    "\n",
    "def descen(list):\n",
    "    # we are sorting list here in ascending order and then reversing it\n",
    "    list.reverse()\n",
    "\n",
    "    return (f'after sorting in descending order {list}')\n",
    "\n",
    "#create list\n",
    "list=[34,45,3,23,45,566,656]\n",
    "descen(list)\n",
    "### 13. Create a list of even numbers from 1 to 20.\n",
    "\n",
    "# let us use for loop and use even number logic to get even numbers\n",
    "even_list=[]\n",
    "for i in range(1,21):\n",
    "    #if remainder of element divided by 2 is 0, then it's even\n",
    "    if i%2==0:\n",
    "        even_list.append(i)\n",
    "    else:\n",
    "        pass\n",
    "        \n",
    "print(even_list)\n",
    "\n",
    "### 14. Create a list of odd numbers from 1 to 20.\n",
    "\n",
    "\n",
    "\n",
    "# let us use for loop and use odd number logic to get odd numbers\n",
    "odd_number=[]\n",
    "for i in range(1,20):\n",
    "    #if remainder of element divided by 2 is 1 it is odd\n",
    "    if i%2==1:\n",
    "        odd_number.append(i)\n",
    "    else:\n",
    "        pass\n",
    "\n",
    "print(odd_number)\n",
    "\n",
    "### 15. Find the sum of all elements in a list.\n",
    "\n",
    "list=[23,232,434,21]\n",
    "#use sum function to get sum of all elements present in list\n",
    "print(sum(list))\n",
    "# method 2\n",
    "\n",
    "#create list\n",
    "\n",
    "list=[1,2,3,5,1]\n",
    "total=0\n",
    "# use for method and add continously next elements of list\n",
    "for i in list:\n",
    "    total=total+i\n",
    "#print sum\n",
    "print(total)\n",
    "    \n",
    "### 16. Find the maximum value in a list.\n",
    "\n",
    "list=[123,4,42,2112,324,3233]\n",
    "#use max funxn to identify largest no. in list\n",
    "\n",
    "large=max(list)\n",
    "print(large)\n",
    "### 18. Create a list of squares of numbers from 1 to 10.\n",
    "\n",
    "# we use for loop for iteration and then square\n",
    "\n",
    "for i in range(1,11):\n",
    "    # square the value x by **2\n",
    "    print(f'{i} square is {i**2}')\n",
    "### 19. Create a list of random numbers.\n",
    "\n",
    "import random\n",
    "#use randint to range the random intergers and use for loop with range to iterate random integers\n",
    "rando_number = [random.randint(1,199) for i in range(14)]\n",
    "#print random number\n",
    "print(rando_number)\n",
    "\n",
    "\n",
    "### 20. Remove duplicates from a list.\n",
    "\n",
    "list=[1,23,34,45,23,48]\n",
    "unique_elements=[]\n",
    "for i in list:\n",
    "    #update only unique elements\n",
    "    if not i in unique_elements:\n",
    "        unique_elements.append(i)\n",
    "    else:\n",
    "        pass\n",
    "print(unique_elements)\n",
    "# 21. Find the common elements between two lists.\n",
    "\n",
    "import re\n",
    "\n",
    "#create 2 lists\n",
    "list1=[1,2,3,4,5]\n",
    "list2=[9,8,7,2,1]\n",
    "\n",
    "common=[]\n",
    "# make set of lists\n",
    "a_set=set(list1)\n",
    "b_set=set(list2)\n",
    "# using and condition check common in list1 and list2\n",
    "if (a_set & b_set):\n",
    "    # if common found then appent that number to common list\n",
    "    common.append(a_set & b_set)\n",
    "    print(f'common elements in both list are',common)\n",
    "   \n",
    "\n",
    "else:\n",
    "    print('no common elements')\n",
    "\n",
    "\n",
    "\n",
    "### 22. Find the difference between two lists.\n",
    "\n",
    "#create 2 lists\n",
    "\n",
    "list1=[1,2,3,4,5]\n",
    "list2=[7,3,2,1,9]\n",
    "#using difference() find different values in lists\n",
    "difference=list(set(list1).difference(list2))\n",
    "print(f'differnet elements in lists are =', difference)\n",
    "### 23. Merge two lists.\n",
    "\n",
    "#create list 1 and 2\n",
    "list1=[12,43,45,56]\n",
    "list2=[1,2,3,4,5]\n",
    "#now use concatination \"+\" and merge them\n",
    "print(list1+list2)\n",
    "### 24. Multiply all elements in a list by 2.\n",
    "\n",
    "list=[1,2,34,4,5,6]\n",
    "\n",
    "#use for loop to get each element\n",
    "mul_list=[i * 2 for i in list]\n",
    "# print output\n",
    "print(mul_list)\n",
    "### 25. Filter out all even numbers from a list.\n",
    "#create list\n",
    "list=[1,2,3,4,5,6,7,8]\n",
    "# use for loop to read each element\n",
    "for i in list:\n",
    "    # if the number is even no. remove() from list\n",
    "    if i%2==0:\n",
    "        list.remove(i)\n",
    "    else:\n",
    "        pass\n",
    "\n",
    "print(list)\n",
    "\n",
    "\n",
    "\n",
    "\n",
    "### 26. Convert a list of strings to a list of integers.\n",
    "\n",
    "str_list=['1','2','3','4','5']\n",
    "int_list=[]\n",
    "# use for loop to get each elements\n",
    "for i in str_list:\n",
    "    to_int=int(i)\n",
    "    int_list.append(to_int)\n",
    "print(int_list)\n",
    "\n",
    "### 29. Create a list of the first 10 Fibonacci numbers.\n",
    "\n",
    "# defince funxn called fibo and take argument of number as num\n",
    "def fibo(num):\n",
    "    # create empty list\n",
    "    fibonacci_num=[]\n",
    "    # fibonacci number is only valid for positive integers\n",
    "    if num<0:\n",
    "        print('Input only positive integers')\n",
    "    # fibonacci of 0 is 0\n",
    "    elif num==0:\n",
    "        fibonacci_num.append(num)\n",
    "    # fibonacci of 1 is 1\n",
    "    elif num==1:\n",
    "        fibonacci_num.append(num)\n",
    "    # fibonacci on number>=2 is \n",
    "    else:\n",
    "    # in any fibonacci series above 2 includes [0,1]\n",
    "    # after 0,1 we are using iteration logic to get next numbers\n",
    "        first=0\n",
    "        fibonacci_num.append(first)\n",
    "        second=1\n",
    "        fibonacci_num.append(second)\n",
    "        # to get next value we must add first and second \n",
    "        next=first+second\n",
    "        # fibo above 2 numbers\n",
    "        for i in range(2,num):\n",
    "            # append next to empty list\n",
    "            fibonacci_num.append(next)\n",
    "            # first equals to second\n",
    "            first=second\n",
    "            # second equals to next\n",
    "            second=next\n",
    "            # add 1st and 2nd\n",
    "            next=first+second\n",
    "    # print output\n",
    "    print('This is fibonacci series',fibonacci_num)\n",
    "\n",
    "# provide num 10\n",
    "num=10\n",
    "fibo(num)\n",
    "\n",
    "### 30. Check if a list is sorted.\n",
    "\n",
    "# Function to check if a list is sorted in ascending order\n",
    "def is_sorted(list2):\n",
    "    #now sort the input list if it is equal to the ip list then it in sorted form\n",
    "    if sorted(list2)==list2:\n",
    "        print('list is sorted in ascending order')\n",
    "    else:\n",
    "        print('list is not sorted')\n",
    "list2=[10,20,30,40]\n",
    "is_sorted(list2)\n",
    "### 31. Rotate a list to the left by `n` positions.\n",
    "#create function taking list and position as argument\n",
    "def rotate_pos(list,position):\n",
    "# let us consider the position is within the lenth of list\n",
    "    if len(lis)>=position:\n",
    "        # shift the position towards left usign slicing\n",
    "        shift=list[position:]+list[:position]\n",
    "        #print list\n",
    "        print(shift)\n",
    "    else:\n",
    "        print('position is out of range')\n",
    "# create list\n",
    "list=[1,23,45,77,33,22]\n",
    "rotate_pos(list,2)\n",
    "### 32. Rotate a list to the right by `n` positions.\n",
    "\n",
    "### 31. Rotate a list to the left by `n` positions.\n",
    "#create function taking list and position as argument\n",
    "\n",
    "def rotate_pos(list1,position):\n",
    "# let us consider the position is within the lenth of list\n",
    "    if len(list1)>=position:\n",
    "        # shift the position towards left usign slicing\n",
    "        # ':' is used here ':position' prints before and 'position:' prints after\n",
    "        shift_right=list1[position:]+list1[:position]\n",
    "        #print list\n",
    "        print(shift_right)\n",
    "    else:\n",
    "        print('position is out of range')\n",
    "# create list\n",
    "list1=[1,45,232,2,4,3,45,77,33,22]\n",
    "rotate_pos(list,5)\n",
    "### 33. Create a list of prime numbers up to 50.\n",
    "\n",
    "# create empty list\n",
    "prime_list=[]\n",
    "# use loop with range\n",
    "for i in range(1,51):\n",
    "    # chech ith i if it is 0 or 1\n",
    "    if i==0 or i==1:\n",
    "        continue\n",
    "    else:\n",
    "        # run other inside loop with counter j and use logic\n",
    "        for j in range(2,int(i/2)+1):\n",
    "            if i%j==0: \n",
    "                break\n",
    "        # here append i to the created list\n",
    "        \n",
    "        else:\n",
    "            prime_list.append(i)\n",
    "# print list\n",
    "print(prime_list)\n",
    "    \n",
    "#34 Create a list of prime numbers up to 50 using Sieve of Eratosthenes algorithm\n",
    "\n",
    "def sieve_of_eratosthenes(limit):\n",
    "    primes = []\n",
    "    is_prime = [True] * (limit + 1)\n",
    "    is_prime[0] = is_prime[1] = False\n",
    "\n",
    "    for num in range(2, int(limit ** 0.5) + 1):\n",
    "        if is_prime[num]:\n",
    "            primes.append(num)\n",
    "            for multiple in range(num * num, limit + 1, num):\n",
    "                is_prime[multiple] = False\n",
    "\n",
    "    for num in range(int(limit ** 0.5) + 1, limit + 1):\n",
    "        if is_prime[num]:\n",
    "            primes.append(num)\n",
    "\n",
    "    return primes\n",
    "\n",
    "# Create a list of prime numbers up to 50\n",
    "prime_numbers = sieve_of_eratosthenes(50)\n",
    "\n",
    "# Print the list of prime numbers\n",
    "print(\"List of prime numbers up to 50:\", prime_numbers)\n",
    "### 35. Find the second largest number in a list.\n",
    "\n",
    "#create list\n",
    "list3=[12,334,3542,1,243]\n",
    "# sort the list in ascendig order\n",
    "sorted_list=sorted(list3)\n",
    "print('second largest no in the list is',sorted_list[-2])\n",
    "### 36. Replace every element in a list with its square.\n",
    "\n",
    "#create list\n",
    "list=[2,34,3,4,5,6,7]\n",
    "#create squared list\n",
    "squared_list=[s**2 for s in list ]\n",
    "#print squated list\n",
    "print(squared_list)\n",
    "### 37. Convert a list to a dictionary where list elements become keys and their indices become values.\n",
    "\n",
    "#create list\n",
    "list4=['raviteja','slrk','kulkarni','king']\n",
    "#create emplty dict\n",
    "dict={}\n",
    "# use for loop enumerate the list with names\n",
    "for i, name in enumerate(list4):\n",
    "    dict[i+1]=name\n",
    "\n",
    "print(dict)\n",
    "### 38. Shuffle the elements of a list randomly.\n",
    "\n",
    "#import random \n",
    "import random\n",
    "# create list\n",
    "elements=[23,4234,345,22,23,23,1,1,45,45]\n",
    "print('before shuffing',elements)\n",
    "# use builtin fuxn of random.shuffle to shuffle\n",
    "shuff=random.shuffle(elements)\n",
    "# print\n",
    "print(\"after shuffling\",elements)\n",
    "### 39. Create a list of the first 10 factorial numbers.\n",
    "\n",
    "def fact(n):\n",
    "\n",
    "    fact_list=[]\n",
    "\n",
    "    if n==0 or n==1:\n",
    "        fact_list.append(1)\n",
    "\n",
    "    else:\n",
    "        for i in range(2,n+1):\n",
    "            factorial=i*fact(i-1)\n",
    "            fact_list.append(factorial)\n",
    "n=10\n",
    "fact(n)\n",
    "print(fact_list)\n",
    "        \n",
    "### 40. Create a set from user input.\n",
    "\n",
    "#create empty set\n",
    "user_set=set()\n",
    "\n",
    "# take user input\n",
    "\n",
    "print('Enter the elements of the set (TYPE - F to finish)')\n",
    "\n",
    "# use loop\n",
    "while True:\n",
    "\n",
    "    user_input=input('Enter input')\n",
    "\n",
    "    if user_input=='F'or 'f':\n",
    "        break\n",
    "\n",
    "    user_set.add(user_input)\n",
    "\n",
    "# print \n",
    "print('Set :',user_set)\n",
    "\n",
    "\n",
    "\n",
    "### 41. Check if the intersection of two sets is empty.\n",
    "\n",
    "#create 2 sets a and b\n",
    "set_A={34,5,4,234,56}\n",
    "set_B={74,6,56,5,32,22}\n",
    "\n",
    "# check the intersection\n",
    "\n",
    "check_intersection=set_A.intersection(set_B)\n",
    "\n",
    "if not check_intersection:\n",
    "    print('set a and b does not intersect and is EMPTY')\n",
    "else:\n",
    "    print('sets are not empty')\n",
    "#42 Create a set to store the first 5 Fibonacci numbers\n",
    "fibonacci_set = set()\n",
    "\n",
    "# create fibonacci numbers \n",
    "a, b = 0, 1\n",
    "\n",
    "# Loop to generate the first 5 Fibonacci numbers\n",
    "for _ in range(6):\n",
    "    # Add the current Fibonacci number to the set\n",
    "    fibonacci_set.add(a)\n",
    "\n",
    "    # Calculate the next Fibonacci number\n",
    "    a, b = b, a + b\n",
    "\n",
    "# Print the set of Fibonacci numbers\n",
    "print(\"Set of the first 5 Fibonacci numbers:\", fibonacci_set)\n",
    "### 43. Remove duplicates from a list using sets.\n",
    "\n",
    "# list with duplicates\n",
    "user_list = [2, 4, 6, 8, 4, 10, 6, 12, 14, 8]\n",
    "\n",
    "#Convert the list to a set\n",
    "unique_set = set(user_list)\n",
    "# Now, 'unique_set' contains only unique elements from 'original_list'\n",
    "\n",
    "#Convert the set back to a list\n",
    "unique_list = list(unique_set)\n",
    "# Now, 'unique_list' is a list containing only unique elements\n",
    "\n",
    "#Print both lists \n",
    "print(\"Original List:\", original_list)\n",
    "print(\"List with Duplicates Removed:\", unique_list)\n",
    "### 44. Check if two sets have the same elements, regardless of their count.\n",
    "\n",
    "def same_elements(set1, set2):\n",
    "    # Convert the sets to lists and sort them\n",
    "    sorted_list1 = sorted(list(set1))\n",
    "    sorted_list2 = sorted(list(set2))\n",
    "\n",
    "    # Compare the sorted lists to check if they are equal\n",
    "    return sorted_list1 == sorted_list2\n",
    "\n",
    "# Example sets\n",
    "set1 = {1, 2, 3, 2, 1}\n",
    "set2 = {3, 1, 2} \n",
    "\n",
    "# Check if the sets have the same elements\n",
    "result = same_elements(set1, set2)\n",
    "\n",
    "# Print the result\n",
    "if result:\n",
    "    print(\"The sets have the same elements.\")\n",
    "else:\n",
    "    print(\"The sets do not have the same elements.\")\n",
    "### 45. Create a set of the first `n` powers of 2\n",
    "\n",
    "def powers(num):\n",
    "\n",
    "    power_of_2=set()\n",
    "\n",
    "    for i in range(1,n):\n",
    "\n",
    "        pow=2**i\n",
    "        power_of_2.add(pow)\n",
    "\n",
    "    return power_of_2\n",
    "\n",
    "inp=powers(5)\n",
    "print(inp)\n",
    "### 46. Find the common elements between a set and a list.\n",
    "\n",
    "# create 2 sets\n",
    "set1 = {3, 7, 9, 12, 15}\n",
    "list2 = [7, 12, 5, 9]\n",
    "\n",
    "# Convert the list to a set for efficient comparison\n",
    "list_to_set = set(list2)\n",
    "\n",
    "# create an empty list to store common elements\n",
    "common_elements = []\n",
    "\n",
    "# use for loop for counter\n",
    "for element in set1:\n",
    "    #Check if the element is present in the converted set (list_to_set)\n",
    "    if element in list2:\n",
    "        # If the element is present in both the set and the list, add it to the common_elements list\n",
    "        common_elements.append(element)\n",
    "\n",
    "# Print the common elements\n",
    "print(\"Common elements:\", common_elements)\n",
    "### 47. Create a set of the first `n` triangular numbers.:\n",
    "\n",
    "def triangular_numbers(n):\n",
    "    triangular_set= set()  # Create an empty set to store the triangular numbers\n",
    "    for i in range(1, n + 1):\n",
    "        triangular_number = i * (i + 1) // 2  # Calculate the ith triangular number using the formula\n",
    "        triangular_set.add(triangular_number)  # Add the calculated triangular number to the set\n",
    "    return triangular_set\n",
    "\n",
    "# Input the value of 'n'\n",
    "n = int(input(\"Enter the value of n: \"))\n",
    "\n",
    "# Call the function to generate the set of first 'n' triangular numbers\n",
    "triangular_set = triangular_numbers(n)\n",
    "\n",
    "# Display the set of triangular numbers\n",
    "print(f\"The set of the first {n} triangular numbers is:\", triangular_set)\n",
    "### 48. Check if a set contains another set as a subset.\n",
    "\n",
    "# create two sets\n",
    "set1 = {1, 2, 3, 4, 5}\n",
    "set2 = {3, 4}\n",
    "\n",
    "# Check if set2 is a subset of set1\n",
    "is_subset = set2.issubset(set1)\n",
    "\n",
    "# Print the result\n",
    "if is_subset:\n",
    "    print(\"set2 is a subset of set1\")\n",
    "else:\n",
    "    print(\"set2 is not a subset of set1\")\n",
    "### 49. Create a set of alternating 1s and 0s of length `n`.\n",
    "\n",
    "def alternating_set(num):\n",
    "    # create empty set to store variable\n",
    "    alternating_set = set()\n",
    "\n",
    "    # Loop to generate alternating 1s and 0s.\n",
    "    for i in range(num):\n",
    "        # Alternate between adding 1 and 0 to the set based on whether i is even or odd.\n",
    "        if i % 2 == 0:\n",
    "            alternating_set.add(1)  # Add 1 if i is even.\n",
    "        else:\n",
    "            alternating_set.add(0)  # Add 0 if i is odd.\n",
    "\n",
    "    return alternating_set\n",
    "\n",
    "# Define the desired length of the alternating set.\n",
    "length_n = 10\n",
    "\n",
    "# Call the function to create the alternating set of length 'length_n'.\n",
    "result = alternating_set(length_n)\n",
    "\n",
    "# Print the resulting set.\n",
    "print(result)\n",
    "### 50. Merge multiple sets into one.\n",
    "\n",
    "# create multiple sets\n",
    "set1 = {1, 2, 3}\n",
    "set2 = {3, 4, 5}\n",
    "set3 = {5, 6, 7}\n",
    "set4={2,32,23,3}\n",
    "\n",
    "#we can apply here union() method to merge sets\n",
    "merged_set = set1.union(set2, set3)\n",
    "\n",
    "\n",
    "#print\n",
    "print(\"Merged Set:\", merged_set)"
   ]
  }
 ],
 "metadata": {
  "kernelspec": {
   "display_name": "Python 3",
   "language": "python",
   "name": "python3"
  },
  "language_info": {
   "codemirror_mode": {
    "name": "ipython",
    "version": 3
   },
   "file_extension": ".py",
   "mimetype": "text/x-python",
   "name": "python",
   "nbconvert_exporter": "python",
   "pygments_lexer": "ipython3",
   "version": "3.11.5"
  },
  "orig_nbformat": 4
 },
 "nbformat": 4,
 "nbformat_minor": 2
}
