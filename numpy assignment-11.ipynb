{
 "cells": [
  {
   "cell_type": "markdown",
   "metadata": {},
   "source": [
    "Numpy\n",
    "Assignment Questions\n",
    "Assignment Questions\n",
    "\n",
    "1. What is a Python library? Why ^o we use Python libraries?\n",
    "\n",
    "\n",
    "\n",
    "\n",
    "\n",
    "\n",
    "\n",
    "\n",
    "\n",
    "\n",
    "\n",
    "\n",
    "\n",
    "\n",
    "\n",
    "\n",
    "ow can you generate a ran^om 3x3 matrix with values between 0 an^ 1?7. H\n",
    "\n",
    "\n",
    "8. Describe the ^ifference between np.ran^om.ran^ an^ np.ran^om.ran^n?\n",
    "\n",
    " \n",
    "\n",
    "9. Write co^e to increase the ^imension of the following array?\n",
    "\n",
    "[[1, 2, 3, 4]\n",
    "\n",
    "[5, 6, 7, 8],\n",
    "\n",
    "[9, 10, 11, 12]]\n",
    "\n",
    "\n",
    "10. How to transpose the following array in NumPy?\n",
    "\n",
    "[[1, 2, 3, 4]\n",
    "\n",
    "[5, 6, 7, 8],\n",
    "\n",
    "[9, 10, 11, 12]]\n",
    "\n",
    "\n",
    "11. Consi^er the following matrix:\n",
    "\n",
    "Matrix A2 [[1, 2, 3, 4] [5, 6, 7, 8],[9, 10, 11, 12]]\n",
    "\n",
    "Matrix B2 [[1, 2, 3, 4] [5, 6, 7, 8],[9, 10, 11, 12]]\n",
    "\n",
    "\n",
    "Perform the following operation using Python1\n",
    ",+ I(dex wiLe multiplicatio'\n",
    "]+ Mat\u001bix multiplicatio'\n",
    "\u001a+ Add both the mat\u001bicK\n",
    "-+ Subt\u001bact mat\u001bix B \u0014\u001bom \u0011\n",
    "\u0013+ Di\u0012ide Mat\u001bix B by A\n",
    "\n",
    "\n",
    "12.  Which function in Numpy can be use^ to swap the byte or^er of an array?\n",
    "\n",
    "13.  What is the significance of the np.linalg.inv function?\n",
    "\n",
    "14. What ^oes the np.reshape function ^o, an^ how is it use^?\n",
    "\n",
    "15. What is broa^casting in Numpy?\n",
    "\n",
    "Full Stack Data Science Pro"
   ]
  },
  {
   "cell_type": "code",
   "execution_count": null,
   "metadata": {},
   "outputs": [],
   "source": [
    "'''1. What is a Python library?\n",
    "    A Python library is a collection of related modules.\n",
    "    It contains bundles of code that can be used repeatedly in different programs.\n",
    "    Each module in a Python library serves a specific purpose.\n",
    "    Libraries in Python are collections of precompiled codes that can be used later on in a \n",
    "    program for some specific well-defined operations¹. Other than pre-compiled codes, a library \n",
    "    may contain documentation, configuration data, message templates, classes, and values, etc.\n",
    "\n",
    "2. Why do we use Python libraries?\n",
    "    We use Python libraries to make programming simpler and more convenient. As we don’t need \n",
    "    to write the same code again and again for different programs, it helps in maintaining \n",
    "    the code’s modularity. Python libraries play a very vital role in fields of Machine Learning, \n",
    "    Data Science, Data Visualization, etc. They make using Python faster, more secure, and \n",
    "    compatible with other technologies because Python programmers don’t have to code everything \n",
    "    from scratch. Libraries may significantly speed up and simplify the process of writing and \n",
    "    completing jobs. Python is a popular choice for data analysis because of its extensive library of tools for manipulating, visualising,\n",
    "    and training machine learning models.'''"
   ]
  },
  {
   "cell_type": "code",
   "execution_count": null,
   "metadata": {},
   "outputs": [],
   "source": [
    "\n",
    "'''\n",
    "\n",
    "2. What is the ^ifference between Numpy array an^ List?\n",
    "\n",
    "\n",
    "1. Data Type:\n",
    "   - Numpy Array: A Numpy array is homogeneous, meaning all elements must be of the same data type. This allows for more efficient storage and faster operations, especially for large data sets.\n",
    "   - Python List: A Python list can hold items of different data types, including strings, integers, and even other lists. This flexibility can decrease memory efficiency and slow numerical operations.\n",
    "\n",
    "\n",
    "2. Memory Efficiency:\n",
    "   - Numpy Array: Numpy arrays are more memory-efficient than Python lists due to their homogeneous nature. They store data in contiguous blocks of memory, allowing for a more compact representation and faster access².\n",
    "   - Python List: In a Python list, each item is an object that contains information about its data type and value, plus extra information like reference counters, which leads to higher memory overhead¹².\n",
    "\n",
    "3. Performance:\n",
    "   - Numpy Array: Numpy arrays generally offer superior speed compared to Python lists, especially for numerical operations on large data sets².\n",
    "   - Python List: Lists are not optimized for numerical computations and may have slower mathematical operations due to Python’s interpretation overhead¹.\n",
    "\n",
    "4. Size Mutability:\n",
    "   - Numpy Array: The size of a Numpy array is fixed. You can't change the size of a Numpy array without making a full copy.\n",
    "   - Python List: Lists are dynamic and can be easily modified by adding, removing, or changing items².\n",
    "\n",
    "5. Functionality:\n",
    "   - Numpy Array: Numpy arrays come with a plethora of built-in functions that support high-level mathematical operations.\n",
    "   - Python List: Lists are generally used as general-purpose data structures.\n",
    "\n",
    "In summary, while Python lists are flexible and easy to use, Numpy arrays are more efficient and performant for numerical computations, especially with large datasets¹².\n",
    "\n"
   ]
  },
  {
   "cell_type": "markdown",
   "metadata": {},
   "source": [
    "3. Find the shape, size and dimension of the following array?\n",
    "\n",
    "[[1, 2, 3, 4]\n",
    "\n",
    "[5, 6, 7, 8],\n",
    "\n",
    "[9, 10, 11, 12]]"
   ]
  },
  {
   "cell_type": "code",
   "execution_count": 6,
   "metadata": {},
   "outputs": [
    {
     "name": "stdout",
     "output_type": "stream",
     "text": [
      "shape of array  (3, 4)\n",
      "Size of array 12\n",
      "Dimension of array 2\n"
     ]
    }
   ],
   "source": [
    "import numpy as np \n",
    "\n",
    "arr=np.array(\n",
    "\n",
    "[[1, 2, 3, 4],\n",
    "\n",
    "[5, 6, 7, 8],\n",
    "\n",
    "[9, 10, 11, 12]]\n",
    "\n",
    ")\n",
    "\n",
    "print('shape of array ',arr.shape)\n",
    "print('Size of array',arr.size)\n",
    "print('Dimension of array',arr.ndim)"
   ]
  },
  {
   "cell_type": "markdown",
   "metadata": {},
   "source": [
    "4. Write python code to access the first row of the following array?\n",
    "\n",
    "[[1, 2, 3, 4]\n",
    "\n",
    "[5, 6, 7, 8],\n",
    "\n",
    "[9, 10, 11, 12]]"
   ]
  },
  {
   "cell_type": "code",
   "execution_count": 9,
   "metadata": {},
   "outputs": [
    {
     "name": "stdout",
     "output_type": "stream",
     "text": [
      "first row in array [1 2 3 4]\n"
     ]
    }
   ],
   "source": [
    "import numpy as np \n",
    "\n",
    "arr1=np.array([[1, 2, 3, 4],\n",
    "\n",
    "[5, 6, 7, 8],\n",
    "\n",
    "[9, 10, 11, 12]])\n",
    "print('first row in array',arr1[0])"
   ]
  },
  {
   "cell_type": "markdown",
   "metadata": {},
   "source": [
    "5. How ^o you access the element at the thir^ row an^ fourth column from the given numpy array?\n",
    "\n",
    "[[1, 2, 3, 4]\n",
    "\n",
    "[5, 6, 7, 8],\n",
    "\n",
    "[9, 10, 11, 12]]"
   ]
  },
  {
   "cell_type": "code",
   "execution_count": 11,
   "metadata": {},
   "outputs": [
    {
     "name": "stdout",
     "output_type": "stream",
     "text": [
      "Elements of third and 4th row are 12\n"
     ]
    }
   ],
   "source": [
    "import numpy as np \n",
    "\n",
    "arr=np.array([[1, 2, 3, 4],\n",
    "\n",
    "[5, 6, 7, 8],\n",
    "\n",
    "[9, 10, 11, 12]])\n",
    "\n",
    "elements_of_array=arr[2,3]#this represent third row and 4th column\n",
    "print('Elements of third and 4th column are',elements_of_array)\n"
   ]
  },
  {
   "cell_type": "markdown",
   "metadata": {},
   "source": [
    "6. Write co^e to extract all odd-indexed elements from the given numpy array?\n",
    "\n",
    "[[1, 2, 3, 4],\n",
    "\n",
    "[5, 6, 7, 8],\n",
    "\n",
    "[9, 10, 11, 12]]\n",
    "\n",
    "<!-- ad=[0,1,2,3,4,5,6,7,8,9]\n",
    "print(ad[1::2]) -->"
   ]
  },
  {
   "cell_type": "code",
   "execution_count": 28,
   "metadata": {},
   "outputs": [
    {
     "name": "stdout",
     "output_type": "stream",
     "text": [
      "all odd indexed elements are [[ 2  4]\n",
      " [10 12]]\n"
     ]
    }
   ],
   "source": [
    "import numpy as np\n",
    "\n",
    "arr=np.array([[1, 2, 3, 4],\n",
    "\n",
    "[5, 6, 7, 8],\n",
    "\n",
    "[9, 10, 11, 12]])\n",
    "\n",
    "indexex_elements=arr[0::2,1::2]#here [0::(to-jump)2 steps]\n",
    "print('all odd indexed elements are',indexex_elements)"
   ]
  },
  {
   "cell_type": "markdown",
   "metadata": {},
   "source": [
    "7. How can you generate a ran^om 3x3 matrix with values between 0 an^ 1?"
   ]
  },
  {
   "cell_type": "code",
   "execution_count": 38,
   "metadata": {},
   "outputs": [
    {
     "name": "stdout",
     "output_type": "stream",
     "text": [
      "random intergrs bw 0, 1  are \n",
      " [[0.60922762 0.27160697 0.89253521]\n",
      " [0.90736931 0.59149745 0.9724845 ]\n",
      " [0.54853525 0.05035871 0.38184293]]\n"
     ]
    }
   ],
   "source": [
    "import numpy as np\n",
    "\n",
    "# Generate a random 3x3 matrix with values between 0 and 1\n",
    "random_matrix=np.random.uniform(0,1,size=(3,3))\n",
    "print('random intergrs bw 0, 1  are \\n',random_matrix)\n"
   ]
  },
  {
   "cell_type": "markdown",
   "metadata": {},
   "source": [
    "8. Describe the difference between np.random.rand and np.random.randn?"
   ]
  },
  {
   "cell_type": "code",
   "execution_count": null,
   "metadata": {},
   "outputs": [],
   "source": [
    "'''\n",
    "1. np.random.rand\n",
    "   - `np.random.rand` generates random values in a given shape.\n",
    "   - It creates an array of the given shape and populates it with random samples from a uniform distribution \n",
    "   over [0, 1).\n",
    "   - The values are uniformly distributed over the interval [0, 1).\n",
    "\n",
    "2. np.random.randn:\n",
    "   - np.random.randn` generates samples from the \"standard normal\" distribution¹.\n",
    "   - If positive, int-like arguments are provided, `randn` generates an array of shape \n",
    "   (d0, d1, ..., dn), filled with random floats sampled from a univariate “normal” (Gaussian) \n",
    "   distribution of mean 0 and variance 1.\n",
    "   - A single float randomly sampled from the distribution is returned if no argument is provided.\n",
    "   \n",
    "\n",
    "The main difference between them is the probabilistic distribution each number is drawn from. `np.random.rand` draws from a uniform distribution, \n",
    "while `np.random.randn` draws from a normal (Gaussian) distribution¹⁴. This difference can have significant effects when these functions are used in applications like neural network weight initialization¹. For example, weights initialized with a normal distribution (via `np.random.randn`) can often lead to better model performance compared to weights initialized with a uniform distribution (via `np.random.rand`)¹.\n"
   ]
  },
  {
   "cell_type": "markdown",
   "metadata": {},
   "source": [
    "9. Write code to increase the dimension of the following array?\n",
    "\n",
    "[[1, 2, 3, 4]\n",
    "\n",
    "[5, 6, 7, 8],\n",
    "\n",
    "[9, 10, 11, 12]]"
   ]
  },
  {
   "cell_type": "code",
   "execution_count": 41,
   "metadata": {},
   "outputs": [
    {
     "name": "stdout",
     "output_type": "stream",
     "text": [
      "Expanded array shape:  (1, 3, 4)\n"
     ]
    },
    {
     "ename": "",
     "evalue": "",
     "output_type": "error",
     "traceback": [
      "\u001b[1;31mThe Kernel crashed while executing code in the the current cell or a previous cell. Please review the code in the cell(s) to identify a possible cause of the failure. Click <a href='https://aka.ms/vscodeJupyterKernelCrash'>here</a> for more info. View Jupyter <a href='command:jupyter.viewOutput'>log</a> for further details."
     ]
    }
   ],
   "source": [
    "import numpy as np\n",
    "\n",
    "# Define the array\n",
    "arr = np.array([[1, 2, 3, 4], [5, 6, 7, 8], [9, 10, 11, 12]])\n",
    "\n",
    "# Increase the dimension of the array\n",
    "arr_expanded = np.expand_dims(arr, axis=0)\n",
    "\n",
    "print(\"Expanded array shape: \", arr_expanded.shape)\n"
   ]
  },
  {
   "cell_type": "markdown",
   "metadata": {},
   "source": [
    "10. How to transpose the following array in NumPy?\n",
    "\n",
    "[[1, 2, 3, 4]\n",
    "\n",
    "[5, 6, 7, 8],\n",
    "\n",
    "[9, 10, 11, 12]]"
   ]
  },
  {
   "cell_type": "code",
   "execution_count": 9,
   "metadata": {},
   "outputs": [
    {
     "name": "stdout",
     "output_type": "stream",
     "text": [
      "Transposed array using np.transpose\n",
      " [[ 1  5  9]\n",
      " [ 2  6 10]\n",
      " [ 3  7 11]\n",
      " [ 4  8 12]]\n",
      "Transposed array using np.transpose1\n",
      " [[ 1  5  9]\n",
      " [ 2  6 10]\n",
      " [ 3  7 11]\n",
      " [ 4  8 12]]\n"
     ]
    }
   ],
   "source": [
    "import numpy as np \n",
    "\n",
    "arr=np.array(\n",
    "\n",
    "[[1, 2, 3, 4],\n",
    "\n",
    "[5, 6, 7, 8],\n",
    "\n",
    "[9, 10, 11, 12]])\n",
    "\n",
    "arr_transposed=np.transpose(arr)\n",
    "print('Transposed array using np.transpose\\n',arr_transposed)\n",
    "\n",
    "#using T attribute\n",
    "arr_transposed1=arr.T \n",
    "print('Transposed array using np.transpose1\\n',arr_transposed1)\n"
   ]
  },
  {
   "cell_type": "markdown",
   "metadata": {},
   "source": [
    "11. Consi^er the following matrix:\n",
    "\n",
    "A2= [[1, 2, 3, 4], [5, 6, 7, 8],[9, 10, 11, 12]]\n",
    "\n",
    "B2= [[1, 2, 3, 4], [5, 6, 7, 8],[9, 10, 11, 12]]"
   ]
  },
  {
   "cell_type": "markdown",
   "metadata": {},
   "source": [
    "Perform the following operation using Python:\n",
    "\n",
    "\n",
    "\n",
    "\n",
    "\n",
    "\n",
    "12.\tWhich function in Numpy con be used to swop the byte order of on array?\n",
    "13.\tWhat is the significance of the np.IinoIg.inv function?\n",
    "14.\tWhat does the np.reshape function do, and how is it used?\n",
    "15.\tWhat is broadcasting in Numpy?\n"
   ]
  },
  {
   "cell_type": "markdown",
   "metadata": {},
   "source": [
    "1.\tIndex wise multiplication"
   ]
  },
  {
   "cell_type": "code",
   "execution_count": 11,
   "metadata": {},
   "outputs": [
    {
     "name": "stdout",
     "output_type": "stream",
     "text": [
      "Result of index multiplication\n",
      " [[  1   4   9  16]\n",
      " [ 25  36  49  64]\n",
      " [ 81 100 121 144]]\n"
     ]
    }
   ],
   "source": [
    "import numpy as np \n",
    "\n",
    "A2= np.array([[1, 2, 3, 4], [5, 6, 7, 8],[9, 10, 11, 12]])\n",
    "\n",
    "B2= np.array([[1, 2, 3, 4], [5, 6, 7, 8],[9, 10, 11, 12]])\n",
    "\n",
    "index_multiplication=np.multiply(A2,B2)\n",
    "print('Result of index multiplication\\n',index_multiplication)"
   ]
  },
  {
   "cell_type": "markdown",
   "metadata": {},
   "source": [
    "2.\tMatrix multiplication"
   ]
  },
  {
   "cell_type": "code",
   "execution_count": 25,
   "metadata": {},
   "outputs": [
    {
     "name": "stdout",
     "output_type": "stream",
     "text": [
      "Result of matrix multiplication using dot\n",
      " [[ 30  70 110]\n",
      " [ 70 174 278]\n",
      " [110 278 446]]\n",
      "Result of matrix multiplication using matmul function \n",
      " [[ 30  70 110]\n",
      " [ 70 174 278]\n",
      " [110 278 446]]\n"
     ]
    }
   ],
   "source": [
    "import numpy as np \n",
    "\n",
    "A2= np.array([[1, 2, 3, 4], [5, 6, 7, 8],[9, 10, 11, 12]])\n",
    "\n",
    "B2= np.array([[1, 2, 3, 4], [5, 6, 7, 8],[9, 10, 11, 12]])\n",
    "\n",
    "#as here tha matrix is 3,4 x 3,4--No. of col in A == No. row of B..So we have to transpose one of the matrix\n",
    "\n",
    "transposed_B=np.transpose(B2)\n",
    "\n",
    "matrix_multiplication_dot=np.dot(A2,transposed_B)\n",
    "\n",
    "print('Result of matrix multiplication using dot\\n',matrix_multiplication_dot)\n",
    "\n",
    "transposed_B=np.transpose(B2)\n",
    "matrix_multiplication_matmul=np.matmul(A2,transposed_B)\n",
    "\n",
    "print('Result of matrix multiplication using matmul function \\n',matrix_multiplication_matmul)"
   ]
  },
  {
   "cell_type": "markdown",
   "metadata": {},
   "source": [
    "3.\tAdd both the metrics"
   ]
  },
  {
   "cell_type": "code",
   "execution_count": 38,
   "metadata": {},
   "outputs": [
    {
     "name": "stdout",
     "output_type": "stream",
     "text": [
      "Result of added matrix\n",
      " [[ 2  4  6  8]\n",
      " [10 12 14 16]\n",
      " [18 20 22 24]]\n"
     ]
    }
   ],
   "source": [
    "import numpy as np \n",
    "\n",
    "A2= np.array([[1, 2, 3, 4], [5, 6, 7, 8],[9, 10, 11, 12]])\n",
    "\n",
    "B2= np.array([[1, 2, 3, 4], [5, 6, 7, 8],[9, 10, 11, 12]])\n",
    "\n",
    "matrix_add=np.add(A2,B2)\n",
    "print('Result of added matrix\\n',matrix_add)"
   ]
  },
  {
   "cell_type": "markdown",
   "metadata": {},
   "source": [
    "4.\tSubtract matrix B from A"
   ]
  },
  {
   "cell_type": "code",
   "execution_count": 39,
   "metadata": {},
   "outputs": [
    {
     "name": "stdout",
     "output_type": "stream",
     "text": [
      "Result of index subtraction\n",
      " [[0 0 0 0]\n",
      " [0 0 0 0]\n",
      " [0 0 0 0]]\n",
      "another method is use operatior - \n",
      " [[0 0 0 0]\n",
      " [0 0 0 0]\n",
      " [0 0 0 0]]\n"
     ]
    }
   ],
   "source": [
    "import numpy as np \n",
    "\n",
    "A2= np.array([[1, 2, 3, 4], [5, 6, 7, 8],[9, 10, 11, 12]])\n",
    "\n",
    "B2= np.array([[1, 2, 3, 4], [5, 6, 7, 8],[9, 10, 11, 12]])\n",
    "\n",
    "matrix_sub=np.subtract(A2,B2)\n",
    "print('Result of index subtraction\\n',matrix_sub)\n",
    "print('another method is use operatior - \\n',B2-A2)"
   ]
  },
  {
   "cell_type": "markdown",
   "metadata": {},
   "source": [
    "5.\tDivide Matrix B by A"
   ]
  },
  {
   "cell_type": "code",
   "execution_count": 41,
   "metadata": {},
   "outputs": [
    {
     "name": "stdout",
     "output_type": "stream",
     "text": [
      "Result of index multiplication\n",
      " [[1. 1. 1. 1.]\n",
      " [1. 1. 1. 1.]\n",
      " [1. 1. 1. 1.]]\n"
     ]
    }
   ],
   "source": [
    "import numpy as np \n",
    "\n",
    "A2= np.array([[1, 2, 3, 4], [5, 6, 7, 8],[9, 10, 11, 12]])\n",
    "\n",
    "B2= np.array([[1, 2, 3, 4], [5, 6, 7, 8],[9, 10, 11, 12]])\n",
    "\n",
    "matrix_div=np.divide(A2,B2)\n",
    "print('Result of index multiplication\\n',matrix_div)"
   ]
  },
  {
   "cell_type": "markdown",
   "metadata": {},
   "source": [
    "12.\tWhich function in Numpy con be used to swop the byte order of on array?"
   ]
  },
  {
   "cell_type": "markdown",
   "metadata": {},
   "source": [
    "In Numpy, you can use [ ndarray.byteswap()] funtion to swap the byte order from the array. This function toggles between low-eng to big-end data repesentation by returning the byteswapped array."
   ]
  },
  {
   "cell_type": "code",
   "execution_count": 59,
   "metadata": {},
   "outputs": [
    {
     "name": "stdout",
     "output_type": "stream",
     "text": [
      "[   256   7680  -3071 -12281  -3029]\n"
     ]
    },
    {
     "name": "stderr",
     "output_type": "stream",
     "text": [
      "C:\\Users\\ravit\\AppData\\Local\\Temp\\ipykernel_30776\\1733906402.py:3: DeprecationWarning: NumPy will stop allowing conversion of out-of-bound Python integers to integer arrays.  The conversion of 142324 to int16 will fail in the future.\n",
      "For the old behavior, usually:\n",
      "    np.array(value).astype(dtype)\n",
      "will give the desired result (the cast overflows).\n",
      "  arr=np.array([1,30,500,2000,142324],dtype=np.int16)\n"
     ]
    }
   ],
   "source": [
    "import numpy as np \n",
    "\n",
    "arr=np.array([1,30,500,2000,142324],dtype=np.int16)\n",
    "print(arr.byteswap(inplace=True))"
   ]
  },
  {
   "cell_type": "markdown",
   "metadata": {},
   "source": [
    "13.\tWhat is the significance of the np.IinoIg.inv function?"
   ]
  },
  {
   "cell_type": "markdown",
   "metadata": {},
   "source": [
    "The [np.linalg.inv] function in Numpy is used to compute the (multiplicative) inverse of a square matrix. \n",
    "\n",
    "Multiplicative inverse is such that if the orignal matrix is multiplied with multiplicative inverse it results in identitiy matrix.\n",
    "\n",
    "Let us prove this below:"
   ]
  },
  {
   "cell_type": "code",
   "execution_count": 87,
   "metadata": {},
   "outputs": [
    {
     "name": "stdout",
     "output_type": "stream",
     "text": [
      "This is multiplicative inverse\n",
      " [[1.28571429 0.28571429]\n",
      " [1.14285714 0.14285714]]\n",
      "Proof of identity matrix after multiplying orignal with multiplicative inverse\n",
      " [[1.28571429 0.57142857]\n",
      " [9.14285714 1.28571429]]\n"
     ]
    }
   ],
   "source": [
    "import numpy as np \n",
    "\n",
    "a=np.array([[1,2],[8,9]])\n",
    "\n",
    "multiplicative_invese=np.linalg.inv(a)\n",
    "\n",
    "print('This is multiplicative inverse\\n',abs(multiplicative_invese))\n",
    "identity=np.multiply(a,multiplicative_invese)\n",
    "print('Proof of identity matrix after multiplying orignal with multiplicative inverse\\n',\n",
    "abs(identity))"
   ]
  },
  {
   "cell_type": "markdown",
   "metadata": {},
   "source": [
    "14.\tWhat does the np.reshape function do, and how is it used?"
   ]
  },
  {
   "cell_type": "markdown",
   "metadata": {},
   "source": [
    "The [np.reshape()] function is used to change the shape of the array without modifying its data."
   ]
  },
  {
   "cell_type": "code",
   "execution_count": 90,
   "metadata": {},
   "outputs": [
    {
     "name": "stdout",
     "output_type": "stream",
     "text": [
      "after reshaping [[1 2 4]\n",
      " [6 7 8]\n",
      " [9 0 7]]\n"
     ]
    }
   ],
   "source": [
    "import numpy as np \n",
    "\n",
    "#this is 1d array\n",
    "arrd=np.array([1,2,4,6,7,8,9,0,7])\n",
    "\n",
    "# Lets change to 2d array :: Logic to be followed numpy.reshape(a, newshape, order='C')\n",
    "\n",
    "arr2d=np.reshape(arrd,(3,3))\n",
    "print('after reshaping',arr2d)\n",
    "\n"
   ]
  }
 ],
 "metadata": {
  "kernelspec": {
   "display_name": "Python 3",
   "language": "python",
   "name": "python3"
  },
  "language_info": {
   "codemirror_mode": {
    "name": "ipython",
    "version": 3
   },
   "file_extension": ".py",
   "mimetype": "text/x-python",
   "name": "python",
   "nbconvert_exporter": "python",
   "pygments_lexer": "ipython3",
   "version": "3.11.9"
  },
  "orig_nbformat": 4
 },
 "nbformat": 4,
 "nbformat_minor": 2
}
