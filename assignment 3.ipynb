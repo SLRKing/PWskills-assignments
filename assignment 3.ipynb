{
 "cells": [
  {
   "cell_type": "markdown",
   "metadata": {},
   "source": [
    "1. Write a Python program to print the numbers from 1 to 10 using a `for` loop.\n"
   ]
  },
  {
   "cell_type": "code",
   "execution_count": 1,
   "metadata": {},
   "outputs": [
    {
     "name": "stdout",
     "output_type": "stream",
     "text": [
      "1\n",
      "2\n",
      "3\n",
      "4\n",
      "5\n",
      "6\n",
      "7\n",
      "8\n",
      "9\n",
      "10\n"
     ]
    }
   ],
   "source": [
    "#using for loop and let i be the counter\n",
    "def numbers(n):\n",
    "    for i in range(1,n+1):\n",
    "        print(i)\n",
    "        \n",
    "numbers(10)"
   ]
  },
  {
   "cell_type": "markdown",
   "metadata": {},
   "source": [
    "2. Create a program that calculates the sum of all numbers in a list using a `for` loop."
   ]
  },
  {
   "cell_type": "code",
   "execution_count": 9,
   "metadata": {},
   "outputs": [
    {
     "name": "stdout",
     "output_type": "stream",
     "text": [
      "29\n"
     ]
    }
   ],
   "source": [
    "#create list\n",
    "list=[1,2,3,4,5,6,8]\n",
    "# initilize 0\n",
    "sum=0\n",
    "# use loop\n",
    "for i in list:\n",
    "    # use this logic to update the sum according to incrementation\n",
    "    sum=sum+i\n",
    "# print\n",
    "print(sum)"
   ]
  },
  {
   "cell_type": "markdown",
   "metadata": {},
   "source": [
    "3. Write a program to print the characters of a string in reverse order using a `for` loop."
   ]
  },
  {
   "cell_type": "code",
   "execution_count": 17,
   "metadata": {},
   "outputs": [
    {
     "name": "stdout",
     "output_type": "stream",
     "text": [
      "krls ajetivar \n"
     ]
    }
   ],
   "source": [
    "#create string\n",
    "str='raviteja slrk'\n",
    "# create variable to store characters\n",
    "reversed=' '\n",
    "# use loop\n",
    "for j in str:\n",
    "    reversed=j+reversed\n",
    "\n",
    "print(reversed)\n"
   ]
  },
  {
   "cell_type": "markdown",
   "metadata": {},
   "source": [
    "4. Develop a program that finds the factorial of a given number using a `for` loop."
   ]
  },
  {
   "cell_type": "code",
   "execution_count": 46,
   "metadata": {},
   "outputs": [
    {
     "name": "stdout",
     "output_type": "stream",
     "text": [
      "factorial of the no. is = 720\n"
     ]
    }
   ],
   "source": [
    "# take input number form the user\n",
    "num =int(input('Enter a number'))\n",
    "# initilize the factorial\n",
    "factorial =1\n",
    "# check the condition\n",
    "if num>=1:\n",
    "    # use for loop\n",
    "    for i in range(1,num+1):\n",
    "        # use factorial logic\n",
    "        factorial=factorial*i\n",
    "# print\n",
    "print(\"factorial of the no. is =\",factorial)\n",
    "\n"
   ]
  },
  {
   "cell_type": "markdown",
   "metadata": {},
   "source": [
    "5. Create a program to print the multiplication table of a given number using a `for` loop."
   ]
  },
  {
   "cell_type": "code",
   "execution_count": 47,
   "metadata": {},
   "outputs": [
    {
     "name": "stdout",
     "output_type": "stream",
     "text": [
      "5*1=5\n",
      "5*2=10\n",
      "5*3=15\n",
      "5*4=20\n",
      "5*5=25\n",
      "5*6=30\n",
      "5*7=35\n",
      "5*8=40\n",
      "5*9=45\n",
      "5*10=50\n"
     ]
    }
   ],
   "source": [
    "# take input form the user\n",
    "table=int(input('Enter the no. to creat its tabel'))\n",
    "# use loop of range upto 10 to create th tables from 1 to 10 times ofhte given number\n",
    "for i in range(1,11):\n",
    "    # print the table with multiplication\n",
    "    print(f\"{table}*{i}= {table*i}\")"
   ]
  },
  {
   "cell_type": "markdown",
   "metadata": {},
   "source": [
    "6. Write a program that counts the number of even and odd numbers in a list using a `for` loop."
   ]
  },
  {
   "cell_type": "code",
   "execution_count": 48,
   "metadata": {},
   "outputs": [
    {
     "name": "stdout",
     "output_type": "stream",
     "text": [
      "Even no. in list are = 5\n",
      "Odd no. in the list are= 7\n"
     ]
    }
   ],
   "source": [
    "# create list\n",
    "list=[1,3,5,45,4,2,23,23,5,554,4,64]\n",
    "# initilize even and odd no counter to 0\n",
    "even_no=0\n",
    "odd_no=0\n",
    "# use for loop\n",
    "for i in list:\n",
    "    # use condition to check, if its even then increment even counter\n",
    "    if i%2==0:\n",
    "        even_no+=1\n",
    "        # else then it must be odd nu. so increment odd counter\n",
    "    else:\n",
    "        odd_no+=1\n",
    "print('Even no. in list are =',even_no)\n",
    "print('Odd no. in the list are=',odd_no)"
   ]
  },
  {
   "cell_type": "markdown",
   "metadata": {},
   "source": [
    "7. Develop a program that prints the squares of numbers from 1 to 5 using a `for` loop."
   ]
  },
  {
   "cell_type": "code",
   "execution_count": 49,
   "metadata": {},
   "outputs": [
    {
     "name": "stdout",
     "output_type": "stream",
     "text": [
      "Square of 1 is = 1\n",
      "Square of 2 is = 4\n",
      "Square of 3 is = 9\n",
      "Square of 4 is = 16\n",
      "Square of 5 is = 25\n"
     ]
    }
   ],
   "source": [
    "# use for loop and set the range from 1 to 5\n",
    "for i in range(1,6):\n",
    "    # use the squaring logic and print\n",
    "    print(f'Square of {i} is = {i**2}')"
   ]
  },
  {
   "cell_type": "markdown",
   "metadata": {},
   "source": [
    "8. Create a program to find the length of a string without using the `len()` function."
   ]
  },
  {
   "cell_type": "code",
   "execution_count": 55,
   "metadata": {},
   "outputs": [
    {
     "name": "stdout",
     "output_type": "stream",
     "text": [
      "Lenght of the string is = 24\n"
     ]
    }
   ],
   "source": [
    "# create string\n",
    "strin='Raviteja the data scientist'\n",
    "# initilize the counter to 0\n",
    "counter=0\n",
    "# use for loop in stirng\n",
    "for i in strin:\n",
    "    # check the condition if there is space in strings then dont count it\n",
    "    if i==' ':\n",
    "        pass\n",
    "        # else count the letters\n",
    "    else:\n",
    "        # increment the counter \n",
    "        counter+=1\n",
    "# print output\n",
    "print('Lenght of the string is =', counter)"
   ]
  },
  {
   "cell_type": "markdown",
   "metadata": {},
   "source": [
    "9. Write a program that calculates the average of a list of numbers using a `for` loop."
   ]
  },
  {
   "cell_type": "code",
   "execution_count": 60,
   "metadata": {},
   "outputs": [
    {
     "name": "stdout",
     "output_type": "stream",
     "text": [
      "average of the list is= 75.625\n"
     ]
    }
   ],
   "source": [
    "# creat the list\n",
    "avg_list=[12,3,3,53,53,3,43,435]\n",
    "# initilize the sum to 0\n",
    "sum=0\n",
    "# get the no of samples in the list using len()\n",
    "sample=len(avg_list)\n",
    "# use loop in list\n",
    "for i in avg_list:\n",
    "    # increment sum with addition\n",
    "    sum=i+sum\n",
    "# print output\n",
    "print('average of the list is=',sum/sample)\n"
   ]
  },
  {
   "cell_type": "markdown",
   "metadata": {},
   "source": [
    "10. Develop a program that prints the first `n` Fibonacci numbers using a `for` loop."
   ]
  },
  {
   "cell_type": "code",
   "execution_count": 75,
   "metadata": {},
   "outputs": [
    {
     "name": "stdout",
     "output_type": "stream",
     "text": [
      "0 1 1 2 3 5 8 13 "
     ]
    }
   ],
   "source": [
    "def fibo(num):\n",
    "    a=0\n",
    "    b=1\n",
    "    if num<0:\n",
    "        print('invalid input')\n",
    "    else:\n",
    "        print(a,b,end=' ')\n",
    "        for i in range(2,num+1):\n",
    "            c=a+b\n",
    "            print(c,end=' ')\n",
    "            a=b\n",
    "            b=c\n",
    "\n",
    "num=int(input('Enter the number os fibonacci'))\n",
    "fibo(num)\n",
    "        "
   ]
  },
  {
   "cell_type": "markdown",
   "metadata": {},
   "source": [
    "11. Write a program to check if a given list contains any duplicates using a `for` loop."
   ]
  },
  {
   "cell_type": "code",
   "execution_count": 6,
   "metadata": {},
   "outputs": [
    {
     "name": "stdout",
     "output_type": "stream",
     "text": [
      "Duplicate elements are = [5, 4]\n"
     ]
    }
   ],
   "source": [
    "\n",
    "# method 1\n",
    "\n",
    "# create list\n",
    "list5=[1,2,4,5,6,5,3,4]\n",
    "# create empty list containing unique elements\n",
    "\n",
    "unique_list=[]\n",
    "# create empty list containing duplicate elements\n",
    "duplicates_list=[]\n",
    "# use for loop to iterate over list\n",
    "for i in list5:\n",
    "    # if the element(i) is not present in unique list then append i to unique_list\n",
    "    if i not in unique_list:\n",
    "        unique_list.append(i)\n",
    "    # if element is not present ( duplicate ) in duplicates list then append i to that\n",
    "    elif i not in duplicates_list:\n",
    "        duplicates_list.append(i)\n",
    "# print duplicate list\n",
    "print('Duplicate elements are =',duplicates_list)"
   ]
  },
  {
   "cell_type": "code",
   "execution_count": 11,
   "metadata": {},
   "outputs": [
    {
     "name": "stdout",
     "output_type": "stream",
     "text": [
      "duplicates : [3, 5]\n"
     ]
    }
   ],
   "source": [
    "# method 2 using counts\n",
    "\n",
    "# create list\n",
    "list3=[1,3,4,5,5,7,3]\n",
    "# create empty list to stpore duplicate values\n",
    "duplicate_=[]\n",
    "# use loop\n",
    "for i in list3:\n",
    "    # use count method to count the specific element repetation\n",
    "    num=list3.count(i)\n",
    "    # check the condition if i is repeated more than once\n",
    "    if num>1:\n",
    "        # check condition that i is not present in duplicate list\n",
    "        if duplicate_.count(i)==0:\n",
    "            # append the duplicate element\n",
    "            duplicate_.append(i)\n",
    "# print\n",
    "print('duplicates :', duplicate_)"
   ]
  },
  {
   "cell_type": "markdown",
   "metadata": {},
   "source": [
    "12. Create a program that prints the prime numbers in a given range using a `for` loop."
   ]
  },
  {
   "cell_type": "code",
   "execution_count": 102,
   "metadata": {},
   "outputs": [
    {
     "name": "stdout",
     "output_type": "stream",
     "text": [
      "Prime no are = 4\n",
      "Prime no are = 6\n",
      "Prime no are = 6\n",
      "Prime no are = 8\n",
      "Prime no are = 8\n",
      "Prime no are = 9\n",
      "Prime no are = 10\n",
      "Prime no are = 10\n",
      "Prime no are = 12\n",
      "Prime no are = 12\n",
      "Prime no are = 12\n",
      "Prime no are = 12\n",
      "Prime no are = 14\n",
      "Prime no are = 14\n",
      "Prime no are = 15\n",
      "Prime no are = 15\n",
      "Prime no are = 16\n",
      "Prime no are = 16\n",
      "Prime no are = 16\n",
      "Prime no are = 18\n",
      "Prime no are = 18\n",
      "Prime no are = 18\n",
      "Prime no are = 18\n",
      "Prime no are = 20\n",
      "Prime no are = 20\n",
      "Prime no are = 20\n",
      "Prime no are = 20\n",
      "Prime no are = 21\n",
      "Prime no are = 21\n",
      "Prime no are = 22\n",
      "Prime no are = 22\n",
      "Prime no are = 24\n",
      "Prime no are = 24\n",
      "Prime no are = 24\n",
      "Prime no are = 24\n",
      "Prime no are = 24\n",
      "Prime no are = 24\n",
      "Prime no are = 25\n",
      "Prime no are = 26\n",
      "Prime no are = 26\n",
      "Prime no are = 27\n",
      "Prime no are = 27\n",
      "Prime no are = 28\n",
      "Prime no are = 28\n",
      "Prime no are = 28\n",
      "Prime no are = 28\n",
      "Prime no are = 30\n",
      "Prime no are = 30\n",
      "Prime no are = 30\n",
      "Prime no are = 30\n",
      "Prime no are = 30\n",
      "Prime no are = 30\n",
      "Prime no are = 32\n",
      "Prime no are = 32\n",
      "Prime no are = 32\n",
      "Prime no are = 32\n",
      "Prime no are = 33\n",
      "Prime no are = 33\n",
      "Prime no are = 34\n",
      "Prime no are = 34\n",
      "Prime no are = 35\n",
      "Prime no are = 35\n",
      "Prime no are = 36\n",
      "Prime no are = 36\n",
      "Prime no are = 36\n",
      "Prime no are = 36\n",
      "Prime no are = 36\n",
      "Prime no are = 36\n",
      "Prime no are = 36\n",
      "Prime no are = 38\n",
      "Prime no are = 38\n",
      "Prime no are = 39\n",
      "Prime no are = 39\n",
      "Prime no are = 40\n",
      "Prime no are = 40\n",
      "Prime no are = 40\n",
      "Prime no are = 40\n",
      "Prime no are = 40\n",
      "Prime no are = 40\n",
      "Prime no are = 42\n",
      "Prime no are = 42\n",
      "Prime no are = 42\n",
      "Prime no are = 42\n",
      "Prime no are = 42\n",
      "Prime no are = 42\n",
      "Prime no are = 44\n",
      "Prime no are = 44\n",
      "Prime no are = 44\n",
      "Prime no are = 44\n",
      "Prime no are = 45\n",
      "Prime no are = 45\n",
      "Prime no are = 45\n",
      "Prime no are = 45\n",
      "Prime no are = 46\n",
      "Prime no are = 46\n",
      "Prime no are = 48\n",
      "Prime no are = 48\n",
      "Prime no are = 48\n",
      "Prime no are = 48\n",
      "Prime no are = 48\n",
      "Prime no are = 48\n",
      "Prime no are = 48\n",
      "Prime no are = 48\n",
      "Prime no are = 49\n",
      "Prime no are = 50\n",
      "Prime no are = 50\n",
      "Prime no are = 50\n",
      "Prime no are = 50\n",
      "Prime no are = 51\n",
      "Prime no are = 51\n",
      "Prime no are = 52\n",
      "Prime no are = 52\n",
      "Prime no are = 52\n",
      "Prime no are = 52\n",
      "Prime no are = 54\n",
      "Prime no are = 54\n",
      "Prime no are = 54\n",
      "Prime no are = 54\n",
      "Prime no are = 54\n",
      "Prime no are = 54\n",
      "Prime no are = 55\n",
      "Prime no are = 55\n",
      "Prime no are = 56\n",
      "Prime no are = 56\n",
      "Prime no are = 56\n",
      "Prime no are = 56\n",
      "Prime no are = 56\n",
      "Prime no are = 56\n",
      "Prime no are = 57\n",
      "Prime no are = 57\n",
      "Prime no are = 58\n",
      "Prime no are = 58\n",
      "Prime no are = 60\n",
      "Prime no are = 60\n",
      "Prime no are = 60\n",
      "Prime no are = 60\n",
      "Prime no are = 60\n",
      "Prime no are = 60\n",
      "Prime no are = 60\n",
      "Prime no are = 60\n",
      "Prime no are = 60\n",
      "Prime no are = 60\n",
      "Prime no are = 62\n",
      "Prime no are = 62\n",
      "Prime no are = 63\n",
      "Prime no are = 63\n",
      "Prime no are = 63\n",
      "Prime no are = 63\n",
      "Prime no are = 64\n",
      "Prime no are = 64\n",
      "Prime no are = 64\n",
      "Prime no are = 64\n",
      "Prime no are = 64\n",
      "Prime no are = 65\n",
      "Prime no are = 65\n",
      "Prime no are = 66\n",
      "Prime no are = 66\n",
      "Prime no are = 66\n",
      "Prime no are = 66\n",
      "Prime no are = 66\n",
      "Prime no are = 66\n",
      "Prime no are = 68\n",
      "Prime no are = 68\n",
      "Prime no are = 68\n",
      "Prime no are = 68\n",
      "Prime no are = 69\n",
      "Prime no are = 69\n",
      "Prime no are = 70\n",
      "Prime no are = 70\n",
      "Prime no are = 70\n",
      "Prime no are = 70\n",
      "Prime no are = 70\n",
      "Prime no are = 70\n",
      "Prime no are = 72\n",
      "Prime no are = 72\n",
      "Prime no are = 72\n",
      "Prime no are = 72\n",
      "Prime no are = 72\n",
      "Prime no are = 72\n",
      "Prime no are = 72\n",
      "Prime no are = 72\n",
      "Prime no are = 72\n",
      "Prime no are = 72\n",
      "Prime no are = 74\n",
      "Prime no are = 74\n",
      "Prime no are = 75\n",
      "Prime no are = 75\n",
      "Prime no are = 75\n",
      "Prime no are = 75\n",
      "Prime no are = 76\n",
      "Prime no are = 76\n",
      "Prime no are = 76\n",
      "Prime no are = 76\n",
      "Prime no are = 77\n",
      "Prime no are = 77\n",
      "Prime no are = 78\n",
      "Prime no are = 78\n",
      "Prime no are = 78\n",
      "Prime no are = 78\n",
      "Prime no are = 78\n",
      "Prime no are = 78\n",
      "Prime no are = 80\n",
      "Prime no are = 80\n",
      "Prime no are = 80\n",
      "Prime no are = 80\n",
      "Prime no are = 80\n",
      "Prime no are = 80\n",
      "Prime no are = 80\n",
      "Prime no are = 80\n"
     ]
    }
   ],
   "source": [
    "# take input\n",
    "rang=int(input('Enter range '))\n",
    "# use loop to iterate over range \n",
    "for a in range(2,rang+1):\n",
    "    # set coutunter to 0\n",
    "    k=0\n",
    "#    now use another for loop to check the no is prime\n",
    "    for i in range(2,a//2+1):\n",
    "        # chech the conditon if the number is fully divisible all all loop values\n",
    "        if (a%i==0):\n",
    "            #if the no is completely divisible by itself then increment k\n",
    "          \n",
    "            k=k+1\n",
    "    # if the k<=0 condition satisfies then the no is prime no\n",
    "    if k<=0:\n",
    "        # print outpue\n",
    "            print('Prime no are =', a)\n",
    "        \n"
   ]
  },
  {
   "cell_type": "markdown",
   "metadata": {},
   "source": [
    "13. Develop a program that counts the number of vowels in a string using a `for` loop.\n"
   ]
  },
  {
   "cell_type": "code",
   "execution_count": 103,
   "metadata": {},
   "outputs": [
    {
     "name": "stdout",
     "output_type": "stream",
     "text": [
      "no of vowels are 4\n"
     ]
    }
   ],
   "source": [
    "# create the function\n",
    "def vowel_counter(stir):\n",
    "    # set counter to 0\n",
    "    count=0 \n",
    "    # define the elements of vowels and make them as a set\n",
    "    vowel_set=set('aeiouAEIOU')\n",
    "    # use loop in argument\n",
    "    for i in stir:\n",
    "        #if element of string is present in above set\n",
    "        if i in vowel_set:\n",
    "            # increment counter\n",
    "            count+=1\n",
    "        else:\n",
    "            pass \n",
    "        # print output\n",
    "    print('no of vowels are',count)\n",
    "    \n",
    "\n",
    "stir='raviteja'\n",
    "vowel_counter(stir)\n"
   ]
  },
  {
   "cell_type": "markdown",
   "metadata": {},
   "source": [
    ". Write a program to find the maximum element in a 2D list using a nested `for` loop.\n"
   ]
  },
  {
   "cell_type": "code",
   "execution_count": 104,
   "metadata": {},
   "outputs": [
    {
     "name": "stdout",
     "output_type": "stream",
     "text": [
      "<built-in function max>\n"
     ]
    }
   ],
   "source": [
    "# define a function to find max_no\n",
    "def max_no(list33):\n",
    "    # set max to 0\n",
    "    max=0\n",
    "    # use loop in the argument\n",
    "    for i in list33:\n",
    "        # chech if the number i is > than max,\n",
    "        if i>max:\n",
    "            # if true then set max as i element\n",
    "            max=i\n",
    "        else:\n",
    "            pass\n",
    "# create list\n",
    "list33=[2,23,35,1,32,5,879,543]\n",
    "# send list as a arguement to the function\n",
    "max_no(list33)\n",
    "# print\n",
    "print(max)\n"
   ]
  },
  {
   "cell_type": "markdown",
   "metadata": {},
   "source": [
    "15. Create a program that removes all occurrences of a specific element from a list using a `for` loop."
   ]
  },
  {
   "cell_type": "code",
   "execution_count": 105,
   "metadata": {},
   "outputs": [
    {
     "name": "stdout",
     "output_type": "stream",
     "text": [
      "[12, 3, 54, 2, 23, 2545, 5, 77]\n"
     ]
    }
   ],
   "source": [
    "# create function\n",
    "def removing(list44,remove_num):\n",
    "    # use in arg of list \n",
    "    for num in list44:\n",
    "        # check the removing number is equal to the index element\n",
    "        if num==remove_num:\n",
    "            # if ture then remove the specific number form the list\n",
    "            list44.remove(num)\n",
    "        # print\n",
    "    print(list44)\n",
    "# give remove number\n",
    "remove_num=4\n",
    "#creat list\n",
    "list44=[12,4,3,54,2,23,2545,5,4,77]\n",
    "# send list and remove_no as argument to function\n",
    "removing(list44,remove_num)\n",
    "\n"
   ]
  },
  {
   "cell_type": "markdown",
   "metadata": {},
   "source": [
    "16. Develop a program that generates a multiplication table for numbers from 1 to 5 using a nested `for` loop."
   ]
  },
  {
   "cell_type": "code",
   "execution_count": 106,
   "metadata": {},
   "outputs": [
    {
     "name": "stdout",
     "output_type": "stream",
     "text": [
      "1 x 1 = 1\n",
      "1 x 2 = 2\n",
      "1 x 3 = 3\n",
      "1 x 4 = 4\n",
      "1 x 5 = 5\n",
      "1 x 6 = 6\n",
      "1 x 7 = 7\n",
      "1 x 8 = 8\n",
      "1 x 9 = 9\n",
      "1 x 10 = 10\n",
      "2 x 1 = 2\n",
      "2 x 2 = 4\n",
      "2 x 3 = 6\n",
      "2 x 4 = 8\n",
      "2 x 5 = 10\n",
      "2 x 6 = 12\n",
      "2 x 7 = 14\n",
      "2 x 8 = 16\n",
      "2 x 9 = 18\n",
      "2 x 10 = 20\n",
      "3 x 1 = 3\n",
      "3 x 2 = 6\n",
      "3 x 3 = 9\n",
      "3 x 4 = 12\n",
      "3 x 5 = 15\n",
      "3 x 6 = 18\n",
      "3 x 7 = 21\n",
      "3 x 8 = 24\n",
      "3 x 9 = 27\n",
      "3 x 10 = 30\n",
      "4 x 1 = 4\n",
      "4 x 2 = 8\n",
      "4 x 3 = 12\n",
      "4 x 4 = 16\n",
      "4 x 5 = 20\n",
      "4 x 6 = 24\n",
      "4 x 7 = 28\n",
      "4 x 8 = 32\n",
      "4 x 9 = 36\n",
      "4 x 10 = 40\n",
      "5 x 1 = 5\n",
      "5 x 2 = 10\n",
      "5 x 3 = 15\n",
      "5 x 4 = 20\n",
      "5 x 5 = 25\n",
      "5 x 6 = 30\n",
      "5 x 7 = 35\n",
      "5 x 8 = 40\n",
      "5 x 9 = 45\n",
      "5 x 10 = 50\n",
      "------\n"
     ]
    }
   ],
   "source": [
    "# create function\n",
    "\n",
    "def table(n):\n",
    "    # use i loop to get table from 1 t0 5\n",
    "    for i in range(1,6):\n",
    "        # use j loop to from multiplication of i th tabel from 1 to 10\n",
    "        for j in range(1,11):\n",
    "            # print the table\n",
    "            print(f'{i} x {j} =',i*j)\n",
    "    print('------')\n",
    "#call the function\n",
    "table(' ')\n",
    "\n"
   ]
  },
  {
   "cell_type": "markdown",
   "metadata": {},
   "source": [
    "17. Write a program that converts a list of Fahrenheit temperatures to Celsius using a `for` loop."
   ]
  },
  {
   "cell_type": "code",
   "execution_count": 107,
   "metadata": {},
   "outputs": [
    {
     "ename": "NameError",
     "evalue": "name 'Celsius_list' is not defined",
     "output_type": "error",
     "traceback": [
      "\u001b[1;31m---------------------------------------------------------------------------\u001b[0m",
      "\u001b[1;31mNameError\u001b[0m                                 Traceback (most recent call last)",
      "Cell \u001b[1;32mIn[107], line 16\u001b[0m\n\u001b[0;32m     14\u001b[0m converter(Fahrenheit_list)\n\u001b[0;32m     15\u001b[0m \u001b[39m# print theconverted list\u001b[39;00m\n\u001b[1;32m---> 16\u001b[0m \u001b[39mprint\u001b[39m(\u001b[39m'\u001b[39m\u001b[39mfahrenit to celsius list\u001b[39m\u001b[39m'\u001b[39m,Celsius_list)\n",
      "\u001b[1;31mNameError\u001b[0m: name 'Celsius_list' is not defined"
     ]
    }
   ],
   "source": [
    "\n",
    "# define function converter which takes list as argument\n",
    "def converter(Fahrenheit_list):\n",
    "    # create empty list of celsius\n",
    "    Celsius_list=[]\n",
    "    # use loop to iterate over list\n",
    "    for degree in Fahrenheit_list:\n",
    "        # use the coversion fomula of F to C\n",
    "        Celsius=((degree-32)*5)//9\n",
    "        # append the celsius result to celsius_list\n",
    "        Celsius_list.append(Celsius)\n",
    "# create the fahreniet list\n",
    "Fahrenheit_list=[110,656,422,3343,235]\n",
    "# sent the above list to function as arguement\n",
    "converter(Fahrenheit_list)\n",
    "# print theconverted list\n",
    "print('fahrenit to celsius list',Celsius_list)"
   ]
  },
  {
   "cell_type": "markdown",
   "metadata": {},
   "source": [
    "18. Create a program to print the common elements from two lists using a `for` loop."
   ]
  },
  {
   "cell_type": "code",
   "execution_count": null,
   "metadata": {},
   "outputs": [
    {
     "name": "stdout",
     "output_type": "stream",
     "text": [
      "[4, 5]\n"
     ]
    }
   ],
   "source": [
    "# create function\n",
    "def check(list1,list2):\n",
    "    # create common empty list \n",
    "    common=[]\n",
    "    # use for loop for list1\n",
    "    for i in list1:\n",
    "        # use for loop for list2\n",
    "        for j in list2:\n",
    "            # check condition if any common elements matches\n",
    "            if i==j:\n",
    "                # if true append the common elements to common list\n",
    "                common.append(i)\n",
    "#create the list\n",
    "list1=[1,2,3,4,5] \n",
    "list2=[4,5,6,7,8,9]\n",
    "# send both list as arguments\n",
    "check(list1,list2)\n",
    "# print\n",
    "print(common)\n",
    "\n",
    "\n",
    "\n"
   ]
  },
  {
   "cell_type": "markdown",
   "metadata": {},
   "source": [
    "19. Develop a program that prints the pattern of right-angled triangles using a `for` loop. Use ‘*’ to draw the \n",
    "pattern\n"
   ]
  },
  {
   "cell_type": "code",
   "execution_count": null,
   "metadata": {},
   "outputs": [
    {
     "name": "stdout",
     "output_type": "stream",
     "text": [
      "*\n",
      "**\n",
      "***\n",
      "****\n",
      "*****\n",
      "******\n"
     ]
    }
   ],
   "source": [
    "def triangle(rows):\n",
    "    # use loop to iterate rows\n",
    "    for rows in range(1,rows+1):\n",
    "        # print '*'multiply with rows\n",
    "        print('*'*rows)\n",
    "# enter num of rows\n",
    "rows=6\n",
    "# call the function\n",
    "triangle(rows)\n",
    "    "
   ]
  },
  {
   "cell_type": "markdown",
   "metadata": {},
   "source": [
    "20. Write a program to find the greatest common divisor (GCD) of two numbers using a `for` loop."
   ]
  },
  {
   "cell_type": "code",
   "execution_count": null,
   "metadata": {},
   "outputs": [
    {
     "name": "stdout",
     "output_type": "stream",
     "text": [
      "GCD of 50 and 100 is: 50\n"
     ]
    }
   ],
   "source": [
    "# give 2 inputs\n",
    "x = 50\n",
    "y = 100\n",
    "#check weather the no. is greater \n",
    "if x > y:\n",
    "  # if true then \n",
    "  x, y = y, x\n",
    "for i in range(1,x+1):\n",
    "  if x%i == 0 and y%i == 0:\n",
    "    gcd = i\n",
    "\n",
    "print(\"GCD of\", x, \"and\", y, \"is:\", gcd)"
   ]
  },
  {
   "cell_type": "markdown",
   "metadata": {},
   "source": [
    "21. Create a program that calculates the sum of the digits of numbers in a list using a list comprehension"
   ]
  },
  {
   "cell_type": "code",
   "execution_count": null,
   "metadata": {},
   "outputs": [
    {
     "name": "stdout",
     "output_type": "stream",
     "text": [
      "40\n"
     ]
    }
   ],
   "source": [
    "# create function\n",
    "def sum_comp(list1):\n",
    "    # create list compresion to iterate over the list\n",
    "    total=[i for i in list1 ]\n",
    "    #now sum of all the elements of the iterated elements list\n",
    "    print(sum(total))\n",
    "#create list\n",
    "list1 = [12, 15, 3, 10]\n",
    "#call fucntion with the argument as the list\n",
    "sum_comp(list1)\n"
   ]
  },
  {
   "cell_type": "markdown",
   "metadata": {},
   "source": [
    "22. Write a program to find the prime factors of a given number using a `for` loop and list comprehension."
   ]
  },
  {
   "cell_type": "code",
   "execution_count": null,
   "metadata": {},
   "outputs": [
    {
     "name": "stdout",
     "output_type": "stream",
     "text": [
      "prime factors of number 200= [1, 2, 4, 5, 8, 10, 20, 25, 40, 50, 100, 200]\n"
     ]
    }
   ],
   "source": [
    "# give input\n",
    "numb=200\n",
    "# use list comprehension in which check the condition of prime factors \n",
    "prime_fact=[i for i in range(1,numb+1) if numb%i==0]\n",
    "# print the prime factors of the number\n",
    "print(f'prime factors of number {numb}=', prime_fact)"
   ]
  },
  {
   "cell_type": "markdown",
   "metadata": {},
   "source": [
    "23. Develop a program that extracts unique elements from a list and stores them in a new list using a list \n",
    "comprehension.\n"
   ]
  },
  {
   "cell_type": "code",
   "execution_count": null,
   "metadata": {},
   "outputs": [
    {
     "name": "stdout",
     "output_type": "stream",
     "text": [
      "[12, 3, 445, 56, 67, 4, 2]\n"
     ]
    }
   ],
   "source": [
    "# create the list\n",
    "given_list=[12,3,445,56,67,3,4,2,3]\n",
    "# create the unique list to store unique elements\n",
    "unique_list=[]\n",
    "# use list comprehension in which set expressin= to append unique element , then use for loop to \n",
    "# iterate over the list elements and then use , the if statement to check the element is present in unique list\n",
    "updated_list=[unique_list.append(x) for x in given_list if x not in unique_list ]\n",
    "# print the unique list\n",
    "print(unique_list)\n"
   ]
  },
  {
   "cell_type": "markdown",
   "metadata": {},
   "source": [
    "24. Create a program that generates a list of all palindromic numbers up to a specified limit using a list \n",
    "comprehension.\n"
   ]
  },
  {
   "cell_type": "code",
   "execution_count": null,
   "metadata": {},
   "outputs": [
    {
     "name": "stdout",
     "output_type": "stream",
     "text": [
      "[11, 22, 33, 44, 55, 66, 77, 88, 99]\n"
     ]
    }
   ],
   "source": [
    "# set the limit\n",
    "limit = 100\n",
    "# use the comprehension || Expression = use P_number , Loop= to iterate upto limit, Condition = use string logic to check the palindrome \n",
    "palindromic_numbers=[P_number for P_number in range(10,limit) if str(P_number) == str(P_number)[::-1] ]\n",
    "# print output\n",
    "print(palindromic_numbers)"
   ]
  },
  {
   "cell_type": "markdown",
   "metadata": {},
   "source": [
    "25. Write a program to flatten a nested list using list comprehension.\n"
   ]
  },
  {
   "cell_type": "code",
   "execution_count": null,
   "metadata": {},
   "outputs": [
    {
     "name": "stdout",
     "output_type": "stream",
     "text": [
      "[1, 2, 4, 1, 5, 6, 7, 8, 9]\n"
     ]
    }
   ],
   "source": [
    "#define function\n",
    "def flattend(lis):\n",
    "    # comprehension | expression = element | Loop = two for loops are used here\n",
    "    #one for whole list and one for inner list and elements are stored in flatList\n",
    "    flatList=[element for inner_list in lis for element in inner_list]\n",
    "    # print flatList\n",
    "    print(flatList)\n",
    "# create list\n",
    "lis=[[1,2,4],[1,5,6],[7,8,9]]\n",
    "# call the function and send lis as argument\n",
    "flattend(lis)\n"
   ]
  },
  {
   "cell_type": "markdown",
   "metadata": {},
   "source": [
    "26. Develop a program that computes the sum of even and odd numbers in a list separately using list \n",
    "comprehension."
   ]
  },
  {
   "cell_type": "code",
   "execution_count": null,
   "metadata": {},
   "outputs": [
    {
     "ename": "TypeError",
     "evalue": "'int' object is not callable",
     "output_type": "error",
     "traceback": [
      "\u001b[1;31m---------------------------------------------------------------------------\u001b[0m",
      "\u001b[1;31mTypeError\u001b[0m                                 Traceback (most recent call last)",
      "Cell \u001b[1;32mIn[95], line 4\u001b[0m\n\u001b[0;32m      2\u001b[0m even_sum\u001b[39m=\u001b[39m\u001b[39m0\u001b[39m\n\u001b[0;32m      3\u001b[0m odd_sum\u001b[39m=\u001b[39m\u001b[39m0\u001b[39m\n\u001b[1;32m----> 4\u001b[0m even_sum\u001b[39m+\u001b[39m\u001b[39m=\u001b[39m\u001b[39msum\u001b[39;49m([\u001b[39mint\u001b[39;49m(ele)\n\u001b[0;32m      5\u001b[0m                 \u001b[39mfor\u001b[39;49;00m sub \u001b[39min\u001b[39;49;00m lis12 \u001b[39mfor\u001b[39;49;00m ele \u001b[39min\u001b[39;49;00m \u001b[39mstr\u001b[39;49m(sub) \u001b[39mif\u001b[39;49;00m \u001b[39mint\u001b[39;49m(ele)\u001b[39m%\u001b[39;49m\u001b[39m2\u001b[39;49m\u001b[39m==\u001b[39;49m\u001b[39m0\u001b[39;49m ])\n\u001b[0;32m      6\u001b[0m odd_sum\u001b[39m=\u001b[39m\u001b[39msum\u001b[39m([\u001b[39mint\u001b[39m(ele)\n\u001b[0;32m      7\u001b[0m                 \u001b[39mfor\u001b[39;00m sub \u001b[39min\u001b[39;00m lis12 \u001b[39mfor\u001b[39;00m ele \u001b[39min\u001b[39;00m \u001b[39mstr\u001b[39m(sub) \u001b[39mif\u001b[39;00m \u001b[39mint\u001b[39m(ele)\u001b[39m%\u001b[39m\u001b[39m2\u001b[39m\u001b[39m==\u001b[39m\u001b[39m1\u001b[39m])\n\u001b[0;32m      9\u001b[0m \u001b[39mprint\u001b[39m(\u001b[39m'\u001b[39m\u001b[39meven sum\u001b[39m\u001b[39m'\u001b[39m\u001b[39m+\u001b[39m\u001b[39mstr\u001b[39m(even_sum))\n",
      "\u001b[1;31mTypeError\u001b[0m: 'int' object is not callable"
     ]
    }
   ],
   "source": [
    "# lis12=[1,23,4,57,56,33,46,78,56,3,5,7]\n",
    "# even_sum=0\n",
    "# odd_sum=0\n",
    "# even_sum+=sum([int(ele)\n",
    "#                 for sub in lis12 for ele in str(sub) if int(ele)%2==0 ])\n",
    "# odd_sum=sum([int(ele)\n",
    "#                 for sub in lis12 for ele in str(sub) if int(ele)%2==1])\n",
    "\n",
    "# print('even sum'+str(even_sum))\n",
    "# print('odd sum'+str(odd_sum))\n"
   ]
  },
  {
   "cell_type": "code",
   "execution_count": null,
   "metadata": {},
   "outputs": [
    {
     "ename": "SyntaxError",
     "evalue": "expected 'else' after 'if' expression (2630158595.py, line 5)",
     "output_type": "error",
     "traceback": [
      "\u001b[1;36m  Cell \u001b[1;32mIn[99], line 5\u001b[1;36m\u001b[0m\n\u001b[1;33m    odd_sum += sum([int(ele) for sub in test_list for int(ele) in str(sub) if int(ele) % 2 == 1])\u001b[0m\n\u001b[1;37m                                                      ^\u001b[0m\n\u001b[1;31mSyntaxError\u001b[0m\u001b[1;31m:\u001b[0m expected 'else' after 'if' expression\n"
     ]
    }
   ],
   "source": [
    "test_list = [345, 893, 1948, 34, 2346]\n",
    "odd_sum = 0\n",
    "even_sum = 0\n",
    "\n",
    "odd_sum += sum([int(ele) for sub in test_list for int(ele) in str(sub) if int(ele) % 2 == 1])\n",
    "even_sum += sum([int(ele)\n",
    "\t\t\t\tfor sub in test_list for ele in str(sub) if int(ele) % 2 == 0])\n",
    "\n",
    "print(\"Odd digit sum : \" + str(odd_sum))\n",
    "print(\"Even digit sum : \" + str(even_sum))\n"
   ]
  },
  {
   "cell_type": "markdown",
   "metadata": {},
   "source": [
    "27. Create a program that generates a list of squares of odd numbers between 1 and 10 using list \n",
    "comprehension."
   ]
  },
  {
   "cell_type": "code",
   "execution_count": null,
   "metadata": {},
   "outputs": [
    {
     "name": "stdout",
     "output_type": "stream",
     "text": [
      "[1, 9, 25, 49, 81]\n"
     ]
    }
   ],
   "source": [
    "# create the comprehension where | Expression = i squared | for loop of range(1 to 10+1) | condition = odd number\n",
    "squared=[i**2 for i in range(1,11) if i%2==1]\n",
    "# print output\n",
    "print(squared)"
   ]
  },
  {
   "cell_type": "markdown",
   "metadata": {},
   "source": [
    "28. Write a program that combines two lists into a dictionary using list comprehension."
   ]
  },
  {
   "cell_type": "code",
   "execution_count": null,
   "metadata": {},
   "outputs": [
    {
     "name": "stdout",
     "output_type": "stream",
     "text": [
      "[{1: 5, 2: 6, 3: 7, 4: 8}]\n"
     ]
    }
   ],
   "source": [
    "#method 1\n",
    "# create 2 lists\n",
    "l1=[1,2,3,4]\n",
    "l2=[5,6,7,8]\n",
    "# use zip function to create dict of l1 and l2\n",
    "dict_comp=[dict(zip(l1,l2))]\n",
    "#print output\n",
    "print(dict_comp)\n",
    "\n",
    "# dict_no={[ dict(zip(i,j)) for i in l1 for j in l2]}\n",
    "# print(dict_no)"
   ]
  },
  {
   "cell_type": "code",
   "execution_count": null,
   "metadata": {},
   "outputs": [
    {
     "name": "stdout",
     "output_type": "stream",
     "text": [
      "{1: 'a', 2: 'b', 3: 'c'}\n"
     ]
    }
   ],
   "source": [
    "# create function\n",
    "\n",
    "def Combine(lst):\n",
    "\t# use list comphrension where | expression is like key[i] and value[i] and for loop iterating \n",
    "\t# over the range of list 1 , here no condition is used\n",
    "\tdict_comp={l1[i]: l2[i] for i in range(len(l1))}\n",
    "\t# returen the output\n",
    "\treturn dict_comp\n",
    "\t\t\n",
    "# Driver code\n",
    "l1= [1,2,3]\n",
    "l2=['a','b','c','d']\n",
    "print(Combine(lst))\n"
   ]
  },
  {
   "cell_type": "markdown",
   "metadata": {},
   "source": [
    "29. Develop a program that extracts the vowels from a string and stores them in a list using list comprehension."
   ]
  },
  {
   "cell_type": "code",
   "execution_count": null,
   "metadata": {},
   "outputs": [
    {
     "name": "stdout",
     "output_type": "stream",
     "text": [
      "vowels present in the name are = ['a', 'i', 'e', 'a', 'u', 'a', 'i']\n"
     ]
    }
   ],
   "source": [
    "# define funciton\n",
    "def extraction ( name):\n",
    "    # define the vowels letter in a set \n",
    "    vowels=set('aeiouAEIOU')\n",
    "    # use comprehension | expression is letters and use for loop over the name | condition = the letter should match \n",
    "    # the vowels set\n",
    "    vowel_list=[ letter for letter in name if letter in vowels]\n",
    "    # return output\n",
    "    return vowel_list\n",
    "# creat name  \n",
    "name='Raviteja Kulkarni'\n",
    "#call funxn\n",
    "extraction(name)\n",
    "#print output\n",
    "print('vowels present in the name are =',vowel_list)"
   ]
  },
  {
   "cell_type": "markdown",
   "metadata": {},
   "source": [
    "30. Create a program that removes all non-numeric characters from a list of strings using list comprehension."
   ]
  },
  {
   "cell_type": "code",
   "execution_count": null,
   "metadata": {},
   "outputs": [
    {
     "name": "stdout",
     "output_type": "stream",
     "text": [
      "['2', '4', '7', '7', '4', '4', '9', '9', '9', '1', '0', '2', '0', '0', '1']\n"
     ]
    }
   ],
   "source": [
    "# define funxn\n",
    "def remove_char(mail):\n",
    "# use comprehension where expression is letters | for loop over mail string | and isdigit() function to find digits\n",
    "    removed_list=[letters for letters in mail if letters.isdigit()]\n",
    "    # return list\n",
    "    return removed_list\n",
    "#create the string\n",
    "mail='ravi24teja77 kulk44arni 999 dob- 10 jan 2001'\n",
    "#call funxn\n",
    "remove_char(mail)\n",
    "#print output\n",
    "print(removed_list)"
   ]
  },
  {
   "cell_type": "markdown",
   "metadata": {},
   "source": [
    "31. Write a program to generate a list of prime numbers using the Sieve of Eratosthenes algorithm and list \n",
    "comprehension."
   ]
  },
  {
   "cell_type": "code",
   "execution_count": null,
   "metadata": {},
   "outputs": [],
   "source": [
    " .1"
   ]
  },
  {
   "cell_type": "markdown",
   "metadata": {},
   "source": [
    "32. Create a program that generates a list of all Pythagorean triplets up to a specified limit using list \n",
    "comprehension."
   ]
  },
  {
   "cell_type": "code",
   "execution_count": null,
   "metadata": {},
   "outputs": [
    {
     "name": "stdout",
     "output_type": "stream",
     "text": [
      "(3, 4, 5)\n",
      "(5, 12, 13)\n",
      "(6, 8, 10)\n",
      "(8, 15, 17)\n",
      "(9, 12, 15)\n",
      "(12, 16, 20)\n"
     ]
    }
   ],
   "source": [
    "#method 1\n",
    " #generation of triplets concept\n",
    "\n",
    "n=20\n",
    "a=0\n",
    "b=0\n",
    "c=0\n",
    "for a in range(1,n+1):\n",
    "    for b in range(a,n+1):\n",
    "        for c in range (b,n+1):\n",
    "            if a**2 + b**2 == c**2:\n",
    "                print((a,b,c))\n",
    "    \n"
   ]
  },
  {
   "cell_type": "code",
   "execution_count": null,
   "metadata": {},
   "outputs": [
    {
     "name": "stdout",
     "output_type": "stream",
     "text": [
      "pythogorian triplets [(1, 1, 1), (1, 3, 5), (1, 5, 13), (1, 7, 25), (2, 2, 4), (2, 4, 10), (2, 6, 20), (3, 3, 9), (3, 5, 17), (4, 4, 16), (5, 5, 25)]\n"
     ]
    }
   ],
   "source": [
    "#method 2 using list comprehension\n",
    "# set the limit\n",
    "limit=25\n",
    "# initilize the terms\n",
    "a,b,c=0,0,0\n",
    "# here create the list comprehesion where| exprssion is (a,b,c) |  1\n",
    "triplets=[(a,b,c) for a in range(1,limit+1) for b in range(a,limit+1) for c in range (b,limit+1) if a**2+b**2==c*2 ]\n",
    "print('pythogorian triplets',triplets)"
   ]
  },
  {
   "cell_type": "markdown",
   "metadata": {},
   "source": [
    "33. Develop a program that generates a list of all possible combinations of two lists using list comprehension."
   ]
  },
  {
   "cell_type": "code",
   "execution_count": null,
   "metadata": {},
   "outputs": [
    {
     "name": "stdout",
     "output_type": "stream",
     "text": [
      "[[(1, 'a'), (2, 'b'), (3, 'c')], [(1, 'a'), (2, 'b'), (4, 'c')], [(1, 'a'), (3, 'b'), (2, 'c')], [(1, 'a'), (3, 'b'), (4, 'c')], [(1, 'a'), (4, 'b'), (2, 'c')], [(1, 'a'), (4, 'b'), (3, 'c')], [(2, 'a'), (1, 'b'), (3, 'c')], [(2, 'a'), (1, 'b'), (4, 'c')], [(2, 'a'), (3, 'b'), (1, 'c')], [(2, 'a'), (3, 'b'), (4, 'c')], [(2, 'a'), (4, 'b'), (1, 'c')], [(2, 'a'), (4, 'b'), (3, 'c')], [(3, 'a'), (1, 'b'), (2, 'c')], [(3, 'a'), (1, 'b'), (4, 'c')], [(3, 'a'), (2, 'b'), (1, 'c')], [(3, 'a'), (2, 'b'), (4, 'c')], [(3, 'a'), (4, 'b'), (1, 'c')], [(3, 'a'), (4, 'b'), (2, 'c')], [(4, 'a'), (1, 'b'), (2, 'c')], [(4, 'a'), (1, 'b'), (3, 'c')], [(4, 'a'), (2, 'b'), (1, 'c')], [(4, 'a'), (2, 'b'), (3, 'c')], [(4, 'a'), (3, 'b'), (1, 'c')], [(4, 'a'), (3, 'b'), (2, 'c')]]\n"
     ]
    }
   ],
   "source": [
    "#method 1 concept of this question\n",
    "\n",
    "import itertools\n",
    "from itertools import permutations\n",
    "\n",
    "#initilize the lists\n",
    "lest1=[1,2,3,4]\n",
    "lest2=['a','b','c']\n",
    "# create empty list to store the data\n",
    "unique_combi=[]\n",
    "# get all the permutation of the lest1 with the lengt as lest 2\n",
    "permut=itertools.permutations(lest1,len(lest2))\n",
    "# use for loop\n",
    "\n",
    "for comb in permut:\n",
    "    #zip the combination of the list1 with list2\n",
    "    zipped=zip(comb,lest2)\n",
    "    # updatet the unique combinations to the empty list\n",
    "    unique_combi.append(list(zipped))\n",
    "#print list\n",
    "print(unique_combi)\n",
    "\n"
   ]
  },
  {
   "cell_type": "code",
   "execution_count": null,
   "metadata": {},
   "outputs": [
    {
     "name": "stdout",
     "output_type": "stream",
     "text": [
      "unique_combination [[(5, 'x'), (6, 'x'), (7, 'x'), (9, 'x')], [(5, 'x'), (6, 'x'), (7, 'x'), (9, 'y')], [(5, 'x'), (6, 'x'), (7, 'x'), (9, 'z')], [(5, 'x'), (6, 'x'), (7, 'y'), (9, 'x')], [(5, 'x'), (6, 'x'), (7, 'y'), (9, 'y')], [(5, 'x'), (6, 'x'), (7, 'y'), (9, 'z')], [(5, 'x'), (6, 'x'), (7, 'z'), (9, 'x')], [(5, 'x'), (6, 'x'), (7, 'z'), (9, 'y')], [(5, 'x'), (6, 'x'), (7, 'z'), (9, 'z')], [(5, 'x'), (6, 'y'), (7, 'x'), (9, 'x')], [(5, 'x'), (6, 'y'), (7, 'x'), (9, 'y')], [(5, 'x'), (6, 'y'), (7, 'x'), (9, 'z')], [(5, 'x'), (6, 'y'), (7, 'y'), (9, 'x')], [(5, 'x'), (6, 'y'), (7, 'y'), (9, 'y')], [(5, 'x'), (6, 'y'), (7, 'y'), (9, 'z')], [(5, 'x'), (6, 'y'), (7, 'z'), (9, 'x')], [(5, 'x'), (6, 'y'), (7, 'z'), (9, 'y')], [(5, 'x'), (6, 'y'), (7, 'z'), (9, 'z')], [(5, 'x'), (6, 'z'), (7, 'x'), (9, 'x')], [(5, 'x'), (6, 'z'), (7, 'x'), (9, 'y')], [(5, 'x'), (6, 'z'), (7, 'x'), (9, 'z')], [(5, 'x'), (6, 'z'), (7, 'y'), (9, 'x')], [(5, 'x'), (6, 'z'), (7, 'y'), (9, 'y')], [(5, 'x'), (6, 'z'), (7, 'y'), (9, 'z')], [(5, 'x'), (6, 'z'), (7, 'z'), (9, 'x')], [(5, 'x'), (6, 'z'), (7, 'z'), (9, 'y')], [(5, 'x'), (6, 'z'), (7, 'z'), (9, 'z')], [(5, 'y'), (6, 'x'), (7, 'x'), (9, 'x')], [(5, 'y'), (6, 'x'), (7, 'x'), (9, 'y')], [(5, 'y'), (6, 'x'), (7, 'x'), (9, 'z')], [(5, 'y'), (6, 'x'), (7, 'y'), (9, 'x')], [(5, 'y'), (6, 'x'), (7, 'y'), (9, 'y')], [(5, 'y'), (6, 'x'), (7, 'y'), (9, 'z')], [(5, 'y'), (6, 'x'), (7, 'z'), (9, 'x')], [(5, 'y'), (6, 'x'), (7, 'z'), (9, 'y')], [(5, 'y'), (6, 'x'), (7, 'z'), (9, 'z')], [(5, 'y'), (6, 'y'), (7, 'x'), (9, 'x')], [(5, 'y'), (6, 'y'), (7, 'x'), (9, 'y')], [(5, 'y'), (6, 'y'), (7, 'x'), (9, 'z')], [(5, 'y'), (6, 'y'), (7, 'y'), (9, 'x')], [(5, 'y'), (6, 'y'), (7, 'y'), (9, 'y')], [(5, 'y'), (6, 'y'), (7, 'y'), (9, 'z')], [(5, 'y'), (6, 'y'), (7, 'z'), (9, 'x')], [(5, 'y'), (6, 'y'), (7, 'z'), (9, 'y')], [(5, 'y'), (6, 'y'), (7, 'z'), (9, 'z')], [(5, 'y'), (6, 'z'), (7, 'x'), (9, 'x')], [(5, 'y'), (6, 'z'), (7, 'x'), (9, 'y')], [(5, 'y'), (6, 'z'), (7, 'x'), (9, 'z')], [(5, 'y'), (6, 'z'), (7, 'y'), (9, 'x')], [(5, 'y'), (6, 'z'), (7, 'y'), (9, 'y')], [(5, 'y'), (6, 'z'), (7, 'y'), (9, 'z')], [(5, 'y'), (6, 'z'), (7, 'z'), (9, 'x')], [(5, 'y'), (6, 'z'), (7, 'z'), (9, 'y')], [(5, 'y'), (6, 'z'), (7, 'z'), (9, 'z')], [(5, 'z'), (6, 'x'), (7, 'x'), (9, 'x')], [(5, 'z'), (6, 'x'), (7, 'x'), (9, 'y')], [(5, 'z'), (6, 'x'), (7, 'x'), (9, 'z')], [(5, 'z'), (6, 'x'), (7, 'y'), (9, 'x')], [(5, 'z'), (6, 'x'), (7, 'y'), (9, 'y')], [(5, 'z'), (6, 'x'), (7, 'y'), (9, 'z')], [(5, 'z'), (6, 'x'), (7, 'z'), (9, 'x')], [(5, 'z'), (6, 'x'), (7, 'z'), (9, 'y')], [(5, 'z'), (6, 'x'), (7, 'z'), (9, 'z')], [(5, 'z'), (6, 'y'), (7, 'x'), (9, 'x')], [(5, 'z'), (6, 'y'), (7, 'x'), (9, 'y')], [(5, 'z'), (6, 'y'), (7, 'x'), (9, 'z')], [(5, 'z'), (6, 'y'), (7, 'y'), (9, 'x')], [(5, 'z'), (6, 'y'), (7, 'y'), (9, 'y')], [(5, 'z'), (6, 'y'), (7, 'y'), (9, 'z')], [(5, 'z'), (6, 'y'), (7, 'z'), (9, 'x')], [(5, 'z'), (6, 'y'), (7, 'z'), (9, 'y')], [(5, 'z'), (6, 'y'), (7, 'z'), (9, 'z')], [(5, 'z'), (6, 'z'), (7, 'x'), (9, 'x')], [(5, 'z'), (6, 'z'), (7, 'x'), (9, 'y')], [(5, 'z'), (6, 'z'), (7, 'x'), (9, 'z')], [(5, 'z'), (6, 'z'), (7, 'y'), (9, 'x')], [(5, 'z'), (6, 'z'), (7, 'y'), (9, 'y')], [(5, 'z'), (6, 'z'), (7, 'y'), (9, 'z')], [(5, 'z'), (6, 'z'), (7, 'z'), (9, 'x')], [(5, 'z'), (6, 'z'), (7, 'z'), (9, 'y')], [(5, 'z'), (6, 'z'), (7, 'z'), (9, 'z')]]\n"
     ]
    }
   ],
   "source": [
    "# method 2 using list comprehension\n",
    "# import itertools package\n",
    "import itertools\n",
    "from itertools import product\n",
    "#initilize the list\n",
    "ist1=[5,6,7,9]\n",
    "ist2=['x','y','z']\n",
    "\n",
    "# extraction the combination of two list\n",
    "# use zip() + product()\n",
    "unique_combination=(  list(list(zip(ist1,element))\n",
    "                for element in product(ist2,repeat=len(ist1))))\n",
    "#print output\n",
    "print('unique_combination',unique_combination)"
   ]
  },
  {
   "cell_type": "markdown",
   "metadata": {},
   "source": [
    "34. Write a program that calculates the mean, median, and mode of a list of numbers using list \n",
    "comprehension."
   ]
  },
  {
   "cell_type": "code",
   "execution_count": 233,
   "metadata": {},
   "outputs": [
    {
     "name": "stdout",
     "output_type": "stream",
     "text": [
      "[1, 4, 3, 2, 14, 5, 2, 9, 2]\n",
      "mean 4.666666666666667\n",
      "median  [3]\n",
      "mode [2]\n"
     ]
    }
   ],
   "source": [
    "# import the module\n",
    "import statistics\n",
    "# create the list\n",
    "list11=[1,4,3,2,14,5,2,9,2]\n",
    "print(list11)\n",
    "# mean is average of the summed list \n",
    "mean=sum([num for num in list11])/len(list11)\n",
    "# print mean\n",
    "print('mean',mean)\n",
    "# use median function to get\n",
    "median=[statistics.median(list11)]\n",
    "# # print output\n",
    "print('median ',median)\n",
    "\n",
    "# mode is the frequency of the letter occurance we can use max and count function to get the result\n",
    "mode=[ max(set(list11), key=list11.count)  ]\n",
    "print('mode',mode)"
   ]
  },
  {
   "cell_type": "markdown",
   "metadata": {},
   "source": [
    "36. Develop a program that calculates the sum of the digits of a factorial of numbers from 1 to 5 using list \n",
    "comprehension.\n"
   ]
  },
  {
   "cell_type": "code",
   "execution_count": 234,
   "metadata": {},
   "outputs": [
    {
     "name": "stdout",
     "output_type": "stream",
     "text": [
      "153\n"
     ]
    }
   ],
   "source": [
    "# import math function\n",
    "\n",
    "import math\n",
    "# initilize the factorial to 1\n",
    "factorial =1\n",
    "# use comprehension where expression is factorial funxn of iterated  value | for loop \n",
    "factorial = [ math.factorial(i) for i in range(1,6)]\n",
    "# print the factorail with sum \n",
    "print(sum(factorial))"
   ]
  },
  {
   "cell_type": "markdown",
   "metadata": {},
   "source": [
    "37. Write a program that finds the longest word in a sentence using list comprehension."
   ]
  },
  {
   "cell_type": "code",
   "execution_count": 235,
   "metadata": {},
   "outputs": [
    {
     "name": "stdout",
     "output_type": "stream",
     "text": [
      "longest word in the list is= scientistof\n"
     ]
    }
   ],
   "source": [
    "# enter the sentence\n",
    "sentences='raviteja the data scientistof india'\n",
    "# split the words with ' ' and create the list\n",
    "word_list=sentences.split(' ')\n",
    "\n",
    "# create the lise using compreension to count the no of letters in words of the sentence\n",
    "word_length=[ len(i) for i in word_list ]\n",
    "\n",
    "# find the index of the largest no in the list\n",
    "longest_word_index=word_length.index(max(word_length ) )\n",
    "\n",
    "# find the word with the index of highest letter containing word\n",
    "longest_word_in_list=word_list[longest_word_index]\n",
    "\n",
    "# print  \n",
    "print(f'longest word in the list is= {longest_word_in_list}')\n"
   ]
  },
  {
   "cell_type": "markdown",
   "metadata": {},
   "source": [
    "38. Create a program that filters a list of strings to include only those with more than three vowels using list \n",
    "comprehension."
   ]
  },
  {
   "cell_type": "code",
   "execution_count": 236,
   "metadata": {},
   "outputs": [
    {
     "name": "stdout",
     "output_type": "stream",
     "text": [
      "Filtered words = ['raviteja', 'datascinece']\n"
     ]
    }
   ],
   "source": [
    "# creat the list of words\n",
    "\n",
    "sent=['raviteja','kulkarni','datascinece','ironman']\n",
    "\n",
    "# create the list comprehension where | 1st loop used to itearte over the list of words | 2nd loop is used\n",
    "# to iterate over the characters and then the vowelsi words are checked and counted \n",
    "# if more than 2 vowels are found in then consider it as our result\n",
    "\n",
    "filter=[ i for i in sent if sum(1 for char in i if char.lower() in 'aeiou')>3]\n",
    "\n",
    "# print output\n",
    "print('Filtered words =',filter)\n"
   ]
  },
  {
   "cell_type": "markdown",
   "metadata": {},
   "source": [
    "39. Develop a program that calculates the sum of the digits of numbers from 1 to 1000 using list \n",
    "comprehension."
   ]
  },
  {
   "cell_type": "code",
   "execution_count": 237,
   "metadata": {},
   "outputs": [
    {
     "name": "stdout",
     "output_type": "stream",
     "text": [
      "500500\n"
     ]
    }
   ],
   "source": [
    "#create comprehension where | Exprestion is iterated value | for loop of range(1,1000) | no coditins and the whole\n",
    "#list developed will be summed up\n",
    "total=sum([i for i in range(1,1001) ])\n",
    "#print total\n",
    "print(total)"
   ]
  },
  {
   "cell_type": "markdown",
   "metadata": {},
   "source": [
    "40. Write a program that generates a list of prime palindromic numbers using list comprehension"
   ]
  },
  {
   "cell_type": "code",
   "execution_count": 238,
   "metadata": {},
   "outputs": [
    {
     "name": "stdout",
     "output_type": "stream",
     "text": [
      "paliprime numbers are= [2, 3, 5, 7, 11, 101, 131, 151, 181, 191, 313, 353, 373, 383, 727, 757, 787, 797, 919, 929]\n"
     ]
    }
   ],
   "source": [
    "\n",
    "#set limit\n",
    "\n",
    "limit = 1000\n",
    "\n",
    "# generate the prime no. upto the limit through list comprehension \n",
    "# where 1st for loop used to iterate over the limit and then in the if condition 2nd loop is used to divide the \n",
    "# the i number with the wnd loop iterated j value with some expression  \n",
    "\n",
    "prime_no=[i for i in range(2,limit) if all(i%j!=0 for j in range(2,int(i*0.5)+1))]\n",
    "# here the prime_no list elements are match with themself by reversing the string expression to get palindrome\n",
    "\n",
    "palin_i=[k for k in prime_no if(str(k)==str(k)[::-1])]\n",
    "print(\"paliprime numbers are=\",palin_i)\n"
   ]
  }
 ],
 "metadata": {
  "kernelspec": {
   "display_name": "Python 3",
   "language": "python",
   "name": "python3"
  },
  "language_info": {
   "codemirror_mode": {
    "name": "ipython",
    "version": 3
   },
   "file_extension": ".py",
   "mimetype": "text/x-python",
   "name": "python",
   "nbconvert_exporter": "python",
   "pygments_lexer": "ipython3",
   "version": "3.11.5"
  },
  "orig_nbformat": 4
 },
 "nbformat": 4,
 "nbformat_minor": 2
}
