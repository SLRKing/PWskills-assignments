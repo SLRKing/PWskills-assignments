{
 "cells": [
  {
   "cell_type": "markdown",
   "metadata": {},
   "source": [
    "Basic If-Else Statements:\n",
    "\n",
    " \n",
    "\n",
    "1. Write a Python program to check if a given number is positive or negative."
   ]
  },
  {
   "cell_type": "code",
   "execution_count": 7,
   "metadata": {},
   "outputs": [
    {
     "name": "stdout",
     "output_type": "stream",
     "text": [
      "Negative\n"
     ]
    }
   ],
   "source": [
    "#create function\n",
    "def check(num):\n",
    "    #check the num is greater than 0\n",
    "    if num>=0:\n",
    "        # if true print +\n",
    "        print('positive')\n",
    "    else:\n",
    "        #else -\n",
    "        print('Negative')\n",
    "#enter number\n",
    "num=-9\n",
    "#call the function\n",
    "check(num)"
   ]
  },
  {
   "cell_type": "markdown",
   "metadata": {},
   "source": [
    "2. Create a program that determines if a person is eligible to vote based on their age."
   ]
  },
  {
   "cell_type": "code",
   "execution_count": 8,
   "metadata": {},
   "outputs": [
    {
     "name": "stdout",
     "output_type": "stream",
     "text": [
      "eligible\n"
     ]
    }
   ],
   "source": [
    "#create the function\n",
    "def elegible(age):\n",
    "    #checkt eh ae is grater of equal to 18\n",
    "    if age>=18:\n",
    "        # true then print\n",
    "        print('eligible')\n",
    "\n",
    "    else:\n",
    "        # false then print\n",
    "        print('not eligible')\n",
    "# take input of age\n",
    "age=int(input('Enter your age'))\n",
    "#call function pass age as argument\n",
    "elegible(age)"
   ]
  },
  {
   "cell_type": "markdown",
   "metadata": {},
   "source": [
    "3. Develop a program to find the maximum of two numbers using if-else statements."
   ]
  },
  {
   "cell_type": "code",
   "execution_count": 9,
   "metadata": {},
   "outputs": [
    {
     "name": "stdout",
     "output_type": "stream",
     "text": [
      "8 is greater than 6\n"
     ]
    }
   ],
   "source": [
    "#creat function\n",
    "\n",
    "def greate(a,b):\n",
    "    #chech a> b \n",
    "    if a>b:\n",
    "        # if true then pritn this\n",
    "        print(f'{a} is greater than {b}')\n",
    "\n",
    "    else:\n",
    "        #print this\n",
    "        print(f'{b} is greater than {a}')\n",
    "# set variables\n",
    "a=6\n",
    "b=8\n",
    "#call the function pass a,b as arg\n",
    "greate(a,b)"
   ]
  },
  {
   "cell_type": "markdown",
   "metadata": {},
   "source": [
    "4. Write a Python script to classify a given year as a leap year or not."
   ]
  },
  {
   "cell_type": "code",
   "execution_count": 13,
   "metadata": {},
   "outputs": [
    {
     "name": "stdout",
     "output_type": "stream",
     "text": [
      "2024 is leap year\n"
     ]
    }
   ],
   "source": [
    "#create function\n",
    "\n",
    "def leap_yr(year):\n",
    "    # check the leap year condition | leap year occures once every 4 year\n",
    "    if year%4==0 and (year%100!=100 or year%400==0):\n",
    "        # if true print \n",
    "        print(f'{year} is leap year')\n",
    "    else:\n",
    "        print('not leap year')\n",
    "#call function pass year as arg\n",
    "leap_yr(2024)"
   ]
  },
  {
   "cell_type": "markdown",
   "metadata": {},
   "source": [
    "5. Create a program that checks whether a character is a vowel or a consonant."
   ]
  },
  {
   "cell_type": "code",
   "execution_count": 15,
   "metadata": {},
   "outputs": [
    {
     "name": "stdout",
     "output_type": "stream",
     "text": [
      "r is consonanat\n",
      "e is vowel\n"
     ]
    }
   ],
   "source": [
    "# fumction\n",
    "def chek(char):\n",
    "    #set of vowels\n",
    "    vowel=set('aeiouAEIOU')\n",
    "    #check char in set\n",
    "    if char in vowel:\n",
    "        # if ture\n",
    "        print(f\"{char} is vowel\")\n",
    "    else:\n",
    "        # if false\n",
    "        print(f\"{char} is consonanat\")\n",
    "# call function and pass arguments\n",
    "chek('r')\n",
    "chek('e')\n",
    "    "
   ]
  },
  {
   "cell_type": "markdown",
   "metadata": {},
   "source": [
    "6. Write a program to classify a triangle based on its sides' lengths."
   ]
  },
  {
   "cell_type": "code",
   "execution_count": 18,
   "metadata": {},
   "outputs": [
    {
     "name": "stdout",
     "output_type": "stream",
     "text": [
      "Triangle is Equilateral\n",
      "Triangle is Isosceles\n",
      "Triangle is scalane\n",
      "Triangle is Isosceles\n"
     ]
    }
   ],
   "source": [
    "#create function \n",
    "def classify(a,b,c):\n",
    "    # check the conditon for equilateral\n",
    "    if a==b and b==c and c==a:\n",
    "        print('Triangle is Equilateral')\n",
    "    # check the conditon for isosceles\n",
    "    elif a==b or b==c or c==a:\n",
    "        print('Triangle is Isosceles')\n",
    "\n",
    "    # check the conditon for scalane\n",
    "    else:\n",
    "        print('Triangle is scalane')\n",
    "#call function with arguments\n",
    "classify(3,3,3)\n",
    "classify(3,3,5)\n",
    "classify(2,3,5)\n",
    "classify(4,6,4)"
   ]
  },
  {
   "cell_type": "markdown",
   "metadata": {},
   "source": [
    "7. Write a Python function to calculate the absolute value of a number without using the `abs()` function."
   ]
  },
  {
   "cell_type": "code",
   "execution_count": 20,
   "metadata": {},
   "outputs": [
    {
     "name": "stdout",
     "output_type": "stream",
     "text": [
      "absolute 5\n",
      "absolute 99\n",
      "absolute 0\n"
     ]
    }
   ],
   "source": [
    "# creat function\n",
    "def absoute(num):\n",
    "    #check the number is positive\n",
    "    if num>=0:\n",
    "        #return num\n",
    "        return num \n",
    "    else:\n",
    "        #if num is -ve\n",
    "        return -num \n",
    "#call function and pass the num as args\n",
    "print('absolute',absoute(5))\n",
    "print('absolute',absoute(-99))\n",
    "print('absolute',absoute(0))\n"
   ]
  },
  {
   "cell_type": "markdown",
   "metadata": {},
   "source": [
    "8. Develop a program that determines the largest of three given numbers using if-else statements."
   ]
  },
  {
   "cell_type": "code",
   "execution_count": 22,
   "metadata": {},
   "outputs": [
    {
     "name": "stdout",
     "output_type": "stream",
     "text": [
      "6 is largest\n",
      "45 is largest\n"
     ]
    }
   ],
   "source": [
    "#create function\n",
    "def large(a,b,c):\n",
    "    # check a is greater than b and c\n",
    "    if a>b and a>c:\n",
    "        print(f'{a} is largest')\n",
    "        # check c is greater than others\n",
    "    elif c>a and c>b:\n",
    "        print(f'{c} is largest')\n",
    "    # if a & c are not greater then by default b will be \n",
    "    else:\n",
    "        print(f'{b} is largest')\n",
    "# call function and pass args\n",
    "large(4,5,6)\n",
    "large(4,45,2)"
   ]
  },
  {
   "cell_type": "markdown",
   "metadata": {},
   "source": [
    "9. Create a program that checks if a given string is a palindrome."
   ]
  },
  {
   "cell_type": "markdown",
   "metadata": {},
   "source": [
    "repeated"
   ]
  },
  {
   "cell_type": "markdown",
   "metadata": {},
   "source": [
    "10. Write a Python program to calculate the grade based on a student's score.\n"
   ]
  },
  {
   "cell_type": "code",
   "execution_count": null,
   "metadata": {},
   "outputs": [],
   "source": [
    "# create function\n",
    "\n",
    "def grade(score):\n",
    "    # Set the grade value accordingly to the conditions \n",
    "    if score>90:\n",
    "        print('excellent')\n",
    "    elif score>80:\n",
    "        print('distinction')\n",
    "    elif score>70:\n",
    "        print('First class')\n",
    "    else:\n",
    "        print('second class')\n",
    "# enter the score whle calling the function \n",
    "grade(50)\n",
    "grade(99)\n",
    "grade(85)"
   ]
  },
  {
   "cell_type": "markdown",
   "metadata": {},
   "source": [
    "11. Write a program to find the largest among three numbers using nested if-else statements."
   ]
  },
  {
   "cell_type": "code",
   "execution_count": 1,
   "metadata": {},
   "outputs": [
    {
     "name": "stdout",
     "output_type": "stream",
     "text": [
      "largest is 66\n",
      "largest is 353\n",
      "largest is 4545\n"
     ]
    }
   ],
   "source": [
    "#define function\n",
    "def lar_check(a,b,c):\n",
    "    # check for a\n",
    "    if a>b and a>c:\n",
    "        print(f'largest is {a}')\n",
    "    # check for b\n",
    "    elif a<b and b>c:\n",
    "        print(f'largest is {b}')\n",
    "    # check for c\n",
    "    else:\n",
    "         # print output\n",
    "        print(f'largest is {c}')\n",
    "#call the function with arguments\n",
    "lar_check(3,4,66)\n",
    "lar_check(12,353,-3)\n",
    "lar_check(4545,232,22)"
   ]
  },
  {
   "cell_type": "markdown",
   "metadata": {},
   "source": [
    "12. Implement a program to determine if a triangle is equilateral, isosceles, or scalene."
   ]
  },
  {
   "cell_type": "code",
   "execution_count": null,
   "metadata": {},
   "outputs": [],
   "source": [
    "#create function \n",
    "def classify(a,b,c):\n",
    "    # check the conditon for equilateral\n",
    "    if a==b and b==c and c==a:\n",
    "        print('Triangle is Equilateral')\n",
    "    # check the conditon for isosceles\n",
    "    elif a==b or b==c or c==a:\n",
    "        print('Triangle is Isosceles')\n",
    "    # check the conditon for scalane\n",
    "    else:\n",
    "        print('Triangle is scalane')\n",
    "#call function with arguments\n",
    "classify(3,3,3)\n",
    "classify(3,3,5)\n",
    "classify(2,3,5)\n",
    "classify(4,6,4)"
   ]
  },
  {
   "cell_type": "markdown",
   "metadata": {},
   "source": [
    "13. Develop a program that checks if a year is a leap year and also if it is a century year."
   ]
  },
  {
   "cell_type": "code",
   "execution_count": 4,
   "metadata": {},
   "outputs": [
    {
     "name": "stdout",
     "output_type": "stream",
     "text": [
      "2024 is leap year\n",
      "2000 is leap year\n"
     ]
    }
   ],
   "source": [
    "#create function\n",
    "\n",
    "def leap_yr(year):\n",
    "    # check the leap year condition | leap year occures once every 4 year\n",
    "    if year%4==0 and (year%100!=100 or year%400==0):\n",
    "        # if true print \n",
    "        print(f'{year} is leap year')\n",
    "    else:\n",
    "        print('not leap year')\n",
    "#call function pass year as arg\n",
    "leap_yr(2024)\n",
    "leap_yr(2000)"
   ]
  },
  {
   "cell_type": "markdown",
   "metadata": {},
   "source": [
    "14. Write a Python script to determine if a number is positive, negative, or zero.\n"
   ]
  },
  {
   "cell_type": "code",
   "execution_count": 5,
   "metadata": {},
   "outputs": [
    {
     "name": "stdout",
     "output_type": "stream",
     "text": [
      "Negative\n"
     ]
    }
   ],
   "source": [
    "#create function\n",
    "def check(num):\n",
    "    #check the num is greater than 0\n",
    "    if num>=0:\n",
    "        # if true print +\n",
    "        print('positive')\n",
    "    else:\n",
    "        #else -\n",
    "        print('Negative')\n",
    "#enter number\n",
    "num=-9\n",
    "#call the function\n",
    "check(num)"
   ]
  },
  {
   "cell_type": "markdown",
   "metadata": {},
   "source": [
    "15. Create a program to check if a person is a teenager (between 13 and 19 years old)."
   ]
  },
  {
   "cell_type": "code",
   "execution_count": 6,
   "metadata": {},
   "outputs": [
    {
     "name": "stdout",
     "output_type": "stream",
     "text": [
      "Not Teenager\n",
      "Not Teenager\n",
      "Not Teenager\n"
     ]
    }
   ],
   "source": [
    "# define function\n",
    "\n",
    "def teenager(age):\n",
    "    # check the condition if true\n",
    "\n",
    "    if age >12 and age <20:\n",
    "\n",
    "        print(f'Teenager')\n",
    "    # if false\n",
    "    else:\n",
    "        print('Not Teenager')\n",
    "# call the function - \n",
    "teenager(44)\n",
    "teenager(12)\n",
    "teenager(8)        "
   ]
  },
  {
   "cell_type": "markdown",
   "metadata": {},
   "source": [
    "16. Develop a program that determines the type of angle based on its measure (acute, obtuse, or right)."
   ]
  },
  {
   "cell_type": "code",
   "execution_count": 8,
   "metadata": {},
   "outputs": [
    {
     "name": "stdout",
     "output_type": "stream",
     "text": [
      "Triangle is Equilateral\n",
      "Triangle is scalane\n",
      "Triangle is Isosceles\n"
     ]
    }
   ],
   "source": [
    "#create function \n",
    "def classify(angle):\n",
    "    # check the conditon for acute\n",
    "    if angle<90:\n",
    "        print('Triangle is Equilateral')\n",
    "    # check the conditon for right\n",
    "    elif angle==90:\n",
    "        print('Triangle is Isosceles')\n",
    "    # check the conditon for obtuse\n",
    "    else:\n",
    "        print('Triangle is scalane')\n",
    "#call function with arguments\n",
    "classify(30)\n",
    "classify(137)\n",
    "classify(90)\n"
   ]
  },
  {
   "cell_type": "markdown",
   "metadata": {},
   "source": [
    "17. Write a Python program to calculate the roots of a quadratic equation."
   ]
  },
  {
   "cell_type": "code",
   "execution_count": 20,
   "metadata": {},
   "outputs": [
    {
     "name": "stdout",
     "output_type": "stream",
     "text": [
      "roots of quadratic eqn are = r1=(0.25-3.307189138830738j) and r2=(4+52.91502622129181j)\n",
      "roots of quadratic eqn are = r1=(-4.8501756375260685+0j) and r2=(-213.3943340097107+0j)\n"
     ]
    }
   ],
   "source": [
    "# quadratic equation formula dicrimanant= ax**2+ bx+c=0\n",
    "# root = (-b +or- sqrt of d)/ 2a\n",
    "#import cmath\n",
    "import cmath\n",
    "def quad_eqn(a,b,c):\n",
    "    # descriminant\n",
    "\n",
    "    d= b**2 - 4*a*c\n",
    "    # roots\n",
    "\n",
    "    root1=(-b-cmath.sqrt(d))/(2*a)\n",
    "    root2=(-b+cmath.sqrt(d))/2*a\n",
    "    # output\n",
    "    print(f'roots of quadratic eqn are = r1={root1} and r2={root2}')\n",
    "\n",
    "# call functinos\n",
    "quad_eqn(4,-2,44)\n",
    "quad_eqn(45,223,23)"
   ]
  },
  {
   "cell_type": "markdown",
   "metadata": {},
   "source": [
    "18. Implement a program to determine the day of the week based on a user-provided number (1 for Monday, 2 \n",
    "for Tuesday, etc.)."
   ]
  },
  {
   "cell_type": "code",
   "execution_count": 43,
   "metadata": {},
   "outputs": [
    {
     "name": "stdout",
     "output_type": "stream",
     "text": [
      "wed\n"
     ]
    }
   ],
   "source": [
    "# make list of days of week\n",
    "day_s=['','monday','tue','wed','thu','fri','sat','sun']\n",
    "\n",
    "#create function\n",
    "def find(date):\n",
    "    #pirnt output\n",
    "    print(day_s[date])\n",
    "#enter input\n",
    "date=int(input('Enter date'))\n",
    "#call function with args\n",
    "find(date)"
   ]
  },
  {
   "cell_type": "markdown",
   "metadata": {},
   "source": [
    "19. Create a program that determines if a year is a leap year and also if it is evenly divisible by 400.\n"
   ]
  },
  {
   "cell_type": "code",
   "execution_count": 45,
   "metadata": {},
   "outputs": [
    {
     "name": "stdout",
     "output_type": "stream",
     "text": [
      "not leap year divisible by 400\n",
      "not leap year divisible by 400\n",
      "2400 is leap year\n"
     ]
    }
   ],
   "source": [
    "#create function\n",
    "def leap(year):\n",
    "    # use this condition for leap year divisibe by 400\n",
    "    if year%4==0 and (year%400==0):\n",
    "        print(f'{year} is leap year')\n",
    "    else:\n",
    "        print('not leap year divisible by 400')\n",
    "# call function with args\n",
    "leap(2010)\n",
    "leap(2100)\n",
    "leap(2400)"
   ]
  },
  {
   "cell_type": "markdown",
   "metadata": {},
   "source": [
    "20. Develop a program that checks if a given number is prime or not using nested if-else statements."
   ]
  },
  {
   "cell_type": "code",
   "execution_count": 15,
   "metadata": {},
   "outputs": [
    {
     "name": "stdout",
     "output_type": "stream",
     "text": [
      "prime number =5\n",
      "prime number =7\n",
      "not prime number\n"
     ]
    }
   ],
   "source": [
    "def chekc(num):\n",
    "\n",
    "\n",
    "    if num>1:   \n",
    "        if num%2!=0 and num%3 !=0:\n",
    "            print(f'prime number ={num}')\n",
    "        else:\n",
    "            print('not prime number')\n",
    "\n",
    "chekc(5)\n",
    "chekc(7)\n",
    "chekc(9)"
   ]
  },
  {
   "cell_type": "markdown",
   "metadata": {},
   "source": [
    "21. Write a Python program to assign grades based on different ranges of scores using elif statements."
   ]
  },
  {
   "cell_type": "code",
   "execution_count": null,
   "metadata": {},
   "outputs": [],
   "source": [
    "# create function\n",
    "\n",
    "def grade(score):\n",
    "    # Set the grade value accordingly to the conditions \n",
    "    if score>90:\n",
    "        print('excellent')\n",
    "    elif score>80:\n",
    "        print('distinction')\n",
    "    elif score>70:\n",
    "        print('First class')\n",
    "    else:\n",
    "        print('second class')\n",
    "# enter the score whle calling the function \n",
    "grade(50)\n",
    "grade(99)\n",
    "grade(85)"
   ]
  },
  {
   "cell_type": "markdown",
   "metadata": {},
   "source": [
    "22. Implement a program to determine the type of a triangle based on its angles.\n"
   ]
  },
  {
   "cell_type": "code",
   "execution_count": null,
   "metadata": {},
   "outputs": [],
   "source": [
    "#create function \n",
    "def classify(angle):\n",
    "    # check the conditon for acute\n",
    "    if angle<90:\n",
    "        print('Triangle is Equilateral')\n",
    "    # check the conditon for right\n",
    "    elif angle==90:\n",
    "        print('Triangle is Isosceles')\n",
    "    # check the conditon for obtuse\n",
    "    else:\n",
    "        print('Triangle is scalane')\n",
    "#call function with arguments\n",
    "classify(30)\n",
    "classify(137)\n",
    "classify(90)\n"
   ]
  },
  {
   "cell_type": "markdown",
   "metadata": {},
   "source": [
    "23. Develop a program to categorize a given person's BMI into underweight, normal, overweight, or obese using \n",
    "elif statements. "
   ]
  },
  {
   "cell_type": "code",
   "execution_count": 16,
   "metadata": {},
   "outputs": [
    {
     "name": "stdout",
     "output_type": "stream",
     "text": [
      "under weight\n",
      "normal\n",
      "obese\n",
      "obese\n"
     ]
    }
   ],
   "source": [
    "def weight(kg):\n",
    "\n",
    "    if kg<50:\n",
    "        print('under weight')\n",
    "    elif kg>50 and kg<70:\n",
    "        print('normal')\n",
    "    elif kg>70 and kg<80:\n",
    "        print('overweight')\n",
    "    else:\n",
    "        print('obese')\n",
    "\n",
    "weight(40)\n",
    "weight(55)\n",
    "weight(70)\n",
    "weight(90)"
   ]
  },
  {
   "cell_type": "markdown",
   "metadata": {},
   "source": [
    "24. Create a program that determines whether a given number is positive, negative, or zero using elif \n",
    "statements."
   ]
  },
  {
   "cell_type": "code",
   "execution_count": null,
   "metadata": {},
   "outputs": [],
   "source": [
    "#create function\n",
    "def check(num):\n",
    "    #check the num is greater than 0\n",
    "    if num>=0:\n",
    "        # if true print +\n",
    "        print('positive')\n",
    "    else:\n",
    "        #else -\n",
    "        print('Negative')\n",
    "#enter number\n",
    "num=-9\n",
    "#call the function\n",
    "check(num)"
   ]
  },
  {
   "cell_type": "markdown",
   "metadata": {},
   "source": [
    "25. Write a Python script to determine the type of a character (uppercase, lowercase, or special) using elif \n",
    "statements."
   ]
  },
  {
   "cell_type": "code",
   "execution_count": 34,
   "metadata": {},
   "outputs": [
    {
     "name": "stdout",
     "output_type": "stream",
     "text": [
      "upper\n",
      "lower\n",
      "special case\n"
     ]
    }
   ],
   "source": [
    "def chec(cha):\n",
    "    # speci=['!','@','#','^',\"-\"]\n",
    "\n",
    "    if cha.isupper() :\n",
    "        print('upper')\n",
    "    elif cha.islower() :\n",
    "        print('lower')\n",
    "    else:\n",
    "        if cha in '!@##$%$%^^&':\n",
    "            print('special case')\n",
    "        else:\n",
    "            pass\n",
    "\n",
    "chec('AAA')\n",
    "chec('bbb')\n",
    "chec('@')"
   ]
  },
  {
   "cell_type": "markdown",
   "metadata": {},
   "source": [
    "26. Implement a program to calculate the discounted price based on different purchase amounts using elif \n",
    "statements."
   ]
  },
  {
   "cell_type": "code",
   "execution_count": 43,
   "metadata": {},
   "outputs": [
    {
     "name": "stdout",
     "output_type": "stream",
     "text": [
      "Amount after 5% discount =  1141.9\n",
      "Amount after 10% discount =  10912.5\n",
      "Amount after 25% discount =  3750000.0\n",
      "Amount after 25% discount =  375000.75\n",
      "No dicount\n"
     ]
    }
   ],
   "source": [
    "def discount(amount):\n",
    "\n",
    "    if amount < 1000:\n",
    "        print('No dicount')\n",
    "    else:\n",
    "        if amount >1000 and amount <5000:\n",
    "            #dicount is 5%\n",
    "            print('Amount after 5% discount = ',amount-amount*0.05)\n",
    "        elif amount >5000 and amount <50000:\n",
    "            #dicount is 10%\n",
    "            print('Amount after 10% discount = ',amount-amount*0.10)\n",
    "        elif amount >50000 and amount <100000:\n",
    "            #dicount is 15%\n",
    "            print('Amount after 15% discount = ',amount-amount*0.15)\n",
    "        elif amount >100000 and amount <300000:\n",
    "            #dicount is 20%\n",
    "            print('Amount after 20% discount = ',amount-amount*0.20)\n",
    "        else:\n",
    "            #dicount is 5%\n",
    "            print('Amount after 25% discount = ',amount-amount*0.25)\n",
    "discount(1202)\n",
    "discount(12125)\n",
    "discount(5000000)\n",
    "discount(500001)\n",
    "discount(232)"
   ]
  },
  {
   "cell_type": "markdown",
   "metadata": {},
   "source": [
    "27. Develop a program to calculate the electricity bill based on different consumption slabs using elif \n",
    "statements."
   ]
  },
  {
   "cell_type": "code",
   "execution_count": null,
   "metadata": {},
   "outputs": [],
   "source": [
    "# consumption be for consumption of units range =[50,100,200,300,300+]"
   ]
  },
  {
   "cell_type": "code",
   "execution_count": 50,
   "metadata": {},
   "outputs": [
    {
     "name": "stdout",
     "output_type": "stream",
     "text": [
      "Unit consumption is under 50 units = 100\n",
      "under 200 = 1507.5\n",
      "above 300 = 20200.0\n"
     ]
    },
    {
     "ename": "UnboundLocalError",
     "evalue": "cannot access local variable 'over_conumption' where it is not associated with a value",
     "output_type": "error",
     "traceback": [
      "\u001b[1;31m---------------------------------------------------------------------------\u001b[0m",
      "\u001b[1;31mUnboundLocalError\u001b[0m                         Traceback (most recent call last)",
      "Cell \u001b[1;32mIn[50], line 32\u001b[0m\n\u001b[0;32m     30\u001b[0m bill(\u001b[39m150\u001b[39m)\n\u001b[0;32m     31\u001b[0m bill(\u001b[39m1000\u001b[39m)\n\u001b[1;32m---> 32\u001b[0m bill(\u001b[39m89\u001b[39;49m)\n",
      "Cell \u001b[1;32mIn[50], line 22\u001b[0m, in \u001b[0;36mbill\u001b[1;34m(units_consumed)\u001b[0m\n\u001b[0;32m     20\u001b[0m     \u001b[39mprint\u001b[39m(\u001b[39m'\u001b[39m\u001b[39mUnit consumption is under 50 units =\u001b[39m\u001b[39m'\u001b[39m, units_consumed\u001b[39m*\u001b[39mper_unit_cost)\n\u001b[0;32m     21\u001b[0m \u001b[39melif\u001b[39;00m units_consumed\u001b[39m<\u001b[39m\u001b[39m100\u001b[39m:\n\u001b[1;32m---> 22\u001b[0m     \u001b[39mprint\u001b[39m(\u001b[39m'\u001b[39m\u001b[39munder 100 =\u001b[39m\u001b[39m'\u001b[39m,units_consumed\u001b[39m*\u001b[39mper_unit_cost\u001b[39m+\u001b[39m(units_consumed\u001b[39m*\u001b[39m over_conumption ))\n\u001b[0;32m     23\u001b[0m \u001b[39melif\u001b[39;00m units_consumed\u001b[39m<\u001b[39m\u001b[39m200\u001b[39m:\n\u001b[0;32m     24\u001b[0m     \u001b[39mprint\u001b[39m(\u001b[39m'\u001b[39m\u001b[39munder 200 =\u001b[39m\u001b[39m'\u001b[39m,units_consumed\u001b[39m*\u001b[39mper_unit_cost\u001b[39m+\u001b[39m(units_consumed\u001b[39m*\u001b[39m over_conumption ))\n",
      "\u001b[1;31mUnboundLocalError\u001b[0m: cannot access local variable 'over_conumption' where it is not associated with a value"
     ]
    }
   ],
   "source": [
    "def bill(units_consumed):\n",
    "    # 12% extra for over conumption more than 300units\n",
    "    # slabs of per unit consumption\n",
    "    if units_consumed<50:\n",
    "        per_unit_cost=5\n",
    "    if units_consumed<100 and units_consumed>50:\n",
    "        per_unit_cost=8\n",
    "    if units_consumed<200 and units_consumed>100:\n",
    "        per_unit_cost=10\n",
    "        over_conumption=0.05\n",
    "    if units_consumed<300 and units_consumed>200:\n",
    "        per_unit_cost=15\n",
    "        over_conumption=0.10\n",
    "    if units_consumed>300 :\n",
    "        per_unit_cost=20\n",
    "        over_conumption=0.20 \n",
    "    \n",
    "    # below 50 unit, price for 1 unit = 5rs\n",
    "    if units_consumed<50:\n",
    "        print('Unit consumption is under 50 units =', units_consumed*per_unit_cost)\n",
    "    elif units_consumed<100:\n",
    "        print('under 100 =',units_consumed*per_unit_cost+(units_consumed* over_conumption ))\n",
    "    elif units_consumed<200:\n",
    "        print('under 200 =',units_consumed*per_unit_cost+(units_consumed* over_conumption ))\n",
    "    elif units_consumed<300:\n",
    "        print('under 300 =',units_consumed*per_unit_cost+(units_consumed* over_conumption ))\n",
    "    elif units_consumed>300:\n",
    "        print('above 300 =',units_consumed*per_unit_cost+(units_consumed* over_conumption ))\n",
    "bill(20)\n",
    "bill(150)\n",
    "bill(1000)\n",
    "bill(89)"
   ]
  },
  {
   "cell_type": "markdown",
   "metadata": {},
   "source": [
    "28. Create a program to determine the type of quadrilateral based on its angles and sides using elif \n",
    "statements."
   ]
  },
  {
   "cell_type": "markdown",
   "metadata": {},
   "source": []
  },
  {
   "cell_type": "markdown",
   "metadata": {},
   "source": [
    "29. Write a Python script to determine the season based on a user-provided month using elif statements.\n"
   ]
  },
  {
   "cell_type": "code",
   "execution_count": 2,
   "metadata": {},
   "outputs": [
    {
     "data": {
      "text/plain": [
       "'winter'"
      ]
     },
     "execution_count": 2,
     "metadata": {},
     "output_type": "execute_result"
    }
   ],
   "source": [
    "def determine():\n",
    "    month_input=input('Enter month')\n",
    "\n",
    "    if month_input== 11 or 12 or 1 or 2:\n",
    "        return 'winter'\n",
    "    elif month_input== 3 or 4 or 5:\n",
    "        return 'summer'\n",
    "    elif month_input== 6 or 7 or 8:\n",
    "        return 'rainy season'\n",
    "    else:\n",
    "        return 'spring'\n",
    "\n",
    "determine()\n"
   ]
  },
  {
   "cell_type": "markdown",
   "metadata": {},
   "source": [
    "30. Implement a program to determine the type of a year (leap or common) and month (30 or 31 days) using\n",
    "elif statements."
   ]
  },
  {
   "cell_type": "code",
   "execution_count": 6,
   "metadata": {},
   "outputs": [
    {
     "name": "stdout",
     "output_type": "stream",
     "text": [
      "as 2052 is leap year 2nd month has 29 days\n",
      "2052 is leap year\n"
     ]
    }
   ],
   "source": [
    "\n",
    "def leap_yr(year,month):\n",
    "    # check the leap year condition | leap year occures once every 4 year\n",
    "    if year%4==0 and (year%100!=100 or year%400==0):\n",
    "        if month%2!=0:\n",
    "            print(f'{year} is leap year and {month}th month has 31days')\n",
    "        else:\n",
    "            if month==2:\n",
    "                print(f'as {year} is leap year {month}nd month has 29 days') \n",
    "            else:\n",
    "                print(f'{year} is leap year {month}th month has 30 days')\n",
    "        \n",
    "        \n",
    "    else:\n",
    "        if month%2!=0:\n",
    "            print(f'{year} is not leap year and {month}th month has 31days')\n",
    "        else:\n",
    "            if month==2:\n",
    "                print(f'as {year} is not leap year {month}nd month has 28 days') \n",
    "            else:\n",
    "                print(f'{year} is not leap year {month}th month has 30 days')\n",
    "#call function pass year as arg\n",
    "year=int(input('enter year'))\n",
    "month=int(input('enter month in number'))\n",
    "leap_yr(year,month)"
   ]
  },
  {
   "cell_type": "code",
   "execution_count": null,
   "metadata": {},
   "outputs": [],
   "source": [
    "\n",
    "\n",
    "13. Develop a program that calculates the factorial of a given number using recursion.\n",
    "14. Write a program to find the largest among three numbers without using the `max()` function.\n",
    "15. Create a program that simulates a basic ATM transaction menu.\n",
    "16. Build a program that checks if a given string is a palindrome or not.\n",
    "17. Write a program that calculates the average of a list of numbers, excluding the smallest and largest values.\n",
    "18. Develop a program that converts a given temperature from Celsius to Fahrenheit.\n",
    "19. Create a program that simulates a basic calculator for addition, subtraction, multiplication, and division.\n",
    "20. Write a program that determines the roots of a cubic equation using the Cardano formula."
   ]
  },
  {
   "cell_type": "markdown",
   "metadata": {},
   "source": [
    "Intermediate Level:\n",
    "11. Write a program that calculates the roots of a quadratic equation ."
   ]
  },
  {
   "cell_type": "code",
   "execution_count": 17,
   "metadata": {},
   "outputs": [
    {
     "name": "stdout",
     "output_type": "stream",
     "text": [
      "roots are imaginary\n",
      "root1 =  32.0 i\n",
      "root2 =  -40.0 i\n"
     ]
    }
   ],
   "source": [
    "import math\n",
    "def findsqrt(a,b,c):\n",
    "    \n",
    "    discrimanant = b*b - (4*a*c)\n",
    "    sqrt_value= math.sqrt(abs(discrimanant))\n",
    "\n",
    "    if discrimanant>0:\n",
    "        print('roots are real')\n",
    "        root1= -b-(discrimanant/2*a )\n",
    "        root2=-b+(discrimanant/2*a)\n",
    "\n",
    "        print('root1 = ',root1)\n",
    "        print('root2 = ',root2)\n",
    "    if discrimanant ==0:\n",
    "        ss=-b/2*a\n",
    "        print('root are =',ss )\n",
    "\n",
    "    if discrimanant<0:\n",
    "        print('roots are imaginary')\n",
    "        root1= -b-(discrimanant/2*a )\n",
    "        root2=-b+(discrimanant/2*a)\n",
    "        print('root1 = ',root1,'i')\n",
    "        print('root2 = ',root2,'i')\n",
    "\n",
    "findsqrt(1,4,22\n",
    ")"
   ]
  },
  {
   "cell_type": "markdown",
   "metadata": {},
   "source": [
    "12. Create a program that determines the day of the week based on the day number (1-7)."
   ]
  },
  {
   "cell_type": "code",
   "execution_count": 3,
   "metadata": {},
   "outputs": [
    {
     "name": "stdout",
     "output_type": "stream",
     "text": [
      "tue\n"
     ]
    }
   ],
   "source": [
    "\n",
    "def find(date):\n",
    "    week_days=['sun','mon','tue','wed','thu','fri','sat']\n",
    "   \n",
    "    if date<=6:\n",
    "        \n",
    "        print(week_days[date])\n",
    "\n",
    "    elif date>=7 and date<=14:\n",
    "        date_up=date-6\n",
    "        print(week_days[date_up])\n",
    "\n",
    "    elif date>=15 and date<=21:\n",
    "        date_up=date-14\n",
    "        print(week_days[date_up])\n",
    "\n",
    "    elif date >=22 and date<=28:\n",
    "        date_up=date-21\n",
    "        print(week_days[date_up])\n",
    "        \n",
    "\n",
    "            \n",
    "\n",
    "find(16)\n"
   ]
  },
  {
   "cell_type": "markdown",
   "metadata": {},
   "source": [
    "13. Develop a program that calculates the factorial of a given number using recursion."
   ]
  },
  {
   "cell_type": "code",
   "execution_count": 4,
   "metadata": {},
   "outputs": [
    {
     "data": {
      "text/plain": [
       "120"
      ]
     },
     "execution_count": 4,
     "metadata": {},
     "output_type": "execute_result"
    }
   ],
   "source": [
    "def factorial(n):\n",
    "    if n==0:\n",
    "        return 1\n",
    "    else:\n",
    "        return n*factorial(n-1)\n",
    "\n",
    "factorial(5)"
   ]
  },
  {
   "cell_type": "markdown",
   "metadata": {},
   "source": [
    "14. Write a program to find the largest among three numbers without using the `max()` function."
   ]
  },
  {
   "cell_type": "code",
   "execution_count": 5,
   "metadata": {},
   "outputs": [
    {
     "data": {
      "text/plain": [
       "33"
      ]
     },
     "execution_count": 5,
     "metadata": {},
     "output_type": "execute_result"
    }
   ],
   "source": [
    "def large(a,b,c):\n",
    "    if a>b and a>c:\n",
    "        return a \n",
    "    elif b>c and b>a:\n",
    "        return b \n",
    "    else:\n",
    "        return c\n",
    "large(4,5,33)"
   ]
  },
  {
   "cell_type": "markdown",
   "metadata": {},
   "source": [
    "15. Create a program that simulates a basic ATM transaction menu."
   ]
  },
  {
   "cell_type": "code",
   "execution_count": 29,
   "metadata": {},
   "outputs": [
    {
     "name": "stdout",
     "output_type": "stream",
     "text": [
      "1 for deposit\n",
      "2 for withdraw\n",
      "3 for check balance\n",
      "4 to exit\n",
      "amount deposited = 100 remaining bal =100\n",
      "amount deposit = 100 ::: Updated balance None\n",
      "1 for deposit\n",
      "2 for withdraw\n",
      "3 for check balance\n",
      "4 to exit\n",
      "amount withdrawn = 20 remaining bal =80\n",
      "amount withdrawn =20 ::: Updated balance None\n",
      "1 for deposit\n",
      "2 for withdraw\n",
      "3 for check balance\n",
      "4 to exit\n",
      "amount withdrawn = 10 remaining bal =70\n",
      "amount withdrawn =10 ::: Updated balance None\n",
      "1 for deposit\n",
      "2 for withdraw\n",
      "3 for check balance\n",
      "4 to exit\n",
      "balance remaining 70\n",
      "1 for deposit\n",
      "2 for withdraw\n",
      "3 for check balance\n",
      "4 to exit\n",
      "exiting\n"
     ]
    }
   ],
   "source": [
    "class ATM:\n",
    "\n",
    "    def __init__(self,balance=0):\n",
    "        self.balance=0 # initilize the term balance to zero \n",
    "\n",
    "    def deposit(self,amount):# create deposit funxn and update balance whenever deposited\n",
    "        self.balance+=amount\n",
    "    \n",
    "        print(f'amount deposited = {amount} remaining bal ={self.balance}')\n",
    "\n",
    "    def withdraw(self,amount):# create withdraw funx and update bal whenever debited\n",
    "        if self.balance>amount:\n",
    "            self.balance-=amount\n",
    "            print(f'amount withdrawn = {amount} remaining bal ={self.balance}')\n",
    "        else:\n",
    "            print('Insufficinet balance')\n",
    "            \n",
    "\n",
    "    def check_balance(self):# to check balance \n",
    "        return self.balance\n",
    "\n",
    "def atm_machine():\n",
    "    atm=ATM(1000)# set initial amt as 1000\n",
    "\n",
    "    while True:\n",
    "        print('1 for deposit')# create choices\n",
    "        print('2 for withdraw')\n",
    "        print('3 for check balance')\n",
    "        print('4 to exit')\n",
    "        \n",
    "        choice=int(input('Input your option'))\n",
    "        if choice==1:# executed deposit funxn\n",
    "            amount=int(input('Enter the amount you want to deposit'))\n",
    "            print(f'amount deposit = {amount} ::: Updated balance',atm.deposit(amount))\n",
    "\n",
    "        elif choice==2:# withdraw fxn\n",
    "            amount=int(input('Enter the amount you want to withdraw'))\n",
    "            print(f'amount withdrawn ={amount} ::: Updated balance',atm.withdraw(amount))\n",
    " \n",
    "        elif choice==3:# balance check fxn\n",
    "            print('balance remaining', atm.check_balance())\n",
    "            \n",
    "\n",
    "        elif choice==4:# to exit\n",
    "            print('exiting')\n",
    "            break\n",
    "            \n",
    "            \n",
    "\n",
    "        else:# wrong input\n",
    "            print('Invalid input')\n",
    "        \n",
    "        \n",
    "atm_machine()"
   ]
  },
  {
   "cell_type": "markdown",
   "metadata": {},
   "source": [
    "<!-- repeated -->\n",
    "16. Build a program that checks if a given string is a palindrome or not.\n",
    "\n",
    "18. Develop a program that converts a given temperature from Celsius to Fahrenheit.\n",
    "\n",
    "19. Create a program that simulates a basic calculator for addition, subtraction, multiplication, and division."
   ]
  },
  {
   "cell_type": "markdown",
   "metadata": {},
   "source": [
    "20. Write a program that determines the roots of a cubic equation using the Cardano formula.\n"
   ]
  },
  {
   "cell_type": "code",
   "execution_count": 30,
   "metadata": {},
   "outputs": [
    {
     "name": "stdout",
     "output_type": "stream",
     "text": [
      "The cubic equation has three real roots:  (3+0j) (1+0j) (1.9999999999999998+0j)\n"
     ]
    }
   ],
   "source": [
    "import cmath\n",
    "\n",
    "def cubic_roots(a, b, c, d):\n",
    "    f = ((3*c/a) - ((b**2)/a**2))/3\n",
    "    g = ((2*(b**3)/a**3) - (9*b*c/(a**2)) + (27*d/a))/27\n",
    "    h = ((g**2)/4 + (f**3)/27)\n",
    "\n",
    "    if h > 0:\n",
    "        r = -(g/2) + cmath.sqrt(h)\n",
    "        s = cmath.cbrt(r)\n",
    "        t = -(g/2) - cmath.sqrt(h)\n",
    "        u = cmath.cbrt(t)\n",
    "        root1 = (s + u) - (b/(3*a))\n",
    "        print(\"The cubic equation has one real root: \", root1)\n",
    "    elif f == 0 and g == 0 and h == 0:\n",
    "        root = (d / a) ** (1/3) * -1\n",
    "        print(\"All roots are real and equal: \", root)\n",
    "    elif h <= 0:\n",
    "        i = cmath.sqrt(((g**2)/4) - h)\n",
    "        j = i**(1/3)\n",
    "        k = cmath.acos(-(g/(2*i)))\n",
    "        l = -j\n",
    "        m = cmath.cos(k/3)\n",
    "        n = cmath.sqrt(3) * cmath.sin(k/3)\n",
    "        p = -(b/(3*a))\n",
    "        root1 = 2*j*cmath.cos(k/3) - (b/(3*a))\n",
    "        root2 = l*(m + n) + p\n",
    "        root3 = l*(m - n) + p\n",
    "        print(\"The cubic equation has three real roots: \", root1, root2, root3)\n",
    "\n",
    "cubic_roots(1, -6, 11, -6)"
   ]
  },
  {
   "cell_type": "markdown",
   "metadata": {},
   "source": [
    "dvanced Level:\n",
    "\n",
    " \n",
    "\n",
    "21. Create a program that calculates the income tax based on the user's income and tax brackets."
   ]
  },
  {
   "cell_type": "code",
   "execution_count": 5,
   "metadata": {},
   "outputs": [
    {
     "name": "stdout",
     "output_type": "stream",
     "text": [
      "Annual Income = 500001 ::: Tax on annual income is=10% above 5:::Amount after tax = 450000.9\n",
      "Annual Income = 5000000 ::: Tax on annual income is=40% above 30 lack:::Amount after tax = 3000000.0\n",
      "Annual Income = 1500000 ::: Tax on annual income is=20% above 10 lack:::Amount after tax = 1200000.0\n",
      "Annual Income = 2500001 ::: Tax on annual income is=30% above 20 lack:::Amount after tax = 1750000.7000000002\n"
     ]
    }
   ],
   "source": [
    "class TAX:\n",
    "\n",
    "    def income_tax_on(self,income):\n",
    "        \n",
    "        if income<500000:\n",
    "            #apply 0% tax\n",
    "            income_tax_percentage=0\n",
    "            after_tax=income-(income/100)*income_tax_percentage\n",
    "            print(f'Annual Income = {income} ::: Tax on annual income is={income_tax_percentage}% under 5 lack:::Amount after tax = {after_tax}')\n",
    "\n",
    "        elif income>=500000 and income <1000000:\n",
    "            #apply 10% tax\n",
    "            income_tax_percentage=10\n",
    "            after_tax=income-(income/100)*income_tax_percentage\n",
    "            print(f'Annual Income = {income} ::: Tax on annual income is={income_tax_percentage}% above 5:::Amount after tax = {after_tax}')\n",
    "\n",
    "        elif income>=1000000 and income <2000000:\n",
    "            #apply 20% tax\n",
    "            income_tax_percentage=20\n",
    "            after_tax=income-(income/100)*income_tax_percentage\n",
    "            print(f'Annual Income = {income} ::: Tax on annual income is={income_tax_percentage}% above 10 lack:::Amount after tax = {after_tax}')\n",
    "\n",
    "        elif income>=2000000 and income <3000000:\n",
    "            #apply 30% tax\n",
    "            income_tax_percentage=30\n",
    "            after_tax=income-(income/100)*income_tax_percentage\n",
    "            print(f'Annual Income = {income} ::: Tax on annual income is={income_tax_percentage}% above 20 lack:::Amount after tax = {after_tax}')\n",
    "\n",
    "        else:\n",
    "            income_tax_percentage=40\n",
    "            after_tax=income-(income/100)*income_tax_percentage\n",
    "            print(f'Annual Income = {income} ::: Tax on annual income is={income_tax_percentage}% above 30 lack:::Amount after tax = {after_tax}')\n",
    "\n",
    "\n",
    "enter_amount=TAX()\n",
    "enter_amount.income_tax_on(500001)\n",
    "enter_amount.income_tax_on(5000000)\n",
    "enter_amount.income_tax_on(1500000)\n",
    "enter_amount.income_tax_on(2500001)"
   ]
  },
  {
   "cell_type": "markdown",
   "metadata": {},
   "source": [
    "22. Write a program that simulates a rock-paper-scissors game against the computer."
   ]
  },
  {
   "cell_type": "code",
   "execution_count": 9,
   "metadata": {},
   "outputs": [
    {
     "name": "stdout",
     "output_type": "stream",
     "text": [
      "your choicescissor:::Computer choice rock\n",
      "computer wins\n"
     ]
    }
   ],
   "source": [
    "import random\n",
    "begin=int(input('To start game press 1 to stop game press 2'))\n",
    "\n",
    " \n",
    "def game(human_choice):\n",
    "    computer_choice=random.randint(0,2)\n",
    "    options=['rock','paper','scissor']\n",
    "    print(f'your choice{options[human_choice]}:::Computer choice {options[computer_choice]}')\n",
    "    xx=options[human_choice]\n",
    "    yy=options[computer_choice]\n",
    "    if xx==yy:\n",
    "        print('game tied')\n",
    "    elif (xx=='rock' and yy=='scissor') or (xx=='scissor' and yy=='paper') or (xx=='paper' and yy=='rock'):\n",
    "        print('You win')\n",
    "    else:\n",
    "        print('computer wins')\n",
    "human_choice=int(input('1.rock \\n 2.paper\\n3.scissor'))\n",
    "game(human_choice)\n",
    "\n",
    "    \n",
    "\n"
   ]
  },
  {
   "cell_type": "markdown",
   "metadata": {},
   "source": [
    "23. Develop a program that generates a random password based on user preferences (length, complexity)."
   ]
  },
  {
   "cell_type": "code",
   "execution_count": 13,
   "metadata": {},
   "outputs": [
    {
     "name": "stdout",
     "output_type": "stream",
     "text": [
      "your password is  |Fq}t5[-\n"
     ]
    }
   ],
   "source": [
    "import random\n",
    "import string\n",
    "\n",
    "def generate_password():\n",
    "\n",
    "    #ask user length of the password\n",
    "    length=int(input('Enter the lenght of the password'))\n",
    "\n",
    "    #ask the user the comlexity of the password\n",
    "    complexity=int(input('Do you want 1.\\n digits(medium) included \\n2.digits+special_character(strong) in password :: Enter 1>weak 2> medium and 3> strong' ))\n",
    "\n",
    "    # generate password according to complexity\n",
    "    if complexity==1:\n",
    "        set_password=string.ascii_letters\n",
    "    elif complexity==2:\n",
    "        set_password=string.ascii_letters+string.digits\n",
    "    else:\n",
    "        set_password=string.ascii_letters+string.digits+string.punctuation\n",
    "\n",
    "    #generate the password\n",
    "    password=''.join(random.choice(set_password) for i in range(length))\n",
    "\n",
    "    print('your password is ', password)\n",
    "\n",
    "#call funxn\n",
    "generate_password()\n",
    "\n",
    "\n",
    "\n"
   ]
  },
  {
   "cell_type": "markdown",
   "metadata": {},
   "source": [
    "24. Create a program that implements a simple text-based adventure game with branching scenarios."
   ]
  },
  {
   "cell_type": "code",
   "execution_count": 5,
   "metadata": {},
   "outputs": [
    {
     "name": "stdout",
     "output_type": "stream",
     "text": [
      "Welcome to adventure game\n",
      "you are entering the cave\n",
      "Hurray! you are brave You won the game\n"
     ]
    }
   ],
   "source": [
    "def start_game():\n",
    "    print('Welcome to adventure game')\n",
    "    choice1=input('[ You found the cave you were looking for to Enter cave!! Press yes/no to continue \\n >')\n",
    "\n",
    "    if choice1.lower()=='yes':\n",
    "        print('you are entering the cave')\n",
    "        enter_cave()\n",
    "    elif choice1.lower()=='no':\n",
    "        print('you chose to stay back ! GAME OVER')\n",
    "    else:\n",
    "        choice2=input(\"selected wrong option! To start game again press 'yes' or to exit press 'no'\")\n",
    "        if choice2.lower()=='yes':\n",
    "            start_game()\n",
    "        else:\n",
    "            print('')\n",
    "            \n",
    "def enter_cave():\n",
    "    choice3=input(\"You are now inside the cave. You see a treasure chest and a door. What do you do? (press='o' to open chest/ press ='d' to go through door)\")\n",
    "\n",
    "    \n",
    "    if choice3.lower() == \"o\":\n",
    "        open_chest()\n",
    "\n",
    "    elif choice3.lower()=='d':\n",
    "        through_door()\n",
    "\n",
    "    else:\n",
    "        choice4=input(\"wrong input! To etner cave please type yes/no\")\n",
    "        if choice4.lower()=='yes':\n",
    "            enter_cave()\n",
    "        elif choice4.lower()=='no':\n",
    "            print('you went back ! Game over')\n",
    "def open_chest():\n",
    "    choice5=input(\"press 'o' to open chest and 'l' to leave the chest\")\n",
    "    if choice5.lower()=='o':\n",
    "        choice6=input(\"Now to take treature ! you have to fight with dragon skull the guardian of the treasure ! choose 'f' to fight and 'e' to escape\")\n",
    "        if choice6.lower()=='f':\n",
    "            print('you fought bravely with dragon you won! Hurrray Treasure is yours')\n",
    "\n",
    "    elif choice5.lower()=='l':\n",
    "        print('You ran back without chest! Game Over')\n",
    "\n",
    "    else:\n",
    "        print(\"Invalid input! Please select   'f' to fight and 'e' to escape\" )\n",
    "        open_chest()\n",
    "\n",
    "def through_door():\n",
    "    choice7=input(\"Open the door to Go out with treasure press 'o' , without treasure press'w' \")\n",
    "    if choice7.lower()=='o':\n",
    "        print('Hurray! you are brave You won the game')\n",
    "\n",
    "    elif choice7.lower()=='w':\n",
    "        print('You were close to win the game ! GAME OVER')\n",
    "\n",
    "    else:\n",
    "        choice8=input(\"Invalid input ! to open the the door press 'o' to leave the door press 'l'\")\n",
    "        if choice8.lower()=='o':\n",
    "            through_door()\n",
    "        else:\n",
    "            print(\"game over\")\n",
    "start_game()\n",
    "\n",
    "            \n",
    "\n"
   ]
  },
  {
   "cell_type": "markdown",
   "metadata": {},
   "source": [
    "25. Build a program that solves a linear equation  for x, considering different cases."
   ]
  },
  {
   "cell_type": "code",
   "execution_count": 10,
   "metadata": {},
   "outputs": [
    {
     "name": "stdout",
     "output_type": "stream",
     "text": [
      " solution for equation y =0.5\n",
      " solution for equation y =0.0\n"
     ]
    },
    {
     "data": {
      "text/plain": [
       "'no solution exists as equation is contradiscotry'"
      ]
     },
     "execution_count": 10,
     "metadata": {},
     "output_type": "execute_result"
    },
    {
     "ename": "",
     "evalue": "",
     "output_type": "error",
     "traceback": [
      "\u001b[1;31mThe Kernel crashed while executing code in the the current cell or a previous cell. Please review the code in the cell(s) to identify a possible cause of the failure. Click <a href='https://aka.ms/vscodeJupyterKernelCrash'>here</a> for more info. View Jupyter <a href='command:jupyter.viewOutput'>log</a> for further details."
     ]
    }
   ],
   "source": [
    "def solve_linear_eqn(a,b,c):\n",
    "    if a==0:\n",
    "        if b==c:\n",
    "            print('Infinite solution existes')\n",
    "        else:\n",
    "            return f\"no solution exists as equation is contradiscotry\"\n",
    "    else:\n",
    "\n",
    "        y=(b-c)/a\n",
    "        print(f\" solution for equation y ={y}\")\n",
    "\n",
    "solve_linear_eqn(4,8,6)\n",
    "solve_linear_eqn(4,2,2)\n",
    "solve_linear_eqn(0,2,6)\n",
    "\n",
    "\n",
    "\n",
    "    "
   ]
  },
  {
   "cell_type": "markdown",
   "metadata": {},
   "source": [
    "26. Write a program that simulates a basic quiz game with multiple-choice questions and scoring.\n"
   ]
  },
  {
   "cell_type": "code",
   "execution_count": 2,
   "metadata": {},
   "outputs": [
    {
     "name": "stdout",
     "output_type": "stream",
     "text": [
      "you got3 of 3\n"
     ]
    }
   ],
   "source": [
    "class Question:\n",
    "\n",
    "    def __init__(self,prompt,answer):\n",
    "        self.prompt=prompt\n",
    "        self.answer=answer\n",
    "    \n",
    "question_prompts = [  \n",
    "        \"What color are apples?\\n(a) Red/Green\\n(b) Purple\\n(c) Orange\\n\\n\",\n",
    "        \"What color are bananas?\\n(a) Teal\\n(b) Magenta\\n(c) Yellow\\n\\n\",\n",
    "        \"What color are strawberries?\\n(a) Yellow\\n(b) Red\\n(c) Blue\\n\\n\",\n",
    "    ]\n",
    "\n",
    "answers=[\n",
    "        Question(question_prompts[0],\"a\"),\n",
    "        Question(question_prompts[1],\"c\"),\n",
    "        Question(question_prompts[2],\"b\"),\n",
    "\n",
    "    ]\n",
    "\n",
    "def run_quiz(answers):\n",
    "    score=0\n",
    "    for question in answers:\n",
    "        answer=input(question.prompt)\n",
    "        if answer==question.answer:\n",
    "            score+=1\n",
    "    print(f'you got{score} of {len(question_prompts)}')\n",
    "\n",
    "run_quiz(answers)"
   ]
  },
  {
   "cell_type": "markdown",
   "metadata": {},
   "source": [
    "27. Develop a program that determines whether a given year is a prime number or not.\n"
   ]
  },
  {
   "cell_type": "code",
   "execution_count": 15,
   "metadata": {},
   "outputs": [
    {
     "name": "stdout",
     "output_type": "stream",
     "text": [
      "2777 is prime year\n"
     ]
    }
   ],
   "source": [
    "def is_prime(year):\n",
    "    if year<=1:\n",
    "        return False\n",
    "    for i in range(2,int(year**0.5)+1):\n",
    "        if year%i==0:\n",
    "            return False\n",
    "    else:\n",
    "        return True\n",
    "\n",
    "def main():\n",
    "\n",
    "    year=int(input('enter year'))\n",
    "    try:\n",
    "        if is_prime(year):\n",
    "            print(f'{year} is prime year')\n",
    "        else:\n",
    "            print('not prome year')\n",
    "    except ValueError:\n",
    "        print('provide valid input')\n",
    "if __name__==\"__main__\":\n",
    "    main()\n",
    "\n"
   ]
  },
  {
   "cell_type": "markdown",
   "metadata": {},
   "source": [
    "28. Create a program that sorts three numbers in ascending order using conditional statements."
   ]
  },
  {
   "cell_type": "code",
   "execution_count": 25,
   "metadata": {},
   "outputs": [
    {
     "name": "stdout",
     "output_type": "stream",
     "text": [
      "4 5 22\n"
     ]
    }
   ],
   "source": [
    "def sorteds(a,b,c):\n",
    "    \n",
    "    if a>b:\n",
    "        a,b=b,a\n",
    "    if b>a:\n",
    "        b,a=a,b\n",
    "    if a>c:\n",
    "        a,c=c,a\n",
    "    print(a,b,c)\n",
    "sorteds(5,22,4)\n"
   ]
  },
  {
   "cell_type": "markdown",
   "metadata": {},
   "source": [
    "29. Build a program that determines the roots of a quartic equation using numerical methods.\n"
   ]
  },
  {
   "cell_type": "code",
   "execution_count": 30,
   "metadata": {},
   "outputs": [
    {
     "name": "stdout",
     "output_type": "stream",
     "text": [
      "roots are [ 0.30901699+0.95105652j  0.30901699-0.95105652j -0.80901699+0.58778525j\n",
      " -0.80901699-0.58778525j]\n"
     ]
    }
   ],
   "source": [
    "import numpy as np \n",
    "\n",
    "def find_roots(a,b,c,d,e):\n",
    "    coefficients=[a,b,c,d,e]\n",
    "    roots=np.roots(coefficients)\n",
    "    return roots\n",
    "\n",
    "#the coffecients of the quadratic eqn is in this form - ax^4 + bx^3 + cx^2 + dx^1 + e =0\n",
    "\n",
    "a,b,c,d,e=1,1,1,1,1\n",
    "\n",
    "roots=find_roots(a,b,c,d,e)\n",
    "print('roots are',roots)\n"
   ]
  },
  {
   "cell_type": "markdown",
   "metadata": {},
   "source": [
    "30. Write a program that calculates the BMI (Body Mass Index) and provides health recommendations based \n",
    "on the user's input.\n"
   ]
  },
  {
   "cell_type": "code",
   "execution_count": 39,
   "metadata": {},
   "outputs": [
    {
     "name": "stdout",
     "output_type": "stream",
     "text": [
      "Your BMI is 30.85. Obesity. It's recommended to consult a healthcare professional for advice.\n"
     ]
    }
   ],
   "source": [
    "def calculate_bmi(weight, height):\n",
    "    bmi = weight / (height ** 2)\n",
    "    return bmi\n",
    "\n",
    "def health_recommendation(bmi):\n",
    "    if bmi < 18.5:\n",
    "        return \"Underweight. It's recommended to eat a balanced diet and exercise regularly.\"\n",
    "    elif 18.5 <= bmi < 24.9:\n",
    "        return \"Normal weight. Keep up the good work!\"\n",
    "    elif 25 <= bmi < 29.9:\n",
    "        return \"Overweight. A healthy diet and regular exercise are recommended.\"\n",
    "    else:\n",
    "        return \"Obesity. It's recommended to consult a healthcare professional for advice.\"\n",
    "\n",
    "weight = float(input(\"Enter your weight in kilograms: \"))\n",
    "height = float(input(\"Enter your height in meters: \"))\n",
    "\n",
    "bmi = calculate_bmi(weight, height)\n",
    "recommendation = health_recommendation(bmi)\n",
    "\n",
    "print(f\"Your BMI is {bmi:.2f}. {recommendation}\")\n"
   ]
  },
  {
   "cell_type": "markdown",
   "metadata": {},
   "source": [
    "ADVANCED:\n",
    "31. Create a program that validates a password based on complexity rules (length, characters, etc.).\n"
   ]
  },
  {
   "cell_type": "code",
   "execution_count": 46,
   "metadata": {},
   "outputs": [
    {
     "name": "stdout",
     "output_type": "stream",
     "text": [
      "your password is vallid\n"
     ]
    }
   ],
   "source": [
    "import re\n",
    "def check_validity(password):\n",
    "    if len(password)<8:\n",
    "        return \"Passord shld contain atlease 8 characters\"\n",
    "    elif not re.search('[a-z]',password):\n",
    "        return \"shld contain atleast 1 small letter\"\n",
    "    elif not re.search('[A-Z]',password):\n",
    "        return \"shld contain atleast 1 capital letter\"\n",
    "    elif not re.search('[0-9]',password):\n",
    "        return \"shld contain atleast 1number letter\"\n",
    "    elif not re.search('[!@#$%^&*]',password):\n",
    "        return 'shld contain atlease special character'\n",
    "    else:\n",
    "        print(\"your password is vallid\")\n",
    "password=input('Enter password')\n",
    "check_validity(password)\n",
    "\n",
    "\n"
   ]
  },
  {
   "cell_type": "markdown",
   "metadata": {},
   "source": [
    "32. Develop a program that performs matrix addition and subtraction based on user input.\n"
   ]
  },
  {
   "cell_type": "code",
   "execution_count": null,
   "metadata": {},
   "outputs": [],
   "source": [
    "def add_matrix(matrix_1,matrix_2):\n",
    "\n",
    "    result=[[matrix_1[i][j]+matrix_2[i][j] for j in range(len(matrix_1[0]))] for i in range(len(matrix_1))]\n",
    "\n",
    "    return result\n",
    "\n",
    "def sub_matrix(matrix_1,matrix_2):\n",
    "\n",
    "    result=[[matrix_1[i][j]-matrix_2[i][j] for j in range(len(matrix_1[0]))] for i in range(len(matrix_1))]\n",
    "\n",
    "    return result\n",
    "\n",
    "# make the matrix\n",
    "\n",
    "matrix_1=[[1,2,3],[1,2,3],[1,2,3]]\n",
    "matrix_2=[[1,1,1],[1,1,1],[1,1,1]]\n",
    "\n",
    "print('matrix 1 \\n')\n",
    "for row in matrix_1:\n",
    "    print(row)\n",
    "\n",
    "print('matrix 2 \\n')\n",
    "for row in matrix_2:\n",
    "    print(row)\n",
    "\n",
    "add_result=add_matrix(matrix_1,matrix_2)\n",
    "\n",
    "print('\\n Addition of matrices')\n",
    "for row in add_result:\n",
    "    print(row)\n",
    "\n",
    "sub_result=sub_matrix(matrix_1,matrix_2)\n",
    "print('\\n substraction of matrices')\n",
    "for row in sub_result:\n",
    "    print(row)"
   ]
  },
  {
   "cell_type": "markdown",
   "metadata": {},
   "source": [
    "33. Write a program that calculates the greatest common divisor (GCD) of two numbers using the Euclidean \n",
    "algorithm."
   ]
  },
  {
   "cell_type": "code",
   "execution_count": 56,
   "metadata": {},
   "outputs": [
    {
     "name": "stdout",
     "output_type": "stream",
     "text": [
      "GCD 4\n",
      "LCM 6\n"
     ]
    }
   ],
   "source": [
    "def gcd(a,b):\n",
    "    while b!=0:\n",
    "        a,b=a,a%b\n",
    "        return a\n",
    "\n",
    "def lcm(a,b):\n",
    "    return a*b// gcd(a,b)\n",
    "\n",
    "print('GCD',gcd(4,6))\n",
    "print('LCM',lcm(4,6))"
   ]
  },
  {
   "cell_type": "markdown",
   "metadata": {},
   "source": [
    "34. Build a program that performs matrix multiplication using nested loops and conditional statements.\n"
   ]
  },
  {
   "cell_type": "code",
   "execution_count": 60,
   "metadata": {},
   "outputs": [
    {
     "name": "stdout",
     "output_type": "stream",
     "text": [
      "[[27, 24], [33, 30]]\n"
     ]
    }
   ],
   "source": [
    "def matrix_multiply(matrix_1,matrix_2):\n",
    "    # check the condition that the matrix can be multiplied [no. of columns of 1st matrix == no. rows in the second matrix]\n",
    "    if len(matrix_1[0]) != len(matrix_2):\n",
    "        print('Matrix condition fails')\n",
    "    # create result matrix with zeroes\n",
    "    result=[[0 for _ in range(len(matrix_2[0]))] for _ in range(len(matrix_1))]\n",
    "\n",
    "    # perform matrix multiplication\n",
    "\n",
    "    for i in range(len(matrix_1)):\n",
    "        for j in range(len(matrix_2[0])):\n",
    "            for k in range(len(matrix_2)):\n",
    "                result[i][j]+=matrix_1[i][k] * matrix_2[k][j]\n",
    "    return result\n",
    "\n",
    "# test\n",
    "\n",
    "matrix_1=[[1,3,4],[3,3,3]]\n",
    "matrix_2=[[4,4],[5,4],[2,2]]\n",
    "print(matrix_multiply(matrix_1,matrix_2)) \n"
   ]
  },
  {
   "cell_type": "markdown",
   "metadata": {},
   "source": [
    "35. Create a program that simulates a basic text-based tic-tac-toe game against the computer.\n"
   ]
  },
  {
   "cell_type": "code",
   "execution_count": 2,
   "metadata": {},
   "outputs": [
    {
     "name": "stdout",
     "output_type": "stream",
     "text": [
      "Computer is making a move...\n",
      "O | X | O\n",
      "---------\n",
      "X | X | O\n",
      "---------\n",
      "X |   | O\n",
      "Computer wins!\n"
     ]
    }
   ],
   "source": [
    "import random\n",
    "\n",
    "def print_board(board):\n",
    "    print(f'{board[0]} | {board[1]} | {board[2]}')\n",
    "    print('---------')\n",
    "    print(f'{board[3]} | {board[4]} | {board[5]}')\n",
    "    print('---------')\n",
    "    print(f'{board[6]} | {board[7]} | {board[8]}')\n",
    "\n",
    "def check_win(board):\n",
    "    win_conditions = [(0, 1, 2), (3, 4, 5), (6, 7, 8), (0, 3, 6), (1, 4, 7), (2, 5, 8), (0, 4, 8), (2, 4, 6)]\n",
    "    for condition in win_conditions:\n",
    "        if board[condition[0]] == board[condition[1]] == board[condition[2]] != ' ':\n",
    "            return board[condition[0]]\n",
    "    if ' ' not in board:\n",
    "        return 'Draw'\n",
    "    return False\n",
    "\n",
    "def tic_tac_toe():\n",
    "    board = [' '] * 9\n",
    "    print(\"You are 'X' and the computer is 'O'.\")\n",
    "    while True:\n",
    "        print_board(board)\n",
    "        move = input('Enter your move (1-9): ')\n",
    "        if board[int(move) - 1] != ' ':\n",
    "            print('Invalid move.')\n",
    "            continue\n",
    "        board[int(move) - 1] = 'X'\n",
    "        result = check_win(board)\n",
    "        if result:\n",
    "            print_board(board)\n",
    "            if result == 'Draw':\n",
    "                print('It\\'s a draw.')\n",
    "            else:\n",
    "                print('You win!')\n",
    "            break\n",
    "        print('Computer is making a move...')\n",
    "        while True:\n",
    "            comp_move = random.randint(0, 8)\n",
    "            if board[comp_move] == ' ':\n",
    "                board[comp_move] = 'O'\n",
    "                break\n",
    "        result = check_win(board)\n",
    "        if result:\n",
    "            print_board(board)\n",
    "            if result == 'Draw':\n",
    "                print('It\\'s a draw.')\n",
    "            else:\n",
    "                print('Computer wins!')\n",
    "            break\n",
    "\n",
    "tic_tac_toe()\n"
   ]
  },
  {
   "cell_type": "markdown",
   "metadata": {},
   "source": [
    "36. Write a program that generates Fibonacci numbers up to a specified term using iterative methods.\n"
   ]
  },
  {
   "cell_type": "code",
   "execution_count": 16,
   "metadata": {},
   "outputs": [
    {
     "name": "stdout",
     "output_type": "stream",
     "text": [
      "0\n",
      "1\n",
      "1\n",
      "2\n",
      "3\n",
      "5\n",
      "8\n",
      "13\n",
      "21\n",
      "34\n",
      "55\n",
      "89\n",
      "144\n",
      "233\n",
      "377\n",
      "610\n",
      "987\n",
      "1597\n",
      "2584\n",
      "4181\n"
     ]
    }
   ],
   "source": [
    "def fibonaci(num):\n",
    "    a,b=0,1\n",
    "    for _ in range(num):\n",
    "        print(a)\n",
    "        a,b=b,a+b\n",
    "limit=int(input('enter the limit'))\n",
    "fibonaci(limit)"
   ]
  },
  {
   "cell_type": "markdown",
   "metadata": {},
   "source": [
    "37. Develop a program that calculates the nth term of the Fibonacci sequence using memoization.\n"
   ]
  },
  {
   "cell_type": "code",
   "execution_count": 22,
   "metadata": {},
   "outputs": [
    {
     "name": "stdout",
     "output_type": "stream",
     "text": [
      "10th number in fibonaci numbers is 55\n"
     ]
    }
   ],
   "source": [
    "#free method\n",
    "def find_fibo(num):\n",
    "    list_num=[]\n",
    "    a,b=0,1\n",
    "    for i in range(num+1):\n",
    "        list_num.append(a)\n",
    "        a,b=b,a+b\n",
    "    print(f'{num}th number in fibonaci numbers is {list_num[num]}')\n",
    "    \n",
    "num=int(input('enter the num you want to find'))\n",
    "\n",
    "find_fibo(num)\n"
   ]
  },
  {
   "cell_type": "code",
   "execution_count": 23,
   "metadata": {},
   "outputs": [
    {
     "name": "stdout",
     "output_type": "stream",
     "text": [
      "55\n"
     ]
    }
   ],
   "source": [
    "#using memoziation method\n",
    "def fibonaci(n, memo={}):\n",
    "\n",
    "    if n in memo:\n",
    "        #check if n is already in memo\n",
    "        #if theren then\n",
    "        return memo[n]\n",
    "    elif n<=2:\n",
    "        #check fibonacci condition that fibo of 1 and 2 is 1\n",
    "        return 1\n",
    "\n",
    "    else:#if n is not in memo and n<=2 then\n",
    "        memo[n]=fibonaci(n-1, memo)+fibonaci(n-2,memo)\n",
    "        return memo[n]\n",
    "\n",
    "print(fibonaci(10))"
   ]
  },
  {
   "cell_type": "markdown",
   "metadata": {},
   "source": [
    "38. Create a program that generates a calendar for a given month and year using conditional statements."
   ]
  },
  {
   "cell_type": "code",
   "execution_count": 24,
   "metadata": {},
   "outputs": [
    {
     "name": "stdout",
     "output_type": "stream",
     "text": [
      "   December 2023\n",
      "Mo Tu We Th Fr Sa Su\n",
      "             1  2  3\n",
      " 4  5  6  7  8  9 10\n",
      "11 12 13 14 15 16 17\n",
      "18 19 20 21 22 23 24\n",
      "25 26 27 28 29 30 31\n",
      "\n",
      "   February 2034\n",
      "Mo Tu We Th Fr Sa Su\n",
      "       1  2  3  4  5\n",
      " 6  7  8  9 10 11 12\n",
      "13 14 15 16 17 18 19\n",
      "20 21 22 23 24 25 26\n",
      "27 28\n",
      "\n"
     ]
    }
   ],
   "source": [
    " import calendar\n",
    "\n",
    " def generate_calendar(month,year):\n",
    "\n",
    "    if 1<= month <=12 and 1<= year <=9999:\n",
    "\n",
    "        cal=calendar.TextCalendar()\n",
    "        print(cal.formatmonth(year,month))\n",
    "    else:\n",
    "        print('Invalid input enter bw 1 to 9999')\n",
    "\n",
    "generate_calendar(12,2023)\n",
    "generate_calendar(2,2034)"
   ]
  },
  {
   "cell_type": "markdown",
   "metadata": {},
   "source": [
    "39. Build a program that simulates a basic text-based blackjack game against the computer"
   ]
  },
  {
   "cell_type": "code",
   "execution_count": null,
   "metadata": {},
   "outputs": [],
   "source": [
    "# Import the random module\n",
    "import random\n",
    "\n",
    "# Define the values of the cards\n",
    "values = {\"A\": 1, \"2\": 2, \"3\": 3, \"4\": 4, \"5\": 5, \"6\": 6, \"7\": 7, \"8\": 8, \"9\": 9, \"10\": 10, \"J\": 10, \"Q\": 10, \"K\": 10}\n",
    "\n",
    "# Define a function that calculates the total value of a hand\n",
    "def total(hand):\n",
    "    # Initialize the total to zero\n",
    "    total = 0\n",
    "    # Loop through the cards in the hand\n",
    "    for card in hand:\n",
    "        # Add the value of the card to the total\n",
    "        total += values[card]\n",
    "    # Check if the hand contains an ace\n",
    "    if \"A\" in hand:\n",
    "        # If the total is less than or equal to 11, count the ace as 11 instead of 1\n",
    "        if total <= 11:\n",
    "            total += 10\n",
    "    # Return the total\n",
    "    return total\n",
    "\n",
    "# Define a function that simulates the game\n",
    "def blackjack():\n",
    "    # Initialize the deck of cards\n",
    "    deck = [\"A\", \"2\", \"3\", \"4\", \"5\", \"6\", \"7\", \"8\", \"9\", \"10\", \"J\", \"Q\", \"K\"] * 4\n",
    "    # Shuffle the deck\n",
    "    random.shuffle(deck)\n",
    "    # Initialize the player's hand and the dealer's hand\n",
    "    player = []\n",
    "    dealer = []\n",
    "    # Deal two cards to the player and the dealer\n",
    "    player.append(deck.pop())\n",
    "    dealer.append(deck.pop())\n",
    "    player.append(deck.pop())\n",
    "    dealer.append(deck.pop())\n",
    "    # Print the player's hand and the dealer's first card\n",
    "    print(\"Your hand:\", player)\n",
    "    print(\"Dealer's first card:\", dealer[0])\n",
    "    # Initialize a flag to indicate if the game is over\n",
    "    game_over = False\n",
    "    # Loop until the game is over\n",
    "    while not game_over:\n",
    "        # Ask the player if they want to hit or stand\n",
    "        choice = input(\"Do you want to hit or stand? (h/s) \")\n",
    "        # If the player chooses to hit\n",
    "        if choice == \"h\":\n",
    "            # Deal a card to the player\n",
    "            player.append(deck.pop())\n",
    "            # Print the player's hand and the dealer's first card\n",
    "            print(\"Your hand:\", player)\n",
    "            print(\"Dealer's first card:\", dealer[0])\n",
    "            # Check if the player busts\n",
    "            if total(player) > 21:\n",
    "                # Print a message and end the game\n",
    "                print(\"You bust. You lose.\")\n",
    "                game_over = True\n",
    "        # If the player chooses to stand\n",
    "        elif choice == \"s\":\n",
    "            # Print the player's hand and the dealer's hand\n",
    "            print(\"Your hand:\", player)\n",
    "            print(\"Dealer's hand:\", dealer)\n",
    "            # Check if the dealer has a soft 17\n",
    "            while total(dealer) <= 16 or (total(dealer) == 17 and \"A\" in dealer):\n",
    "                # Deal a card to the dealer\n",
    "                dealer.append(deck.pop())\n",
    "                # Print the dealer's hand\n",
    "                print(\"Dealer's hand:\", dealer)\n",
    "            # Check if the dealer busts\n",
    "            if total(dealer) > 21:\n",
    "                # Print a message and end the game\n",
    "                print(\"Dealer busts. You win.\")\n",
    "                game_over = True\n",
    "            # Otherwise, compare the totals of the player and the dealer\n",
    "            else:\n",
    "                # If the player has a higher total than the dealer\n",
    "                if total(player) > total(dealer):\n",
    "                    # Print a message and end the game\n",
    "                    print(\"You have a higher total than the dealer. You win.\")\n",
    "                    game_over = True\n",
    "                # If the player has a lower total than the dealer\n",
    "                elif total(player) < total(dealer):\n",
    "                    # Print a message and end the game\n",
    "                    print(\"You have a lower total than the dealer. You lose.\")\n",
    "                    game_over = True\n",
    "                # If the player and the dealer have the same total\n",
    "                else:\n",
    "                    # Print a message and end the game\n",
    "                    print(\"You and the dealer have the same total. It's a tie.\")\n",
    "                    game_over = True\n",
    "        # If the player chooses something else\n",
    "        else:\n",
    "            # Print an error message and ask again\n",
    "            print(\"Invalid input. Please enter h or s.\")\n",
    "\n",
    "# Call the function\n",
    "blackjack()\n"
   ]
  }
 ],
 "metadata": {
  "kernelspec": {
   "display_name": "Python 3",
   "language": "python",
   "name": "python3"
  },
  "language_info": {
   "codemirror_mode": {
    "name": "ipython",
    "version": 3
   },
   "file_extension": ".py",
   "mimetype": "text/x-python",
   "name": "python",
   "nbconvert_exporter": "python",
   "pygments_lexer": "ipython3",
   "version": "3.11.7"
  },
  "orig_nbformat": 4
 },
 "nbformat": 4,
 "nbformat_minor": 2
}
