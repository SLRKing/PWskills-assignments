{
 "cells": [
  {
   "cell_type": "markdown",
   "metadata": {},
   "source": [
    "# HELLO SIR, I KNOW BASICS OF PYTHON HENCE I AM NOT ADDING COMMENTS/ STEPS OF EXECUTION.\n",
    "# I'LL BE DOING THEM IN NEXT SECTIONS"
   ]
  },
  {
   "cell_type": "markdown",
   "metadata": {},
   "source": [
    "#1 write a program reversing string?"
   ]
  },
  {
   "cell_type": "code",
   "execution_count": 1,
   "metadata": {},
   "outputs": [
    {
     "name": "stdout",
     "output_type": "stream",
     "text": [
      "inrakluK ajetivaR\n",
      "<reversed object at 0x00000182BB4836A0>\n"
     ]
    }
   ],
   "source": [
    "# enter string\n",
    "\n",
    "str = \"Raviteja Kulkarni\"\n",
    "# use reversing logic\n",
    "print(str[::-1])\n",
    "\n"
   ]
  },
  {
   "cell_type": "code",
   "execution_count": 2,
   "metadata": {},
   "outputs": [
    {
     "name": "stdout",
     "output_type": "stream",
     "text": [
      "inrakluK ajetivaR ma I\n"
     ]
    }
   ],
   "source": [
    "#write a program reversing string? 2nd method\n",
    "#create function\n",
    "def str(x):\n",
    "    #use use ::-1 logic to reverse the string\n",
    "    return x[::-1]\n",
    "# enter stirng\n",
    "mystr=str(\"I am Raviteja Kulkarni\")\n",
    "#print string\n",
    "print(mystr)"
   ]
  },
  {
   "cell_type": "markdown",
   "metadata": {},
   "source": [
    "#2. Check if a string is a palindrome"
   ]
  },
  {
   "cell_type": "code",
   "execution_count": 3,
   "metadata": {},
   "outputs": [
    {
     "name": "stdout",
     "output_type": "stream",
     "text": [
      "String is in Palindrome\n"
     ]
    }
   ],
   "source": [
    "# enter string\n",
    "str = 'radar'\n",
    "# check weather the str is equal to reversed str\n",
    "rev_str = str[::-1]\n",
    "# if reversed str is equal print this\n",
    "if (str==rev_str):\n",
    "    print('String is in Palindrome')\n",
    "# if it is not equal print this\n",
    "else:\n",
    "    print(\"string is not in palindrome\")"
   ]
  },
  {
   "cell_type": "code",
   "execution_count": 4,
   "metadata": {},
   "outputs": [
    {
     "name": "stdout",
     "output_type": "stream",
     "text": [
      "not palindrome\n"
     ]
    }
   ],
   "source": [
    "# here we are creating function and following same method to check and print as per above\n",
    "def pali(string):\n",
    "    # check the entered string equals to the reversed string\n",
    "    if string == string[::-1]:\n",
    "        #print output\n",
    "        print('plaindrome')\n",
    "    else:\n",
    "        # else] print this output\n",
    "        print(\"not palindrome\")\n",
    "#call the function ( input the stirng)\n",
    "string = pali(input('enter stirng'))\n",
    "\n",
    "\n"
   ]
  },
  {
   "cell_type": "markdown",
   "metadata": {},
   "source": [
    "# 3. Convert a string to uppercase."
   ]
  },
  {
   "cell_type": "code",
   "execution_count": 5,
   "metadata": {},
   "outputs": [],
   "source": [
    "# enter string\n",
    "str=input('enter string to capitalize')\n",
    "# use str.upper() method to capitalize string\n",
    "print(str.upper())"
   ]
  },
  {
   "cell_type": "markdown",
   "metadata": {},
   "source": [
    "# 4. Convert a string to lowercase."
   ]
  },
  {
   "cell_type": "code",
   "execution_count": null,
   "metadata": {},
   "outputs": [
    {
     "name": "stdout",
     "output_type": "stream",
     "text": [
      "\n"
     ]
    }
   ],
   "source": [
    "# here we will use .lower() method to lower case the entered string\n",
    "lw_str=input('enter strign - lower')\n",
    "#print the strin using lower() method\n",
    "print(lw_str.lower())"
   ]
  },
  {
   "cell_type": "markdown",
   "metadata": {},
   "source": [
    "# 5 Count the number of vowels in a string."
   ]
  },
  {
   "cell_type": "code",
   "execution_count": null,
   "metadata": {},
   "outputs": [
    {
     "name": "stdout",
     "output_type": "stream",
     "text": [
      "number of vowels in  is 0\n"
     ]
    }
   ],
   "source": [
    "# take input\n",
    "str = input('Enter string')\n",
    "# initilize the vowels counter to 0\n",
    "vowels=0\n",
    "# use for loop for iteration\n",
    "for i in str:\n",
    "    # check the conditions\n",
    "    if(i=='a'or i=='e'or i=='i'or i=='o'or i=='u'):\n",
    "        # if the above elements matches above contitions then increment the counter\n",
    "        vowels+=1\n",
    "# print\n",
    "print(f\"number of vowels in {str} is {vowels}\")"
   ]
  },
  {
   "cell_type": "code",
   "execution_count": null,
   "metadata": {},
   "outputs": [
    {
     "name": "stdout",
     "output_type": "stream",
     "text": [
      "0\n"
     ]
    }
   ],
   "source": [
    "# here we have used same logic but appended to empty list.\n",
    "str = input('enter string ')\n",
    "#create the empty list\n",
    "lis=[]\n",
    "# use for loop where i is for iteration\n",
    "for i in str:\n",
    "    # set the vowels to condition\n",
    "    if(i=='a'or i=='e'or i=='i'or i=='o'or i=='u'):\n",
    "        # use append method to append the vowels to ethe emppty list\n",
    "        lis.append(i)\n",
    "#print output with lenght() menthod\n",
    "print(len(lis))"
   ]
  },
  {
   "cell_type": "markdown",
   "metadata": {},
   "source": [
    "# 6. Count the number of consonants in a string."
   ]
  },
  {
   "cell_type": "code",
   "execution_count": null,
   "metadata": {},
   "outputs": [
    {
     "name": "stdout",
     "output_type": "stream",
     "text": [
      "consonant in ravi are 2\n"
     ]
    }
   ],
   "source": [
    "\n",
    "#meth 1\n",
    "str = input('enter string')\n",
    "#set counter\n",
    "consonants =len(str)\n",
    "for i in str:\n",
    "    #set the conditions\n",
    "    # if(i!='a'or i!='e'or i!='i'or i!='o'or i!='u'):\n",
    "    if(i=='a'or i=='e'or i=='i'or i=='o'or i=='u'):\n",
    "        pass \n",
    "    else:\n",
    "        #increment the coutner\n",
    "        consonants-=1\n",
    "\n",
    "print(f\"consonant in {str} are {consonants}\")"
   ]
  },
  {
   "cell_type": "code",
   "execution_count": null,
   "metadata": {},
   "outputs": [
    {
     "name": "stdout",
     "output_type": "stream",
     "text": [
      "consonant in rocky are 4\n"
     ]
    }
   ],
   "source": [
    "#method 2 \n",
    "# take input\n",
    "str = input('enter string')\n",
    "# initilize counter\n",
    "consonants =0\n",
    "# use loop\n",
    "for i in str:\n",
    "    # check for conditions\n",
    "    if(i=='a'or i=='e'or i=='i'or i=='o'or i=='u'):\n",
    "        pass\n",
    "# if the conditions is not true then increment the counter\n",
    "    else:\n",
    "        # INCREMENT THE COUNTER\n",
    "        consonants+=1\n",
    "#print\n",
    "\n",
    "print(f\"consonant in {str} are {consonants}\")"
   ]
  },
  {
   "cell_type": "markdown",
   "metadata": {},
   "source": [
    "# 7 Remove all whitespaces from a string."
   ]
  },
  {
   "cell_type": "code",
   "execution_count": 3,
   "metadata": {},
   "outputs": [
    {
     "name": "stdout",
     "output_type": "stream",
     "text": [
      "rocky\n"
     ]
    }
   ],
   "source": [
    "# define funxn\n",
    "def remove(string):\n",
    "    # return the output\n",
    "    return string.replace(\" \",\"\")\n",
    "# send the argument to function\n",
    "string = input('enter')\n",
    "# print\n",
    "print(remove(string))"
   ]
  },
  {
   "cell_type": "markdown",
   "metadata": {},
   "source": [
    "# 8Find the length of a string without using the `len()` function."
   ]
  },
  {
   "cell_type": "code",
   "execution_count": 4,
   "metadata": {},
   "outputs": [
    {
     "name": "stdout",
     "output_type": "stream",
     "text": [
      "8\n"
     ]
    }
   ],
   "source": [
    "# enter the string\n",
    "\n",
    "str = \"raviteja\"\n",
    "# initilize the conter\n",
    "c=0\n",
    "# use loop\n",
    "for i in str:\n",
    "    # increment\n",
    "    c+=1\n",
    "# print\n",
    "print(c)\n"
   ]
  },
  {
   "cell_type": "markdown",
   "metadata": {},
   "source": [
    "# 9. Check if a string contains a specific word."
   ]
  },
  {
   "cell_type": "code",
   "execution_count": 5,
   "metadata": {},
   "outputs": [
    {
     "name": "stdout",
     "output_type": "stream",
     "text": [
      "a is there\n"
     ]
    }
   ],
   "source": [
    "# take input\n",
    "str = 'raviteja s kulkarni'\n",
    "# check conditions\n",
    "if 'a'in str:\n",
    "    print('a is there')\n",
    "else:\n",
    "    print('a is not there')\n"
   ]
  },
  {
   "cell_type": "markdown",
   "metadata": {},
   "source": [
    "# 10. Replace a word in a string with another word."
   ]
  },
  {
   "cell_type": "code",
   "execution_count": 6,
   "metadata": {},
   "outputs": [
    {
     "name": "stdout",
     "output_type": "stream",
     "text": [
      "Where are you\n"
     ]
    }
   ],
   "source": [
    "\n",
    "\n",
    "string = \"how are you\"\n",
    "print(string.replace(\"how\",\"Where\"))"
   ]
  },
  {
   "cell_type": "code",
   "execution_count": 7,
   "metadata": {},
   "outputs": [
    {
     "name": "stdout",
     "output_type": "stream",
     "text": [
      "2\n"
     ]
    }
   ],
   "source": [
    "# 11. Count the occurrences of a word in a string.\n",
    "# to find 'o' in stirng\n",
    "str = \"how are you\"\n",
    "# initilize counter\n",
    "count =0\n",
    "# use for loop\n",
    "for i in str:\n",
    "    # \n",
    "    if 'o' == i:\n",
    "        count+=1\n",
    "\n",
    "print(count)"
   ]
  },
  {
   "cell_type": "code",
   "execution_count": 8,
   "metadata": {},
   "outputs": [
    {
     "name": "stdout",
     "output_type": "stream",
     "text": [
      " \n"
     ]
    }
   ],
   "source": [
    "# 12. Find the first occurrence of a word in a string.\n",
    "# enter stirng  \n",
    "str = \"I am Raviteja the great data scientist\"\n",
    "# use split method() to split at the ' '\n",
    "str.split(' ')\n",
    "# to get 1st word let us use 0th index\n",
    "print(str[1])"
   ]
  },
  {
   "cell_type": "code",
   "execution_count": 9,
   "metadata": {},
   "outputs": [
    {
     "name": "stdout",
     "output_type": "stream",
     "text": [
      "first word is h\n",
      "h repeats 3 times\n"
     ]
    }
   ],
   "source": [
    "#import the regular expression\n",
    "import re\n",
    "# enter string\n",
    "\n",
    "str = \"how are you Raviteja I hope you are how fine Raviteja\"\n",
    "# use split function()\n",
    "str.split(' ')\n",
    "#print the first word\n",
    "print('first word is',str[0])\n",
    "f=str[0]\n",
    "# initilize counter\n",
    "count=0 \n",
    "# use loop\n",
    "for i in str:\n",
    "    # use condition\n",
    "    if i==f:\n",
    "        # increment\n",
    "        count+=1\n",
    "#print output\n",
    "print(f'{f} repeats {count} times')\n"
   ]
  },
  {
   "cell_type": "markdown",
   "metadata": {},
   "source": [
    "# 13. Find the last occurrence of a word in a string."
   ]
  },
  {
   "cell_type": "code",
   "execution_count": 10,
   "metadata": {},
   "outputs": [
    {
     "name": "stdout",
     "output_type": "stream",
     "text": [
      "last word is a\n",
      "a repeats 6 times\n"
     ]
    }
   ],
   "source": [
    "# enter string\n",
    "str = \"how are you Raviteja I hope you are fine Raviteja\"\n",
    "# use split method\n",
    "str.split(' ')\n",
    "# use -1 to get last word\n",
    "print('last word is',str[-1])\n",
    "f=str[-1]\n",
    "count=0\n",
    "# use loop\n",
    "for i in str:\n",
    "    #use condition\n",
    "    if i==f:\n",
    "        #increment the counter\n",
    "        count+=1\n",
    "#print output\n",
    "print(f'{f} repeats {count} times')\n"
   ]
  },
  {
   "cell_type": "markdown",
   "metadata": {},
   "source": [
    "# 14. Split a string into a list of words.\n"
   ]
  },
  {
   "cell_type": "code",
   "execution_count": 11,
   "metadata": {},
   "outputs": [
    {
     "name": "stdout",
     "output_type": "stream",
     "text": [
      "['how', 'are', 'you']\n"
     ]
    }
   ],
   "source": [
    "# enter text\n",
    "text=\"how are you\"\n",
    "# split and create list\n",
    "print(text.split(' '))"
   ]
  },
  {
   "cell_type": "markdown",
   "metadata": {},
   "source": [
    "# 15. Join a list of words into a string."
   ]
  },
  {
   "cell_type": "code",
   "execution_count": 12,
   "metadata": {},
   "outputs": [
    {
     "name": "stdout",
     "output_type": "stream",
     "text": [
      "ihow are youamhow are youRaviteja\n"
     ]
    }
   ],
   "source": [
    "# creat list\n",
    "word='how are you'\n",
    "lis=['i','am','Raviteja']\n",
    "# use join to merge tow \n",
    "x=word.join(lis)\n",
    "#print output\n",
    "print(x)\n",
    " "
   ]
  },
  {
   "cell_type": "code",
   "execution_count": 13,
   "metadata": {},
   "outputs": [
    {
     "name": "stdout",
     "output_type": "stream",
     "text": [
      "  I am Raviteja\n"
     ]
    }
   ],
   "source": [
    "#create the list\n",
    "name = ['I',\"am\",\"Raviteja\"]\n",
    "#set the ans to ' '\n",
    "ans=' '\n",
    "#use counter loop\n",
    "for i in name:\n",
    "    #use concatination\n",
    "    ans = ans+' '+i\n",
    "# print output\n",
    "print(ans)"
   ]
  },
  {
   "cell_type": "markdown",
   "metadata": {},
   "source": [
    "# 16. Convert a string where words are separated by spaces to one where words"
   ]
  },
  {
   "cell_type": "code",
   "execution_count": 14,
   "metadata": {},
   "outputs": [
    {
     "name": "stdout",
     "output_type": "stream",
     "text": [
      "Raviteja_S_Kulkarni_The_Data_Scientist\n"
     ]
    }
   ],
   "source": [
    "\n",
    "# are separated by underscores.\n",
    "st = \"Raviteja S Kulkarni The Data Scientist\"\n",
    "# use replace method to change the symbol\n",
    "print(st.replace(\" \",\"_\"))\n"
   ]
  },
  {
   "cell_type": "markdown",
   "metadata": {},
   "source": [
    "# Check if a string starts with a specific word or phrase."
   ]
  },
  {
   "cell_type": "code",
   "execution_count": 15,
   "metadata": {},
   "outputs": [
    {
     "name": "stdout",
     "output_type": "stream",
     "text": [
      "absent\n"
     ]
    }
   ],
   "source": [
    "\n",
    "st = 'he is a king'\n",
    "# split the senternce into words\n",
    "x=st.split(\" \")\n",
    "#take input f the specific word\n",
    "specific = input(\"enter first specific word? \")\n",
    "# use condition\n",
    "if specific in x[0]:\n",
    "    #print if true\n",
    "    print('present')\n",
    "#else print false\n",
    "else:\n",
    "    print('absent')\n",
    "\n",
    "    "
   ]
  },
  {
   "cell_type": "markdown",
   "metadata": {},
   "source": [
    "# 18. Check if a string ends with a specific word or phrase.\n"
   ]
  },
  {
   "cell_type": "code",
   "execution_count": 16,
   "metadata": {},
   "outputs": [
    {
     "name": "stdout",
     "output_type": "stream",
     "text": [
      "absent\n"
     ]
    }
   ],
   "source": [
    "ing = \"I am Raviteja Kulkarni The AI engineer\"\n",
    "x=ing.split(\" \")\n",
    "specific = input('Enter ending specific word')\n",
    "if specific==x[-1]:\n",
    "    print('present')\n",
    "\n",
    "else:\n",
    "    print(\"absent\")"
   ]
  },
  {
   "cell_type": "markdown",
   "metadata": {},
   "source": [
    "# 19. Convert a string to title case (e.g., \"hello world\" to \"Hello World\").\n"
   ]
  },
  {
   "cell_type": "code",
   "execution_count": 17,
   "metadata": {},
   "outputs": [
    {
     "name": "stdout",
     "output_type": "stream",
     "text": [
      "Jai Jawan Jai Vignyan\n"
     ]
    }
   ],
   "source": [
    "# 19. Convert a string to title case (e.g., \"hello world\" to \"Hello World\").\n",
    "st = \"jai jawan jai vignyan\"\n",
    "# use title() method and print\n",
    "print(st.title())"
   ]
  },
  {
   "cell_type": "markdown",
   "metadata": {},
   "source": [
    "# 20. Find the longest word in a string.\n"
   ]
  },
  {
   "cell_type": "code",
   "execution_count": 18,
   "metadata": {},
   "outputs": [
    {
     "name": "stdout",
     "output_type": "stream",
     "text": [
      "Longest word : Raviteja\n",
      "Position of Longest word : 3\n"
     ]
    }
   ],
   "source": [
    "#take string\n",
    "st = \"I am Raviteja Kulkarni I was spl of my school\"\n",
    "#split the sentence using split method\n",
    "word_list = st.split()\n",
    "# find the long word using max method and set key to length\n",
    "Long_word= max(word_list, key = len)\n",
    "##set the position pos, use index for that\n",
    "pos= word_list.index(Long_word)\n",
    "#print output\n",
    "print(\"Longest word :\",Long_word)\n",
    "print(\"Position of Longest word :\", pos+1)\n"
   ]
  },
  {
   "cell_type": "markdown",
   "metadata": {},
   "source": [
    "# 20. Find the longest word in a string."
   ]
  },
  {
   "cell_type": "code",
   "execution_count": 19,
   "metadata": {},
   "outputs": [
    {
     "ename": "IndexError",
     "evalue": "list index out of range",
     "output_type": "error",
     "traceback": [
      "\u001b[1;31m---------------------------------------------------------------------------\u001b[0m",
      "\u001b[1;31mIndexError\u001b[0m                                Traceback (most recent call last)",
      "Cell \u001b[1;32mIn[19], line 6\u001b[0m\n\u001b[0;32m      4\u001b[0m st \u001b[39m=\u001b[39m \u001b[39minput\u001b[39m(\u001b[39m'\u001b[39m\u001b[39mEnter string :\u001b[39m\u001b[39m'\u001b[39m)\n\u001b[0;32m      5\u001b[0m words\u001b[39m=\u001b[39mst\u001b[39m.\u001b[39msplit()\n\u001b[1;32m----> 6\u001b[0m long \u001b[39m=\u001b[39m words[\u001b[39m0\u001b[39;49m]\n\u001b[0;32m      7\u001b[0m max_len\u001b[39m=\u001b[39m \u001b[39mlen\u001b[39m(words[\u001b[39m0\u001b[39m])\n\u001b[0;32m      8\u001b[0m \u001b[39mfor\u001b[39;00m index, word \u001b[39min\u001b[39;00m \u001b[39menumerate\u001b[39m(words):\n",
      "\u001b[1;31mIndexError\u001b[0m: list index out of range"
     ]
    }
   ],
   "source": [
    "\n",
    "# method\n",
    "#entet the stirng\n",
    "st = input('Enter string :')\n",
    "#split the sentence\n",
    "words=st.split()\n",
    "#set long word\n",
    "long = words[0]\n",
    "#set max len of the word\n",
    "max_len= len(words[0])\n",
    "#use loop in enumerate\n",
    "for index, word in enumerate(words):\n",
    "    #check the conditions\n",
    "    if len(word)>max_len:\n",
    "        #set max length\n",
    "        max_len = len(word)\n",
    "\n",
    "        long = word\n",
    "    else:\n",
    "        pass\n",
    "#find the word in the list\n",
    "idx = st.find(long)\n",
    "#print output\n",
    "print('Longest word ',long)\n",
    "print(\" position of long word\", idx)\n",
    "1"
   ]
  },
  {
   "cell_type": "markdown",
   "metadata": {},
   "source": [
    "# 21. Find the shortest word in a string."
   ]
  },
  {
   "cell_type": "code",
   "execution_count": null,
   "metadata": {},
   "outputs": [
    {
     "name": "stdout",
     "output_type": "stream",
     "text": [
      "SHortest word is : in\n",
      "position of shortetst word is : 4\n"
     ]
    }
   ],
   "source": [
    "#enter the senternce\n",
    "st = \"Find the sohort world in universeaydj kdj\"\n",
    "#use min method and set key to length also split the sentence int this method only\n",
    "short_word=min(st.split(),key= len)\n",
    "#print the output\n",
    "print('SHortest word is :',short_word)\n",
    "#print the word with it's index\n",
    "print('position of shortetst word is :', st.split().index(short_word))"
   ]
  },
  {
   "cell_type": "markdown",
   "metadata": {},
   "source": [
    "22. reverse the order of words in a string."
   ]
  },
  {
   "cell_type": "code",
   "execution_count": null,
   "metadata": {},
   "outputs": [
    {
     "name": "stdout",
     "output_type": "stream",
     "text": [
      "['reversed', 'when', 'ravitej', 'is', 'this']\n"
     ]
    }
   ],
   "source": [
    "#enter the stirng\n",
    "st = \"this is ravitej when reversed\"\n",
    "#print the string reverse of the list\n",
    "print(st.split()[::-1])"
   ]
  },
  {
   "cell_type": "markdown",
   "metadata": {},
   "source": [
    "# 23. Check if a string is alphanumeric.\n"
   ]
  },
  {
   "cell_type": "code",
   "execution_count": null,
   "metadata": {},
   "outputs": [
    {
     "name": "stdout",
     "output_type": "stream",
     "text": [
      "how\n"
     ]
    }
   ],
   "source": [
    "st = \"Ia555nm1 KDJDK\"\n",
    "#use split\n",
    "\n",
    "\n",
    "lis = st.split()\n",
    "#use for loop\n",
    "for i in lis:\n",
    "    # check the string is alpha numeric useing .isalnum() function\n",
    "    if i.isalnum() == True:\n",
    "        # if teh conditions is true print thsi output\n",
    "        print('String contains alphanumeric')\n",
    "        break\n",
    "#else print \n",
    "    else:\n",
    "        pass\n",
    "    "
   ]
  },
  {
   "cell_type": "markdown",
   "metadata": {},
   "source": [
    "# 24. Extract all digits from a string.\n"
   ]
  },
  {
   "cell_type": "code",
   "execution_count": null,
   "metadata": {},
   "outputs": [
    {
     "name": "stdout",
     "output_type": "stream",
     "text": [
      "Digits in Strings are 10\n",
      "Digits in Strings are 2001\n",
      "Digits in Strings are 8\n"
     ]
    }
   ],
   "source": [
    "# enter the stirng\n",
    "st =\"Raviteja born on 10 Jan 2001 at 8 pm \"\n",
    "# use for loop\n",
    "for i in st.split():\n",
    "    # check the stirng has digit using .isdigit() funciton\n",
    "    if i.isdigit():\n",
    "        # if condition true print output\n",
    "        \n",
    "        print('Digits in Strings are',i)"
   ]
  },
  {
   "cell_type": "code",
   "execution_count": null,
   "metadata": {},
   "outputs": [],
   "source": []
  },
  {
   "cell_type": "code",
   "execution_count": null,
   "metadata": {},
   "outputs": [
    {
     "name": "stdout",
     "output_type": "stream",
     "text": [
      "['10', '2001', '8']\n"
     ]
    }
   ],
   "source": [
    "#method 2\n",
    "# 24. Extract all digits from a string.\n",
    "st =\"Raviteja born on 10 Jan 2001 at 8 pm \"\n",
    "# create the empty list\n",
    "lis=[]\n",
    "#use for loop\n",
    "for i in st.split():\n",
    "    # use isdigit() method\n",
    "    if i.isdigit():\n",
    "        # if true appent to empty list\n",
    "        lis.append(i)\n",
    "#print output    \n",
    "print(lis)"
   ]
  },
  {
   "cell_type": "markdown",
   "metadata": {},
   "source": [
    "# 25. Extract all alphabets from a string."
   ]
  },
  {
   "cell_type": "code",
   "execution_count": null,
   "metadata": {},
   "outputs": [
    {
     "name": "stdout",
     "output_type": "stream",
     "text": [
      "['Raviteja', 'born', 'on', 'jan', 'at', 'hr', 'minit']\n"
     ]
    }
   ],
   "source": [
    "# crete the string\n",
    "st=\"Raviteja born on 10 jan 2001 at 39 hr 34 minit \"\n",
    "# create the empty string\n",
    "lis=[]\n",
    "# use for loop\n",
    "for i in st.split():\n",
    "    #use if conditions\n",
    "    if i.isalpha():\n",
    "        #if true append the word\n",
    "        lis.append(i)\n",
    "    #print output\n",
    "print(lis)"
   ]
  },
  {
   "cell_type": "markdown",
   "metadata": {},
   "source": [
    "# 26. Count the number of uppercase letters in a string.\n"
   ]
  },
  {
   "cell_type": "code",
   "execution_count": null,
   "metadata": {},
   "outputs": [
    {
     "name": "stdout",
     "output_type": "stream",
     "text": [
      "4\n",
      "they are RYBW\n"
     ]
    }
   ],
   "source": [
    "#enter the stirng\n",
    "st= \"Raviteja is the Youngest Billionaire in the World \"\n",
    "#set counter to zero\n",
    "c=0\n",
    "#set alt ' '\n",
    "alt=''\n",
    "#use loop\n",
    "for i in st:\n",
    "    # check if the letter is upper\n",
    "    if i.isupper():\n",
    "        #if ture the n incremetn counter\n",
    "        c+=1\n",
    "        alt=alt+i\n",
    "\n",
    "print(c)\n",
    "print(\"upper case letters are\",alt)\n"
   ]
  },
  {
   "cell_type": "markdown",
   "metadata": {},
   "source": [
    "# 27. Count the number of lowercase letters in a string.\n"
   ]
  },
  {
   "cell_type": "code",
   "execution_count": null,
   "metadata": {},
   "outputs": [
    {
     "name": "stdout",
     "output_type": "stream",
     "text": [
      "string has 31 small letters and they are \"wanttoecometheorlbestaiengineer\"\n"
     ]
    }
   ],
   "source": [
    "#enter string\n",
    "st=\"I want to Become the WorlDDDD best ai engineer \"\n",
    "#set counter to 0\n",
    "c=0\n",
    "# create the alt to store the continous value\n",
    "alt=''\n",
    "#use loop\n",
    "for i in st:\n",
    "    # use lower function \n",
    "    if i.islower():\n",
    "        #if condition tre the increment the counter\n",
    "        c+=1\n",
    "        # append to the last letter\n",
    "        alt=alt+i\n",
    "    #print output \n",
    "print(f'string has {c} small letters and they are \"{alt}\"')\n"
   ]
  },
  {
   "cell_type": "markdown",
   "metadata": {},
   "source": [
    "# 28. Swap the case of each character in a string.\n"
   ]
  },
  {
   "cell_type": "code",
   "execution_count": null,
   "metadata": {},
   "outputs": [
    {
     "name": "stdout",
     "output_type": "stream",
     "text": [
      "kING BECOME'S fROm dIShOnESTY\n"
     ]
    }
   ],
   "source": [
    "#creat the stirng\n",
    "st= \"King become's FroM DisHoNesty\"\n",
    "# use swapcase method and print output\n",
    "print(st.swapcase())"
   ]
  },
  {
   "cell_type": "markdown",
   "metadata": {},
   "source": [
    "# 29. Remove a specific word from a string.\n"
   ]
  },
  {
   "cell_type": "code",
   "execution_count": null,
   "metadata": {},
   "outputs": [
    {
     "name": "stdout",
     "output_type": "stream",
     "text": [
      "['How', 'you', 'Mr.', 'Raviteja', 'Kulkarni']\n"
     ]
    }
   ],
   "source": [
    "#enter stirng\n",
    "st = 'How are you Mr. Raviteja Kulkarni'\n",
    "# set removing word\n",
    "rem='are'\n",
    "#split the sentence using split\n",
    "lis=st.split()\n",
    "#use loop over a list \n",
    "for i in lis:\n",
    "    # if i matches the removing word\n",
    "    if i==rem:\n",
    "        #remove that word form lsit using  remove  function\n",
    "        lis.remove(i)\n",
    "#print the ouptup\n",
    "\n",
    "print(lis)"
   ]
  },
  {
   "cell_type": "markdown",
   "metadata": {},
   "source": [
    "# 30. Check if a string is a valid email address.\n"
   ]
  },
  {
   "cell_type": "code",
   "execution_count": null,
   "metadata": {},
   "outputs": [
    {
     "name": "stdout",
     "output_type": "stream",
     "text": [
      "valid\n"
     ]
    }
   ],
   "source": [
    "#enter email address\n",
    "mail='ravitejaslrk@gmail.com'\n",
    "#check the domain suffix is present in the sting or not\n",
    "if '@gmail.com' in mail:\n",
    "    #if present the print valid\n",
    "    print('valid')\n",
    "    "
   ]
  },
  {
   "cell_type": "code",
   "execution_count": null,
   "metadata": {},
   "outputs": [
    {
     "name": "stdout",
     "output_type": "stream",
     "text": [
      "fals\n"
     ]
    }
   ],
   "source": [
    "#method 2\n",
    "import re\n",
    "\n",
    "# regex= r'^[A-Za-z0-9._%+-]+@[A-Za-z0-9._%+-]+\\.[A-Za-z]{2,7}\\b\n",
    "def check(email):\n",
    "    pat = r\"[A-Za-z0-9]+@[A-Za-z0-9]+\\.[A-Za-z0-9]\"\n",
    "    if re.match(pat, email):\n",
    "        return \"valid\"\n",
    "    return \"fals\"\n",
    "\n",
    "email = \"ravitejmail.com\"\n",
    "print(check(email))\n",
    "\n"
   ]
  },
  {
   "cell_type": "markdown",
   "metadata": {},
   "source": [
    "# 31. Extract the username from an email address string.\n"
   ]
  },
  {
   "cell_type": "code",
   "execution_count": null,
   "metadata": {},
   "outputs": [
    {
     "name": "stdout",
     "output_type": "stream",
     "text": [
      "ravi\n"
     ]
    }
   ],
   "source": [
    "#enter the mail\n",
    "r=\"ravi@gmail\"\n",
    "#use split to divide at @\n",
    "lis=r.split('@')\n",
    "# print the username of the mail\n",
    "print(lis[0])"
   ]
  },
  {
   "cell_type": "code",
   "execution_count": null,
   "metadata": {},
   "outputs": [
    {
     "name": "stdout",
     "output_type": "stream",
     "text": [
      "rocky\n"
     ]
    }
   ],
   "source": [
    "#method\n",
    "def ext(email):\n",
    "    lis = email.split(\"@\" )\n",
    "    print(lis[0])\n",
    "email = \"rocky@gmail.com\"\n",
    "ext(email)"
   ]
  },
  {
   "cell_type": "markdown",
   "metadata": {},
   "source": [
    "# 32. Extract the domain from an email address string.\n"
   ]
  },
  {
   "cell_type": "code",
   "execution_count": null,
   "metadata": {},
   "outputs": [
    {
     "name": "stdout",
     "output_type": "stream",
     "text": [
      "billio.com\n"
     ]
    }
   ],
   "source": [
    "#create the function\n",
    "def ext(domain):\n",
    "    #split the mail\n",
    "    lis = email.split(\"@\")\n",
    "    #print the word after @\n",
    "    print(lis[1])\n",
    "#enter the string\n",
    "domain=\"raviteja@billio.com\"\n",
    "#call the function \n",
    "ext(domain)"
   ]
  },
  {
   "cell_type": "markdown",
   "metadata": {},
   "source": [
    "# 33. Replace multiple spaces in a string with a single space.\n"
   ]
  },
  {
   "cell_type": "code",
   "execution_count": null,
   "metadata": {},
   "outputs": [
    {
     "name": "stdout",
     "output_type": "stream",
     "text": [
      "jkj jkdfjkjd jfjk8ije jki kji\n"
     ]
    }
   ],
   "source": [
    "# \\To replace multiple spaces with one space using Python, the easiest way\n",
    "#  is to use the Python sub() function from the re module.\n",
    "#import regular expression\n",
    "import re\n",
    "#enter string\n",
    "st=\"jkj  jkdfjkjd     jfjk8ije       jki kji\"\n",
    "#use sub function for replacement\n",
    "st_single_space=re.sub('\\s+',\" \",st)\n",
    "#print output\n",
    "print(st_single_space)"
   ]
  },
  {
   "cell_type": "code",
   "execution_count": null,
   "metadata": {},
   "outputs": [
    {
     "name": "stdout",
     "output_type": "stream",
     "text": [
      "ravieja ajsdi jijk j ajid\n"
     ]
    }
   ],
   "source": [
    "# method2 Another method to replace multiple spaces \n",
    "# with one space is combining the use of split() and join.\n",
    "st_mul=\"ravieja  ajsdi   jijk j     ajid\"\n",
    "st_single_space= \" \".join(st_mul.split())\n",
    "print(st_single_space)"
   ]
  },
  {
   "cell_type": "markdown",
   "metadata": {},
   "source": [
    "# 34. Check if a string is a valid URL.\n"
   ]
  },
  {
   "cell_type": "code",
   "execution_count": null,
   "metadata": {},
   "outputs": [
    {
     "name": "stdout",
     "output_type": "stream",
     "text": [
      "['http://example.org/index.php']\n"
     ]
    }
   ],
   "source": [
    "#import regular expression\n",
    "import re\n",
    "# set the patter of the url\n",
    "pattern = r'http[s]?://(?:[a-zA-Z]|[0-9]|[$-_@.&+]|[!*\\(\\),]|(?:%[0-9a-fA-F][0-9a-fA-F]))+'\n",
    "#enter the string\n",
    "text = 'Some text with a URL: https:/.example.com/page.html and another URL: http://example.org/index.php'\n",
    "#use find method of re to get the valid url\n",
    "urls = re.findall(pattern, text)\n",
    "#output\n",
    "print(\"valid url are\",urls)\n"
   ]
  },
  {
   "cell_type": "markdown",
   "metadata": {},
   "source": [
    "# 35. Extract the protocol (http or https) from a URL string.\n"
   ]
  },
  {
   "cell_type": "code",
   "execution_count": null,
   "metadata": {},
   "outputs": [
    {
     "name": "stdout",
     "output_type": "stream",
     "text": [
      "url is in format httpss\n"
     ]
    }
   ],
   "source": [
    "#import urllib\n",
    "from urllib.parse import urlparse\n",
    "# enter url\n",
    "url = \"httpss://google.com\"\n",
    "# use parsing url method()\n",
    "parsed_url = urlparse(url)\n",
    "#set the protocol scheme\n",
    "protocol=parsed_url.scheme\n",
    "#print\n",
    "print(f'url is in format {protocol}')"
   ]
  },
  {
   "cell_type": "markdown",
   "metadata": {},
   "source": [
    "# 36. Find the frequency of each character in a string.\n"
   ]
  },
  {
   "cell_type": "code",
   "execution_count": null,
   "metadata": {},
   "outputs": [
    {
     "name": "stdout",
     "output_type": "stream",
     "text": [
      "Count of all characters in GeeksforGeeks is :\n",
      "  {'G': 2, 'e': 5, 'k': 2, 's': 2, 'f': 1, 'r': 2, 'a': 2, 'v': 1, 'i': 1, 't': 1, 'j': 1, 'o': 1}\n"
     ]
    }
   ],
   "source": [
    "# initializing string\n",
    "test_str = \"ravitejaorGeeks\"\n",
    " \n",
    "# using naive method to get count\n",
    "# of each element in string\n",
    "all_freq = {}\n",
    " #loop\n",
    "for i in test_str:\n",
    "    # checkt the char in empty list\n",
    "    if i in all_freq:\n",
    "        #increment counter\n",
    "        all_freq[i] += 1\n",
    "    else:\n",
    "        all_freq[i] = 1\n",
    " \n",
    "# printing result\n",
    "print(\"Count of all characters in GeeksforGeeks is :\\n \"\n",
    "      ,all_freq)"
   ]
  },
  {
   "cell_type": "code",
   "execution_count": null,
   "metadata": {},
   "outputs": [
    {
     "name": "stdout",
     "output_type": "stream",
     "text": [
      "Count of all characters in GeeksforGeeks is :\n",
      "  Counter({'e': 4, 'G': 2, 'k': 2, 's': 2, 'f': 1, 'o': 1, 'r': 1})\n"
     ]
    }
   ],
   "source": [
    "# method2\n",
    "# each occurrence frequency using\n",
    "# collections.Counter()\n",
    "from collections import Counter\n",
    " \n",
    "# initializing string\n",
    "test_str = \"GeeksforGeeks\"\n",
    " \n",
    "# using collections.Counter() to get\n",
    "# count of each element in string\n",
    "res = Counter(test_str)\n",
    " \n",
    "# printing result\n",
    "print(\"Count of all characters in GeeksforGeeks is :\\n \"\n",
    "      ,(res))"
   ]
  },
  {
   "cell_type": "code",
   "execution_count": null,
   "metadata": {},
   "outputs": [],
   "source": [
    "import string\n",
    "\n",
    "def remove_punctuation(input_str):\n",
    "    # Create a translation table to remove punctuation\n",
    "    translator = str.maketrans(\"\", \"\", string.punctuation)\n",
    "\n",
    "    # Use the translation table to remove punctuation from the input string\n",
    "    clean_string = input_str.translate(translator)\n",
    "\n",
    "    return clean_string\n",
    "\n",
    "# Example string with punctuation\n",
    "input_str = \"Hello, world! How's it going?\"\n",
    "\n",
    "# Remove punctuation\n",
    "cleaned_str = remove_punctuation(input_str)\n",
    "\n",
    "# Print the cleaned string\n",
    "print(\"Original string:\", input_str)\n",
    "print(\"Cleaned string:\", cleaned_str)"
   ]
  },
  {
   "cell_type": "markdown",
   "metadata": {},
   "source": [
    "# 37. Convert a list to a dictionary where list elements become keys and their\n"
   ]
  },
  {
   "cell_type": "code",
   "execution_count": null,
   "metadata": {},
   "outputs": [
    {
     "data": {
      "text/plain": [
       "{'ravi': 4, 'tejas': 5, 'business': 8, 'king': 4, 'raavan': 6}"
      ]
     },
     "execution_count": 24,
     "metadata": {},
     "output_type": "execute_result"
    }
   ],
   "source": [
    "\n",
    "# indices become values.\n",
    "\n",
    "lis=['ravi','tejas','business','king','raavan']\n",
    "#create empty list\n",
    "x=[]\n",
    "#use loop\n",
    "for i in lis:\n",
    "    #append to x[]\n",
    "    x.append(len(i))\n",
    "# print with zipping method\n",
    "dict(zip(lis,x))"
   ]
  },
  {
   "cell_type": "markdown",
   "metadata": {},
   "source": [
    "# 39. Create a list of the first 10 factorial numbers.\n"
   ]
  },
  {
   "cell_type": "code",
   "execution_count": null,
   "metadata": {},
   "outputs": [
    {
     "name": "stdout",
     "output_type": "stream",
     "text": [
      "factorrial of  1 is 1\n",
      "factorrial of  2 is 2\n",
      "factorrial of  3 is 6\n",
      "factorrial of  4 is 24\n",
      "factorrial of  5 is 120\n",
      "factorrial of  6 is 720\n",
      "factorrial of  7 is 5040\n",
      "factorrial of  8 is 40320\n",
      "factorrial of  9 is 362880\n",
      "factorrial of  10 is 3628800\n"
     ]
    }
   ],
   "source": [
    "# create list\n",
    "lis=[1,2,3,4,5,6,7,8,9,10]\n",
    "# use loop \n",
    "for item in lis:\n",
    "    # set fact to 1\n",
    "    fact=1\n",
    "    # use loop\n",
    "    for number in range(1,item+1):\n",
    "        # use factorial logic\n",
    "        fact=fact*number\n",
    "    #print\n",
    "    print('factorrial of ',item,'is',fact)  1"
   ]
  },
  {
   "cell_type": "code",
   "execution_count": null,
   "metadata": {},
   "outputs": [
    {
     "name": "stdout",
     "output_type": "stream",
     "text": [
      "[1, 2, 3, 4, 5, 6, 7, 8, 9, 10]\n",
      "factorial of 1 is 1\n",
      "factorial of 2 is 2\n",
      "factorial of 3 is 6\n",
      "factorial of 4 is 24\n",
      "factorial of 5 is 120\n",
      "factorial of 6 is 720\n",
      "factorial of 7 is 5040\n",
      "factorial of 8 is 40320\n",
      "factorial of 9 is 362880\n",
      "factorial of 10 is 3628800\n"
     ]
    }
   ],
   "source": [
    "# method 2\n",
    "lis=[]\n",
    "for x in range(1,11):\n",
    "    lis.append(x)\n",
    "print(lis)\n",
    "for i in lis:\n",
    "    fact=1\n",
    "    for num in range(1,i+1):\n",
    "        fact=fact*num\n",
    "    print(f'factorial of {num} is {fact}')\n",
    "    "
   ]
  },
  {
   "cell_type": "markdown",
   "metadata": {},
   "source": [
    "# 40. Check if two lists have at least one element in common.\n"
   ]
  },
  {
   "cell_type": "code",
   "execution_count": null,
   "metadata": {},
   "outputs": [
    {
     "name": "stdout",
     "output_type": "stream",
     "text": [
      "common element list 3 and list 2 is 3\n",
      "no common elements\n"
     ]
    }
   ],
   "source": [
    "#creat 2 lists\n",
    "lis1=[3,4,5,6,7]\n",
    "lis2=[3,32,2,1,2,33]\n",
    "#use loop\n",
    "for i in lis1:\n",
    "    #use inner loop\n",
    "    for j in lis2:\n",
    "        #check equal condition\n",
    "        if i==j:\n",
    "            #pirnt\n",
    "            print(f'common element list {i} and list 2 is {j}')\n",
    "        else:\n",
    "            pass\n",
    "    \n"
   ]
  },
  {
   "cell_type": "code",
   "execution_count": null,
   "metadata": {},
   "outputs": [
    {
     "name": "stdout",
     "output_type": "stream",
     "text": [
      "common element\n"
     ]
    }
   ],
   "source": [
    "#method 2\n",
    "lis1=[3,4,5,6,7]\n",
    "lis2=[3,32,2,1,2,33]\n",
    "\n",
    "if (lis1 and lis2):\n",
    "    print('common element')\n",
    "else:\n",
    "    print('not any common element')"
   ]
  },
  {
   "cell_type": "markdown",
   "metadata": {},
   "source": [
    "# 41. Remove all elements from a list.41. \n"
   ]
  },
  {
   "cell_type": "code",
   "execution_count": null,
   "metadata": {},
   "outputs": [
    {
     "name": "stdout",
     "output_type": "stream",
     "text": [
      "None\n"
     ]
    }
   ],
   "source": [
    "# create list\n",
    "lis=[3,32,23,88,'3']\n",
    "#use clear function to clear list\n",
    "print(lis.clear())"
   ]
  },
  {
   "cell_type": "markdown",
   "metadata": {},
   "source": [
    "# 41. Remove all elements from a list.\n"
   ]
  },
  {
   "cell_type": "code",
   "execution_count": null,
   "metadata": {},
   "outputs": [
    {
     "name": "stdout",
     "output_type": "stream",
     "text": [
      "[]\n"
     ]
    }
   ],
   "source": [
    "#use same example with pop method\n",
    "lis=[3,32,23,88,'3']\n",
    "while lis:\n",
    "    lis.pop()\n",
    "print(lis)"
   ]
  },
  {
   "cell_type": "code",
   "execution_count": null,
   "metadata": {},
   "outputs": [
    {
     "name": "stdout",
     "output_type": "stream",
     "text": [
      "[3, 32, 23, 88, '3']\n"
     ]
    }
   ],
   "source": [
    "# 41. Remove all elements from a list.\n",
    "lis=[3,32,23,88,'3']\n",
    "del lis[:]\n",
    "print(lis)"
   ]
  },
  {
   "cell_type": "markdown",
   "metadata": {},
   "source": [
    "# 42. Replace negative numbers in a list with 0.\n"
   ]
  },
  {
   "cell_type": "code",
   "execution_count": null,
   "metadata": {},
   "outputs": [
    {
     "name": "stdout",
     "output_type": "stream",
     "text": [
      "[0, 5, 43, 0, 40, 0, 3, 2, 0]\n"
     ]
    }
   ],
   "source": [
    "#create lsit\n",
    "lis=[-3,5,43,-44,40,0,3,2,-1]\n",
    "#use loop\n",
    "for i in range(len(lis)):\n",
    "    #check the negative no.\n",
    "    if lis[i]<0:\n",
    "        #if presenet then replace with 0\n",
    "        lis[i]=0\n",
    "    else:\n",
    "        pass\n",
    "#print output\n",
    "print(lis)\n"
   ]
  },
  {
   "cell_type": "markdown",
   "metadata": {},
   "source": [
    "# 43. Convert a string into a list of words.\n"
   ]
  },
  {
   "cell_type": "code",
   "execution_count": null,
   "metadata": {},
   "outputs": [
    {
     "name": "stdout",
     "output_type": "stream",
     "text": [
      "['I', 'am', 'Raviteja', 'Kulkarni']\n"
     ]
    }
   ],
   "source": [
    "#write string\n",
    "sent=\"I am Raviteja Kulkarni\"\n",
    "#print with split\n",
    "print(sent.split(' '))"
   ]
  },
  {
   "cell_type": "markdown",
   "metadata": {},
   "source": [
    "# 45. Create a list of the first `n` powers of 2.\n"
   ]
  },
  {
   "cell_type": "code",
   "execution_count": null,
   "metadata": {},
   "outputs": [
    {
     "name": "stdout",
     "output_type": "stream",
     "text": [
      "2 power0 is  1\n",
      "2 power1 is  2\n",
      "2 power2 is  4\n",
      "2 power3 is  8\n"
     ]
    }
   ],
   "source": [
    "#entrer input\n",
    "x=int(input('enter how many power of 2 you want to calculate'))\n",
    "#use for loop\n",
    "for i in range(x):\n",
    "    # print the number after squareing\n",
    "    print(f'2 power {i} is ',2**i)\n"
   ]
  },
  {
   "cell_type": "markdown",
   "metadata": {},
   "source": [
    "46 find the largest word in the stirng"
   ]
  },
  {
   "cell_type": "code",
   "execution_count": null,
   "metadata": {},
   "outputs": [
    {
     "name": "stdout",
     "output_type": "stream",
     "text": [
      "kulkanri\n"
     ]
    }
   ],
   "source": [
    "#enter string\n",
    "name = \"I am king slrk ravi kulkanri\"\n",
    "#set empoty lsit\n",
    "y=[]\n",
    "#split the sentence\n",
    "x=name.split()\n",
    "#use loop\n",
    "for j in x:\n",
    "    #check for repetatin\n",
    "    y.append(j)\n",
    "#set large variable\n",
    "large=-1\n",
    "#use loop\n",
    "for item in y:\n",
    "    #use if condition to check the largest string\n",
    "    if len(item)>large:\n",
    "        large=len(item)\n",
    "        result=item\n",
    "#print output\n",
    "print(result)"
   ]
  },
  {
   "cell_type": "markdown",
   "metadata": {},
   "source": [
    "# # 47. Find the shortest string in a list of strings.\n"
   ]
  },
  {
   "cell_type": "code",
   "execution_count": null,
   "metadata": {},
   "outputs": [
    {
     "name": "stdout",
     "output_type": "stream",
     "text": [
      "['Ed', 'Jo']\n"
     ]
    }
   ],
   "source": [
    "#enter strings\n",
    "names=[\"Hans\", \"Anna\", \"Vladimir\", \"Michael\", \"Ed\", \"Susan\", \"Janice\", \"Jo\"]\n",
    "#use min method set key to length and search in names\n",
    "smallest_len = len(min(names, key=len))\n",
    "#use list comprehension to find the shortest stirng amountg th list\n",
    "smallest = [name for name in names if len(name) == smallest_len]\n",
    "#pirnt op\n",
    "print(smallest)"
   ]
  },
  {
   "cell_type": "markdown",
   "metadata": {},
   "source": [
    "# 48. Create a list of the first `n` triangular numbers.\n"
   ]
  },
  {
   "cell_type": "code",
   "execution_count": null,
   "metadata": {},
   "outputs": [
    {
     "name": "stdout",
     "output_type": "stream",
     "text": [
      "[1, 3, 6, 10, 15]\n"
     ]
    }
   ],
   "source": [
    "# triangular no formula n*(n+1)/2\n",
    "#define functin\n",
    "def triangu(n):\n",
    "    \n",
    "    #initilize empty list\n",
    "    lis=[]\n",
    "    #use loop \n",
    "    for i in range(1,n+1):\n",
    "        # use this formula to get traingular num\n",
    "        formula=i*(i+1)//2\n",
    "        #append them in the empty list\n",
    "\n",
    "        lis.append(formula)\n",
    "    #return output\n",
    "    return lis\n",
    "#print output\n",
    "print(triangu(5))"
   ]
  },
  {
   "cell_type": "markdown",
   "metadata": {},
   "source": [
    "# 49. Check if a list contains another list as a subsequence.\n"
   ]
  },
  {
   "cell_type": "code",
   "execution_count": null,
   "metadata": {},
   "outputs": [
    {
     "name": "stdout",
     "output_type": "stream",
     "text": [
      "no subset \n"
     ]
    }
   ],
   "source": [
    "#create 2 lists\n",
    "lis1=[1,2,3,4,5,6]\n",
    "lis2=[2,3,4]\n",
    "#create empty subset\n",
    "subset=[]\n",
    "#use loop\n",
    "for i in lis1:\n",
    "    #use inner loop\n",
    "    for j in lis2:\n",
    "        #check for equality\n",
    "        if i==j:\n",
    "            #append to the subset\n",
    "            subset.append(j)\n",
    "        else:\n",
    "            pass\n",
    "#check for the equal subset\n",
    "if lis2==subset:\n",
    "    # print@\n",
    "    print(f'{lis2} is subset of {lis1}')\n",
    "else:\n",
    "    print('no subsequence ')\n",
    "\n",
    "\n"
   ]
  },
  {
   "cell_type": "code",
   "execution_count": null,
   "metadata": {},
   "outputs": [
    {
     "name": "stdout",
     "output_type": "stream",
     "text": [
      "dkdd\n"
     ]
    }
   ],
   "source": [
    "l=[1,2,3]\n",
    "k=[1,2,3,4]\n",
    "if l==k:\n",
    "    print('kd')\n",
    "else:\n",
    "    print('dkdd')"
   ]
  },
  {
   "cell_type": "markdown",
   "metadata": {},
   "source": [
    "# 50. Swap two elements in a list by their indices.\n"
   ]
  },
  {
   "cell_type": "code",
   "execution_count": null,
   "metadata": {},
   "outputs": [
    {
     "name": "stdout",
     "output_type": "stream",
     "text": [
      "[1, 222, 111, 33, 111, 555]\n"
     ]
    }
   ],
   "source": [
    "#define function\n",
    "def swap_element(list,pos_a,pos_b):\n",
    "    #chagne the postitions\n",
    "    list[pos_a],list[pos_b]=list[pos_b],list[pos_a]\n",
    "    #return op\n",
    "    return list\n",
    "#create list\n",
    "List=[1,33,777,222,111,555]\n",
    "#set positions\n",
    "pos_a,pos_b=2,4\n",
    "#swap and print elemetns\n",
    "print(swap_element(list,pos_a,pos_b))\n"
   ]
  },
  {
   "cell_type": "markdown",
   "metadata": {},
   "source": [
    "# 37. Remove all punctuation from a string.\n"
   ]
  },
  {
   "cell_type": "code",
   "execution_count": null,
   "metadata": {},
   "outputs": [
    {
     "name": "stdout",
     "output_type": "stream",
     "text": [
      "Given string: Hello, world!:: How's it goindg?\n",
      "Cleaned string: Hello world Hows it goindg\n"
     ]
    }
   ],
   "source": [
    "\n",
    "\n",
    "import string\n",
    "\n",
    "def removed(input_string):\n",
    "    remove = str.maketrans(\"\", \"\", string.punctuation)\n",
    "\n",
    "    clean_string = input_string.translate(remove)\n",
    "\n",
    "    return clean_string\n",
    "\n",
    "input_str = \"Hello, Sir !How's it goindg?\"\n",
    "\n",
    "cleaned_str = removed(input_str)\n",
    "\n",
    "print(\"Given string:\", input_str)\n",
    "print(\"After cleaning:\", cleaned_str)"
   ]
  },
  {
   "cell_type": "code",
   "execution_count": null,
   "metadata": {},
   "outputs": [
    {
     "name": "stdout",
     "output_type": "stream",
     "text": [
      "hoel23434 does not contains digit\n",
      "helo does not contains digit\n"
     ]
    }
   ],
   "source": [
    "### 38. Check if a string contains only digits\n",
    "\n",
    "def check(string):\n",
    "    if string.isdigit() is True:\n",
    "        print(string,'contains digits')\n",
    "    else:\n",
    "        print(string,'does not contains digit')\n",
    "check('hoel23434')\n",
    "check('helo')"
   ]
  },
  {
   "cell_type": "code",
   "execution_count": null,
   "metadata": {},
   "outputs": [
    {
     "name": "stdout",
     "output_type": "stream",
     "text": [
      "ehlo234 does not contain alphabets\n",
      "3434 does not contain alphabets\n"
     ]
    }
   ],
   "source": [
    "# 39. Check if a string contains only alphabets.\n",
    "def check(string):\n",
    "    if string.isalpha() is True:\n",
    "        print(string,'contains alphabets')\n",
    "    else:\n",
    "        print(string,'does not contain alphabets')\n",
    "check('ehlo234')\n",
    "check('3434')"
   ]
  },
  {
   "cell_type": "code",
   "execution_count": null,
   "metadata": {},
   "outputs": [
    {
     "name": "stdout",
     "output_type": "stream",
     "text": [
      "['h', 'o', 'w', ' ', 'a', 'r', 'e', ' ', 'y', 'o', 'u', '?']\n"
     ]
    }
   ],
   "source": [
    "# 40. Convert a string to a list of characters.\n",
    "def list_of(string):\n",
    "    print(list(string))\n",
    "list_of('how are you?')"
   ]
  },
  {
   "cell_type": "code",
   "execution_count": null,
   "metadata": {},
   "outputs": [
    {
     "name": "stdout",
     "output_type": "stream",
     "text": [
      "how and  who are in anagrams\n",
      "what and  when are not in anagrams\n",
      "when and  henw are in anagrams\n"
     ]
    }
   ],
   "source": [
    "# 41. Check if two strings are anagrams.\n",
    "# anagrams means that the word must contain all the elemets of the compared string\n",
    "\n",
    "import string\n",
    "def check(word1,word2):\n",
    "    #let us remove all punctuation\n",
    "    remove1 = str.maketrans(\"\", \"\", string.punctuation)\n",
    "    remove2 = str.maketrans(\"\", \"\", string.punctuation)\n",
    "\n",
    "    string1 = word1.translate(remove1)\n",
    "    string2 = word2.translate(remove2)\n",
    "    #lets convert everyting to lower to avoid error\n",
    "    string1 = string1.replace(\" \", \"\").lower()\n",
    "    string2 = string2.replace(\" \", \"\").lower()\n",
    "    #sort and compare\n",
    "    \n",
    "    if sorted(string1) == sorted(string2):\n",
    "        print(string1,'and ',string2,'are in anagrams')\n",
    "    else:\n",
    "        print(string1,'and ',string2,'are not in anagrams')\n",
    "\n",
    "\n",
    "\n",
    "\n",
    "check(' how ', 'who')\n",
    "check('what','when')\n",
    "check('when','henw')\n",
    "    "
   ]
  },
  {
   "cell_type": "code",
   "execution_count": null,
   "metadata": {},
   "outputs": [
    {
     "data": {
      "text/plain": [
       "'ifmmp'"
      ]
     },
     "metadata": {},
     "output_type": "display_data"
    }
   ],
   "source": [
    "# 42. Encode a string using a Caesar cipher.\n",
    "# caesar cipher is the basic level of cryptography\n",
    "\n",
    "def encrypt(string, num):\n",
    "    #var to store value\n",
    "    result = \"\"\n",
    "\n",
    "    # transverse the string\n",
    "\n",
    "    for i in range(len(string)):\n",
    "        char = string[i]\n",
    "\n",
    "        # lets encrypt uppercase letter\n",
    "\n",
    "        if(char.isupper()):\n",
    "            result+=chr((ord(char)+ num - 65) % 26+ 65)\n",
    "        #lers encrypt lower case letter\n",
    "        else:\n",
    "            result+=chr((ord(char)+num - 97) %26 + 97)\n",
    "        \n",
    "    return result\n",
    "\n",
    "#check the above function\n",
    "encrypt('hello',1)"
   ]
  },
  {
   "cell_type": "code",
   "execution_count": null,
   "metadata": {},
   "outputs": [
    {
     "name": "stdout",
     "output_type": "stream",
     "text": [
      "['i', 'am', 'raviteja,is', 'is', 'is', 'is', 'me', 'is', 'raviteja,', 'he', 'is', 'called', 'raviteja']\n",
      "most frequent word is= is\n"
     ]
    }
   ],
   "source": [
    "# 44. Find the most frequent word in a string.\n",
    "import re\n",
    "from collections import Counter\n",
    "st=\"I am Raviteja,is  is is is me is Raviteja, he is called Raviteja\"\n",
    "#conver to small\n",
    "small=st.lower()\n",
    "#split words in list\n",
    "lis=small.split()\n",
    "print(lis)\n",
    "count=0\n",
    "for i in lis:\n",
    "    count=Counter(lis)\n",
    "    frequent=count.most_common(1)[0][0]\n",
    "    \n",
    "print('most frequent word is=',frequent)\n",
    "\n",
    "\n",
    "\n"
   ]
  },
  {
   "cell_type": "code",
   "execution_count": null,
   "metadata": {},
   "outputs": [
    {
     "name": "stdout",
     "output_type": "stream",
     "text": [
      "hw he is good "
     ]
    }
   ],
   "source": [
    "### 45. Find all unique words in a string.\n",
    "#define fuxn\n",
    "\n",
    "def unique(text):\n",
    "    #lower & split the arg\n",
    "    words=text.lower().split()\n",
    "\n",
    "    #create empty dict\n",
    "    unik={}\n",
    "    for i in words:\n",
    "        # use i counter in words\n",
    "        # if i is not in unik update\n",
    "        if not i in unik:\n",
    "            unik[i]=0\n",
    "            print(i,end=' ')\n",
    "\n",
    "unique('hw hw he is good')"
   ]
  },
  {
   "cell_type": "code",
   "execution_count": null,
   "metadata": {},
   "outputs": [
    {
     "name": "stdout",
     "output_type": "stream",
     "text": [
      "syllabe in  \"rocky raviteja\"  are : 5\n",
      "syllabe in  \"kulkarni\"  are : 3\n"
     ]
    }
   ],
   "source": [
    "### 46. Count the number of syllables in a string.\n",
    "import re\n",
    "\n",
    "def syllable(word):\n",
    "    #use vowels to discrminate syllables using regular expression\n",
    "    vowel=re.findall('[aeiou]+',word,re.IGNORECASE)\n",
    "    print(f'syllabe in {word} are :',len(vowel))\n",
    "\n",
    "\n",
    "syllable(' \"rocky raviteja\" ')\n",
    "syllable(' \"kulkarni\" ')\n",
    "\n",
    "\n"
   ]
  },
  {
   "cell_type": "code",
   "execution_count": null,
   "metadata": {},
   "outputs": [
    {
     "name": "stdout",
     "output_type": "stream",
     "text": [
      "Rvitej does not contains special character\n",
      "k@lakarni contains special character\n"
     ]
    }
   ],
   "source": [
    "### 47. Check if a string contains any special characters.\n",
    "\n",
    "import re\n",
    "\n",
    "def check(word):\n",
    "    #initilize some special characters using regular expression\n",
    "    case=re.compile(r'[!@#$%^&_-]')\n",
    "    #verify that the given input word is present in above case\n",
    "    verify=case.search(word)\n",
    "    #if the word contains special character then print ok\n",
    "    if bool(verify)is True:\n",
    "        print(word,'contains special character')\n",
    "    else:\n",
    "        print(word,'does not contains special character')        \n",
    "\n",
    "   \n",
    "\n",
    "check('Rvitej')\n",
    "check('k@lakarni')"
   ]
  },
  {
   "cell_type": "code",
   "execution_count": null,
   "metadata": {},
   "outputs": [
    {
     "name": "stdout",
     "output_type": "stream",
     "text": [
      "before removal of word ['this', 'is', 'the', 'demo', 'sentence']\n",
      "removed word from the list =  the\n",
      "After removal of word ['this', 'is', 'demo', 'sentence']\n"
     ]
    }
   ],
   "source": [
    "### 48. Remove the nth word from a string.\n",
    "\n",
    "def remove(word,num):\n",
    "    #split the sentence make list\n",
    "    lis=word.split()\n",
    "    #we are using here pop method to remove list index word\n",
    "    print(\"before removal of word\",lis)\n",
    "    removed_word=lis.pop(num-1)\n",
    "    # which word is removed\n",
    "    print('removed word from the list = ',removed_word)\n",
    "    print('After removal of word',lis)\n",
    "\n",
    "remove('this is the demo sentence',3)"
   ]
  },
  {
   "cell_type": "code",
   "execution_count": null,
   "metadata": {},
   "outputs": [
    {
     "name": "stdout",
     "output_type": "stream",
     "text": [
      "['hi', 'why', 'raviteja ', 'are', 'you', 'here?']\n"
     ]
    }
   ],
   "source": [
    "### 49. Insert a word at the nth position in a string.\n",
    "#define function\n",
    "def update(position,sentence,word):\n",
    "    #split sentence into list\n",
    "    lis=sentence.split()\n",
    "    #provide index and word to be added\n",
    "    lis.insert(position,word)\n",
    "    print(lis)\n",
    "\n",
    "update(2,'hi why are you here?','raviteja ')\n",
    "\n"
   ]
  },
  {
   "cell_type": "code",
   "execution_count": null,
   "metadata": {},
   "outputs": [
    {
     "name": "stdout",
     "output_type": "stream",
     "text": [
      "['Name', 'age', 'money ']\n",
      "[' raviteja', '22', '500000']\n",
      "[' slrk', ' 25', ' 19cr ']\n",
      "[' rocky', '28', '3billion']\n"
     ]
    }
   ],
   "source": [
    "### 50. Convert a CSV string to a list of lists.\n",
    "\n",
    "def csv_string_to_list(csv_string):\n",
    "\n",
    "    #split csv strings into lists\n",
    "\n",
    "    lines=csv_string.split('\\n')\n",
    "\n",
    "    #initilize output- empty list\n",
    "    output =[]\n",
    "\n",
    "    for line in lines:\n",
    "        #split line into fields\n",
    "        fields=line.split(',')\n",
    "        #add the fields to output list\n",
    "        output.append(fields)\n",
    "\n",
    "    return output\n",
    "#given csv stirng\n",
    "csv_data=\"Name,age,money \\n raviteja,22,500000\\n slrk, 25, 19cr \\n rocky,28,3billion\"\n",
    "# convert_ csv stirng to list of list\n",
    "list_of_list=csv_string_to_list(csv_data)\n",
    "\n",
    "for row in list_of_list:\n",
    "    print(row)\n",
    "\n",
    "    ''"
   ]
  },
  {
   "cell_type": "markdown",
   "metadata": {},
   "source": [
    "LIST BASED PROBLEMS"
   ]
  },
  {
   "cell_type": "code",
   "execution_count": null,
   "metadata": {},
   "outputs": [
    {
     "name": "stdout",
     "output_type": "stream",
     "text": [
      "[1, 2, 3, 4, 5, 6, 7, 8, 9, 10]\n"
     ]
    }
   ],
   "source": [
    "### 1. Create a list with integers from 1 to 10.\n",
    "list=[]\n",
    "#use for loop to generate intergers from 1 to 10\n",
    "for i in range(1,11):\n",
    "    list.append(i)\n",
    "#print list\n",
    "print(list)"
   ]
  },
  {
   "cell_type": "code",
   "execution_count": null,
   "metadata": {},
   "outputs": [
    {
     "name": "stdout",
     "output_type": "stream",
     "text": [
      "7 elements are present in list [19, 34, 32, 3, 3, 12, 12]\n"
     ]
    }
   ],
   "source": [
    "### 2. Find the length of a list without using the `len()` function.\n",
    "\n",
    "def length(list):\n",
    "    count=0\n",
    "    for i in list:\n",
    "        count+=1\n",
    "    print(count,'elements are present in list',lis)\n",
    "\n",
    "lis=[19,34,32,3,3,12,12]\n",
    "length(lis)"
   ]
  },
  {
   "cell_type": "code",
   "execution_count": null,
   "metadata": {},
   "outputs": [
    {
     "name": "stdout",
     "output_type": "stream",
     "text": [
      "After addign A list become = ['R', 'A', 'V', 'I', 'T', 'E', 'J', 'A']\n"
     ]
    }
   ],
   "source": [
    "### 3. Append an element to the end of a list.\n",
    "\n",
    "list=['R','A','V','I','T','E','J']\n",
    "#add element\n",
    "add_element = \"A\"\n",
    "#now append new element to list\n",
    "list.append(add_element)\n",
    "print(f'After addign \"{add_element}\" list become =', list)"
   ]
  },
  {
   "cell_type": "code",
   "execution_count": null,
   "metadata": {},
   "outputs": [
    {
     "name": "stdout",
     "output_type": "stream",
     "text": [
      "after inserting ['Once', 'upon', 'mumbai', 'time']\n"
     ]
    }
   ],
   "source": [
    "### 4. Insert an element at a specific index in a list.\n",
    "#enter the string\n",
    "str='Once upon time'\n",
    "#split up the string\n",
    "list=str.split()\n",
    "#enter the inserting string\n",
    "insert_element='mumbai'\n",
    "#use insert fuxn and mention the position and the inserting element\n",
    "list.insert(2,insert_element)\n",
    "print(f'after inserting',list)"
   ]
  },
  {
   "cell_type": "code",
   "execution_count": null,
   "metadata": {},
   "outputs": [
    {
     "name": "stdout",
     "output_type": "stream",
     "text": [
      "[10, 30, 40]\n"
     ]
    }
   ],
   "source": [
    "### 5. Remove an element from a list by its value.\n",
    "\n",
    "def removing(list,element):\n",
    "    list.remove(element)\n",
    "    print(list)\n",
    "\n",
    "list=[10,20,30,40]\n",
    "removing(list,20)\n",
    "\n"
   ]
  },
  {
   "cell_type": "code",
   "execution_count": null,
   "metadata": {},
   "outputs": [
    {
     "name": "stdout",
     "output_type": "stream",
     "text": [
      "[10, 33, 44, 77]\n"
     ]
    }
   ],
   "source": [
    "### 6. Remove an element from a list by its index.\n",
    "\n",
    "#create list\n",
    "list=[10,33,44,66,77]\n",
    "#select index of the element\n",
    "index=3\n",
    "#using remove() fuxn remove it\n",
    "list.remove(list[index])\n",
    "print(list)"
   ]
  },
  {
   "cell_type": "code",
   "execution_count": null,
   "metadata": {},
   "outputs": [
    {
     "name": "stdout",
     "output_type": "stream",
     "text": [
      "4 is present in list\n"
     ]
    }
   ],
   "source": [
    "### 7. Check if an element exists in a list.\n",
    "\n",
    "#define fuxn\n",
    "def check(list,element):\n",
    "    #use if else conditions check element is there in list or not\n",
    "    if element in list:\n",
    "        print(f'{element} is present in list')\n",
    "    else:\n",
    "        print('not present')\n",
    "\n",
    "#create list\n",
    "list=[12,23,34,4,56]\n",
    "#enter the element which wnat to be cheacked\n",
    "element=4\n",
    "check(list,element)"
   ]
  },
  {
   "cell_type": "code",
   "execution_count": null,
   "metadata": {},
   "outputs": [
    {
     "name": "stdout",
     "output_type": "stream",
     "text": [
      "23 is found at = 2 position\n"
     ]
    }
   ],
   "source": [
    "### 8. Find the index of the first occurrence of an element in a list.\n",
    "\n",
    "list=[12,23,3,44,54,56]\n",
    "find_element=23\n",
    "#use index fuxn to find the elements position\n",
    "ind=list.index(find_element)\n",
    "print(f'{find_element} is found at = {ind+1} position')"
   ]
  },
  {
   "cell_type": "code",
   "execution_count": null,
   "metadata": {},
   "outputs": [
    {
     "name": "stdout",
     "output_type": "stream",
     "text": [
      "45 occurrenced 4 time in list\n"
     ]
    }
   ],
   "source": [
    "### 9. Count the occurrences of an element in a list.\n",
    "\n",
    "#create list\n",
    "\n",
    "list=[12,23,45,45,45,34,45,65,76,88]\n",
    "\n",
    "# select the elemented to be counted\n",
    "count_element=45\n",
    "# use .count function to count occurance\n",
    "occurrence=list.count(count_element)\n",
    "#print\n",
    "print(f'{count_element} occurrenced {occurrence} time in list')"
   ]
  },
  {
   "cell_type": "code",
   "execution_count": null,
   "metadata": {},
   "outputs": [
    {
     "name": "stdout",
     "output_type": "stream",
     "text": [
      "[76, 57, 56, 6, 54, 334, 2]\n"
     ]
    }
   ],
   "source": [
    "### 10. Reverse the order of elements in a list.\n",
    "\n",
    "#create list\n",
    "lists=[2,334,54,6,56,57,76]\n",
    "# to reverse we can use - reverse the index counting\n",
    "\n",
    "print(lists[::-1])\n",
    "\n"
   ]
  },
  {
   "cell_type": "code",
   "execution_count": null,
   "metadata": {},
   "outputs": [
    {
     "name": "stdout",
     "output_type": "stream",
     "text": [
      "[46, 5, 545, 34, 34, 12]\n"
     ]
    }
   ],
   "source": [
    "#method 2\n",
    "list=[12,34,34,545,5,46]\n",
    "# here let us use .reverse() function for reversing the order\n",
    "list.reverse()\n",
    "print(list)"
   ]
  },
  {
   "cell_type": "code",
   "execution_count": null,
   "metadata": {},
   "outputs": [
    {
     "name": "stdout",
     "output_type": "stream",
     "text": [
      "before sorting list = [2, 3, 4, 5, 12, 65, 111, 334, 3434] \n",
      " after sorting in ascending order [2, 3, 4, 5, 12, 65, 111, 334, 3434]\n"
     ]
    }
   ],
   "source": [
    "### 11. Sort a list in ascending order.\n",
    "\n",
    "#create list\n",
    "lis=[111,12,334,5,65,4,3434,2,3]\n",
    "\n",
    "#use .sort() function to sort the element\n",
    "\n",
    "lis.sort()\n",
    "\n",
    "print(f'before sorting list = {lis} \\n after sorting in ascending order {lis}')\n"
   ]
  },
  {
   "cell_type": "code",
   "execution_count": null,
   "metadata": {},
   "outputs": [
    {
     "data": {
      "text/plain": [
       "'after sorting in descending order [656, 566, 45, 23, 3, 45, 34]'"
      ]
     },
     "metadata": {},
     "output_type": "display_data"
    }
   ],
   "source": [
    "### 12. Sort a list in descending order.\n",
    "\n",
    "def descen(list):\n",
    "    # we are sorting list here in ascending order and then reversing it\n",
    "    list.reverse()\n",
    "\n",
    "    return (f'after sorting in descending order {list}')\n",
    "\n",
    "#create list\n",
    "list=[34,45,3,23,45,566,656]\n",
    "descen(list)"
   ]
  },
  {
   "cell_type": "code",
   "execution_count": null,
   "metadata": {},
   "outputs": [
    {
     "name": "stdout",
     "output_type": "stream",
     "text": [
      "[2, 4, 6, 8, 10, 12, 14, 16, 18, 20]\n"
     ]
    }
   ],
   "source": [
    "### 13. Create a list of even numbers from 1 to 20.\n",
    "\n",
    "# let us use for loop and use even number logic to get even numbers\n",
    "even_list=[]\n",
    "for i in range(1,21):\n",
    "    #if remainder of element divided by 2 is 0, then it's even\n",
    "    if i%2==0:\n",
    "        even_list.append(i)\n",
    "    else:\n",
    "        pass\n",
    "        \n",
    "print(even_list)\n"
   ]
  },
  {
   "cell_type": "code",
   "execution_count": null,
   "metadata": {},
   "outputs": [
    {
     "name": "stdout",
     "output_type": "stream",
     "text": [
      "[1, 3, 5, 7, 9, 11, 13, 15, 17, 19]\n"
     ]
    }
   ],
   "source": [
    "### 14. Create a list of odd numbers from 1 to 20.\n",
    "\n",
    "\n",
    "\n",
    "# let us use for loop and use odd number logic to get odd numbers\n",
    "odd_number=[]\n",
    "for i in range(1,20):\n",
    "    #if remainder of element divided by 2 is 1 it is odd\n",
    "    if i%2==1:\n",
    "        odd_number.append(i)\n",
    "    else:\n",
    "        pass\n",
    "\n",
    "print(odd_number)\n"
   ]
  },
  {
   "cell_type": "code",
   "execution_count": null,
   "metadata": {},
   "outputs": [
    {
     "name": "stdout",
     "output_type": "stream",
     "text": [
      "710\n"
     ]
    }
   ],
   "source": [
    "### 15. Find the sum of all elements in a list.\n",
    "\n",
    "list=[23,232,434,21]\n",
    "#use sum function to get sum of all elements present in list\n",
    "print(sum(list))"
   ]
  },
  {
   "cell_type": "code",
   "execution_count": null,
   "metadata": {},
   "outputs": [
    {
     "name": "stdout",
     "output_type": "stream",
     "text": [
      "12\n"
     ]
    }
   ],
   "source": [
    "# method 2\n",
    "\n",
    "#create list\n",
    "\n",
    "list=[1,2,3,5,1]\n",
    "total=0\n",
    "# use for method and add continously next elements of list\n",
    "for i in list:\n",
    "    total=total+i\n",
    "#print sum\n",
    "print(total)\n",
    "    "
   ]
  },
  {
   "cell_type": "code",
   "execution_count": null,
   "metadata": {},
   "outputs": [
    {
     "name": "stdout",
     "output_type": "stream",
     "text": [
      "3233\n"
     ]
    }
   ],
   "source": [
    "### 16. Find the maximum value in a list.\n",
    "\n",
    "list=[123,4,42,2112,324,3233]\n",
    "#use max funxn to identify largest no. in list\n",
    "\n",
    "large=max(list)\n",
    "print(large)"
   ]
  },
  {
   "cell_type": "code",
   "execution_count": null,
   "metadata": {},
   "outputs": [
    {
     "name": "stdout",
     "output_type": "stream",
     "text": [
      "1 square is 1\n",
      "2 square is 4\n",
      "3 square is 9\n",
      "4 square is 16\n",
      "5 square is 25\n",
      "6 square is 36\n",
      "7 square is 49\n",
      "8 square is 64\n",
      "9 square is 81\n",
      "10 square is 100\n"
     ]
    }
   ],
   "source": [
    "### 18. Create a list of squares of numbers from 1 to 10.\n",
    "\n",
    "# we use for loop for iteration and then square\n",
    "\n",
    "for i in range(1,11):\n",
    "    # square the value x by **2\n",
    "    print(f'{i} square is {i**2}')"
   ]
  },
  {
   "cell_type": "code",
   "execution_count": null,
   "metadata": {},
   "outputs": [
    {
     "name": "stdout",
     "output_type": "stream",
     "text": [
      "[163, 197, 175, 130]\n"
     ]
    }
   ],
   "source": [
    "### 19. Create a list of random numbers.\n",
    "\n",
    "import random\n",
    "#use randint to range the random intergers and use for loop with range to iterate random integers\n",
    "rando_number = [random.randint(1,199) for i in range(14)]\n",
    "#print random number\n",
    "print(rando_number)\n",
    "\n"
   ]
  },
  {
   "cell_type": "code",
   "execution_count": null,
   "metadata": {},
   "outputs": [
    {
     "name": "stdout",
     "output_type": "stream",
     "text": [
      "[1, 23, 34, 45, 48]\n"
     ]
    }
   ],
   "source": [
    "### 20. Remove duplicates from a list.\n",
    "\n",
    "list=[1,23,34,45,23,48]\n",
    "unique_elements=[]\n",
    "for i in list:\n",
    "    #update only unique elements\n",
    "    if not i in unique_elements:\n",
    "        unique_elements.append(i)\n",
    "    else:\n",
    "        pass\n",
    "print(unique_elements)"
   ]
  },
  {
   "cell_type": "code",
   "execution_count": null,
   "metadata": {},
   "outputs": [
    {
     "name": "stdout",
     "output_type": "stream",
     "text": [
      "common elements in both list are [{1, 2}]\n"
     ]
    }
   ],
   "source": [
    "# 21. Find the common elements between two lists.\n",
    "\n",
    "import re\n",
    "\n",
    "#create 2 lists\n",
    "list1=[1,2,3,4,5]\n",
    "list2=[9,8,7,2,1]\n",
    "\n",
    "common=[]\n",
    "# make set of lists\n",
    "a_set=set(list1)\n",
    "b_set=set(list2)\n",
    "# using and condition check common in list1 and list2\n",
    "if (a_set & b_set):\n",
    "    # if common found then appent that number to common list\n",
    "    common.append(a_set & b_set)\n",
    "    print(f'common elements in both list are',common)\n",
    "   \n",
    "\n",
    "else:\n",
    "    print('no common elements')\n",
    "\n",
    "\n"
   ]
  },
  {
   "cell_type": "code",
   "execution_count": null,
   "metadata": {},
   "outputs": [
    {
     "name": "stdout",
     "output_type": "stream",
     "text": [
      "differnet elements in lists are = [4, 5]\n"
     ]
    }
   ],
   "source": [
    "### 22. Find the difference between two lists.\n",
    "\n",
    "#create 2 lists\n",
    "\n",
    "list1=[1,2,3,4,5]\n",
    "list2=[7,3,2,1,9]\n",
    "#using difference() find different values in lists\n",
    "difference=list(set(list1).difference(list2))\n",
    "print(f'differnet elements in lists are =', difference)"
   ]
  },
  {
   "cell_type": "code",
   "execution_count": null,
   "metadata": {},
   "outputs": [
    {
     "name": "stdout",
     "output_type": "stream",
     "text": [
      "[12, 43, 45, 56, 1, 2, 3, 4, 5]\n"
     ]
    }
   ],
   "source": [
    "### 23. Merge two lists.\n",
    "\n",
    "#create list 1 and 2\n",
    "list1=[12,43,45,56]\n",
    "list2=[1,2,3,4,5]\n",
    "#now use concatination \"+\" and merge them\n",
    "print(list1+list2)"
   ]
  },
  {
   "cell_type": "code",
   "execution_count": null,
   "metadata": {},
   "outputs": [
    {
     "name": "stdout",
     "output_type": "stream",
     "text": [
      "[2, 4, 68, 8, 10, 12]\n"
     ]
    }
   ],
   "source": [
    "### 24. Multiply all elements in a list by 2.\n",
    "\n",
    "list=[1,2,34,4,5,6]\n",
    "\n",
    "#use for loop to get each element\n",
    "mul_list=[i * 2 for i in list]\n",
    "# print output\n",
    "print(mul_list)"
   ]
  },
  {
   "cell_type": "code",
   "execution_count": null,
   "metadata": {},
   "outputs": [
    {
     "name": "stdout",
     "output_type": "stream",
     "text": [
      "[1, 3, 5, 7]\n"
     ]
    }
   ],
   "source": [
    "### 25. Filter out all even numbers from a list.\n",
    "#create list\n",
    "list=[1,2,3,4,5,6,7,8]\n",
    "# use for loop to read each element\n",
    "for i in list:\n",
    "    # if the number is even no. remove() from list\n",
    "    if i%2==0:\n",
    "        list.remove(i)\n",
    "    else:\n",
    "        pass\n",
    "\n",
    "print(list)\n",
    "\n",
    "\n",
    "\n"
   ]
  },
  {
   "cell_type": "code",
   "execution_count": null,
   "metadata": {},
   "outputs": [
    {
     "name": "stdout",
     "output_type": "stream",
     "text": [
      "[1, 2, 3, 4, 5]\n"
     ]
    }
   ],
   "source": [
    "### 26. Convert a list of strings to a list of integers.\n",
    "\n",
    "str_list=['1','2','3','4','5']\n",
    "int_list=[]\n",
    "# use for loop to get each elements\n",
    "for i in str_list:\n",
    "    to_int=int(i)\n",
    "    int_list.append(to_int)\n",
    "print(int_list)\n"
   ]
  },
  {
   "cell_type": "code",
   "execution_count": null,
   "metadata": {},
   "outputs": [
    {
     "name": "stdout",
     "output_type": "stream",
     "text": [
      "This is fibonacci series [0, 1, 1, 2, 3, 5, 8, 13, 21, 34]\n"
     ]
    }
   ],
   "source": [
    "### 29. Create a list of the first 10 Fibonacci numbers.\n",
    "\n",
    "# defince funxn called fibo and take argument of number as num\n",
    "def fibo(num):\n",
    "    # create empty list\n",
    "    fibonacci_num=[]\n",
    "    # fibonacci number is only valid for positive integers\n",
    "    if num<0:\n",
    "        print('Input only positive integers')\n",
    "    # fibonacci of 0 is 0\n",
    "    elif num==0:\n",
    "        fibonacci_num.append(num)\n",
    "    # fibonacci of 1 is 1\n",
    "    elif num==1:\n",
    "        fibonacci_num.append(num)\n",
    "    # fibonacci on number>=2 is \n",
    "    else:\n",
    "    # in any fibonacci series above 2 includes [0,1]\n",
    "    # after 0,1 we are using iteration logic to get next numbers\n",
    "        first=0\n",
    "        fibonacci_num.append(first)\n",
    "        second=1\n",
    "        fibonacci_num.append(second)\n",
    "        # to get next value we must add first and second \n",
    "        next=first+second\n",
    "        # fibo above 2 numbers\n",
    "        for i in range(2,num):\n",
    "            # append next to empty list\n",
    "            fibonacci_num.append(next)\n",
    "            # first equals to second\n",
    "            first=second\n",
    "            # second equals to next\n",
    "            second=next\n",
    "            # add 1st and 2nd\n",
    "            next=first+second\n",
    "    # print output\n",
    "    print('This is fibonacci series',fibonacci_num)\n",
    "\n",
    "# provide num 10\n",
    "num=10\n",
    "fibo(num)\n"
   ]
  },
  {
   "cell_type": "code",
   "execution_count": null,
   "metadata": {},
   "outputs": [
    {
     "name": "stdout",
     "output_type": "stream",
     "text": [
      "list is sorted in ascending order\n"
     ]
    }
   ],
   "source": [
    "### 30. Check if a list is sorted.\n",
    "\n",
    "# Function to check if a list is sorted in ascending order\n",
    "def is_sorted(list2):\n",
    "    #now sort the input list if it is equal to the ip list then it in sorted form\n",
    "    if sorted(list2)==list2:\n",
    "        print('list is sorted in ascending order')\n",
    "    else:\n",
    "        print('list is not sorted')\n",
    "list2=[10,20,30,40]\n",
    "is_sorted(list2)"
   ]
  },
  {
   "cell_type": "code",
   "execution_count": null,
   "metadata": {},
   "outputs": [
    {
     "name": "stdout",
     "output_type": "stream",
     "text": [
      "[45, 77, 33, 22, 1, 23]\n"
     ]
    }
   ],
   "source": [
    "### 31. Rotate a list to the left by `n` positions.\n",
    "#create function taking list and position as argument\n",
    "def rotate_pos(list,position):\n",
    "# let us consider the position is within the lenth of list\n",
    "    if len(lis)>=position:\n",
    "        # shift the position towards left usign slicing\n",
    "        shift=list[position:]+list[:position]\n",
    "        #print list\n",
    "        print(shift)\n",
    "    else:\n",
    "        print('position is out of range')\n",
    "# create list\n",
    "list=[1,23,45,77,33,22]\n",
    "rotate_pos(list,2)"
   ]
  },
  {
   "cell_type": "code",
   "execution_count": null,
   "metadata": {},
   "outputs": [
    {
     "name": "stdout",
     "output_type": "stream",
     "text": [
      "[77, 33, 22, 1, 45, 232, 23, 45]\n"
     ]
    }
   ],
   "source": [
    "### 32. Rotate a list to the right by `n` positions.\n",
    "\n",
    "### 31. Rotate a list to the left by `n` positions.\n",
    "#create function taking list and position as argument\n",
    "\n",
    "def rotate_pos(list1,position):\n",
    "# let us consider the position is within the lenth of list\n",
    "    if len(list1)>=position:\n",
    "        # shift the position towards left usign slicing\n",
    "        # ':' is used here ':position' prints before and 'position:' prints after\n",
    "        shift_right=list1[position:]+list1[:position]\n",
    "        #print list\n",
    "        print(shift_right)\n",
    "    else:\n",
    "        print('position is out of range')\n",
    "# create list\n",
    "list1=[1,45,232,2,4,3,45,77,33,22]\n",
    "rotate_pos(list,5)"
   ]
  },
  {
   "cell_type": "code",
   "execution_count": null,
   "metadata": {},
   "outputs": [
    {
     "name": "stdout",
     "output_type": "stream",
     "text": [
      "[2, 3, 5, 7, 11, 13, 17, 19, 23, 29, 31, 37, 41, 43, 47]\n"
     ]
    }
   ],
   "source": [
    "### 33. Create a list of prime numbers up to 50.\n",
    "\n",
    "# create empty list\n",
    "prime_list=[]\n",
    "# use loop with range\n",
    "for i in range(1,51):\n",
    "    # chech ith i if it is 0 or 1\n",
    "    if i==0 or i==1:\n",
    "        continue\n",
    "    else:\n",
    "        # run other inside loop with counter j and use logic\n",
    "        for j in range(2,int(i/2)+1):\n",
    "            if i%j==0: \n",
    "                break\n",
    "        # here append i to the created list\n",
    "        \n",
    "        else:\n",
    "            prime_list.append(i)\n",
    "# print list\n",
    "print(prime_list)\n",
    "    "
   ]
  },
  {
   "cell_type": "code",
   "execution_count": null,
   "metadata": {},
   "outputs": [
    {
     "name": "stdout",
     "output_type": "stream",
     "text": [
      "List of prime numbers up to 50: [2, 3, 5, 7, 11, 13, 17, 19, 23, 29, 31, 37, 41, 43, 47]\n"
     ]
    }
   ],
   "source": [
    "#34 Create a list of prime numbers up to 50 using Sieve of Eratosthenes algorithm\n",
    "\n",
    "def sieve_of_eratosthenes(limit):\n",
    "    primes = []\n",
    "    is_prime = [True] * (limit + 1)\n",
    "    is_prime[0] = is_prime[1] = False\n",
    "\n",
    "    for num in range(2, int(limit ** 0.5) + 1):\n",
    "        if is_prime[num]:\n",
    "            primes.append(num)\n",
    "            for multiple in range(num * num, limit + 1, num):\n",
    "                is_prime[multiple] = False\n",
    "\n",
    "    for num in range(int(limit ** 0.5) + 1, limit + 1):\n",
    "        if is_prime[num]:\n",
    "            primes.append(num)\n",
    "\n",
    "    return primes\n",
    "\n",
    "# Create a list of prime numbers up to 50\n",
    "prime_numbers = sieve_of_eratosthenes(50)\n",
    "\n",
    "# Print the list of prime numbers\n",
    "print(\"List of prime numbers up to 50:\", prime_numbers)"
   ]
  },
  {
   "cell_type": "code",
   "execution_count": null,
   "metadata": {},
   "outputs": [
    {
     "name": "stdout",
     "output_type": "stream",
     "text": [
      "second largest no in the list is 334\n"
     ]
    }
   ],
   "source": [
    "### 35. Find the second largest number in a list.\n",
    "\n",
    "#create list\n",
    "list3=[12,334,3542,1,243]\n",
    "# sort the list in ascendig order\n",
    "sorted_list=sorted(list3)\n",
    "print('second largest no in the list is',sorted_list[-2])"
   ]
  },
  {
   "cell_type": "code",
   "execution_count": null,
   "metadata": {},
   "outputs": [
    {
     "name": "stdout",
     "output_type": "stream",
     "text": [
      "[4, 1156, 9, 16, 25, 36, 49]\n"
     ]
    }
   ],
   "source": [
    "### 36. Replace every element in a list with its square.\n",
    "\n",
    "#create list\n",
    "list=[2,34,3,4,5,6,7]\n",
    "#create squared list\n",
    "squared_list=[s**2 for s in list ]\n",
    "#print squated list\n",
    "print(squared_list)"
   ]
  },
  {
   "cell_type": "code",
   "execution_count": null,
   "metadata": {},
   "outputs": [
    {
     "name": "stdout",
     "output_type": "stream",
     "text": [
      "{1: 'raviteja', 2: 'slrk', 3: 'kulkarni', 4: 'king'}\n"
     ]
    }
   ],
   "source": [
    "### 37. Convert a list to a dictionary where list elements become keys and their indices become values.\n",
    "\n",
    "#create list\n",
    "list4=['raviteja','slrk','kulkarni','king']\n",
    "#create emplty dict\n",
    "dict={}\n",
    "# use for loop enumerate the list with names\n",
    "for i, name in enumerate(list4):\n",
    "    dict[i+1]=name\n",
    "\n",
    "print(dict)"
   ]
  },
  {
   "cell_type": "code",
   "execution_count": null,
   "metadata": {},
   "outputs": [
    {
     "name": "stdout",
     "output_type": "stream",
     "text": [
      "before shuffing [23, 4234, 345, 22, 23, 23, 1, 1, 45, 45]\n",
      "after shuffling [23, 22, 23, 45, 1, 1, 4234, 45, 345, 23]\n"
     ]
    }
   ],
   "source": [
    "### 38. Shuffle the elements of a list randomly.\n",
    "\n",
    "#import random \n",
    "import random\n",
    "# create list\n",
    "elements=[23,4234,345,22,23,23,1,1,45,45]\n",
    "print('before shuffing',elements)\n",
    "# use builtin fuxn of random.shuffle to shuffle\n",
    "shuff=random.shuffle(elements)\n",
    "# print\n",
    "print(\"after shuffling\",elements)"
   ]
  },
  {
   "cell_type": "code",
   "execution_count": null,
   "metadata": {},
   "outputs": [
    {
     "ename": "TypeError",
     "evalue": "unsupported operand type(s) for *: 'int' and 'NoneType'",
     "output_type": "error",
     "traceback": [
      "\u001b[1;31m---------------------------------------------------------------------------\u001b[0m\n",
      "\u001b[1;31mTypeError\u001b[0m                                 Traceback (most recent call last)\n",
      "Cell \u001b[1;32mIn[28], line 15\u001b[0m\n",
      "\u001b[0;32m     13\u001b[0m             fact_list\u001b[39m.\u001b[39mappend(factorial)\n",
      "\u001b[0;32m     14\u001b[0m n\u001b[39m=\u001b[39m\u001b[39m10\u001b[39m\n",
      "\u001b[1;32m---> 15\u001b[0m fact(n)\n",
      "\u001b[0;32m     16\u001b[0m \u001b[39mprint\u001b[39m(fact_list)\n",
      "\n",
      "Cell \u001b[1;32mIn[28], line 12\u001b[0m, in \u001b[0;36mfact\u001b[1;34m(n)\u001b[0m\n",
      "\u001b[0;32m     10\u001b[0m \u001b[39melse\u001b[39;00m:\n",
      "\u001b[0;32m     11\u001b[0m     \u001b[39mfor\u001b[39;00m i \u001b[39min\u001b[39;00m \u001b[39mrange\u001b[39m(\u001b[39m2\u001b[39m,n\u001b[39m+\u001b[39m\u001b[39m1\u001b[39m):\n",
      "\u001b[1;32m---> 12\u001b[0m         factorial\u001b[39m=\u001b[39mi\u001b[39m*\u001b[39;49mfact(i\u001b[39m-\u001b[39;49m\u001b[39m1\u001b[39;49m)\n",
      "\u001b[0;32m     13\u001b[0m         fact_list\u001b[39m.\u001b[39mappend(factorial)\n",
      "\n",
      "\u001b[1;31mTypeError\u001b[0m: unsupported operand type(s) for *: 'int' and 'NoneType'"
     ]
    }
   ],
   "source": [
    "### 39. Create a list of the first 10 factorial numbers.\n",
    "\n",
    "def fact(n):\n",
    "\n",
    "    fact_list=[]\n",
    "\n",
    "    if n==0 or n==1:\n",
    "        fact_list.append(1)\n",
    "\n",
    "    else:\n",
    "        for i in range(2,n+1):\n",
    "            factorial=i*fact(i-1)\n",
    "            fact_list.append(factorial)\n",
    "n=10\n",
    "fact(n)\n",
    "print(fact_list)\n",
    "        "
   ]
  },
  {
   "cell_type": "code",
   "execution_count": null,
   "metadata": {},
   "outputs": [
    {
     "name": "stdout",
     "output_type": "stream",
     "text": [
      "Enter the elements of the set (TYPE - F to finish)\n"
     ]
    },
    {
     "name": "stdout",
     "output_type": "stream",
     "text": [
      "Set : set()\n"
     ]
    }
   ],
   "source": [
    "### 40. Create a set from user input.\n",
    "\n",
    "#create empty set\n",
    "user_set=set()\n",
    "\n",
    "# take user input\n",
    "\n",
    "print('Enter the elements of the set (TYPE - F to finish)')\n",
    "\n",
    "# use loop\n",
    "while True:\n",
    "\n",
    "    user_input=input('Enter input')\n",
    "\n",
    "    if user_input=='F'or 'f':\n",
    "        break\n",
    "\n",
    "    user_set.add(user_input)\n",
    "\n",
    "# print \n",
    "print('Set :',user_set)\n",
    "\n",
    "\n"
   ]
  },
  {
   "cell_type": "code",
   "execution_count": null,
   "metadata": {},
   "outputs": [
    {
     "name": "stdout",
     "output_type": "stream",
     "text": [
      "sets are not empty\n"
     ]
    }
   ],
   "source": [
    "### 41. Check if the intersection of two sets is empty.\n",
    "\n",
    "#create 2 sets a and b\n",
    "set_A={34,5,4,234,56}\n",
    "set_B={74,6,56,5,32,22}\n",
    "\n",
    "# check the intersection\n",
    "\n",
    "check_intersection=set_A.intersection(set_B)\n",
    "\n",
    "if not check_intersection:\n",
    "    print('set a and b does not intersect and is EMPTY')\n",
    "else:\n",
    "    print('sets are not empty')"
   ]
  },
  {
   "cell_type": "code",
   "execution_count": null,
   "metadata": {},
   "outputs": [],
   "source": [
    "#42 Create a set to store the first 5 Fibonacci numbers\n",
    "fibonacci_set = set()\n",
    "\n",
    "# create fibonacci numbers \n",
    "a, b = 0, 1\n",
    "\n",
    "# Loop to generate the first 5 Fibonacci numbers\n",
    "for _ in range(6):\n",
    "    # Add the current Fibonacci number to the set\n",
    "    fibonacci_set.add(a)\n",
    "\n",
    "    # Calculate the next Fibonacci number\n",
    "    a, b = b, a + b\n",
    "\n",
    "# Print the set of Fibonacci numbers\n",
    "print(\"Set of the first 5 Fibonacci numbers:\", fibonacci_set)"
   ]
  },
  {
   "cell_type": "code",
   "execution_count": null,
   "metadata": {},
   "outputs": [],
   "source": [
    "### 43. Remove duplicates from a list using sets.\n",
    "\n",
    "# list with duplicates\n",
    "user_list = [2, 4, 6, 8, 4, 10, 6, 12, 14, 8]\n",
    "\n",
    "#Convert the list to a set\n",
    "unique_set = set(user_list)\n",
    "# Now, 'unique_set' contains only unique elements from 'original_list'\n",
    "\n",
    "#Convert the set back to a list\n",
    "unique_list = list(unique_set)\n",
    "# Now, 'unique_list' is a list containing only unique elements\n",
    "\n",
    "#Print both lists \n",
    "print(\"Original List:\", original_list)\n",
    "print(\"List with Duplicates Removed:\", unique_list)"
   ]
  },
  {
   "cell_type": "code",
   "execution_count": null,
   "metadata": {},
   "outputs": [],
   "source": [
    "### 44. Check if two sets have the same elements, regardless of their count.\n",
    "\n",
    "def same_elements(set1, set2):\n",
    "    # Convert the sets to lists and sort them\n",
    "    sorted_list1 = sorted(list(set1))\n",
    "    sorted_list2 = sorted(list(set2))\n",
    "\n",
    "    # Compare the sorted lists to check if they are equal\n",
    "    return sorted_list1 == sorted_list2\n",
    "\n",
    "# Example sets\n",
    "set1 = {1, 2, 3, 2, 1}\n",
    "set2 = {3, 1, 2} \n",
    "\n",
    "# Check if the sets have the same elements\n",
    "result = same_elements(set1, set2)\n",
    "\n",
    "# Print the result\n",
    "if result:\n",
    "    print(\"The sets have the same elements.\")\n",
    "else:\n",
    "    print(\"The sets do not have the same elements.\")"
   ]
  },
  {
   "cell_type": "code",
   "execution_count": null,
   "metadata": {},
   "outputs": [
    {
     "name": "stdout",
     "output_type": "stream",
     "text": [
      "{32, 64, 2, 128, 4, 256, 512, 8, 16}\n"
     ]
    }
   ],
   "source": [
    "### 45. Create a set of the first `n` powers of 2\n",
    "\n",
    "def powers(num):\n",
    "\n",
    "    power_of_2=set()\n",
    "\n",
    "    for i in range(1,n):\n",
    "\n",
    "        pow=2**i\n",
    "        power_of_2.add(pow)\n",
    "\n",
    "    return power_of_2\n",
    "\n",
    "inp=powers(5)\n",
    "print(inp)"
   ]
  },
  {
   "cell_type": "code",
   "execution_count": null,
   "metadata": {},
   "outputs": [
    {
     "name": "stdout",
     "output_type": "stream",
     "text": [
      "Common elements: [7, 9, 12]\n"
     ]
    }
   ],
   "source": [
    "### 46. Find the common elements between a set and a list.\n",
    "\n",
    "# create 2 sets\n",
    "set1 = {3, 7, 9, 12, 15}\n",
    "list2 = [7, 12, 5, 9]\n",
    "\n",
    "# Convert the list to a set for efficient comparison\n",
    "list_to_set = set(list2)\n",
    "\n",
    "# create an empty list to store common elements\n",
    "common_elements = []\n",
    "\n",
    "# use for loop for counter\n",
    "for element in set1:\n",
    "    #Check if the element is present in the converted set (list_to_set)\n",
    "    if element in list2:\n",
    "        # If the element is present in both the set and the list, add it to the common_elements list\n",
    "        common_elements.append(element)\n",
    "\n",
    "# Print the common elements\n",
    "print(\"Common elements:\", common_elements)"
   ]
  },
  {
   "cell_type": "code",
   "execution_count": null,
   "metadata": {},
   "outputs": [
    {
     "name": "stdout",
     "output_type": "stream",
     "text": [
      "The set of the first 4 triangular numbers is: {1, 10, 3, 6}\n"
     ]
    }
   ],
   "source": [
    "### 47. Create a set of the first `n` triangular numbers.:\n",
    "\n",
    "def triangular_numbers(n):\n",
    "    triangular_set= set()  # Create an empty set to store the triangular numbers\n",
    "    for i in range(1, n + 1):\n",
    "        triangular_number = i * (i + 1) // 2  # Calculate the ith triangular number using the formula\n",
    "        triangular_set.add(triangular_number)  # Add the calculated triangular number to the set\n",
    "    return triangular_set\n",
    "\n",
    "# Input the value of 'n'\n",
    "n = int(input(\"Enter the value of n: \"))\n",
    "\n",
    "# Call the function to generate the set of first 'n' triangular numbers\n",
    "triangular_set = triangular_numbers(n)\n",
    "\n",
    "# Display the set of triangular numbers\n",
    "print(f\"The set of the first {n} triangular numbers is:\", triangular_set)"
   ]
  },
  {
   "cell_type": "code",
   "execution_count": null,
   "metadata": {},
   "outputs": [],
   "source": [
    "### 48. Check if a set contains another set as a subset.\n",
    "\n",
    "# create two sets\n",
    "set1 = {1, 2, 3, 4, 5}\n",
    "set2 = {3, 4}\n",
    "\n",
    "# Check if set2 is a subset of set1\n",
    "is_subset = set2.issubset(set1)\n",
    "\n",
    "# Print the result\n",
    "if is_subset:\n",
    "    print(\"set2 is a subset of set1\")\n",
    "else:\n",
    "    print(\"set2 is not a subset of set1\")"
   ]
  },
  {
   "cell_type": "code",
   "execution_count": null,
   "metadata": {},
   "outputs": [
    {
     "name": "stdout",
     "output_type": "stream",
     "text": [
      "{0, 1}\n"
     ]
    }
   ],
   "source": [
    "### 49. Create a set of alternating 1s and 0s of length `n`.\n",
    "\n",
    "def alternating_set(num):\n",
    "    # create empty set to store variable\n",
    "    alternating_set = set()\n",
    "\n",
    "    # Loop to generate alternating 1s and 0s.\n",
    "    for i in range(num):\n",
    "        # Alternate between adding 1 and 0 to the set based on whether i is even or odd.\n",
    "        if i % 2 == 0:\n",
    "            alternating_set.add(1)  # Add 1 if i is even.\n",
    "        else:\n",
    "            alternating_set.add(0)  # Add 0 if i is odd.\n",
    "\n",
    "    return alternating_set\n",
    "\n",
    "# Define the desired length of the alternating set.\n",
    "length_n = 10\n",
    "\n",
    "# Call the function to create the alternating set of length 'length_n'.\n",
    "result = alternating_set(length_n)\n",
    "\n",
    "# Print the resulting set.\n",
    "print(result)"
   ]
  },
  {
   "cell_type": "code",
   "execution_count": null,
   "metadata": {},
   "outputs": [
    {
     "name": "stdout",
     "output_type": "stream",
     "text": [
      "Merged Set: {1, 2, 3, 4, 5, 6, 7}\n"
     ]
    }
   ],
   "source": [
    "### 50. Merge multiple sets into one.\n",
    "\n",
    "# create multiple sets\n",
    "set1 = {1, 2, 3}\n",
    "set2 = {3, 4, 5}\n",
    "set3 = {5, 6, 7}\n",
    "set4={2,32,23,3}\n",
    "\n",
    "#we can apply here union() method to merge sets\n",
    "merged_set = set1.union(set2, set3)\n",
    "\n",
    "\n",
    "#print\n",
    "print(\"Merged Set:\", merged_set)"
   ]
  }
 ],
 "metadata": {
  "kernelspec": {
   "display_name": "Python 3",
   "language": "python",
   "name": "python3"
  },
  "language_info": {
   "codemirror_mode": {
    "name": "ipython",
    "version": 3
   },
   "file_extension": ".py",
   "mimetype": "text/x-python",
   "name": "python",
   "nbconvert_exporter": "python",
   "pygments_lexer": "ipython3",
   "version": "3.11.6"
  },
  "orig_nbformat": 4
 },
 "nbformat": 4,
 "nbformat_minor": 2
}
