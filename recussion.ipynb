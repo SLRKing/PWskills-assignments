{
 "cells": [
  {
   "cell_type": "markdown",
   "metadata": {},
   "source": [
    "1. Can you explain the logic and working of the Tower of Hanoi algorithm by writing a program? \n",
    "\n",
    "How does the recursion work, and how are the movements of disks between rods accomplished?"
   ]
  },
  {
   "cell_type": "markdown",
   "metadata": {},
   "source": [
    "Tower of Hanoi is a mathematical puzzle where we have three rods (\n",
    "    A,B, and C) and N disks are stacked in decreasing value of \n",
    "    diameter i.e, the smallest disks are stacked in decreasing \n",
    "    value of diameter i.e, the smallest disk is placed on the top \n",
    "    and they are on rod A.The objective of hte puzzle is to move the \n",
    "    entire stack to another rod A. The objective of the puzzle is to \n",
    "    move the entire stack to another rod obeying the following simple rules. \n",
    "is to  move the entire stack to another rod(here considered C), obeying the following simple rules.\n",
    "\n",
    "Only one disk can be moved at a time.\n",
    "Each move consists of taking the upper disk from one of the stacks and placing it on top of another stack i.e. a disk can only be moved if it is the uppermost disk on a stack.\n",
    "No disk may be placed on top of a smaller disk."
   ]
  },
  {
   "cell_type": "markdown",
   "metadata": {},
   "source": [
    "Tower of Hanoi is a mathematical puzzle where we have three rods (\n",
    "    A,B, and C) and N disks are stacked in decreasing value of \n",
    "    diameter i.e, the smallest disks are stacked in decreasing \n",
    "    value of diameter i.e, the smallest disk is placed on the top \n",
    "    and they are on rod A.The objective of hte puzzle is to move the \n",
    "    entire stack to another rod A. The objective of the puzzle is to \n",
    "    move the entire stack to another rod obeying the following simple rules. \n",
    "is to  move the entire stack to another rod(here considered C), obeying the following simple rules.\n",
    "\n",
    "Only one disk can be moved at a time.\n",
    "Each move consists of taking the upper disk from one of the stacks and placing it on top of another stack i.e. a disk can only be moved if it is the uppermost disk on a stack.\n",
    "No disk may be placed on top of a smaller disk."
   ]
  },
  {
   "cell_type": "markdown",
   "metadata": {},
   "source": [
    "so basically according to the above problem there are 3 weigths which has to be moved to rod-case\n",
    "so following steps would look like\n",
    "Dist 1 moved from A to c\n",
    "Disk 2 moved from A to B \n",
    "Disk 1 moved from C to B \n",
    "Disk 3 moved from A to c\n",
    "Disk 1 moved from B to A \n",
    "Disk 2 moved from B to c \n",
    "at last Disk 1 moved form A to C\n",
    "\n",
    "\n",
    "++ shift N-1 disk from A to B using C \n",
    "++ Shift last disk form A to C \n",
    "++ shift N-1 disk form B to C using A\n"
   ]
  },
  {
   "cell_type": "code",
   "execution_count": 5,
   "metadata": {},
   "outputs": [
    {
     "name": "stdout",
     "output_type": "stream",
     "text": [
      "Move disk 1 from rod A to_rod C\n",
      "Move disk 2 from rod A to_rod B\n",
      "Move disk 1 from rod C to_rod B\n",
      "Move disk 3 from rod A to_rod C\n",
      "Move disk 1 from rod B to_rod A\n",
      "Move disk 2 from rod B to_rod C\n",
      "Move disk 1 from rod A to_rod C\n"
     ]
    }
   ],
   "source": [
    "# let solve it by recursion\n",
    "\n",
    "# create function\n",
    "def TowerOfHanoi(n, from_rod, to_rod, aux_rod):\n",
    "    #here we are taking 4 args last one is auxillary \n",
    "    if n==0:\n",
    "        return\n",
    "    TowerOfHanoi(n-1,from_rod, aux_rod, to_rod)\n",
    "    print('Move disk',n,'from rod',from_rod,'to_rod',to_rod)\n",
    "    TowerOfHanoi(n-1,aux_rod,to_rod,from_rod)\n",
    "\n",
    "N=3\n",
    "TowerOfHanoi(N,'A','C','B')"
   ]
  },
  {
   "cell_type": "markdown",
   "metadata": {},
   "source": [
    "Q.2 Given two strings word1 and word2, return the minimum number of operations required to convert word1 to word2.\n",
    "word1=horse\n",
    "word2=ros"
   ]
  },
  {
   "cell_type": "code",
   "execution_count": 7,
   "metadata": {},
   "outputs": [
    {
     "name": "stdout",
     "output_type": "stream",
     "text": [
      "3\n"
     ]
    }
   ],
   "source": [
    "def minDistance(word1, word2):\n",
    "    dp = [[0]*(len(word2)+1) for _ in range(len(word1)+1)]\n",
    "    for i in range(len(word1)+1):\n",
    "        for j in range(len(word2)+1):\n",
    "            if i*j==0: dp[i][j] = i+j\n",
    "            elif word1[i-1] == word2[j-1]: dp[i][j] = dp[i-1][j-1]\n",
    "            else: dp[i][j] = min(dp[i][j-1], dp[i-1][j], dp[i-1][j-1]) + 1\n",
    "    return dp[-1][-1]\n",
    "\n",
    "print(minDistance(\"horse\", \"ros\"))\n"
   ]
  },
  {
   "cell_type": "markdown",
   "metadata": {},
   "source": [
    "Q. 3 Print the max value of the array [ 13, 1, -3, 22, 5]."
   ]
  },
  {
   "cell_type": "code",
   "execution_count": 13,
   "metadata": {},
   "outputs": [
    {
     "name": "stdout",
     "output_type": "stream",
     "text": [
      "Max val of the array is  22\n"
     ]
    }
   ],
   "source": [
    "def find_max(arr,n):\n",
    "    #if size of the arry is 1 \n",
    "    if n==1:\n",
    "        return arr[0]\n",
    "    else:\n",
    "        return max(arr[n-1],find_max(arr,n-1))\n",
    "\n",
    "arr=[13, 1, -3, 22, 5]\n",
    "max_val=find_max(arr,len(arr))\n",
    "print('Max val of the array is ',max_val)"
   ]
  },
  {
   "cell_type": "markdown",
   "metadata": {},
   "source": [
    "Q.4 Find the sum of the values of the array [92, 23, 15, -20, 10]."
   ]
  },
  {
   "cell_type": "markdown",
   "metadata": {},
   "source": [
    "Q.4 Find the sum of the values of the array [92, 23, 15, -20, 10]."
   ]
  },
  {
   "cell_type": "code",
   "execution_count": 17,
   "metadata": {},
   "outputs": [
    {
     "name": "stdout",
     "output_type": "stream",
     "text": [
      "The sum of the values in the array is: 120\n"
     ]
    }
   ],
   "source": [
    "def findSum(arr, n):\n",
    "    # If size of array is 1\n",
    "    if n == 1:\n",
    "        return arr[0]\n",
    "    else:\n",
    "        return arr[n-1] + findSum(arr, n-1)\n",
    "\n",
    "# Given array\n",
    "arr = [92, 23, 15, -20, 10]\n",
    "\n",
    "# Find the sum\n",
    "sum_value = findSum(arr, len(arr))\n",
    "\n",
    "print(\"The sum of the values in the array is:\", sum_value)\n"
   ]
  },
  {
   "cell_type": "markdown",
   "metadata": {},
   "source": [
    "Q.5 Given a number n. Print if it is an armstrong number or not.An armstrong number is a number if the sum\n",
    "of every digit in that number raised to the power of total digits in that number is equal to the number."
   ]
  },
  {
   "cell_type": "code",
   "execution_count": 1,
   "metadata": {},
   "outputs": [
    {
     "name": "stdout",
     "output_type": "stream",
     "text": [
      "564434 is not armstrong num\n"
     ]
    }
   ],
   "source": [
    "def isarmstrong(n):\n",
    "    #convert the interger to string to get the lenght\n",
    "    str_num=str(n)\n",
    "    len_num=len(str_num)\n",
    "\n",
    "    #calculate the sum of each digit raised to the power of number of digits\n",
    "    #in the given numb\n",
    "\n",
    "    sum=0\n",
    "    for digit in str_num:\n",
    "        sum+=int(digit)**len_num\n",
    "    #check the sum == n\n",
    "    return sum==n\n",
    "\n",
    "n=153\n",
    "n=564434\n",
    "if isarmstrong(n):\n",
    "    print(n,'is armstorng num')\n",
    "else:\n",
    "    print(n,'is not armstrong num')"
   ]
  },
  {
   "cell_type": "code",
   "execution_count": null,
   "metadata": {},
   "outputs": [],
   "source": []
  }
 ],
 "metadata": {
  "kernelspec": {
   "display_name": "Python 3",
   "language": "python",
   "name": "python3"
  },
  "language_info": {
   "codemirror_mode": {
    "name": "ipython",
    "version": 3
   },
   "file_extension": ".py",
   "mimetype": "text/x-python",
   "name": "python",
   "nbconvert_exporter": "python",
   "pygments_lexer": "ipython3",
   "version": "3.11.8"
  },
  "orig_nbformat": 4
 },
 "nbformat": 4,
 "nbformat_minor": 2
}
